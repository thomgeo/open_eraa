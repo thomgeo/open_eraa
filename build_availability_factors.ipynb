{
 "cells": [
  {
   "cell_type": "code",
   "execution_count": 1,
   "metadata": {},
   "outputs": [],
   "source": [
    "import pandas as pd\n",
    "import numpy as np\n",
    "import glob\n",
    "import zipfile\n",
    "import os"
   ]
  },
  {
   "cell_type": "code",
   "execution_count": 2,
   "metadata": {},
   "outputs": [],
   "source": [
    "def get_availabilities(files):\n",
    "    \n",
    "    availability_factors = pd.DataFrame()\n",
    "\n",
    "    for file in files:\n",
    "\n",
    "        info = pd.read_csv(file, index_col=0, header=1).iloc[:3,0]\n",
    "\n",
    "        availability_factors_zone = pd.read_csv(file, index_col=[0,1], header=10).reset_index(drop=True).stack()\n",
    "\n",
    "        availability_factors_zone.name = (info[\"Target Year\"], info[\"PECD Zone\"])\n",
    "\n",
    "        availability_factors = pd.concat([availability_factors, availability_factors_zone], axis=1)\n",
    "\n",
    "    availability_factors = availability_factors.T.set_index((i for i in availability_factors.columns)).T.stack([0,1])\n",
    "\n",
    "    availability_factors.index.names = [\"hour\", \"climate year\", \"target year\", \"zone\"]\n",
    "\n",
    "    return availability_factors"
   ]
  },
  {
   "cell_type": "code",
   "execution_count": 3,
   "metadata": {},
   "outputs": [],
   "source": [
    "with zipfile.ZipFile(\"data/pecd.zip\") as zip_f:\n",
    "    zip_f.extractall(\"data/\")\n",
    "    "
   ]
  },
  {
   "cell_type": "code",
   "execution_count": 4,
   "metadata": {},
   "outputs": [],
   "source": [
    "save_hdf = \"resources/res_profile.h5\""
   ]
  },
  {
   "cell_type": "code",
   "execution_count": 5,
   "metadata": {},
   "outputs": [],
   "source": [
    "all_files = glob.glob(\"data/PECD/*\")"
   ]
  },
  {
   "cell_type": "code",
   "execution_count": 6,
   "metadata": {
    "scrolled": false
   },
   "outputs": [],
   "source": [
    "onshore = [i for i in all_files if \"Onshore\" in i]"
   ]
  },
  {
   "cell_type": "code",
   "execution_count": 7,
   "metadata": {
    "scrolled": false
   },
   "outputs": [],
   "source": [
    "offshore = [i for i in all_files if \"Offshore\" in i]"
   ]
  },
  {
   "cell_type": "code",
   "execution_count": 8,
   "metadata": {
    "scrolled": false
   },
   "outputs": [],
   "source": [
    "solar = [i for i in all_files if \"SolarPV_\" in i]"
   ]
  },
  {
   "cell_type": "code",
   "execution_count": 9,
   "metadata": {
    "scrolled": false
   },
   "outputs": [],
   "source": [
    "csp = [i for i in all_files if \"CSP_no\" in i and \"pre\" not in i]"
   ]
  },
  {
   "cell_type": "code",
   "execution_count": 10,
   "metadata": {},
   "outputs": [],
   "source": [
    "missing_csp = [\"GR03\", \"PT00\"]\n",
    "\n",
    "csp = csp + [i for i in all_files if \"CSP_withStorage_7h_preDispatch\" in i and any(zone in i for zone in missing_csp)]"
   ]
  },
  {
   "cell_type": "code",
   "execution_count": 11,
   "metadata": {},
   "outputs": [],
   "source": [
    "onshore_availabilities = get_availabilities(onshore)"
   ]
  },
  {
   "cell_type": "code",
   "execution_count": 12,
   "metadata": {
    "scrolled": true
   },
   "outputs": [],
   "source": [
    "solar_availabilities = get_availabilities(solar)"
   ]
  },
  {
   "cell_type": "code",
   "execution_count": 13,
   "metadata": {
    "scrolled": true
   },
   "outputs": [],
   "source": [
    "offshore_availabilities = get_availabilities(offshore)"
   ]
  },
  {
   "cell_type": "code",
   "execution_count": 14,
   "metadata": {
    "scrolled": true
   },
   "outputs": [],
   "source": [
    "csp_availabilities = get_availabilities(csp)"
   ]
  },
  {
   "cell_type": "code",
   "execution_count": 15,
   "metadata": {},
   "outputs": [],
   "source": [
    "dirname = os.path.dirname(save_hdf)\n",
    "\n",
    "if not os.path.exists(dirname):\n",
    "    os.mkdir(dirname)"
   ]
  },
  {
   "cell_type": "code",
   "execution_count": 16,
   "metadata": {},
   "outputs": [
    {
     "name": "stderr",
     "output_type": "stream",
     "text": [
      "/trinity/home/thomgeo/.conda/envs/pypsa-training/lib/python3.10/site-packages/tables/attributeset.py:457: NaturalNameWarning: object name is not a valid Python identifier: 'index_nameclimate year'; it does not match the pattern ``^[a-zA-Z_][a-zA-Z0-9_]*$``; you will not be able to use natural naming to access this object; using ``getattr()`` will still work, though\n",
      "  check_attribute_name(name)\n",
      "/trinity/home/thomgeo/.conda/envs/pypsa-training/lib/python3.10/site-packages/tables/attributeset.py:457: NaturalNameWarning: object name is not a valid Python identifier: 'index_nametarget year'; it does not match the pattern ``^[a-zA-Z_][a-zA-Z0-9_]*$``; you will not be able to use natural naming to access this object; using ``getattr()`` will still work, though\n",
      "  check_attribute_name(name)\n"
     ]
    }
   ],
   "source": [
    "onshore_availabilities.to_hdf(save_hdf, \"onshore\")"
   ]
  },
  {
   "cell_type": "code",
   "execution_count": 17,
   "metadata": {},
   "outputs": [],
   "source": [
    "offshore_availabilities.to_hdf(save_hdf, \"offshore\")"
   ]
  },
  {
   "cell_type": "code",
   "execution_count": 18,
   "metadata": {},
   "outputs": [],
   "source": [
    "solar_availabilities.to_hdf(save_hdf, \"solar\")"
   ]
  },
  {
   "cell_type": "code",
   "execution_count": 19,
   "metadata": {},
   "outputs": [],
   "source": [
    "csp_availabilities.to_hdf(save_hdf, \"CSP\")"
   ]
  },
  {
   "cell_type": "code",
   "execution_count": 20,
   "metadata": {},
   "outputs": [
    {
     "data": {
      "text/plain": [
       "hour  climate year  target year  zone\n",
       "0     1982          2025         CY00    0.0\n",
       "                                 ES00    0.0\n",
       "                                 GR03    0.0\n",
       "                                 ITS1    0.0\n",
       "                                 ITSI    0.0\n",
       "                                        ... \n",
       "8759  2019          2033         GR03    0.0\n",
       "                                 ITS1    0.0\n",
       "                                 ITSI    0.0\n",
       "                                 LV00    0.0\n",
       "                                 PT00    0.0\n",
       "Length: 9285600, dtype: float64"
      ]
     },
     "execution_count": 20,
     "metadata": {},
     "output_type": "execute_result"
    }
   ],
   "source": [
    "csp_availabilities"
   ]
  },
  {
   "cell_type": "code",
   "execution_count": null,
   "metadata": {},
   "outputs": [],
   "source": []
  }
 ],
 "metadata": {
  "kernelspec": {
   "display_name": "pypsa-training",
   "language": "python",
   "name": "pypsa-training"
  },
  "language_info": {
   "codemirror_mode": {
    "name": "ipython",
    "version": 3
   },
   "file_extension": ".py",
   "mimetype": "text/x-python",
   "name": "python",
   "nbconvert_exporter": "python",
   "pygments_lexer": "ipython3",
   "version": "3.10.13"
  }
 },
 "nbformat": 4,
 "nbformat_minor": 4
}
