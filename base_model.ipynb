{
 "cells": [
  {
   "cell_type": "code",
   "execution_count": 1,
   "metadata": {},
   "outputs": [],
   "source": [
    "import pandas as pd\n",
    "import powerplantmatching as pm\n",
    "import pypsa\n",
    "import pycountry\n",
    "import os \n",
    "import numpy as np"
   ]
  },
  {
   "cell_type": "code",
   "execution_count": 2,
   "metadata": {},
   "outputs": [],
   "source": [
    "def prepare_capacity_table(capacity):\n",
    "    \n",
    "    capacity_matching = pd.Series(\n",
    "        [\"nuclear\", \"lignite\", \"coal\", \"gas\", \"oil\", \"other\", \"ROR\", \"ROR\", \"reservoir\", \"reservoir\", \"PHS\",\n",
    "         \"reservoir (pumping)\", \"PHS (pumping)\", \"onwind\", \"offwind\", \"CSP\", \"solar\", \"biomass\", \"biomass\", \"battery\"],\n",
    "        capacity.index\n",
    "    )\n",
    "\n",
    "    capacity = capacity.groupby(capacity_matching, ).sum()\n",
    "    \n",
    "    pm_plants = pm.powerplants()\n",
    "    gas_share = pd.DataFrame()\n",
    "    gas_share[\"CCGT\"] = pm_plants.groupby([\"Fueltype\", \"Technology\", \"Country\"]).sum(numeric_only=True).loc[\"Natural Gas\", \"CCGT\",:].Capacity.div(\n",
    "        pm_plants.groupby([\"Fueltype\", \"Technology\", \"Country\"]).sum(numeric_only=True).loc[\"Natural Gas\", :].Capacity.groupby(level=1).sum(),\n",
    "        fill_value=0\n",
    "    )\n",
    "\n",
    "    gas_share.index = [pycountry.countries.lookup(i).alpha_2 for i in gas_share.index]\n",
    "\n",
    "    gas_share[\"OCGT\"] = 1- gas_share[\"CCGT\"]\n",
    "\n",
    "    gas_share = gas_share.reindex(capacity.columns.str[:2]).fillna(gas_share.mean())\n",
    "    gas_share.index = capacity.columns\n",
    "\n",
    "    capacity = pd.concat([\n",
    "        capacity.drop(\"gas\"),\n",
    "        gas_share.multiply(capacity.loc[\"gas\"],axis=0).T\n",
    "    ])\n",
    "    \n",
    "    return capacity\n"
   ]
  },
  {
   "cell_type": "code",
   "execution_count": 3,
   "metadata": {},
   "outputs": [],
   "source": [
    "def build_capacity_table():\n",
    "\n",
    "    capacity_years = pd.DataFrame()\n",
    "\n",
    "    for sheet in plant_sheets.index:\n",
    "\n",
    "        capacity_raw = pd.read_excel(excel_file, sheet, header=1, index_col=1).dropna(how=\"all\", axis=1).iloc[:20]\n",
    "\n",
    "        capacity_years[sheet[2:]] = prepare_capacity_table(capacity_raw).stack().astype(float)\n",
    "\n",
    "    capacity_years.columns = capacity_years.columns.astype(int)\n",
    "    capacity_years = capacity_years.reindex(years,axis=1)\n",
    "    capacity_years.loc[distributed_resources, :] = capacity_years.loc[distributed_resources, :].interpolate(axis=1)\n",
    "    \n",
    "\n",
    "    return capacity_years.fillna(method=\"ffill\", axis=1)[year].unstack(1)"
   ]
  },
  {
   "cell_type": "code",
   "execution_count": 4,
   "metadata": {},
   "outputs": [],
   "source": [
    "def build_inflows(inflows):\n",
    "    base_year_hydro = pd.Series(\n",
    "        inflows.index.levels[4].astype(int), \n",
    "        inflows.index.levels[4]).subtract(year).abs().idxmin()\n",
    "\n",
    "    inflows = inflows.loc[:, str(climate_year), :, :, base_year_hydro]\n",
    "\n",
    "    inflow_grouper = pd.Series([\"ROR\", \"PHS\", \"reservoir\", \"reservoir\", \"ROR\"], inflows.index.levels[1])\n",
    "\n",
    "    inflows = inflows.unstack(1).groupby(inflow_grouper, axis=1).sum().multiply(1e3) # conversion to MWh\n",
    "    \n",
    "    inflows = inflows.unstack(0).stack(0)\n",
    "    inflows.index = [\" \".join(i) for i in inflows.index]\n",
    "    \n",
    "    inflows = inflows.T\n",
    "    \n",
    "    inflows.index = snapshots\n",
    "    \n",
    "    return inflows"
   ]
  },
  {
   "cell_type": "code",
   "execution_count": 50,
   "metadata": {},
   "outputs": [],
   "source": [
    "def add_existing_storage():  \n",
    " \n",
    "    storage = capacity.loc[[\"PHS\", \"reservoir\", \"battery\"]].unstack().reset_index().copy()\n",
    "    storage.columns = [\"bus\", \"carrier\", \"p_nom\"]\n",
    "    storage.index = storage.bus + \" \" + storage.carrier\n",
    "\n",
    "    p_min_pu = capacity.loc[[\"PHS (pumping)\", \"reservoir (pumping)\",]].div(capacity.loc[[\"PHS\", \"reservoir\"]].add(1e-5).values)\n",
    "    p_min_pu.index = [\"PHS\", \"reservoir\"]\n",
    "\n",
    "    storage[\"p_min_pu\"] = (\n",
    "        p_min_pu.unstack()\n",
    "        .reindex(pd.MultiIndex.from_arrays([storage.bus, storage.carrier]))\n",
    "    ).values\n",
    "\n",
    "    storage.loc[storage.carrier==\"battery\", \"p_min_pu\"] = -1\n",
    "\n",
    "    storage = storage[storage.p_nom >0]\n",
    "\n",
    "    storage_inflows = inflows[storage.loc[storage.carrier==\"reservoir\"].index]\n",
    "\n",
    "    storage_capacity_raw = pd.read_excel(excel_file, sheet, index_col=1, header=28).dropna(how=\"all\", axis=1)\n",
    "\n",
    "    storage_capacity= storage_capacity_raw.groupby(\n",
    "        [\"ROR\", \"reservoir\", \"reservoir\", \"PHS\", \"battery\"]\n",
    "    ).sum()\n",
    "\n",
    "    storage[\"max_hours\"] = storage_capacity.unstack().reindex(\n",
    "        pd.MultiIndex.from_arrays(\n",
    "            [storage.bus, storage.carrier]  \n",
    "        )\n",
    "    ).div(\n",
    "        storage.p_nom.values\n",
    "    ).values\n",
    "\n",
    "    map_storage = pd.Series( [\"battery inverter\", \"PHS\", \"hydro\"], [\"battery\", \"PHS\", \"reservoir\"])\n",
    "\n",
    "    storage[\"efficiency_store\"] = technology_data.loc[:, \"efficiency\", :].reindex(storage.carrier.map(map_storage)).value.values\n",
    "\n",
    "    n.madd(\n",
    "        \"StorageUnit\",\n",
    "        storage.index,\n",
    "        **storage,\n",
    "        inflow=storage_inflows,\n",
    "        invest_status = \"existing\"\n",
    "    )"
   ]
  },
  {
   "cell_type": "code",
   "execution_count": 6,
   "metadata": {},
   "outputs": [],
   "source": [
    "def prepare_commodity_prices(commodity_prices):\n",
    "\n",
    "    commodity_prices = commodity_prices_raw.iloc[:, 2:].groupby(commodity_prices.index).mean()\n",
    "    commodity_prices = commodity_prices.groupby([\"co2\", \"CCGT\", \"coal\", \"oil\", \"hydrogen\", \"oil\", \"lignite\", \"nuclear\", \"oil\"]).mean()\n",
    "       \n",
    "    converter = pd.DataFrame(3.6 , commodity_prices.index, commodity_prices.columns)\n",
    "    converter[\"CO2\"] = 3.6/1000\n",
    "    converter.loc[\"co2\"] = 1\n",
    "    \n",
    "    commodity_prices = converter*commodity_prices\n",
    "\n",
    "    to_add = commodity_prices.reindex([\"CCGT\", \"CCGT\", \"CCGT\"])\n",
    "    to_add.index = [\"OCGT\", \"biomass\", \"other\"]\n",
    "    to_add.loc[[\"other\"]] = 0\n",
    "    to_add.loc[[\"biomass\"]] = biomass_price\n",
    "    to_add.loc[[\"biomass\"], \"CO2\"] = 0\n",
    "    commodity_prices = pd.concat([commodity_prices, to_add])\n",
    "    \n",
    "    return commodity_prices"
   ]
  },
  {
   "cell_type": "code",
   "execution_count": 7,
   "metadata": {},
   "outputs": [],
   "source": [
    "def add_renewables():\n",
    "    \n",
    "    res = capacity.loc[[\"onwind\",\"offwind\", \"solar\", \"CSP\", \"ROR\"]].unstack().copy()\n",
    "    res = res.reset_index()\n",
    "    res.columns = [\"bus\", \"carrier\", \"p_nom\"]\n",
    "    res.index = res.bus + \" \" + res.carrier\n",
    "\n",
    "    res = res[res.p_nom>0]\n",
    "\n",
    "    vre = [\"onwind\", \"offwind\", \"solar\", \"CSP\"]\n",
    "\n",
    "    base_year_res = int(plant_sheets[plant_sheets >= year].subtract(year).idxmin()[2:])\n",
    "    \n",
    "    p_max_pu = pd.concat(\n",
    "        [pd.read_hdf(\"resources/res_profile.h5\", tech).loc[:, str(climate_year), str(base_year_res), :] for tech in vre],\n",
    "        axis=1\n",
    "    )\n",
    "\n",
    "    p_max_pu.columns = vre\n",
    "    p_max_pu = p_max_pu.unstack(0).stack(0)\n",
    "    p_max_pu.index = [\" \".join(i) for i in p_max_pu.index]\n",
    "    p_max_pu.columns = snapshots\n",
    "    p_max_pu = p_max_pu.T\n",
    "\n",
    "    p_max_pu = pd.concat(\n",
    "        [p_max_pu, inflows[res.filter(like=\"ROR\", axis=0).index].div(res.filter(like=\"ROR\", axis=0).p_nom)],\n",
    "        axis=1\n",
    "    )\n",
    "\n",
    "    n.madd(\n",
    "        \"Generator\",\n",
    "        res.index,\n",
    "        **res,\n",
    "        p_max_pu = p_max_pu[res.index],\n",
    "        invest_status=\"policy\"\n",
    "    )"
   ]
  },
  {
   "cell_type": "code",
   "execution_count": 8,
   "metadata": {},
   "outputs": [],
   "source": [
    "def add_dispatchables():\n",
    "    \n",
    "    plants = dispatchable_plants.query(\"(entry <= @year) & exit > @year\")\n",
    "\n",
    "    plants[\"marginal_cost\"] = (\n",
    "        commodity_prices\n",
    "        .reindex(plants.carrier)[base_year].div(\n",
    "            plants.efficiency.values,\n",
    "        ).add(\n",
    "            (\n",
    "                commodity_prices.reindex(\n",
    "                    plants.carrier)[\"CO2\"]\n",
    "                .multiply(\n",
    "                    commodity_prices.loc[\"co2\", base_year]\n",
    "                )\n",
    "            )\n",
    "        ).add(plants.var_om.values).values\n",
    "    )\n",
    "\n",
    "    n.madd(\n",
    "        \"Generator\",\n",
    "        plants.index,\n",
    "        **plants,\n",
    "    )"
   ]
  },
  {
   "cell_type": "code",
   "execution_count": 9,
   "metadata": {},
   "outputs": [],
   "source": [
    "def group_luxembourg(demand, links):\n",
    "    \n",
    "    demand_grouper = pd.Series(demand.columns, demand.columns)\n",
    "    demand_grouper.loc[demand_grouper.index.str[:2] == \"LU\"] = \"LUG1\"\n",
    "    demand = demand.groupby(demand_grouper, axis=1).sum()\n",
    "\n",
    "    links.loc[links.bus0.str[:2] == \"LU\", \"bus0\"] = \"LUG1\"\n",
    "    links.loc[links.bus1.str[:2] == \"LU\", \"bus1\"] = \"LUG1\"\n",
    "    \n",
    "    return demand, links"
   ]
  },
  {
   "cell_type": "code",
   "execution_count": 10,
   "metadata": {},
   "outputs": [],
   "source": [
    "def add_dsr():\n",
    "    \n",
    "    p_nom_dsr.columns = [\"band \" + i.split(\" \")[2] for i in p_nom_dsr.columns]\n",
    "\n",
    "    marginal_cost_dsr.columns = [\"band \" + i.split(\" \")[8] for i in marginal_cost_dsr.columns]\n",
    "\n",
    "    dsr = pd.concat([p_nom_dsr.stack(), marginal_cost_dsr.stack()],axis=1)\n",
    "\n",
    "    dsr = dsr.loc[:, base_year, :]\n",
    "\n",
    "    dsr = dsr.set_index((i[0] + \" dsr \" + i[1] for i in dsr.index), append=True).reset_index([0,1]).drop(\"level_1\",axis=1)\n",
    "\n",
    "    dsr.columns = [\"bus\", \"p_nom\", \"marginal_cost\"]\n",
    "    \n",
    "    dsr[\"carrier\"] = \"dsr\"\n",
    "\n",
    "    n.madd(\n",
    "        \"Generator\",\n",
    "        dsr.index,\n",
    "        **dsr,\n",
    "        invest_status = \"existing\"\n",
    "    )"
   ]
  },
  {
   "cell_type": "code",
   "execution_count": 11,
   "metadata": {},
   "outputs": [],
   "source": [
    "def set_investment_bounds():\n",
    "    \n",
    "    n.generators.loc[n.generators.invest_status == \"policy\", \"p_nom_max\"] = n.generators.loc[n.generators.invest_status == \"policy\", \"p_nom\"]\n",
    "    n.generators.loc[n.generators.invest_status == \"policy\", \"p_nom_min\"] = n.generators.loc[n.generators.invest_status == \"policy\", \"p_nom\"]"
   ]
  },
  {
   "cell_type": "code",
   "execution_count": 12,
   "metadata": {},
   "outputs": [],
   "source": [
    "commodity_prices_raw = pd.read_excel(\"data/Fuel and CO2 prices_ERAA2023.xlsx\", index_col = 0)"
   ]
  },
  {
   "cell_type": "code",
   "execution_count": 13,
   "metadata": {},
   "outputs": [],
   "source": [
    "year = 2029"
   ]
  },
  {
   "cell_type": "code",
   "execution_count": 14,
   "metadata": {},
   "outputs": [],
   "source": [
    "climate_year = 1990"
   ]
  },
  {
   "cell_type": "code",
   "execution_count": 15,
   "metadata": {},
   "outputs": [],
   "source": [
    "years = range(2025, 2034)"
   ]
  },
  {
   "cell_type": "code",
   "execution_count": 16,
   "metadata": {},
   "outputs": [],
   "source": [
    "save_path = \"resources/networks/base/cy\" + str(climate_year) + \"_ty\" + str(year) + \".nc\""
   ]
  },
  {
   "cell_type": "code",
   "execution_count": 17,
   "metadata": {},
   "outputs": [],
   "source": [
    "biomass_price = 7 # make adjustable in config"
   ]
  },
  {
   "cell_type": "code",
   "execution_count": 18,
   "metadata": {},
   "outputs": [],
   "source": [
    "inflows_raw = pd.read_hdf(\"resources/inflow.h5\", \"inflow\")"
   ]
  },
  {
   "cell_type": "code",
   "execution_count": 19,
   "metadata": {},
   "outputs": [],
   "source": [
    "excel_file = pd.ExcelFile(\"data/pemmdb.xlsx\")"
   ]
  },
  {
   "cell_type": "code",
   "execution_count": 20,
   "metadata": {},
   "outputs": [],
   "source": [
    "snapshots = pd.date_range(start=\"2010-01-01\", freq=\"h\", periods=8760)"
   ]
  },
  {
   "cell_type": "code",
   "execution_count": 21,
   "metadata": {},
   "outputs": [],
   "source": [
    "plant_sheets = [i for i in excel_file.sheet_names if \"TY\" in i]\n",
    "plant_sheets = pd.Series([int(i[2:]) for i in plant_sheets], plant_sheets )"
   ]
  },
  {
   "cell_type": "code",
   "execution_count": 22,
   "metadata": {},
   "outputs": [],
   "source": [
    "sheet = plant_sheets[plant_sheets <= year].subtract(year).idxmax()"
   ]
  },
  {
   "cell_type": "code",
   "execution_count": 23,
   "metadata": {},
   "outputs": [],
   "source": [
    "base_year = int(sheet[2:])"
   ]
  },
  {
   "cell_type": "code",
   "execution_count": 24,
   "metadata": {},
   "outputs": [],
   "source": [
    "distributed_resources = [\"onwind\", \"offwind\", \"CSP\",\"solar\", \"battery\"]"
   ]
  },
  {
   "cell_type": "code",
   "execution_count": 25,
   "metadata": {},
   "outputs": [],
   "source": [
    "demand = pd.read_hdf(\"resources/demand.h5\")\n",
    "demand = demand.loc[:, climate_year, :, str(base_year), :].unstack(1)\n",
    "demand.index = snapshots\n",
    "demand.drop(\"TR00\",axis=1, inplace=True)"
   ]
  },
  {
   "cell_type": "code",
   "execution_count": 26,
   "metadata": {},
   "outputs": [],
   "source": [
    "links = pd.read_hdf(\"resources/ntcs.h5\", \"p_nom\")\n",
    "links_p_max_pu = pd.read_hdf(\"resources/ntcs.h5\", \"p_max_pu\")\n",
    "links = links[base_year].unstack(1)\n",
    "links_p_max_pu = links_p_max_pu[base_year].unstack(2)\n",
    "links_p_max_pu.index = snapshots"
   ]
  },
  {
   "cell_type": "code",
   "execution_count": 27,
   "metadata": {},
   "outputs": [],
   "source": [
    "links.dropna(inplace=True)\n",
    "links_p_max_pu.dropna(axis=1, inplace=True)"
   ]
  },
  {
   "cell_type": "code",
   "execution_count": 28,
   "metadata": {},
   "outputs": [],
   "source": [
    "links[\"carrier\"] = [i[-2:] for i in links.index]"
   ]
  },
  {
   "cell_type": "code",
   "execution_count": 29,
   "metadata": {},
   "outputs": [],
   "source": [
    "demand, links = group_luxembourg(demand, links)"
   ]
  },
  {
   "cell_type": "code",
   "execution_count": 30,
   "metadata": {},
   "outputs": [],
   "source": [
    "commodity_prices = prepare_commodity_prices(commodity_prices_raw)"
   ]
  },
  {
   "cell_type": "code",
   "execution_count": 31,
   "metadata": {},
   "outputs": [],
   "source": [
    "dispatchable_plants = pd.read_hdf(\"resources/dispatchable_capacities.h5\")"
   ]
  },
  {
   "cell_type": "code",
   "execution_count": 32,
   "metadata": {},
   "outputs": [],
   "source": [
    "technology_data = pd.read_csv(\"../technology-data/outputs/costs_2025.csv\", index_col=[0,1])"
   ]
  },
  {
   "cell_type": "code",
   "execution_count": 33,
   "metadata": {},
   "outputs": [],
   "source": [
    "n = pypsa.Network()\n",
    "n.set_snapshots(snapshots)"
   ]
  },
  {
   "cell_type": "code",
   "execution_count": 34,
   "metadata": {},
   "outputs": [],
   "source": [
    "capacity = build_capacity_table()"
   ]
  },
  {
   "cell_type": "code",
   "execution_count": 35,
   "metadata": {},
   "outputs": [],
   "source": [
    "p_nom_dsr = pd.read_excel(excel_file, \"Explicit DSR\", index_col = [0,1]).iloc[:, :8]\n",
    "marginal_cost_dsr = pd.read_excel(excel_file, \"Explicit DSR\", index_col = [0,1]).iloc[:, 8:16]"
   ]
  },
  {
   "cell_type": "code",
   "execution_count": 36,
   "metadata": {},
   "outputs": [],
   "source": [
    "buses = (\n",
    "    capacity.sum()[capacity.sum() >0].index\n",
    "    .union(demand.columns)\n",
    "    .union(links.bus0.unique())\n",
    "    .union(links.bus1.unique())\n",
    ")"
   ]
  },
  {
   "cell_type": "code",
   "execution_count": 37,
   "metadata": {},
   "outputs": [
    {
     "data": {
      "text/plain": [
       "Index(['AL00', 'AT00', 'BA00', 'BE00', 'BEOF', 'BG00', 'CH00', 'CY00', 'CZ00',\n",
       "       'DE00', 'DEKF', 'DKBH', 'DKE1', 'DKKF', 'DKW1', 'EE00', 'ES00', 'FI00',\n",
       "       'FR00', 'GR00', 'GR03', 'HR00', 'HU00', 'IE00', 'ITCA', 'ITCN', 'ITCS',\n",
       "       'ITN1', 'ITS1', 'ITSA', 'ITSI', 'ITVI', 'LT00', 'LUG1', 'LV00', 'ME00',\n",
       "       'MK00', 'MT00', 'NL00', 'NLLL', 'NOM1', 'NON1', 'NOS0', 'PL00', 'PLE0',\n",
       "       'PLI0', 'PT00', 'RO00', 'RS00', 'SE01', 'SE02', 'SE03', 'SE04', 'SI00',\n",
       "       'SK00', 'UK00', 'UKNI'],\n",
       "      dtype='object')"
      ]
     },
     "execution_count": 37,
     "metadata": {},
     "output_type": "execute_result"
    }
   ],
   "source": [
    "n.madd(\n",
    "    \"Bus\", \n",
    "    buses, \n",
    "    carrier = \"electricity\", \n",
    "    country = buses.str[:2]\n",
    ")"
   ]
  },
  {
   "cell_type": "code",
   "execution_count": 38,
   "metadata": {},
   "outputs": [
    {
     "data": {
      "text/plain": [
       "Index(['AL00', 'AT00', 'BA00', 'BE00', 'BG00', 'CH00', 'CY00', 'CZ00', 'DE00',\n",
       "       'DKE1', 'DKW1', 'EE00', 'ES00', 'FI00', 'FR00', 'GR00', 'GR03', 'HR00',\n",
       "       'HU00', 'IE00', 'ITCA', 'ITCN', 'ITCS', 'ITN1', 'ITS1', 'ITSA', 'ITSI',\n",
       "       'LT00', 'LUG1', 'LV00', 'ME00', 'MK00', 'MT00', 'NL00', 'NOM1', 'NON1',\n",
       "       'NOS0', 'PL00', 'PT00', 'RO00', 'RS00', 'SE01', 'SE02', 'SE03', 'SE04',\n",
       "       'SI00', 'SK00', 'UK00', 'UKNI'],\n",
       "      dtype='object', name='zone')"
      ]
     },
     "execution_count": 38,
     "metadata": {},
     "output_type": "execute_result"
    }
   ],
   "source": [
    "n.madd(\n",
    "    \"Load\", \n",
    "    demand.columns,\n",
    "    bus=demand.columns,\n",
    "    p_set = demand\n",
    ")"
   ]
  },
  {
   "cell_type": "code",
   "execution_count": 39,
   "metadata": {},
   "outputs": [],
   "source": [
    "inflows = build_inflows(inflows_raw)"
   ]
  },
  {
   "cell_type": "code",
   "execution_count": 40,
   "metadata": {},
   "outputs": [],
   "source": [
    "add_existing_storage()"
   ]
  },
  {
   "cell_type": "code",
   "execution_count": 41,
   "metadata": {},
   "outputs": [
    {
     "name": "stderr",
     "output_type": "stream",
     "text": [
      "/tmp/ipykernel_2335640/1052378219.py:5: SettingWithCopyWarning: \n",
      "A value is trying to be set on a copy of a slice from a DataFrame.\n",
      "Try using .loc[row_indexer,col_indexer] = value instead\n",
      "\n",
      "See the caveats in the documentation: https://pandas.pydata.org/pandas-docs/stable/user_guide/indexing.html#returning-a-view-versus-a-copy\n",
      "  plants[\"marginal_cost\"] = (\n"
     ]
    }
   ],
   "source": [
    "add_dispatchables()"
   ]
  },
  {
   "cell_type": "code",
   "execution_count": 42,
   "metadata": {},
   "outputs": [],
   "source": [
    "add_renewables()"
   ]
  },
  {
   "cell_type": "code",
   "execution_count": 43,
   "metadata": {},
   "outputs": [],
   "source": [
    "add_dsr()"
   ]
  },
  {
   "cell_type": "code",
   "execution_count": 44,
   "metadata": {},
   "outputs": [],
   "source": [
    "set_investment_bounds()"
   ]
  },
  {
   "cell_type": "code",
   "execution_count": 45,
   "metadata": {},
   "outputs": [
    {
     "data": {
      "text/plain": [
       "Index(['AL00-GR00-AC', 'AL00-ME00-AC', 'AL00-MK00-AC', 'AL00-RS00-AC',\n",
       "       'AT00-CH00-AC', 'AT00-CZ00-AC', 'AT00-DE00-AC', 'AT00-HU00-AC',\n",
       "       'AT00-ITN1-AC', 'AT00-SI00-AC',\n",
       "       ...\n",
       "       'UK00-BE00-DC', 'UK00-DE00-DC', 'UK00-DKW1-DC', 'UK00-FR00-DC',\n",
       "       'UK00-IE00-DC', 'UK00-NL00-DC', 'UK00-NOS0-DC', 'UK00-UKNI-DC',\n",
       "       'UKNI-IE00-AC', 'UKNI-UK00-DC'],\n",
       "      dtype='object', length=212)"
      ]
     },
     "execution_count": 45,
     "metadata": {},
     "output_type": "execute_result"
    }
   ],
   "source": [
    "n.madd(\n",
    "    \"Link\",\n",
    "    links.index,\n",
    "    bus0 = links.bus0,\n",
    "    bus1 = links.bus1,\n",
    "    p_nom = links.p_nom,\n",
    "    p_max_pu = links_p_max_pu,\n",
    "    carrier = links.carrier\n",
    ")"
   ]
  },
  {
   "cell_type": "code",
   "execution_count": 46,
   "metadata": {},
   "outputs": [
    {
     "data": {
      "text/plain": [
       "Index(['AL00 load-shedding', 'AT00 load-shedding', 'BA00 load-shedding',\n",
       "       'BE00 load-shedding', 'BEOF load-shedding', 'BG00 load-shedding',\n",
       "       'CH00 load-shedding', 'CY00 load-shedding', 'CZ00 load-shedding',\n",
       "       'DE00 load-shedding', 'DEKF load-shedding', 'DKBH load-shedding',\n",
       "       'DKE1 load-shedding', 'DKKF load-shedding', 'DKW1 load-shedding',\n",
       "       'EE00 load-shedding', 'ES00 load-shedding', 'FI00 load-shedding',\n",
       "       'FR00 load-shedding', 'GR00 load-shedding', 'GR03 load-shedding',\n",
       "       'HR00 load-shedding', 'HU00 load-shedding', 'IE00 load-shedding',\n",
       "       'ITCA load-shedding', 'ITCN load-shedding', 'ITCS load-shedding',\n",
       "       'ITN1 load-shedding', 'ITS1 load-shedding', 'ITSA load-shedding',\n",
       "       'ITSI load-shedding', 'ITVI load-shedding', 'LT00 load-shedding',\n",
       "       'LUG1 load-shedding', 'LV00 load-shedding', 'ME00 load-shedding',\n",
       "       'MK00 load-shedding', 'MT00 load-shedding', 'NL00 load-shedding',\n",
       "       'NLLL load-shedding', 'NOM1 load-shedding', 'NON1 load-shedding',\n",
       "       'NOS0 load-shedding', 'PL00 load-shedding', 'PLE0 load-shedding',\n",
       "       'PLI0 load-shedding', 'PT00 load-shedding', 'RO00 load-shedding',\n",
       "       'RS00 load-shedding', 'SE01 load-shedding', 'SE02 load-shedding',\n",
       "       'SE03 load-shedding', 'SE04 load-shedding', 'SI00 load-shedding',\n",
       "       'SK00 load-shedding', 'UK00 load-shedding', 'UKNI load-shedding'],\n",
       "      dtype='object', name='Bus')"
      ]
     },
     "execution_count": 46,
     "metadata": {},
     "output_type": "execute_result"
    }
   ],
   "source": [
    "n.madd(\n",
    "    \"Generator\",\n",
    "    n.buses.index + \" load-shedding\",\n",
    "    carrier = \"load-shedding\",\n",
    "    bus = n.buses.index,\n",
    "    p_nom=1e5,\n",
    "    marginal_cost = 10e3,\n",
    ")"
   ]
  },
  {
   "cell_type": "code",
   "execution_count": 49,
   "metadata": {},
   "outputs": [
    {
     "data": {
      "text/plain": [
       "StorageUnit\n",
       "AL00 reservoir    1.0\n",
       "AT00 PHS          1.0\n",
       "AT00 reservoir    1.0\n",
       "AT00 battery      1.0\n",
       "BA00 reservoir    1.0\n",
       "                 ... \n",
       "SK00 reservoir    1.0\n",
       "SK00 battery      1.0\n",
       "UK00 PHS          1.0\n",
       "UK00 battery      1.0\n",
       "UKNI battery      1.0\n",
       "Name: efficiency_store, Length: 89, dtype: float64"
      ]
     },
     "execution_count": 49,
     "metadata": {},
     "output_type": "execute_result"
    }
   ],
   "source": [
    "n.storage_units.efficiency_store"
   ]
  },
  {
   "cell_type": "code",
   "execution_count": 1,
   "metadata": {},
   "outputs": [
    {
     "ename": "NameError",
     "evalue": "name 'os' is not defined",
     "output_type": "error",
     "traceback": [
      "\u001b[0;31m---------------------------------------------------------------------------\u001b[0m",
      "\u001b[0;31mNameError\u001b[0m                                 Traceback (most recent call last)",
      "Cell \u001b[0;32mIn[1], line 1\u001b[0m\n\u001b[0;32m----> 1\u001b[0m dirname \u001b[38;5;241m=\u001b[39m \u001b[43mos\u001b[49m\u001b[38;5;241m.\u001b[39mpath\u001b[38;5;241m.\u001b[39mdirname(save_path)  \n\u001b[1;32m      3\u001b[0m \u001b[38;5;28;01mif\u001b[39;00m \u001b[38;5;129;01mnot\u001b[39;00m os\u001b[38;5;241m.\u001b[39mpath\u001b[38;5;241m.\u001b[39mexists(dirname):\n\u001b[1;32m      4\u001b[0m     os\u001b[38;5;241m.\u001b[39mmakedirs(dirname)\n",
      "\u001b[0;31mNameError\u001b[0m: name 'os' is not defined"
     ]
    }
   ],
   "source": [
    "dirname = os.path.dirname(save_path)  \n",
    "\n",
    "if not os.path.exists(dirname):\n",
    "    os.makedirs(dirname)"
   ]
  },
  {
   "cell_type": "raw",
   "metadata": {},
   "source": [
    "n.export_to_netcdf(save_path)"
   ]
  },
  {
   "cell_type": "code",
   "execution_count": null,
   "metadata": {},
   "outputs": [],
   "source": [
    "n.optimize(snapshots=n.snapshots[:24], solver_name=\"highs\")"
   ]
  },
  {
   "cell_type": "raw",
   "metadata": {},
   "source": [
    "n = pypsa.Network(\"resources/networks/0/\")"
   ]
  }
 ],
 "metadata": {
  "kernelspec": {
   "display_name": "pypsa-training",
   "language": "python",
   "name": "pypsa-training"
  },
  "language_info": {
   "codemirror_mode": {
    "name": "ipython",
    "version": 3
   },
   "file_extension": ".py",
   "mimetype": "text/x-python",
   "name": "python",
   "nbconvert_exporter": "python",
   "pygments_lexer": "ipython3",
   "version": "3.10.13"
  }
 },
 "nbformat": 4,
 "nbformat_minor": 4
}
