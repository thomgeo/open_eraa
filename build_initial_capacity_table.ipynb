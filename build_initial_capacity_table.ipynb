{
 "cells": [
  {
   "cell_type": "code",
   "execution_count": 1,
   "metadata": {},
   "outputs": [],
   "source": [
    "import pandas as pd\n",
    "import numpy as np\n",
    "import pypsa"
   ]
  },
  {
   "cell_type": "code",
   "execution_count": 2,
   "metadata": {},
   "outputs": [],
   "source": [
    "import glob"
   ]
  },
  {
   "cell_type": "code",
   "execution_count": 3,
   "metadata": {},
   "outputs": [],
   "source": [
    "import os"
   ]
  },
  {
   "cell_type": "code",
   "execution_count": 4,
   "metadata": {},
   "outputs": [],
   "source": [
    "iteration = 0"
   ]
  },
  {
   "cell_type": "code",
   "execution_count": 5,
   "metadata": {},
   "outputs": [],
   "source": [
    "save_path = \"resources/capacity_tables/0.csv\""
   ]
  },
  {
   "cell_type": "code",
   "execution_count": 6,
   "metadata": {},
   "outputs": [],
   "source": [
    "climate_year = 2004\n",
    "\n",
    "network_list = glob.glob(\"resources/networks/0/cy\" + str(climate_year)+ \"*.nc\")"
   ]
  },
  {
   "cell_type": "code",
   "execution_count": 7,
   "metadata": {},
   "outputs": [
    {
     "data": {
      "text/plain": [
       "['resources/networks/0/cy2004_ty2025.nc',\n",
       " 'resources/networks/0/cy2004_ty2026.nc',\n",
       " 'resources/networks/0/cy2004_ty2027.nc',\n",
       " 'resources/networks/0/cy2004_ty2028.nc',\n",
       " 'resources/networks/0/cy2004_ty2029.nc',\n",
       " 'resources/networks/0/cy2004_ty2030.nc',\n",
       " 'resources/networks/0/cy2004_ty2031.nc',\n",
       " 'resources/networks/0/cy2004_ty2032.nc',\n",
       " 'resources/networks/0/cy2004_ty2033.nc']"
      ]
     },
     "execution_count": 7,
     "metadata": {},
     "output_type": "execute_result"
    }
   ],
   "source": [
    "sorted(network_list)"
   ]
  },
  {
   "cell_type": "code",
   "execution_count": 8,
   "metadata": {},
   "outputs": [],
   "source": [
    "networks = pd.Series(\n",
    "    index = [i.split(\"ty\")[1][:4] for i in network_list]\n",
    ")\n",
    "\n",
    "networks.index = networks.index.astype(int)"
   ]
  },
  {
   "cell_type": "code",
   "execution_count": 9,
   "metadata": {},
   "outputs": [
    {
     "name": "stderr",
     "output_type": "stream",
     "text": [
      "INFO:pypsa.io:Imported network cy2004_ty2029.nc has buses, generators, links, loads, storage_units\n",
      "INFO:pypsa.io:Imported network cy2004_ty2028.nc has buses, generators, links, loads, storage_units\n",
      "INFO:pypsa.io:Imported network cy2004_ty2033.nc has buses, generators, links, loads, storage_units\n",
      "INFO:pypsa.io:Imported network cy2004_ty2032.nc has buses, generators, links, loads, storage_units\n",
      "INFO:pypsa.io:Imported network cy2004_ty2025.nc has buses, generators, links, loads, storage_units\n",
      "INFO:pypsa.io:Imported network cy2004_ty2027.nc has buses, generators, links, loads, storage_units\n",
      "INFO:pypsa.io:Imported network cy2004_ty2030.nc has buses, generators, links, loads, storage_units\n",
      "INFO:pypsa.io:Imported network cy2004_ty2031.nc has buses, generators, links, loads, storage_units\n",
      "INFO:pypsa.io:Imported network cy2004_ty2026.nc has buses, generators, links, loads, storage_units\n"
     ]
    }
   ],
   "source": [
    "for i, path in enumerate(network_list):\n",
    "    networks.iloc[i] = pypsa.Network(path)"
   ]
  },
  {
   "cell_type": "code",
   "execution_count": 10,
   "metadata": {},
   "outputs": [],
   "source": [
    "networks.sort_index(inplace=True)"
   ]
  },
  {
   "cell_type": "code",
   "execution_count": 11,
   "metadata": {},
   "outputs": [],
   "source": [
    "capacities = pd.DataFrame()"
   ]
  },
  {
   "cell_type": "code",
   "execution_count": 12,
   "metadata": {},
   "outputs": [],
   "source": [
    "for year in networks.index:\n",
    "    capacities = pd.concat(\n",
    "        [\n",
    "            capacities,\n",
    "            (\n",
    "                networks[year].generators\n",
    "                .set_index(\n",
    "                    pd.Series(year, networks[year].generators.index),\n",
    "                    append=True\n",
    "                )\n",
    "            )\n",
    "        ]\n",
    "    )"
   ]
  },
  {
   "cell_type": "code",
   "execution_count": 13,
   "metadata": {},
   "outputs": [],
   "source": [
    "os.makedirs(os.path.dirname(save_path), exist_ok=True)"
   ]
  },
  {
   "cell_type": "code",
   "execution_count": 14,
   "metadata": {},
   "outputs": [],
   "source": [
    "capacities.to_csv(save_path)"
   ]
  },
  {
   "cell_type": "code",
   "execution_count": null,
   "metadata": {},
   "outputs": [],
   "source": []
  },
  {
   "cell_type": "code",
   "execution_count": null,
   "metadata": {},
   "outputs": [],
   "source": []
  },
  {
   "cell_type": "code",
   "execution_count": null,
   "metadata": {},
   "outputs": [],
   "source": []
  },
  {
   "cell_type": "code",
   "execution_count": null,
   "metadata": {},
   "outputs": [],
   "source": []
  },
  {
   "cell_type": "code",
   "execution_count": null,
   "metadata": {},
   "outputs": [],
   "source": []
  }
 ],
 "metadata": {
  "kernelspec": {
   "display_name": "pypsa-training",
   "language": "python",
   "name": "pypsa-training"
  },
  "language_info": {
   "codemirror_mode": {
    "name": "ipython",
    "version": 3
   },
   "file_extension": ".py",
   "mimetype": "text/x-python",
   "name": "python",
   "nbconvert_exporter": "python",
   "pygments_lexer": "ipython3",
   "version": "3.10.13"
  }
 },
 "nbformat": 4,
 "nbformat_minor": 4
}
