{
 "cells": [
  {
   "cell_type": "code",
   "execution_count": 1,
   "id": "db713038-f6e7-4225-a640-c74aa6656305",
   "metadata": {},
   "outputs": [
    {
     "name": "stderr",
     "output_type": "stream",
     "text": [
      "ERROR 1: PROJ: proj_create_from_database: Open of /trinity/home/thomgeo/micromamba/envs/lmp-v13/share/proj failed\n"
     ]
    }
   ],
   "source": [
    "import pandas as pd\n",
    "import numpy as np\n",
    "import linopy\n",
    "import pypsa"
   ]
  },
  {
   "cell_type": "code",
   "execution_count": 2,
   "id": "cd9892fa-543e-4afc-b0f9-a1b96f2e68ed",
   "metadata": {},
   "outputs": [],
   "source": [
    "snapshots = pd.Index(range(24))\n",
    "snapshots.name = \"snapshot\""
   ]
  },
  {
   "cell_type": "code",
   "execution_count": 3,
   "id": "c8bc8e9f-6b51-444e-b8f2-6f904f045816",
   "metadata": {},
   "outputs": [],
   "source": [
    "def full_pypsa(\n",
    "    d,\n",
    "    e_in,\n",
    "    e_nom,\n",
    "):\n",
    "    \n",
    "    n = pypsa.Network()\n",
    "\n",
    "    n.add(\"Bus\", \"b\")\n",
    "\n",
    "    n.set_snapshots(snapshots)\n",
    "\n",
    "    n.add(\n",
    "        \"Load\",\n",
    "        \"d\",\n",
    "        bus = \"b\",\n",
    "        p_set=d\n",
    "    )\n",
    "\n",
    "    n.add(\n",
    "        \"Load\",\n",
    "        \"e_in\",\n",
    "        bus = \"b\",\n",
    "        p_set= - e_in\n",
    "    )\n",
    "\n",
    "    n.madd(\n",
    "        \"Store\",\n",
    "        e_nom.index,\n",
    "        bus=\"b\",\n",
    "        e_nom=e_nom,\n",
    "        e_cyclic=True,\n",
    "    )\n",
    "\n",
    "\n",
    "    n.add(\n",
    "        \"Generator\",\n",
    "        \"ls\",\n",
    "        bus=\"b\",\n",
    "        p_nom=100,\n",
    "        marginal_cost = 100\n",
    "    )\n",
    "    \n",
    "    n.add(\n",
    "        \"Generator\",\n",
    "        \"gas\",\n",
    "        bus=\"b\",\n",
    "        p_nom=10,\n",
    "        marginal_cost = 10\n",
    "    )\n",
    "    \n",
    "    n.add(\n",
    "        \"Generator\",\n",
    "        \"spillage\",\n",
    "        bus=\"b\",\n",
    "        p_nom=100,\n",
    "        marginal_cost = -100,\n",
    "        p_min_pu = -1,\n",
    "        p_max_pu = 0\n",
    "    )\n",
    "    \n",
    "    return n\n"
   ]
  },
  {
   "cell_type": "code",
   "execution_count": 4,
   "id": "d346a8d7-f358-4a7d-a032-22e0dafc8fa9",
   "metadata": {},
   "outputs": [],
   "source": [
    "stores = [\"php\", \"battery1\", \"hydro\", \"battery2\"]"
   ]
  },
  {
   "cell_type": "code",
   "execution_count": null,
   "id": "7413cfc5-2be4-4cda-b86f-886cff3578b3",
   "metadata": {},
   "outputs": [],
   "source": []
  },
  {
   "cell_type": "code",
   "execution_count": 5,
   "id": "1f6fb47d-db54-464d-a83f-a97626092cef",
   "metadata": {},
   "outputs": [],
   "source": [
    "d = pd.Series(np.random.random(size=len(snapshots))*7, snapshots, name=\"demand\")"
   ]
  },
  {
   "cell_type": "code",
   "execution_count": 6,
   "id": "989675fa-1841-4ca6-ad97-046711917e58",
   "metadata": {},
   "outputs": [],
   "source": [
    "e_nom = pd.Series(0.5, stores)\n",
    "\n",
    "e_nom.index.name = \"Store\""
   ]
  },
  {
   "cell_type": "code",
   "execution_count": 7,
   "id": "5d2a76d4-b6fd-4d4a-90c1-ace47ebf0a15",
   "metadata": {},
   "outputs": [],
   "source": [
    "e_in = pd.Series(np.random.random(size=len(snapshots))*6, snapshots)"
   ]
  },
  {
   "cell_type": "code",
   "execution_count": 8,
   "id": "252aa552-2dd0-4ac6-ad0f-8ecc0643fb31",
   "metadata": {},
   "outputs": [
    {
     "name": "stderr",
     "output_type": "stream",
     "text": [
      "/tmp/ipykernel_2048422/3237845874.py:27: DeprecatedWarning: madd is deprecated as of 0.31 and will be removed in 1.0. Use `n.add` as a drop-in replacement instead.\n",
      "  n.madd(\n"
     ]
    }
   ],
   "source": [
    "n = full_pypsa(\n",
    "    d,\n",
    "    e_in,\n",
    "    e_nom,\n",
    ")"
   ]
  },
  {
   "cell_type": "code",
   "execution_count": 9,
   "id": "3734ba69-a4ff-41ff-9eef-7642d0a1919e",
   "metadata": {},
   "outputs": [
    {
     "name": "stderr",
     "output_type": "stream",
     "text": [
      "WARNING:pypsa.consistency:The following buses have carriers which are not defined:\n",
      "Index(['b'], dtype='object', name='Bus')\n",
      "WARNING:pypsa.consistency:The following stores have carriers which are not defined:\n",
      "Index(['php', 'battery1', 'hydro', 'battery2'], dtype='object', name='Store')\n",
      "WARNING:pypsa.consistency:The following buses have carriers which are not defined:\n",
      "Index(['b'], dtype='object', name='Bus')\n",
      "WARNING:pypsa.consistency:The following stores have carriers which are not defined:\n",
      "Index(['php', 'battery1', 'hydro', 'battery2'], dtype='object', name='Store')\n",
      "INFO:linopy.model: Solve problem using Cplex solver\n",
      "INFO:linopy.io: Writing time: 0.03s\n"
     ]
    },
    {
     "name": "stdout",
     "output_type": "stream",
     "text": [
      "Version identifier: 22.1.1.0 | 2023-06-15 | d64d5bd77\n",
      "CPXPARAM_Read_DataCheck                          1\n",
      "Tried aggregator 1 time.\n",
      "LP Presolve eliminated 338 rows and 82 columns.\n",
      "Aggregator did 96 substitutions.\n",
      "Reduced LP has 22 rows, 86 columns, and 106 nonzeros.\n",
      "Presolve time = 0.00 sec. (0.28 ticks)\n",
      "Initializing dual steep norms . . .\n",
      "\n",
      "Iteration log . . .\n",
      "Iteration:     1   Dual objective     =           596.598478\n"
     ]
    },
    {
     "name": "stderr",
     "output_type": "stream",
     "text": [
      "INFO:linopy.constants: Optimization successful: \n",
      "Status: ok\n",
      "Termination condition: optimal\n",
      "Solution: 264 primals, 456 duals\n",
      "Objective: 1.04e+03\n",
      "Solver model: available\n",
      "Solver message: optimal\n",
      "\n",
      "INFO:pypsa.optimization.optimize:The shadow-prices of the constraints Generator-fix-p-lower, Generator-fix-p-upper, Store-fix-e-lower, Store-fix-e-upper, Store-energy_balance were not assigned to the network.\n"
     ]
    },
    {
     "data": {
      "text/plain": [
       "('ok', 'optimal')"
      ]
     },
     "execution_count": 9,
     "metadata": {},
     "output_type": "execute_result"
    }
   ],
   "source": [
    "n.optimize(solver_name=\"cplex\")"
   ]
  },
  {
   "cell_type": "code",
   "execution_count": 10,
   "id": "63701fe8-4ffe-4976-930a-9a05d7ddeb0c",
   "metadata": {},
   "outputs": [
    {
     "data": {
      "text/plain": [
       "1036.03713337744"
      ]
     },
     "execution_count": 10,
     "metadata": {},
     "output_type": "execute_result"
    }
   ],
   "source": [
    "n.objective"
   ]
  },
  {
   "cell_type": "code",
   "execution_count": 11,
   "id": "da5f7466-592b-4a73-89f1-37dc3a08f448",
   "metadata": {},
   "outputs": [],
   "source": [
    "e_initial = pd.DataFrame(0, n.snapshots, n.stores.index)\n",
    "\n",
    "e_final_min = pd.DataFrame(0, n.snapshots, n.stores.index)\n",
    "\n",
    "e_final_max = pd.DataFrame(np.nan, n.snapshots, n.stores.index).fillna(n.stores.e_nom)"
   ]
  },
  {
   "cell_type": "code",
   "execution_count": 12,
   "id": "8fb2908d-982f-4d42-86f3-6f93e736ba82",
   "metadata": {},
   "outputs": [],
   "source": [
    "def partial_pypsa(\n",
    "    snapshots,\n",
    "    d,\n",
    "    e_in,\n",
    "    e_nom,\n",
    "    e_initial,\n",
    "    e_final_min,\n",
    "    e_final_max\n",
    "):\n",
    "    \n",
    "    n = pypsa.Network()\n",
    "\n",
    "    n.add(\"Bus\", \"b\")\n",
    "\n",
    "    n.set_snapshots(snapshots)\n",
    "\n",
    "    n.add(\n",
    "        \"Load\",\n",
    "        \"d\",\n",
    "        bus = \"b\",\n",
    "        p_set=d\n",
    "    )\n",
    "\n",
    "    n.add(\n",
    "        \"Load\",\n",
    "        \"e_in\",\n",
    "        bus = \"b\",\n",
    "        p_set= - e_in\n",
    "    )\n",
    "\n",
    "    n.madd(\n",
    "        \"Store\",\n",
    "        e_nom.index,\n",
    "        bus=\"b\",\n",
    "        e_nom=e_nom,\n",
    "        e_min_pu = e_final_min.div(e_nom),\n",
    "        e_max_pu = e_final_max.div(e_nom),\n",
    "        e_initial = e_initial.loc[snapshots[0]]\n",
    "    )\n",
    "\n",
    "\n",
    "    n.add(\n",
    "        \"Generator\",\n",
    "        \"ls\",\n",
    "        bus=\"b\",\n",
    "        p_nom=100,\n",
    "        marginal_cost = 100\n",
    "    )\n",
    "    \n",
    "    n.add(\n",
    "        \"Generator\",\n",
    "        \"gs\",\n",
    "        bus=\"b\",\n",
    "        p_nom=100,\n",
    "        marginal_cost = -100,\n",
    "        p_min_pu = -1,\n",
    "        p_max_pu = 0\n",
    "    )\n",
    "    \n",
    "    n.add(\n",
    "        \"Generator\",\n",
    "        \"gas\",\n",
    "        bus=\"b\",\n",
    "        p_nom=10,\n",
    "        marginal_cost = 10\n",
    "    )\n",
    "    \n",
    "    return n\n"
   ]
  },
  {
   "cell_type": "code",
   "execution_count": 13,
   "id": "cecb9ebc-a662-4573-ad14-05324c72d095",
   "metadata": {},
   "outputs": [
    {
     "name": "stderr",
     "output_type": "stream",
     "text": [
      "/tmp/ipykernel_2048422/280965894.py:31: DeprecatedWarning: madd is deprecated as of 0.31 and will be removed in 1.0. Use `n.add` as a drop-in replacement instead.\n",
      "  n.madd(\n"
     ]
    }
   ],
   "source": [
    "l = partial_pypsa(\n",
    "    snapshots,\n",
    "    d,\n",
    "    e_in,\n",
    "    e_nom,\n",
    "    e_initial,\n",
    "    e_final_min,\n",
    "    e_final_max\n",
    ")"
   ]
  },
  {
   "cell_type": "code",
   "execution_count": 14,
   "id": "028e60ff-3bce-4099-ba49-f1b4bced744e",
   "metadata": {},
   "outputs": [
    {
     "name": "stderr",
     "output_type": "stream",
     "text": [
      "WARNING:pypsa.consistency:The following buses have carriers which are not defined:\n",
      "Index(['b'], dtype='object', name='Bus')\n",
      "WARNING:pypsa.consistency:The following stores have carriers which are not defined:\n",
      "Index(['php', 'battery1', 'hydro', 'battery2'], dtype='object', name='Store')\n",
      "WARNING:pypsa.consistency:The following buses have carriers which are not defined:\n",
      "Index(['b'], dtype='object', name='Bus')\n",
      "WARNING:pypsa.consistency:The following stores have carriers which are not defined:\n",
      "Index(['php', 'battery1', 'hydro', 'battery2'], dtype='object', name='Store')\n",
      "INFO:linopy.model: Solve problem using Cplex solver\n",
      "INFO:linopy.io: Writing time: 0.03s\n"
     ]
    },
    {
     "name": "stdout",
     "output_type": "stream",
     "text": [
      "Version identifier: 22.1.1.0 | 2023-06-15 | d64d5bd77\n",
      "CPXPARAM_Read_DataCheck                          1\n",
      "Tried aggregator 1 time.\n",
      "LP Presolve eliminated 338 rows and 81 columns.\n",
      "Aggregator did 96 substitutions.\n",
      "Reduced LP has 22 rows, 87 columns, and 107 nonzeros.\n",
      "Presolve time = 0.00 sec. (0.28 ticks)\n",
      "Initializing dual steep norms . . .\n",
      "\n",
      "Iteration log . . .\n",
      "Iteration:     1   Dual objective     =           591.535444\n"
     ]
    },
    {
     "name": "stderr",
     "output_type": "stream",
     "text": [
      "INFO:linopy.constants: Optimization successful: \n",
      "Status: ok\n",
      "Termination condition: optimal\n",
      "Solution: 264 primals, 456 duals\n",
      "Objective: 8.87e+02\n",
      "Solver model: available\n",
      "Solver message: optimal\n",
      "\n",
      "INFO:pypsa.optimization.optimize:The shadow-prices of the constraints Generator-fix-p-lower, Generator-fix-p-upper, Store-fix-e-lower, Store-fix-e-upper, Store-energy_balance were not assigned to the network.\n"
     ]
    },
    {
     "data": {
      "text/plain": [
       "('ok', 'optimal')"
      ]
     },
     "execution_count": 14,
     "metadata": {},
     "output_type": "execute_result"
    }
   ],
   "source": [
    "l.optimize(solver_name=\"cplex\")"
   ]
  },
  {
   "cell_type": "code",
   "execution_count": 15,
   "id": "019975d3-6fc3-4737-87ca-470eb7e257c3",
   "metadata": {},
   "outputs": [
    {
     "data": {
      "text/plain": [
       "<Axes: xlabel='snapshot'>"
      ]
     },
     "execution_count": 15,
     "metadata": {},
     "output_type": "execute_result"
    },
    {
     "data": {
      "image/png": "[encoded data removed]",
      "text/plain": [
       "<Figure size 640x480 with 1 Axes>"
      ]
     },
     "metadata": {},
     "output_type": "display_data"
    }
   ],
   "source": [
    "l.stores_t.e.sum(axis=1).plot()\n",
    "\n",
    "n.stores_t.e.sum(axis=1).plot()"
   ]
  },
  {
   "cell_type": "code",
   "execution_count": 16,
   "id": "6d1f8eb5-f77d-49c6-a6dc-f1bd2d52f4f9",
   "metadata": {},
   "outputs": [
    {
     "data": {
      "text/plain": [
       "886.6674802933398"
      ]
     },
     "execution_count": 16,
     "metadata": {},
     "output_type": "execute_result"
    }
   ],
   "source": [
    "l.objective"
   ]
  },
  {
   "cell_type": "code",
   "execution_count": 17,
   "id": "820b5196-b4a6-4527-a86f-2e654b535ce8",
   "metadata": {},
   "outputs": [],
   "source": [
    "intv = 4"
   ]
  },
  {
   "cell_type": "code",
   "execution_count": 18,
   "id": "363c1f55-d7f2-44e1-b564-3f0a06c8d731",
   "metadata": {},
   "outputs": [],
   "source": [
    "e_final_max.iloc[1::intv, :] = e_final_min.iloc[1::intv, :]"
   ]
  },
  {
   "cell_type": "code",
   "execution_count": 19,
   "id": "df449792-0113-49a1-9888-7982fa13a4eb",
   "metadata": {},
   "outputs": [
    {
     "name": "stderr",
     "output_type": "stream",
     "text": [
      "INFO:linopy.model: Solve problem using Cplex solver\n",
      "INFO:linopy.io: Writing time: 0.01s\n"
     ]
    },
    {
     "name": "stdout",
     "output_type": "stream",
     "text": [
      "Version identifier: 22.1.1.0 | 2023-06-15 | d64d5bd77\n",
      "CPXPARAM_Read_DataCheck                          1\n",
      "Tried aggregator 1 time.\n",
      "LP Presolve eliminated 24 rows and 25 columns.\n",
      "All rows and columns eliminated.\n",
      "Presolve time = 0.00 sec. (0.01 ticks)\n"
     ]
    },
    {
     "name": "stderr",
     "output_type": "stream",
     "text": [
      "INFO:linopy.constants: Optimization successful: \n",
      "Status: ok\n",
      "Termination condition: optimal\n",
      "Solution: 25 primals, 24 duals\n",
      "Objective: -1.00e+07\n",
      "Solver model: available\n",
      "Solver message: optimal\n",
      "\n"
     ]
    },
    {
     "data": {
      "text/plain": [
       "('ok', 'optimal')"
      ]
     },
     "execution_count": 19,
     "metadata": {},
     "output_type": "execute_result"
    }
   ],
   "source": [
    "up = linopy.Model()\n",
    "\n",
    "snapshots_up = snapshots[intv-1::intv]\n",
    "\n",
    "stores = l.stores.index\n",
    "\n",
    "snapshots_up.name = \"snapshot\"\n",
    "\n",
    "e = up.add_variables(lower=0, coords= [snapshots_up, stores], name=\"e\")\n",
    "\n",
    "theta = up.add_variables(lower=-1e7, name=\"theta\")\n",
    "\n",
    "up.add_constraints(e <=  e_nom , name=\"Store-e-upper\")\n",
    "\n",
    "up.add_objective(theta*1)\n",
    "\n",
    "up.solve(solver_name=\"cplex\")"
   ]
  },
  {
   "cell_type": "code",
   "execution_count": 54,
   "id": "752df3db-300c-4219-abdf-e508f744fd42",
   "metadata": {
    "tags": []
   },
   "outputs": [
    {
     "name": "stderr",
     "output_type": "stream",
     "text": [
      "/tmp/ipykernel_2048422/280965894.py:31: DeprecatedWarning: madd is deprecated as of 0.31 and will be removed in 1.0. Use `n.add` as a drop-in replacement instead.\n",
      "  n.madd(\n",
      "WARNING:pypsa.consistency:The following buses have carriers which are not defined:\n",
      "Index(['b'], dtype='object', name='Bus')\n",
      "WARNING:pypsa.consistency:The following stores have carriers which are not defined:\n",
      "Index(['php', 'battery1', 'hydro', 'battery2'], dtype='object', name='Store')\n",
      "WARNING:pypsa.consistency:The following buses have carriers which are not defined:\n",
      "Index(['b'], dtype='object', name='Bus')\n",
      "WARNING:pypsa.consistency:The following stores have carriers which are not defined:\n",
      "Index(['php', 'battery1', 'hydro', 'battery2'], dtype='object', name='Store')\n",
      "INFO:linopy.model: Solve problem using Cplex solver\n",
      "INFO:linopy.io: Writing time: 0.03s\n"
     ]
    },
    {
     "name": "stdout",
     "output_type": "stream",
     "text": [
      "Version identifier: 22.1.1.0 | 2023-06-15 | d64d5bd77\n",
      "CPXPARAM_Read_DataCheck                          1\n",
      "Tried aggregator 1 time.\n",
      "LP Presolve eliminated 57 rows and 17 columns.\n",
      "Aggregator did 16 substitutions.\n",
      "Reduced LP has 3 rows, 11 columns, and 13 nonzeros.\n",
      "Presolve time = 0.00 sec. (0.04 ticks)\n",
      "Initializing dual steep norms . . .\n",
      "\n",
      "Iteration log . . .\n",
      "Iteration:     1   Dual objective     =           266.459205\n"
     ]
    },
    {
     "name": "stderr",
     "output_type": "stream",
     "text": [
      "INFO:linopy.constants: Optimization successful: \n",
      "Status: ok\n",
      "Termination condition: optimal\n",
      "Solution: 44 primals, 76 duals\n",
      "Objective: 2.66e+02\n",
      "Solver model: available\n",
      "Solver message: optimal\n",
      "\n",
      "INFO:pypsa.optimization.optimize:The shadow-prices of the constraints Generator-fix-p-lower, Generator-fix-p-upper, Store-fix-e-lower, Store-fix-e-upper, Store-energy_balance were not assigned to the network.\n",
      "/tmp/ipykernel_2048422/280965894.py:31: DeprecatedWarning: madd is deprecated as of 0.31 and will be removed in 1.0. Use `n.add` as a drop-in replacement instead.\n",
      "  n.madd(\n",
      "WARNING:pypsa.consistency:The following buses have carriers which are not defined:\n",
      "Index(['b'], dtype='object', name='Bus')\n",
      "WARNING:pypsa.consistency:The following stores have carriers which are not defined:\n",
      "Index(['php', 'battery1', 'hydro', 'battery2'], dtype='object', name='Store')\n",
      "WARNING:pypsa.consistency:The following buses have carriers which are not defined:\n",
      "Index(['b'], dtype='object', name='Bus')\n",
      "WARNING:pypsa.consistency:The following stores have carriers which are not defined:\n",
      "Index(['php', 'battery1', 'hydro', 'battery2'], dtype='object', name='Store')\n",
      "INFO:linopy.model: Solve problem using Cplex solver\n",
      "INFO:linopy.io: Writing time: 0.02s\n"
     ]
    },
    {
     "name": "stdout",
     "output_type": "stream",
     "text": [
      "Version identifier: 22.1.1.0 | 2023-06-15 | d64d5bd77\n",
      "CPXPARAM_Read_DataCheck                          1\n",
      "Tried aggregator 1 time.\n",
      "LP Presolve eliminated 58 rows and 21 columns.\n",
      "Aggregator did 16 substitutions.\n",
      "Reduced LP has 2 rows, 7 columns, and 8 nonzeros.\n",
      "Presolve time = 0.00 sec. (0.04 ticks)\n",
      "Initializing dual steep norms . . .\n",
      "\n",
      "Iteration log . . .\n",
      "Iteration:     1   Dual objective     =           368.040203\n"
     ]
    },
    {
     "name": "stderr",
     "output_type": "stream",
     "text": [
      "INFO:linopy.constants: Optimization successful: \n",
      "Status: ok\n",
      "Termination condition: optimal\n",
      "Solution: 44 primals, 76 duals\n",
      "Objective: 3.68e+02\n",
      "Solver model: available\n",
      "Solver message: optimal\n",
      "\n",
      "INFO:pypsa.optimization.optimize:The shadow-prices of the constraints Generator-fix-p-lower, Generator-fix-p-upper, Store-fix-e-lower, Store-fix-e-upper, Store-energy_balance were not assigned to the network.\n",
      "/tmp/ipykernel_2048422/280965894.py:31: DeprecatedWarning: madd is deprecated as of 0.31 and will be removed in 1.0. Use `n.add` as a drop-in replacement instead.\n",
      "  n.madd(\n",
      "WARNING:pypsa.consistency:The following buses have carriers which are not defined:\n",
      "Index(['b'], dtype='object', name='Bus')\n",
      "WARNING:pypsa.consistency:The following stores have carriers which are not defined:\n",
      "Index(['php', 'battery1', 'hydro', 'battery2'], dtype='object', name='Store')\n",
      "WARNING:pypsa.consistency:The following buses have carriers which are not defined:\n",
      "Index(['b'], dtype='object', name='Bus')\n",
      "WARNING:pypsa.consistency:The following stores have carriers which are not defined:\n",
      "Index(['php', 'battery1', 'hydro', 'battery2'], dtype='object', name='Store')\n",
      "INFO:linopy.model: Solve problem using Cplex solver\n",
      "INFO:linopy.io: Writing time: 0.03s\n"
     ]
    },
    {
     "name": "stdout",
     "output_type": "stream",
     "text": [
      "Version identifier: 22.1.1.0 | 2023-06-15 | d64d5bd77\n",
      "CPXPARAM_Read_DataCheck                          1\n",
      "Tried aggregator 1 time.\n",
      "LP Presolve eliminated 56 rows and 13 columns.\n",
      "Aggregator did 16 substitutions.\n",
      "Reduced LP has 4 rows, 15 columns, and 18 nonzeros.\n",
      "Presolve time = 0.00 sec. (0.04 ticks)\n",
      "Initializing dual steep norms . . .\n",
      "\n",
      "Iteration log . . .\n",
      "Iteration:     1   Dual objective     =           106.327943\n"
     ]
    },
    {
     "name": "stderr",
     "output_type": "stream",
     "text": [
      "INFO:linopy.constants: Optimization successful: \n",
      "Status: ok\n",
      "Termination condition: optimal\n",
      "Solution: 44 primals, 76 duals\n",
      "Objective: 1.06e+02\n",
      "Solver model: available\n",
      "Solver message: optimal\n",
      "\n",
      "INFO:pypsa.optimization.optimize:The shadow-prices of the constraints Generator-fix-p-lower, Generator-fix-p-upper, Store-fix-e-lower, Store-fix-e-upper, Store-energy_balance were not assigned to the network.\n",
      "/tmp/ipykernel_2048422/280965894.py:31: DeprecatedWarning: madd is deprecated as of 0.31 and will be removed in 1.0. Use `n.add` as a drop-in replacement instead.\n",
      "  n.madd(\n",
      "WARNING:pypsa.consistency:The following buses have carriers which are not defined:\n",
      "Index(['b'], dtype='object', name='Bus')\n",
      "WARNING:pypsa.consistency:The following stores have carriers which are not defined:\n",
      "Index(['php', 'battery1', 'hydro', 'battery2'], dtype='object', name='Store')\n",
      "WARNING:pypsa.consistency:The following buses have carriers which are not defined:\n",
      "Index(['b'], dtype='object', name='Bus')\n",
      "WARNING:pypsa.consistency:The following stores have carriers which are not defined:\n",
      "Index(['php', 'battery1', 'hydro', 'battery2'], dtype='object', name='Store')\n",
      "INFO:linopy.model: Solve problem using Cplex solver\n",
      "INFO:linopy.io: Writing time: 0.03s\n"
     ]
    },
    {
     "name": "stdout",
     "output_type": "stream",
     "text": [
      "Version identifier: 22.1.1.0 | 2023-06-15 | d64d5bd77\n",
      "CPXPARAM_Read_DataCheck                          1\n",
      "Tried aggregator 1 time.\n",
      "LP Presolve eliminated 56 rows and 13 columns.\n",
      "Aggregator did 16 substitutions.\n",
      "Reduced LP has 4 rows, 15 columns, and 18 nonzeros.\n",
      "Presolve time = 0.00 sec. (0.04 ticks)\n",
      "Initializing dual steep norms . . .\n",
      "\n",
      "Iteration log . . .\n",
      "Iteration:     1   Dual objective     =            50.578403\n"
     ]
    },
    {
     "name": "stderr",
     "output_type": "stream",
     "text": [
      "INFO:linopy.constants: Optimization successful: \n",
      "Status: ok\n",
      "Termination condition: optimal\n",
      "Solution: 44 primals, 76 duals\n",
      "Objective: 5.06e+01\n",
      "Solver model: available\n",
      "Solver message: optimal\n",
      "\n",
      "INFO:pypsa.optimization.optimize:The shadow-prices of the constraints Generator-fix-p-lower, Generator-fix-p-upper, Store-fix-e-lower, Store-fix-e-upper, Store-energy_balance were not assigned to the network.\n",
      "/tmp/ipykernel_2048422/280965894.py:31: DeprecatedWarning: madd is deprecated as of 0.31 and will be removed in 1.0. Use `n.add` as a drop-in replacement instead.\n",
      "  n.madd(\n",
      "WARNING:pypsa.consistency:The following buses have carriers which are not defined:\n",
      "Index(['b'], dtype='object', name='Bus')\n",
      "WARNING:pypsa.consistency:The following stores have carriers which are not defined:\n",
      "Index(['php', 'battery1', 'hydro', 'battery2'], dtype='object', name='Store')\n",
      "WARNING:pypsa.consistency:The following buses have carriers which are not defined:\n",
      "Index(['b'], dtype='object', name='Bus')\n",
      "WARNING:pypsa.consistency:The following stores have carriers which are not defined:\n",
      "Index(['php', 'battery1', 'hydro', 'battery2'], dtype='object', name='Store')\n",
      "INFO:linopy.model: Solve problem using Cplex solver\n",
      "INFO:linopy.io: Writing time: 0.02s\n"
     ]
    },
    {
     "name": "stdout",
     "output_type": "stream",
     "text": [
      "Version identifier: 22.1.1.0 | 2023-06-15 | d64d5bd77\n",
      "CPXPARAM_Read_DataCheck                          1\n",
      "Tried aggregator 1 time.\n",
      "LP Presolve eliminated 56 rows and 13 columns.\n",
      "Aggregator did 16 substitutions.\n",
      "Reduced LP has 4 rows, 15 columns, and 18 nonzeros.\n",
      "Presolve time = 0.00 sec. (0.04 ticks)\n",
      "Initializing dual steep norms . . .\n",
      "\n",
      "Iteration log . . .\n",
      "Iteration:     1   Dual objective     =            32.000978\n"
     ]
    },
    {
     "name": "stderr",
     "output_type": "stream",
     "text": [
      "INFO:linopy.constants: Optimization successful: \n",
      "Status: ok\n",
      "Termination condition: optimal\n",
      "Solution: 44 primals, 76 duals\n",
      "Objective: 3.20e+01\n",
      "Solver model: available\n",
      "Solver message: optimal\n",
      "\n",
      "INFO:pypsa.optimization.optimize:The shadow-prices of the constraints Generator-fix-p-lower, Generator-fix-p-upper, Store-fix-e-lower, Store-fix-e-upper, Store-energy_balance were not assigned to the network.\n",
      "/tmp/ipykernel_2048422/280965894.py:31: DeprecatedWarning: madd is deprecated as of 0.31 and will be removed in 1.0. Use `n.add` as a drop-in replacement instead.\n",
      "  n.madd(\n",
      "WARNING:pypsa.consistency:The following buses have carriers which are not defined:\n",
      "Index(['b'], dtype='object', name='Bus')\n",
      "WARNING:pypsa.consistency:The following stores have carriers which are not defined:\n",
      "Index(['php', 'battery1', 'hydro', 'battery2'], dtype='object', name='Store')\n",
      "WARNING:pypsa.consistency:The following buses have carriers which are not defined:\n",
      "Index(['b'], dtype='object', name='Bus')\n",
      "WARNING:pypsa.consistency:The following stores have carriers which are not defined:\n",
      "Index(['php', 'battery1', 'hydro', 'battery2'], dtype='object', name='Store')\n",
      "INFO:linopy.model: Solve problem using Cplex solver\n",
      "INFO:linopy.io: Writing time: 0.02s\n"
     ]
    },
    {
     "name": "stdout",
     "output_type": "stream",
     "text": [
      "Version identifier: 22.1.1.0 | 2023-06-15 | d64d5bd77\n",
      "CPXPARAM_Read_DataCheck                          1\n",
      "Tried aggregator 1 time.\n",
      "LP Presolve eliminated 56 rows and 13 columns.\n",
      "Aggregator did 16 substitutions.\n",
      "Reduced LP has 4 rows, 15 columns, and 18 nonzeros.\n",
      "Presolve time = 0.00 sec. (0.04 ticks)\n",
      "Initializing dual steep norms . . .\n",
      "\n",
      "Iteration log . . .\n",
      "Iteration:     1   Dual objective     =           244.047748\n"
     ]
    },
    {
     "name": "stderr",
     "output_type": "stream",
     "text": [
      "INFO:linopy.constants: Optimization successful: \n",
      "Status: ok\n",
      "Termination condition: optimal\n",
      "Solution: 44 primals, 76 duals\n",
      "Objective: 2.44e+02\n",
      "Solver model: available\n",
      "Solver message: optimal\n",
      "\n",
      "INFO:pypsa.optimization.optimize:The shadow-prices of the constraints Generator-fix-p-lower, Generator-fix-p-upper, Store-fix-e-lower, Store-fix-e-upper, Store-energy_balance were not assigned to the network.\n"
     ]
    }
   ],
   "source": [
    "o = {}\n",
    "for i in range(int(len(snapshots)/intv)):\n",
    "    o[i] = partial_pypsa(\n",
    "        snapshots[i*intv:i*intv+intv],\n",
    "        d.loc[snapshots[i*intv:i*intv+intv]],\n",
    "        e_in.loc[snapshots[i*intv:i*intv+intv]],\n",
    "        e_nom,\n",
    "        e_initial,\n",
    "        e_final_min.loc[snapshots[i*intv:i*intv+intv]],\n",
    "        e_final_max.loc[snapshots[i*intv:i*intv+intv]]\n",
    "    )\n",
    "    \n",
    "    o[i].optimize(\n",
    "        solver_name=\"cplex\"\n",
    "    )"
   ]
  },
  {
   "cell_type": "code",
   "execution_count": 55,
   "id": "da71e91b-8f5c-4701-924e-d9464e3027a4",
   "metadata": {},
   "outputs": [
    {
     "name": "stderr",
     "output_type": "stream",
     "text": [
      "/tmp/ipykernel_2048422/2214936559.py:70: FutureWarning: ChainedAssignmentError: behaviour will change in pandas 3.0!\n",
      "You are setting values through chained assignment. Currently this works in certain cases, but when using Copy-on-Write (which will become the default behaviour in pandas 3.0) this will never work to update the original DataFrame or Series, because the intermediate object on which we are setting values will behave as a copy.\n",
      "A typical example is when you are setting values in a column of a DataFrame, like:\n",
      "\n",
      "df[\"col\"][row_indexer] = value\n",
      "\n",
      "Use `df.loc[row_indexer, \"col\"] = values` instead, to perform the assignment in a single step and ensure this keeps updating the original `df`.\n",
      "\n",
      "See the caveats in the documentation: https://pandas.pydata.org/pandas-docs/stable/user_guide/indexing.html#returning-a-view-versus-a-copy\n",
      "\n",
      "  u_p[\"Store-fix-e-upper\"]\n",
      "/tmp/ipykernel_2048422/2214936559.py:70: FutureWarning: ChainedAssignmentError: behaviour will change in pandas 3.0!\n",
      "You are setting values through chained assignment. Currently this works in certain cases, but when using Copy-on-Write (which will become the default behaviour in pandas 3.0) this will never work to update the original DataFrame or Series, because the intermediate object on which we are setting values will behave as a copy.\n",
      "A typical example is when you are setting values in a column of a DataFrame, like:\n",
      "\n",
      "df[\"col\"][row_indexer] = value\n",
      "\n",
      "Use `df.loc[row_indexer, \"col\"] = values` instead, to perform the assignment in a single step and ensure this keeps updating the original `df`.\n",
      "\n",
      "See the caveats in the documentation: https://pandas.pydata.org/pandas-docs/stable/user_guide/indexing.html#returning-a-view-versus-a-copy\n",
      "\n",
      "  u_p[\"Store-fix-e-upper\"]\n",
      "/tmp/ipykernel_2048422/2214936559.py:70: FutureWarning: ChainedAssignmentError: behaviour will change in pandas 3.0!\n",
      "You are setting values through chained assignment. Currently this works in certain cases, but when using Copy-on-Write (which will become the default behaviour in pandas 3.0) this will never work to update the original DataFrame or Series, because the intermediate object on which we are setting values will behave as a copy.\n",
      "A typical example is when you are setting values in a column of a DataFrame, like:\n",
      "\n",
      "df[\"col\"][row_indexer] = value\n",
      "\n",
      "Use `df.loc[row_indexer, \"col\"] = values` instead, to perform the assignment in a single step and ensure this keeps updating the original `df`.\n",
      "\n",
      "See the caveats in the documentation: https://pandas.pydata.org/pandas-docs/stable/user_guide/indexing.html#returning-a-view-versus-a-copy\n",
      "\n",
      "  u_p[\"Store-fix-e-upper\"]\n",
      "/tmp/ipykernel_2048422/2214936559.py:70: FutureWarning: ChainedAssignmentError: behaviour will change in pandas 3.0!\n",
      "You are setting values through chained assignment. Currently this works in certain cases, but when using Copy-on-Write (which will become the default behaviour in pandas 3.0) this will never work to update the original DataFrame or Series, because the intermediate object on which we are setting values will behave as a copy.\n",
      "A typical example is when you are setting values in a column of a DataFrame, like:\n",
      "\n",
      "df[\"col\"][row_indexer] = value\n",
      "\n",
      "Use `df.loc[row_indexer, \"col\"] = values` instead, to perform the assignment in a single step and ensure this keeps updating the original `df`.\n",
      "\n",
      "See the caveats in the documentation: https://pandas.pydata.org/pandas-docs/stable/user_guide/indexing.html#returning-a-view-versus-a-copy\n",
      "\n",
      "  u_p[\"Store-fix-e-upper\"]\n",
      "/tmp/ipykernel_2048422/2214936559.py:70: FutureWarning: ChainedAssignmentError: behaviour will change in pandas 3.0!\n",
      "You are setting values through chained assignment. Currently this works in certain cases, but when using Copy-on-Write (which will become the default behaviour in pandas 3.0) this will never work to update the original DataFrame or Series, because the intermediate object on which we are setting values will behave as a copy.\n",
      "A typical example is when you are setting values in a column of a DataFrame, like:\n",
      "\n",
      "df[\"col\"][row_indexer] = value\n",
      "\n",
      "Use `df.loc[row_indexer, \"col\"] = values` instead, to perform the assignment in a single step and ensure this keeps updating the original `df`.\n",
      "\n",
      "See the caveats in the documentation: https://pandas.pydata.org/pandas-docs/stable/user_guide/indexing.html#returning-a-view-versus-a-copy\n",
      "\n",
      "  u_p[\"Store-fix-e-upper\"]\n",
      "/tmp/ipykernel_2048422/2214936559.py:70: FutureWarning: ChainedAssignmentError: behaviour will change in pandas 3.0!\n",
      "You are setting values through chained assignment. Currently this works in certain cases, but when using Copy-on-Write (which will become the default behaviour in pandas 3.0) this will never work to update the original DataFrame or Series, because the intermediate object on which we are setting values will behave as a copy.\n",
      "A typical example is when you are setting values in a column of a DataFrame, like:\n",
      "\n",
      "df[\"col\"][row_indexer] = value\n",
      "\n",
      "Use `df.loc[row_indexer, \"col\"] = values` instead, to perform the assignment in a single step and ensure this keeps updating the original `df`.\n",
      "\n",
      "See the caveats in the documentation: https://pandas.pydata.org/pandas-docs/stable/user_guide/indexing.html#returning-a-view-versus-a-copy\n",
      "\n",
      "  u_p[\"Store-fix-e-upper\"]\n"
     ]
    }
   ],
   "source": [
    "cut = {}\n",
    "\n",
    "for i in o.keys():\n",
    "    \n",
    "    cut_pars = {}\n",
    "    \n",
    "    n = o[i]\n",
    "    m = n.model\n",
    "\n",
    "    variables = m.variables[\"Store-e\"].labels.to_dataframe().labels\n",
    "\n",
    "    T_p = {}\n",
    "    h_p = {}\n",
    "    u_p = {}\n",
    "\n",
    "    for c in m.constraints:\n",
    "        h_p[c] = m.constraints[c].rhs.to_dataframe()\n",
    "        u_p[c] = m.constraints[c].dual.to_dataframe()\n",
    "\n",
    "        T_constraint=pd.DataFrame()\n",
    "\n",
    "        for var in variables:\n",
    "\n",
    "            \n",
    "            var_name = variables[variables == var].index.to_flat_index()[0]\n",
    "            \n",
    "            T_var = (\n",
    "                (m.constraints[c].vars.to_dataframe().unstack(\"_term\") == var).vars\n",
    "                *1\n",
    "            ).multiply(\n",
    "                m.constraints[c].coeffs.to_dataframe().unstack(\"_term\").coeffs\n",
    "            ).sum(axis=1)\n",
    "            \n",
    "            T_var.name = var_name\n",
    "            \n",
    "            T_constraint = pd.concat([T_constraint, T_var], axis=1)\n",
    "        \n",
    "        T_p[c] = T_constraint\n",
    "   \n",
    "\n",
    "     \n",
    "    prev_m = o[list(o.keys())[i-1]]\n",
    "    prev_snap = prev_m.snapshots[-1]\n",
    "\n",
    "    missing_vars = (prev_m.model.variables[\"Store-e\"].labels\n",
    "            .to_dataframe()\n",
    "            .loc[[prev_snap]]\n",
    "            .index\n",
    "            .to_flat_index()\n",
    "        )\n",
    "\n",
    "    for mvar in missing_vars:\n",
    "\n",
    "        missing_var = pd.Series(0., T_constraint.index)\n",
    "        missing_var.loc[n.snapshots[0], mvar[1]] = 1.\n",
    "        missing_var.name = mvar\n",
    "\n",
    "        T_p[\"Store-energy_balance\"] = pd.concat(\n",
    "            [T_p[\"Store-energy_balance\"], missing_var], \n",
    "            axis = 1\n",
    "        )\n",
    "\n",
    "    h_p[\"Store-energy_balance\"].loc[n.snapshots[0], \"rhs\"] = 0\n",
    "    h_p[\"Store-fix-e-lower\"].loc[n.snapshots[-1], \"rhs\"] = 0\n",
    "    h_p[\"Store-fix-e-upper\"].loc[n.snapshots[-1], \"rhs\"] = e_nom.values\n",
    "    \n",
    "    u_p[\"Store-fix-e-lower\"].loc[n.snapshots[-1], \"dual\"] = 0\n",
    "    \n",
    "    (\n",
    "        u_p[\"Store-fix-e-upper\"]\n",
    "        .loc[n.snapshots[-1]]\n",
    "        [h_p[\"Store-fix-e-upper\"].loc[n.snapshots[-1]].rhs < e_nom]\n",
    "    ) = 0\n",
    "    \n",
    "    \n",
    "    cut_pars[\"T\"] = T_p\n",
    "    cut_pars[\"h\"] = h_p\n",
    "    cut_pars[\"u\"] = u_p\n",
    "    \n",
    "    cut[i] = cut_pars\n",
    "    "
   ]
  },
  {
   "cell_type": "code",
   "execution_count": 56,
   "id": "b952a47f-b46f-4dc6-97d9-1116a5575ac8",
   "metadata": {},
   "outputs": [],
   "source": [
    "T_pall = {}\n",
    "h_pall = {}\n",
    "u_pall = {}\n",
    "\n",
    "for c in o[i].model.constraints:\n",
    "\n",
    "    T_pall[c] = pd.concat([cut[i][\"T\"][c] for i in o.keys()]).fillna(0).sort_index(axis=1)\n",
    "    u_pall[c] = pd.concat([cut[i][\"u\"][c] for i in o.keys()]).fillna(0).sort_index(axis=1)\n",
    "    h_pall[c] = pd.concat([cut[i][\"h\"][c] for i in o.keys()]).fillna(0).sort_index(axis=1)"
   ]
  },
  {
   "cell_type": "code",
   "execution_count": 57,
   "id": "21abe8bf-a1bd-447b-9eff-e970fe458344",
   "metadata": {},
   "outputs": [],
   "source": [
    "E_p = sum(T_pall[c].multiply(u_pall[c].dual, axis=0).sum() for c in m.constraints)"
   ]
  },
  {
   "cell_type": "code",
   "execution_count": 58,
   "id": "b5f2c81a-1e15-4eb5-89ee-25c85d4d9212",
   "metadata": {},
   "outputs": [],
   "source": [
    "e_p = sum(h_pall[c].rhs.multiply(u_pall[c].dual, axis=0).sum() for c in m.constraints)"
   ]
  },
  {
   "cell_type": "code",
   "execution_count": 59,
   "id": "acffb1d6-041f-44be-b82f-66a97277dd77",
   "metadata": {},
   "outputs": [],
   "source": [
    "E_p.index = pd.Index([i for i in E_p.index])"
   ]
  },
  {
   "cell_type": "code",
   "execution_count": 60,
   "id": "c29888ca-099c-4052-bd2f-bbaa6bb8501f",
   "metadata": {},
   "outputs": [],
   "source": [
    "E_p.index.names = [\"snapshot\", \"Store\"]"
   ]
  },
  {
   "cell_type": "code",
   "execution_count": 61,
   "id": "e0f74d02-bf70-4274-b793-147fac794952",
   "metadata": {},
   "outputs": [],
   "source": [
    "w = e_p - e_final_min.stack().loc[snapshots_up].sort_index().multiply(E_p.loc[snapshots_up]).sum()"
   ]
  },
  {
   "cell_type": "code",
   "execution_count": 62,
   "id": "aa26343c-6160-4098-bfbf-3f9b6494d56c",
   "metadata": {},
   "outputs": [
    {
     "data": {
      "text/plain": [
       "867.4544804887237"
      ]
     },
     "execution_count": 62,
     "metadata": {},
     "output_type": "execute_result"
    }
   ],
   "source": [
    "w"
   ]
  },
  {
   "cell_type": "code",
   "execution_count": 63,
   "id": "c15bdc28-727f-48ea-a98b-6f0689e394ec",
   "metadata": {},
   "outputs": [
    {
     "data": {
      "text/plain": [
       "True"
      ]
     },
     "execution_count": 63,
     "metadata": {},
     "output_type": "execute_result"
    }
   ],
   "source": [
    "w <=theta.solution.values"
   ]
  },
  {
   "cell_type": "code",
   "execution_count": 64,
   "id": "fe069625-c409-466e-a6cb-160b16a27f78",
   "metadata": {},
   "outputs": [
    {
     "data": {
      "text/plain": [
       "Constraint `con2`\n",
       "-----------------\n",
       "-110 e[3, battery1] - 110 e[3, battery2] - 110 e[3, hydro] ... -100 e[23, hydro] - 100 e[23, php] + 1 theta ≥ 647.4544804887237"
      ]
     },
     "execution_count": 64,
     "metadata": {},
     "output_type": "execute_result"
    }
   ],
   "source": [
    "up.add_constraints((e*E_p.loc[snapshots_up].to_xarray()).sum() + theta >= e_p)"
   ]
  },
  {
   "cell_type": "code",
   "execution_count": 65,
   "id": "78882279-a028-4405-bd0c-c04656429717",
   "metadata": {},
   "outputs": [
    {
     "name": "stderr",
     "output_type": "stream",
     "text": [
      "INFO:linopy.model: Solve problem using Cplex solver\n",
      "INFO:linopy.io: Writing time: 0.02s\n"
     ]
    },
    {
     "name": "stdout",
     "output_type": "stream",
     "text": [
      "Version identifier: 22.1.1.0 | 2023-06-15 | d64d5bd77\n",
      "CPXPARAM_Read_DataCheck                          1\n",
      "Tried aggregator 1 time.\n",
      "LP Presolve eliminated 27 rows and 25 columns.\n",
      "All rows and columns eliminated.\n",
      "Presolve time = 0.00 sec. (0.01 ticks)\n"
     ]
    },
    {
     "name": "stderr",
     "output_type": "stream",
     "text": [
      "INFO:linopy.constants: Optimization successful: \n",
      "Status: ok\n",
      "Termination condition: optimal\n",
      "Solution: 25 primals, 27 duals\n",
      "Objective: 9.64e+02\n",
      "Solver model: available\n",
      "Solver message: optimal\n",
      "\n"
     ]
    },
    {
     "data": {
      "text/plain": [
       "('ok', 'optimal')"
      ]
     },
     "execution_count": 65,
     "metadata": {},
     "output_type": "execute_result"
    }
   ],
   "source": [
    "up.solve(solver_name=\"cplex\")"
   ]
  },
  {
   "cell_type": "code",
   "execution_count": 66,
   "id": "62b00f29-4665-4c70-9d6a-70928d949a27",
   "metadata": {},
   "outputs": [
    {
     "data": {
      "text/html": [
       "<div><svg style=\"position: absolute; width: 0; height: 0; overflow: hidden\">\n",
       "<defs>\n",
       "<symbol id=\"icon-database\" viewBox=\"0 0 32 32\">\n",
       "<path d=\"M16 0c-8.837 0-16 2.239-16 5v4c0 2.761 7.163 5 16 5s16-2.239 16-5v-4c0-2.761-7.163-5-16-5z\"></path>\n",
       "<path d=\"M16 17c-8.837 0-16-2.239-16-5v6c0 2.761 7.163 5 16 5s16-2.239 16-5v-6c0 2.761-7.163 5-16 5z\"></path>\n",
       "<path d=\"M16 26c-8.837 0-16-2.239-16-5v6c0 2.761 7.163 5 16 5s16-2.239 16-5v-6c0 2.761-7.163 5-16 5z\"></path>\n",
       "</symbol>\n",
       "<symbol id=\"icon-file-text2\" viewBox=\"0 0 32 32\">\n",
       "<path d=\"M28.681 7.159c-0.694-0.947-1.662-2.053-2.724-3.116s-2.169-2.030-3.116-2.724c-1.612-1.182-2.393-1.319-2.841-1.319h-15.5c-1.378 0-2.5 1.121-2.5 2.5v27c0 1.378 1.122 2.5 2.5 2.5h23c1.378 0 2.5-1.122 2.5-2.5v-19.5c0-0.448-0.137-1.23-1.319-2.841zM24.543 5.457c0.959 0.959 1.712 1.825 2.268 2.543h-4.811v-4.811c0.718 0.556 1.584 1.309 2.543 2.268zM28 29.5c0 0.271-0.229 0.5-0.5 0.5h-23c-0.271 0-0.5-0.229-0.5-0.5v-27c0-0.271 0.229-0.5 0.5-0.5 0 0 15.499-0 15.5 0v7c0 0.552 0.448 1 1 1h7v19.5z\"></path>\n",
       "<path d=\"M23 26h-14c-0.552 0-1-0.448-1-1s0.448-1 1-1h14c0.552 0 1 0.448 1 1s-0.448 1-1 1z\"></path>\n",
       "<path d=\"M23 22h-14c-0.552 0-1-0.448-1-1s0.448-1 1-1h14c0.552 0 1 0.448 1 1s-0.448 1-1 1z\"></path>\n",
       "<path d=\"M23 18h-14c-0.552 0-1-0.448-1-1s0.448-1 1-1h14c0.552 0 1 0.448 1 1s-0.448 1-1 1z\"></path>\n",
       "</symbol>\n",
       "</defs>\n",
       "</svg>\n",
       "<style>/* CSS stylesheet for displaying xarray objects in jupyterlab.\n",
       " *\n",
       " */\n",
       "\n",
       ":root {\n",
       "  --xr-font-color0: var(--jp-content-font-color0, rgba(0, 0, 0, 1));\n",
       "  --xr-font-color2: var(--jp-content-font-color2, rgba(0, 0, 0, 0.54));\n",
       "  --xr-font-color3: var(--jp-content-font-color3, rgba(0, 0, 0, 0.38));\n",
       "  --xr-border-color: var(--jp-border-color2, #e0e0e0);\n",
       "  --xr-disabled-color: var(--jp-layout-color3, #bdbdbd);\n",
       "  --xr-background-color: var(--jp-layout-color0, white);\n",
       "  --xr-background-color-row-even: var(--jp-layout-color1, white);\n",
       "  --xr-background-color-row-odd: var(--jp-layout-color2, #eeeeee);\n",
       "}\n",
       "\n",
       "html[theme=\"dark\"],\n",
       "html[data-theme=\"dark\"],\n",
       "body[data-theme=\"dark\"],\n",
       "body.vscode-dark {\n",
       "  --xr-font-color0: rgba(255, 255, 255, 1);\n",
       "  --xr-font-color2: rgba(255, 255, 255, 0.54);\n",
       "  --xr-font-color3: rgba(255, 255, 255, 0.38);\n",
       "  --xr-border-color: #1f1f1f;\n",
       "  --xr-disabled-color: #515151;\n",
       "  --xr-background-color: #111111;\n",
       "  --xr-background-color-row-even: #111111;\n",
       "  --xr-background-color-row-odd: #313131;\n",
       "}\n",
       "\n",
       ".xr-wrap {\n",
       "  display: block !important;\n",
       "  min-width: 300px;\n",
       "  max-width: 700px;\n",
       "}\n",
       "\n",
       ".xr-text-repr-fallback {\n",
       "  /* fallback to plain text repr when CSS is not injected (untrusted notebook) */\n",
       "  display: none;\n",
       "}\n",
       "\n",
       ".xr-header {\n",
       "  padding-top: 6px;\n",
       "  padding-bottom: 6px;\n",
       "  margin-bottom: 4px;\n",
       "  border-bottom: solid 1px var(--xr-border-color);\n",
       "}\n",
       "\n",
       ".xr-header > div,\n",
       ".xr-header > ul {\n",
       "  display: inline;\n",
       "  margin-top: 0;\n",
       "  margin-bottom: 0;\n",
       "}\n",
       "\n",
       ".xr-obj-type,\n",
       ".xr-array-name {\n",
       "  margin-left: 2px;\n",
       "  margin-right: 10px;\n",
       "}\n",
       "\n",
       ".xr-obj-type {\n",
       "  color: var(--xr-font-color2);\n",
       "}\n",
       "\n",
       ".xr-sections {\n",
       "  padding-left: 0 !important;\n",
       "  display: grid;\n",
       "  grid-template-columns: 150px auto auto 1fr 0 20px 0 20px;\n",
       "}\n",
       "\n",
       ".xr-section-item {\n",
       "  display: contents;\n",
       "}\n",
       "\n",
       ".xr-section-item input {\n",
       "  display: inline-block;\n",
       "  opacity: 0;\n",
       "  height: 0;\n",
       "}\n",
       "\n",
       ".xr-section-item input + label {\n",
       "  color: var(--xr-disabled-color);\n",
       "}\n",
       "\n",
       ".xr-section-item input:enabled + label {\n",
       "  cursor: pointer;\n",
       "  color: var(--xr-font-color2);\n",
       "}\n",
       "\n",
       ".xr-section-item input:focus + label {\n",
       "  border: 2px solid var(--xr-font-color0);\n",
       "}\n",
       "\n",
       ".xr-section-item input:enabled + label:hover {\n",
       "  color: var(--xr-font-color0);\n",
       "}\n",
       "\n",
       ".xr-section-summary {\n",
       "  grid-column: 1;\n",
       "  color: var(--xr-font-color2);\n",
       "  font-weight: 500;\n",
       "}\n",
       "\n",
       ".xr-section-summary > span {\n",
       "  display: inline-block;\n",
       "  padding-left: 0.5em;\n",
       "}\n",
       "\n",
       ".xr-section-summary-in:disabled + label {\n",
       "  color: var(--xr-font-color2);\n",
       "}\n",
       "\n",
       ".xr-section-summary-in + label:before {\n",
       "  display: inline-block;\n",
       "  content: \"►\";\n",
       "  font-size: 11px;\n",
       "  width: 15px;\n",
       "  text-align: center;\n",
       "}\n",
       "\n",
       ".xr-section-summary-in:disabled + label:before {\n",
       "  color: var(--xr-disabled-color);\n",
       "}\n",
       "\n",
       ".xr-section-summary-in:checked + label:before {\n",
       "  content: \"▼\";\n",
       "}\n",
       "\n",
       ".xr-section-summary-in:checked + label > span {\n",
       "  display: none;\n",
       "}\n",
       "\n",
       ".xr-section-summary,\n",
       ".xr-section-inline-details {\n",
       "  padding-top: 4px;\n",
       "  padding-bottom: 4px;\n",
       "}\n",
       "\n",
       ".xr-section-inline-details {\n",
       "  grid-column: 2 / -1;\n",
       "}\n",
       "\n",
       ".xr-section-details {\n",
       "  display: none;\n",
       "  grid-column: 1 / -1;\n",
       "  margin-bottom: 5px;\n",
       "}\n",
       "\n",
       ".xr-section-summary-in:checked ~ .xr-section-details {\n",
       "  display: contents;\n",
       "}\n",
       "\n",
       ".xr-array-wrap {\n",
       "  grid-column: 1 / -1;\n",
       "  display: grid;\n",
       "  grid-template-columns: 20px auto;\n",
       "}\n",
       "\n",
       ".xr-array-wrap > label {\n",
       "  grid-column: 1;\n",
       "  vertical-align: top;\n",
       "}\n",
       "\n",
       ".xr-preview {\n",
       "  color: var(--xr-font-color3);\n",
       "}\n",
       "\n",
       ".xr-array-preview,\n",
       ".xr-array-data {\n",
       "  padding: 0 5px !important;\n",
       "  grid-column: 2;\n",
       "}\n",
       "\n",
       ".xr-array-data,\n",
       ".xr-array-in:checked ~ .xr-array-preview {\n",
       "  display: none;\n",
       "}\n",
       "\n",
       ".xr-array-in:checked ~ .xr-array-data,\n",
       ".xr-array-preview {\n",
       "  display: inline-block;\n",
       "}\n",
       "\n",
       ".xr-dim-list {\n",
       "  display: inline-block !important;\n",
       "  list-style: none;\n",
       "  padding: 0 !important;\n",
       "  margin: 0;\n",
       "}\n",
       "\n",
       ".xr-dim-list li {\n",
       "  display: inline-block;\n",
       "  padding: 0;\n",
       "  margin: 0;\n",
       "}\n",
       "\n",
       ".xr-dim-list:before {\n",
       "  content: \"(\";\n",
       "}\n",
       "\n",
       ".xr-dim-list:after {\n",
       "  content: \")\";\n",
       "}\n",
       "\n",
       ".xr-dim-list li:not(:last-child):after {\n",
       "  content: \",\";\n",
       "  padding-right: 5px;\n",
       "}\n",
       "\n",
       ".xr-has-index {\n",
       "  font-weight: bold;\n",
       "}\n",
       "\n",
       ".xr-var-list,\n",
       ".xr-var-item {\n",
       "  display: contents;\n",
       "}\n",
       "\n",
       ".xr-var-item > div,\n",
       ".xr-var-item label,\n",
       ".xr-var-item > .xr-var-name span {\n",
       "  background-color: var(--xr-background-color-row-even);\n",
       "  margin-bottom: 0;\n",
       "}\n",
       "\n",
       ".xr-var-item > .xr-var-name:hover span {\n",
       "  padding-right: 5px;\n",
       "}\n",
       "\n",
       ".xr-var-list > li:nth-child(odd) > div,\n",
       ".xr-var-list > li:nth-child(odd) > label,\n",
       ".xr-var-list > li:nth-child(odd) > .xr-var-name span {\n",
       "  background-color: var(--xr-background-color-row-odd);\n",
       "}\n",
       "\n",
       ".xr-var-name {\n",
       "  grid-column: 1;\n",
       "}\n",
       "\n",
       ".xr-var-dims {\n",
       "  grid-column: 2;\n",
       "}\n",
       "\n",
       ".xr-var-dtype {\n",
       "  grid-column: 3;\n",
       "  text-align: right;\n",
       "  color: var(--xr-font-color2);\n",
       "}\n",
       "\n",
       ".xr-var-preview {\n",
       "  grid-column: 4;\n",
       "}\n",
       "\n",
       ".xr-index-preview {\n",
       "  grid-column: 2 / 5;\n",
       "  color: var(--xr-font-color2);\n",
       "}\n",
       "\n",
       ".xr-var-name,\n",
       ".xr-var-dims,\n",
       ".xr-var-dtype,\n",
       ".xr-preview,\n",
       ".xr-attrs dt {\n",
       "  white-space: nowrap;\n",
       "  overflow: hidden;\n",
       "  text-overflow: ellipsis;\n",
       "  padding-right: 10px;\n",
       "}\n",
       "\n",
       ".xr-var-name:hover,\n",
       ".xr-var-dims:hover,\n",
       ".xr-var-dtype:hover,\n",
       ".xr-attrs dt:hover {\n",
       "  overflow: visible;\n",
       "  width: auto;\n",
       "  z-index: 1;\n",
       "}\n",
       "\n",
       ".xr-var-attrs,\n",
       ".xr-var-data,\n",
       ".xr-index-data {\n",
       "  display: none;\n",
       "  background-color: var(--xr-background-color) !important;\n",
       "  padding-bottom: 5px !important;\n",
       "}\n",
       "\n",
       ".xr-var-attrs-in:checked ~ .xr-var-attrs,\n",
       ".xr-var-data-in:checked ~ .xr-var-data,\n",
       ".xr-index-data-in:checked ~ .xr-index-data {\n",
       "  display: block;\n",
       "}\n",
       "\n",
       ".xr-var-data > table {\n",
       "  float: right;\n",
       "}\n",
       "\n",
       ".xr-var-name span,\n",
       ".xr-var-data,\n",
       ".xr-index-name div,\n",
       ".xr-index-data,\n",
       ".xr-attrs {\n",
       "  padding-left: 25px !important;\n",
       "}\n",
       "\n",
       ".xr-attrs,\n",
       ".xr-var-attrs,\n",
       ".xr-var-data,\n",
       ".xr-index-data {\n",
       "  grid-column: 1 / -1;\n",
       "}\n",
       "\n",
       "dl.xr-attrs {\n",
       "  padding: 0;\n",
       "  margin: 0;\n",
       "  display: grid;\n",
       "  grid-template-columns: 125px auto;\n",
       "}\n",
       "\n",
       ".xr-attrs dt,\n",
       ".xr-attrs dd {\n",
       "  padding: 0;\n",
       "  margin: 0;\n",
       "  float: left;\n",
       "  padding-right: 10px;\n",
       "  width: auto;\n",
       "}\n",
       "\n",
       ".xr-attrs dt {\n",
       "  font-weight: normal;\n",
       "  grid-column: 1;\n",
       "}\n",
       "\n",
       ".xr-attrs dt:hover span {\n",
       "  display: inline-block;\n",
       "  background: var(--xr-background-color);\n",
       "  padding-right: 10px;\n",
       "}\n",
       "\n",
       ".xr-attrs dd {\n",
       "  grid-column: 2;\n",
       "  white-space: pre-wrap;\n",
       "  word-break: break-all;\n",
       "}\n",
       "\n",
       ".xr-icon-database,\n",
       ".xr-icon-file-text2,\n",
       ".xr-no-icon {\n",
       "  display: inline-block;\n",
       "  vertical-align: middle;\n",
       "  width: 1em;\n",
       "  height: 1.5em !important;\n",
       "  stroke-width: 0;\n",
       "  stroke: currentColor;\n",
       "  fill: currentColor;\n",
       "}\n",
       "</style><pre class='xr-text-repr-fallback'>&lt;xarray.DataArray &#x27;theta&#x27; ()&gt; Size: 8B\n",
       "array(963.8128411)</pre><div class='xr-wrap' style='display:none'><div class='xr-header'><div class='xr-obj-type'>xarray.DataArray</div><div class='xr-array-name'>'theta'</div></div><ul class='xr-sections'><li class='xr-section-item'><div class='xr-array-wrap'><input id='section-c8baa4af-b554-4767-8ea9-9e6803646eee' class='xr-array-in' type='checkbox' checked><label for='section-c8baa4af-b554-4767-8ea9-9e6803646eee' title='Show/hide data repr'><svg class='icon xr-icon-database'><use xlink:href='#icon-database'></use></svg></label><div class='xr-array-preview xr-preview'><span>963.8</span></div><div class='xr-array-data'><pre>array(963.8128411)</pre></div></div></li><li class='xr-section-item'><input id='section-3f6ca90f-87a9-4276-8071-496b72fc1515' class='xr-section-summary-in' type='checkbox' disabled ><label for='section-3f6ca90f-87a9-4276-8071-496b72fc1515' class='xr-section-summary'  title='Expand/collapse section'>Coordinates: <span>(0)</span></label><div class='xr-section-inline-details'></div><div class='xr-section-details'><ul class='xr-var-list'></ul></div></li><li class='xr-section-item'><input id='section-f9c8f469-bfcf-4863-9e40-85dfc3291acb' class='xr-section-summary-in' type='checkbox' disabled ><label for='section-f9c8f469-bfcf-4863-9e40-85dfc3291acb' class='xr-section-summary'  title='Expand/collapse section'>Indexes: <span>(0)</span></label><div class='xr-section-inline-details'></div><div class='xr-section-details'><ul class='xr-var-list'></ul></div></li><li class='xr-section-item'><input id='section-09933954-13bd-408e-aad0-1f4bf4f98175' class='xr-section-summary-in' type='checkbox' disabled ><label for='section-09933954-13bd-408e-aad0-1f4bf4f98175' class='xr-section-summary'  title='Expand/collapse section'>Attributes: <span>(0)</span></label><div class='xr-section-inline-details'></div><div class='xr-section-details'><dl class='xr-attrs'></dl></div></li></ul></div></div>"
      ],
      "text/plain": [
       "<xarray.DataArray 'theta' ()> Size: 8B\n",
       "array(963.8128411)"
      ]
     },
     "execution_count": 66,
     "metadata": {},
     "output_type": "execute_result"
    }
   ],
   "source": [
    "up.solution.theta"
   ]
  },
  {
   "cell_type": "code",
   "execution_count": 67,
   "id": "f21f4352-b095-4c77-bb1d-ba04b174a400",
   "metadata": {},
   "outputs": [
    {
     "data": {
      "text/plain": [
       "886.6674802933398"
      ]
     },
     "execution_count": 67,
     "metadata": {},
     "output_type": "execute_result"
    }
   ],
   "source": [
    "l.objective"
   ]
  },
  {
   "cell_type": "code",
   "execution_count": 46,
   "id": "2e3324aa-4409-48eb-b8f7-bbe629b84ac4",
   "metadata": {},
   "outputs": [],
   "source": [
    "e_final_min = up.solution.e.to_dataframe().e.unstack(\"Store\").reindex(l.snapshots,level=0, fill_value=0)"
   ]
  },
  {
   "cell_type": "code",
   "execution_count": 47,
   "id": "da26ee34-26e5-4947-9ca2-c60091de6284",
   "metadata": {},
   "outputs": [],
   "source": [
    "e_final_max = up.solution.e.to_dataframe().e.unstack(\"Store\").reindex(l.snapshots,level=0)\n",
    "e_final_max.fillna(e_nom, inplace=True)"
   ]
  },
  {
   "cell_type": "code",
   "execution_count": 48,
   "id": "b024bb51-0e56-45dc-9390-ea7be6b6592d",
   "metadata": {},
   "outputs": [],
   "source": [
    "e_initial = e_final_min.shift(1).add(\n",
    "    e_final_min.shift(-len(snapshots)+1),\n",
    "    fill_value=0\n",
    ")\n",
    "    "
   ]
  },
  {
   "cell_type": "code",
   "execution_count": 49,
   "id": "f928e0c2-f0ef-4a66-9e51-27524c0208e9",
   "metadata": {},
   "outputs": [
    {
     "data": {
      "text/plain": [
       "<Axes: xlabel='snapshot'>"
      ]
     },
     "execution_count": 49,
     "metadata": {},
     "output_type": "execute_result"
    },
    {
     "data": {
      "image/png": "[encoded data removed]",
      "text/plain": [
       "<Figure size 640x480 with 1 Axes>"
      ]
     },
     "metadata": {},
     "output_type": "display_data"
    }
   ],
   "source": [
    "l.stores_t.e.sum(axis=1).plot()\n",
    "\n",
    "pd.concat([o[i].stores_t.e for i in o.keys()]).sum(axis=1).plot()"
   ]
  },
  {
   "cell_type": "code",
   "execution_count": 50,
   "id": "c6a017bc-26c7-4765-b039-a8149f629394",
   "metadata": {},
   "outputs": [
    {
     "data": {
      "text/plain": [
       "<Axes: xlabel='snapshot'>"
      ]
     },
     "execution_count": 50,
     "metadata": {},
     "output_type": "execute_result"
    },
    {
     "data": {
      "image/png": "[encoded data removed]",
      "text/plain": [
       "<Figure size 640x480 with 1 Axes>"
      ]
     },
     "metadata": {},
     "output_type": "display_data"
    }
   ],
   "source": [
    "pd.concat([o[i].stores_t.e for i in o.keys()]).sum(axis=1).plot()"
   ]
  },
  {
   "cell_type": "code",
   "execution_count": 51,
   "id": "83ef4b29-ffd8-4a5b-9cd6-e7251e4354e8",
   "metadata": {},
   "outputs": [
    {
     "data": {
      "text/plain": [
       "1023.8128411038698"
      ]
     },
     "execution_count": 51,
     "metadata": {},
     "output_type": "execute_result"
    }
   ],
   "source": [
    "sum(o[i].objective for i in o.keys())"
   ]
  },
  {
   "cell_type": "code",
   "execution_count": 52,
   "id": "9dec5198-6707-4c3e-81c9-c5d5e5b3cdd6",
   "metadata": {},
   "outputs": [
    {
     "data": {
      "text/plain": [
       "886.6674802933398"
      ]
     },
     "execution_count": 52,
     "metadata": {},
     "output_type": "execute_result"
    }
   ],
   "source": [
    "l.objective"
   ]
  },
  {
   "cell_type": "code",
   "execution_count": 53,
   "id": "56aec8de-bb95-48ab-bc06-b11878727715",
   "metadata": {},
   "outputs": [
    {
     "data": {
      "text/html": [
       "<div><svg style=\"position: absolute; width: 0; height: 0; overflow: hidden\">\n",
       "<defs>\n",
       "<symbol id=\"icon-database\" viewBox=\"0 0 32 32\">\n",
       "<path d=\"M16 0c-8.837 0-16 2.239-16 5v4c0 2.761 7.163 5 16 5s16-2.239 16-5v-4c0-2.761-7.163-5-16-5z\"></path>\n",
       "<path d=\"M16 17c-8.837 0-16-2.239-16-5v6c0 2.761 7.163 5 16 5s16-2.239 16-5v-6c0 2.761-7.163 5-16 5z\"></path>\n",
       "<path d=\"M16 26c-8.837 0-16-2.239-16-5v6c0 2.761 7.163 5 16 5s16-2.239 16-5v-6c0 2.761-7.163 5-16 5z\"></path>\n",
       "</symbol>\n",
       "<symbol id=\"icon-file-text2\" viewBox=\"0 0 32 32\">\n",
       "<path d=\"M28.681 7.159c-0.694-0.947-1.662-2.053-2.724-3.116s-2.169-2.030-3.116-2.724c-1.612-1.182-2.393-1.319-2.841-1.319h-15.5c-1.378 0-2.5 1.121-2.5 2.5v27c0 1.378 1.122 2.5 2.5 2.5h23c1.378 0 2.5-1.122 2.5-2.5v-19.5c0-0.448-0.137-1.23-1.319-2.841zM24.543 5.457c0.959 0.959 1.712 1.825 2.268 2.543h-4.811v-4.811c0.718 0.556 1.584 1.309 2.543 2.268zM28 29.5c0 0.271-0.229 0.5-0.5 0.5h-23c-0.271 0-0.5-0.229-0.5-0.5v-27c0-0.271 0.229-0.5 0.5-0.5 0 0 15.499-0 15.5 0v7c0 0.552 0.448 1 1 1h7v19.5z\"></path>\n",
       "<path d=\"M23 26h-14c-0.552 0-1-0.448-1-1s0.448-1 1-1h14c0.552 0 1 0.448 1 1s-0.448 1-1 1z\"></path>\n",
       "<path d=\"M23 22h-14c-0.552 0-1-0.448-1-1s0.448-1 1-1h14c0.552 0 1 0.448 1 1s-0.448 1-1 1z\"></path>\n",
       "<path d=\"M23 18h-14c-0.552 0-1-0.448-1-1s0.448-1 1-1h14c0.552 0 1 0.448 1 1s-0.448 1-1 1z\"></path>\n",
       "</symbol>\n",
       "</defs>\n",
       "</svg>\n",
       "<style>/* CSS stylesheet for displaying xarray objects in jupyterlab.\n",
       " *\n",
       " */\n",
       "\n",
       ":root {\n",
       "  --xr-font-color0: var(--jp-content-font-color0, rgba(0, 0, 0, 1));\n",
       "  --xr-font-color2: var(--jp-content-font-color2, rgba(0, 0, 0, 0.54));\n",
       "  --xr-font-color3: var(--jp-content-font-color3, rgba(0, 0, 0, 0.38));\n",
       "  --xr-border-color: var(--jp-border-color2, #e0e0e0);\n",
       "  --xr-disabled-color: var(--jp-layout-color3, #bdbdbd);\n",
       "  --xr-background-color: var(--jp-layout-color0, white);\n",
       "  --xr-background-color-row-even: var(--jp-layout-color1, white);\n",
       "  --xr-background-color-row-odd: var(--jp-layout-color2, #eeeeee);\n",
       "}\n",
       "\n",
       "html[theme=\"dark\"],\n",
       "html[data-theme=\"dark\"],\n",
       "body[data-theme=\"dark\"],\n",
       "body.vscode-dark {\n",
       "  --xr-font-color0: rgba(255, 255, 255, 1);\n",
       "  --xr-font-color2: rgba(255, 255, 255, 0.54);\n",
       "  --xr-font-color3: rgba(255, 255, 255, 0.38);\n",
       "  --xr-border-color: #1f1f1f;\n",
       "  --xr-disabled-color: #515151;\n",
       "  --xr-background-color: #111111;\n",
       "  --xr-background-color-row-even: #111111;\n",
       "  --xr-background-color-row-odd: #313131;\n",
       "}\n",
       "\n",
       ".xr-wrap {\n",
       "  display: block !important;\n",
       "  min-width: 300px;\n",
       "  max-width: 700px;\n",
       "}\n",
       "\n",
       ".xr-text-repr-fallback {\n",
       "  /* fallback to plain text repr when CSS is not injected (untrusted notebook) */\n",
       "  display: none;\n",
       "}\n",
       "\n",
       ".xr-header {\n",
       "  padding-top: 6px;\n",
       "  padding-bottom: 6px;\n",
       "  margin-bottom: 4px;\n",
       "  border-bottom: solid 1px var(--xr-border-color);\n",
       "}\n",
       "\n",
       ".xr-header > div,\n",
       ".xr-header > ul {\n",
       "  display: inline;\n",
       "  margin-top: 0;\n",
       "  margin-bottom: 0;\n",
       "}\n",
       "\n",
       ".xr-obj-type,\n",
       ".xr-array-name {\n",
       "  margin-left: 2px;\n",
       "  margin-right: 10px;\n",
       "}\n",
       "\n",
       ".xr-obj-type {\n",
       "  color: var(--xr-font-color2);\n",
       "}\n",
       "\n",
       ".xr-sections {\n",
       "  padding-left: 0 !important;\n",
       "  display: grid;\n",
       "  grid-template-columns: 150px auto auto 1fr 0 20px 0 20px;\n",
       "}\n",
       "\n",
       ".xr-section-item {\n",
       "  display: contents;\n",
       "}\n",
       "\n",
       ".xr-section-item input {\n",
       "  display: inline-block;\n",
       "  opacity: 0;\n",
       "  height: 0;\n",
       "}\n",
       "\n",
       ".xr-section-item input + label {\n",
       "  color: var(--xr-disabled-color);\n",
       "}\n",
       "\n",
       ".xr-section-item input:enabled + label {\n",
       "  cursor: pointer;\n",
       "  color: var(--xr-font-color2);\n",
       "}\n",
       "\n",
       ".xr-section-item input:focus + label {\n",
       "  border: 2px solid var(--xr-font-color0);\n",
       "}\n",
       "\n",
       ".xr-section-item input:enabled + label:hover {\n",
       "  color: var(--xr-font-color0);\n",
       "}\n",
       "\n",
       ".xr-section-summary {\n",
       "  grid-column: 1;\n",
       "  color: var(--xr-font-color2);\n",
       "  font-weight: 500;\n",
       "}\n",
       "\n",
       ".xr-section-summary > span {\n",
       "  display: inline-block;\n",
       "  padding-left: 0.5em;\n",
       "}\n",
       "\n",
       ".xr-section-summary-in:disabled + label {\n",
       "  color: var(--xr-font-color2);\n",
       "}\n",
       "\n",
       ".xr-section-summary-in + label:before {\n",
       "  display: inline-block;\n",
       "  content: \"►\";\n",
       "  font-size: 11px;\n",
       "  width: 15px;\n",
       "  text-align: center;\n",
       "}\n",
       "\n",
       ".xr-section-summary-in:disabled + label:before {\n",
       "  color: var(--xr-disabled-color);\n",
       "}\n",
       "\n",
       ".xr-section-summary-in:checked + label:before {\n",
       "  content: \"▼\";\n",
       "}\n",
       "\n",
       ".xr-section-summary-in:checked + label > span {\n",
       "  display: none;\n",
       "}\n",
       "\n",
       ".xr-section-summary,\n",
       ".xr-section-inline-details {\n",
       "  padding-top: 4px;\n",
       "  padding-bottom: 4px;\n",
       "}\n",
       "\n",
       ".xr-section-inline-details {\n",
       "  grid-column: 2 / -1;\n",
       "}\n",
       "\n",
       ".xr-section-details {\n",
       "  display: none;\n",
       "  grid-column: 1 / -1;\n",
       "  margin-bottom: 5px;\n",
       "}\n",
       "\n",
       ".xr-section-summary-in:checked ~ .xr-section-details {\n",
       "  display: contents;\n",
       "}\n",
       "\n",
       ".xr-array-wrap {\n",
       "  grid-column: 1 / -1;\n",
       "  display: grid;\n",
       "  grid-template-columns: 20px auto;\n",
       "}\n",
       "\n",
       ".xr-array-wrap > label {\n",
       "  grid-column: 1;\n",
       "  vertical-align: top;\n",
       "}\n",
       "\n",
       ".xr-preview {\n",
       "  color: var(--xr-font-color3);\n",
       "}\n",
       "\n",
       ".xr-array-preview,\n",
       ".xr-array-data {\n",
       "  padding: 0 5px !important;\n",
       "  grid-column: 2;\n",
       "}\n",
       "\n",
       ".xr-array-data,\n",
       ".xr-array-in:checked ~ .xr-array-preview {\n",
       "  display: none;\n",
       "}\n",
       "\n",
       ".xr-array-in:checked ~ .xr-array-data,\n",
       ".xr-array-preview {\n",
       "  display: inline-block;\n",
       "}\n",
       "\n",
       ".xr-dim-list {\n",
       "  display: inline-block !important;\n",
       "  list-style: none;\n",
       "  padding: 0 !important;\n",
       "  margin: 0;\n",
       "}\n",
       "\n",
       ".xr-dim-list li {\n",
       "  display: inline-block;\n",
       "  padding: 0;\n",
       "  margin: 0;\n",
       "}\n",
       "\n",
       ".xr-dim-list:before {\n",
       "  content: \"(\";\n",
       "}\n",
       "\n",
       ".xr-dim-list:after {\n",
       "  content: \")\";\n",
       "}\n",
       "\n",
       ".xr-dim-list li:not(:last-child):after {\n",
       "  content: \",\";\n",
       "  padding-right: 5px;\n",
       "}\n",
       "\n",
       ".xr-has-index {\n",
       "  font-weight: bold;\n",
       "}\n",
       "\n",
       ".xr-var-list,\n",
       ".xr-var-item {\n",
       "  display: contents;\n",
       "}\n",
       "\n",
       ".xr-var-item > div,\n",
       ".xr-var-item label,\n",
       ".xr-var-item > .xr-var-name span {\n",
       "  background-color: var(--xr-background-color-row-even);\n",
       "  margin-bottom: 0;\n",
       "}\n",
       "\n",
       ".xr-var-item > .xr-var-name:hover span {\n",
       "  padding-right: 5px;\n",
       "}\n",
       "\n",
       ".xr-var-list > li:nth-child(odd) > div,\n",
       ".xr-var-list > li:nth-child(odd) > label,\n",
       ".xr-var-list > li:nth-child(odd) > .xr-var-name span {\n",
       "  background-color: var(--xr-background-color-row-odd);\n",
       "}\n",
       "\n",
       ".xr-var-name {\n",
       "  grid-column: 1;\n",
       "}\n",
       "\n",
       ".xr-var-dims {\n",
       "  grid-column: 2;\n",
       "}\n",
       "\n",
       ".xr-var-dtype {\n",
       "  grid-column: 3;\n",
       "  text-align: right;\n",
       "  color: var(--xr-font-color2);\n",
       "}\n",
       "\n",
       ".xr-var-preview {\n",
       "  grid-column: 4;\n",
       "}\n",
       "\n",
       ".xr-index-preview {\n",
       "  grid-column: 2 / 5;\n",
       "  color: var(--xr-font-color2);\n",
       "}\n",
       "\n",
       ".xr-var-name,\n",
       ".xr-var-dims,\n",
       ".xr-var-dtype,\n",
       ".xr-preview,\n",
       ".xr-attrs dt {\n",
       "  white-space: nowrap;\n",
       "  overflow: hidden;\n",
       "  text-overflow: ellipsis;\n",
       "  padding-right: 10px;\n",
       "}\n",
       "\n",
       ".xr-var-name:hover,\n",
       ".xr-var-dims:hover,\n",
       ".xr-var-dtype:hover,\n",
       ".xr-attrs dt:hover {\n",
       "  overflow: visible;\n",
       "  width: auto;\n",
       "  z-index: 1;\n",
       "}\n",
       "\n",
       ".xr-var-attrs,\n",
       ".xr-var-data,\n",
       ".xr-index-data {\n",
       "  display: none;\n",
       "  background-color: var(--xr-background-color) !important;\n",
       "  padding-bottom: 5px !important;\n",
       "}\n",
       "\n",
       ".xr-var-attrs-in:checked ~ .xr-var-attrs,\n",
       ".xr-var-data-in:checked ~ .xr-var-data,\n",
       ".xr-index-data-in:checked ~ .xr-index-data {\n",
       "  display: block;\n",
       "}\n",
       "\n",
       ".xr-var-data > table {\n",
       "  float: right;\n",
       "}\n",
       "\n",
       ".xr-var-name span,\n",
       ".xr-var-data,\n",
       ".xr-index-name div,\n",
       ".xr-index-data,\n",
       ".xr-attrs {\n",
       "  padding-left: 25px !important;\n",
       "}\n",
       "\n",
       ".xr-attrs,\n",
       ".xr-var-attrs,\n",
       ".xr-var-data,\n",
       ".xr-index-data {\n",
       "  grid-column: 1 / -1;\n",
       "}\n",
       "\n",
       "dl.xr-attrs {\n",
       "  padding: 0;\n",
       "  margin: 0;\n",
       "  display: grid;\n",
       "  grid-template-columns: 125px auto;\n",
       "}\n",
       "\n",
       ".xr-attrs dt,\n",
       ".xr-attrs dd {\n",
       "  padding: 0;\n",
       "  margin: 0;\n",
       "  float: left;\n",
       "  padding-right: 10px;\n",
       "  width: auto;\n",
       "}\n",
       "\n",
       ".xr-attrs dt {\n",
       "  font-weight: normal;\n",
       "  grid-column: 1;\n",
       "}\n",
       "\n",
       ".xr-attrs dt:hover span {\n",
       "  display: inline-block;\n",
       "  background: var(--xr-background-color);\n",
       "  padding-right: 10px;\n",
       "}\n",
       "\n",
       ".xr-attrs dd {\n",
       "  grid-column: 2;\n",
       "  white-space: pre-wrap;\n",
       "  word-break: break-all;\n",
       "}\n",
       "\n",
       ".xr-icon-database,\n",
       ".xr-icon-file-text2,\n",
       ".xr-no-icon {\n",
       "  display: inline-block;\n",
       "  vertical-align: middle;\n",
       "  width: 1em;\n",
       "  height: 1.5em !important;\n",
       "  stroke-width: 0;\n",
       "  stroke: currentColor;\n",
       "  fill: currentColor;\n",
       "}\n",
       "</style><pre class='xr-text-repr-fallback'>&lt;xarray.DataArray &#x27;theta&#x27; ()&gt; Size: 8B\n",
       "array(963.8128411)</pre><div class='xr-wrap' style='display:none'><div class='xr-header'><div class='xr-obj-type'>xarray.DataArray</div><div class='xr-array-name'>'theta'</div></div><ul class='xr-sections'><li class='xr-section-item'><div class='xr-array-wrap'><input id='section-3482f506-842b-4f01-b0fb-fa8c7caa0c7c' class='xr-array-in' type='checkbox' checked><label for='section-3482f506-842b-4f01-b0fb-fa8c7caa0c7c' title='Show/hide data repr'><svg class='icon xr-icon-database'><use xlink:href='#icon-database'></use></svg></label><div class='xr-array-preview xr-preview'><span>963.8</span></div><div class='xr-array-data'><pre>array(963.8128411)</pre></div></div></li><li class='xr-section-item'><input id='section-9fa681b1-8c6c-4b1d-aa2e-e790d3362ebb' class='xr-section-summary-in' type='checkbox' disabled ><label for='section-9fa681b1-8c6c-4b1d-aa2e-e790d3362ebb' class='xr-section-summary'  title='Expand/collapse section'>Coordinates: <span>(0)</span></label><div class='xr-section-inline-details'></div><div class='xr-section-details'><ul class='xr-var-list'></ul></div></li><li class='xr-section-item'><input id='section-0a6692dd-c12a-4273-86da-b9ac7531eea0' class='xr-section-summary-in' type='checkbox' disabled ><label for='section-0a6692dd-c12a-4273-86da-b9ac7531eea0' class='xr-section-summary'  title='Expand/collapse section'>Indexes: <span>(0)</span></label><div class='xr-section-inline-details'></div><div class='xr-section-details'><ul class='xr-var-list'></ul></div></li><li class='xr-section-item'><input id='section-a8043d63-9f4b-43d0-a934-b28ae7050305' class='xr-section-summary-in' type='checkbox' disabled ><label for='section-a8043d63-9f4b-43d0-a934-b28ae7050305' class='xr-section-summary'  title='Expand/collapse section'>Attributes: <span>(0)</span></label><div class='xr-section-inline-details'></div><div class='xr-section-details'><dl class='xr-attrs'></dl></div></li></ul></div></div>"
      ],
      "text/plain": [
       "<xarray.DataArray 'theta' ()> Size: 8B\n",
       "array(963.8128411)"
      ]
     },
     "execution_count": 53,
     "metadata": {},
     "output_type": "execute_result"
    }
   ],
   "source": [
    "up.solution.theta"
   ]
  },
  {
   "cell_type": "code",
   "execution_count": 55,
   "id": "0c60082e-3c87-4d11-9c18-181a7c60f4c6",
   "metadata": {},
   "outputs": [
    {
     "data": {
      "text/plain": [
       "Generator\n",
       "ls       0.000000\n",
       "gs     975.379300\n",
       "gas    335.974541\n",
       "dtype: float64"
      ]
     },
     "execution_count": 55,
     "metadata": {},
     "output_type": "execute_result"
    }
   ],
   "source": [
    "pd.concat([o[i].generators_t.p for i in o.keys()]).multiply(o[0].generators.marginal_cost).sum()"
   ]
  },
  {
   "cell_type": "code",
   "execution_count": 56,
   "id": "15e1d5e7-a33b-4c22-b822-3d65cf602ccf",
   "metadata": {},
   "outputs": [
    {
     "data": {
      "text/plain": [
       "Generator\n",
       "ls        0.000000\n",
       "gs     1091.361850\n",
       "gas     301.248264\n",
       "dtype: float64"
      ]
     },
     "execution_count": 56,
     "metadata": {},
     "output_type": "execute_result"
    }
   ],
   "source": [
    "l.generators_t.p.multiply(l.generators.marginal_cost).sum()"
   ]
  },
  {
   "cell_type": "code",
   "execution_count": 57,
   "id": "ae16be07-aba5-4fd1-9c97-ba7439670529",
   "metadata": {},
   "outputs": [
    {
     "data": {
      "text/plain": [
       "snapshot\n",
       "0     1.722825\n",
       "1     5.157636\n",
       "2     1.440999\n",
       "3     0.720755\n",
       "4     0.059696\n",
       "5     2.482042\n",
       "6     0.094883\n",
       "7     4.161485\n",
       "8     0.413858\n",
       "9     5.652926\n",
       "10   -1.858192\n",
       "11    1.225739\n",
       "12    0.143232\n",
       "13    3.290791\n",
       "14    2.198676\n",
       "15   -3.198812\n",
       "16    2.814341\n",
       "17   -1.081134\n",
       "18   -2.891124\n",
       "19   -3.860195\n",
       "20   -3.882352\n",
       "21    1.159825\n",
       "22    1.888411\n",
       "23    1.354897\n",
       "dtype: float64"
      ]
     },
     "execution_count": 57,
     "metadata": {},
     "output_type": "execute_result"
    }
   ],
   "source": [
    "\n",
    "pd.concat([o[i].loads_t.p_set for i in o.keys()]).sum(axis=1)"
   ]
  },
  {
   "cell_type": "code",
   "execution_count": 58,
   "id": "31624f1d-6be3-4193-b68e-bd9cb66ba4d1",
   "metadata": {},
   "outputs": [
    {
     "data": {
      "text/plain": [
       "snapshot\n",
       "0     1.722825\n",
       "1     5.157636\n",
       "2     1.440999\n",
       "3     0.720755\n",
       "4     0.059696\n",
       "5     2.482042\n",
       "6     0.094883\n",
       "7     4.161485\n",
       "8     0.413858\n",
       "9     5.652926\n",
       "10   -1.858192\n",
       "11    1.225739\n",
       "12    0.143232\n",
       "13    3.290791\n",
       "14    2.198676\n",
       "15   -3.198812\n",
       "16    2.814341\n",
       "17   -1.081134\n",
       "18   -2.891124\n",
       "19   -3.860195\n",
       "20   -3.882352\n",
       "21    1.159825\n",
       "22    1.888411\n",
       "23    1.354897\n",
       "dtype: float64"
      ]
     },
     "execution_count": 58,
     "metadata": {},
     "output_type": "execute_result"
    }
   ],
   "source": [
    "l.loads_t.p_set.sum(axis=1)"
   ]
  },
  {
   "cell_type": "code",
   "execution_count": 202,
   "id": "6207939d-c4b1-4101-b2b4-3a362f31957a",
   "metadata": {},
   "outputs": [
    {
     "data": {
      "text/plain": [
       "Store\n",
       "php         0.0\n",
       "battery1    0.0\n",
       "hydro       0.0\n",
       "battery2    0.0\n",
       "Name: e_initial, dtype: float64"
      ]
     },
     "execution_count": 202,
     "metadata": {},
     "output_type": "execute_result"
    }
   ],
   "source": [
    "o[2].stores.e_initial"
   ]
  },
  {
   "cell_type": "code",
   "execution_count": 226,
   "id": "8083d022-affe-475c-8ce3-c1ca65b33adc",
   "metadata": {},
   "outputs": [
    {
     "data": {
      "text/html": [
       "<div>\n",
       "<style scoped>\n",
       "    .dataframe tbody tr th:only-of-type {\n",
       "        vertical-align: middle;\n",
       "    }\n",
       "\n",
       "    .dataframe tbody tr th {\n",
       "        vertical-align: top;\n",
       "    }\n",
       "\n",
       "    .dataframe thead th {\n",
       "        text-align: right;\n",
       "    }\n",
       "</style>\n",
       "<table border=\"1\" class=\"dataframe\">\n",
       "  <thead>\n",
       "    <tr style=\"text-align: right;\">\n",
       "      <th>Store</th>\n",
       "      <th>php</th>\n",
       "      <th>battery1</th>\n",
       "      <th>hydro</th>\n",
       "      <th>battery2</th>\n",
       "    </tr>\n",
       "    <tr>\n",
       "      <th>snapshot</th>\n",
       "      <th></th>\n",
       "      <th></th>\n",
       "      <th></th>\n",
       "      <th></th>\n",
       "    </tr>\n",
       "  </thead>\n",
       "  <tbody>\n",
       "    <tr>\n",
       "      <th>4</th>\n",
       "      <td>0.0</td>\n",
       "      <td>-0.0</td>\n",
       "      <td>-0.0</td>\n",
       "      <td>-0.0</td>\n",
       "    </tr>\n",
       "    <tr>\n",
       "      <th>5</th>\n",
       "      <td>0.5</td>\n",
       "      <td>0.5</td>\n",
       "      <td>0.5</td>\n",
       "      <td>0.5</td>\n",
       "    </tr>\n",
       "  </tbody>\n",
       "</table>\n",
       "</div>"
      ],
      "text/plain": [
       "Store     php  battery1  hydro  battery2\n",
       "snapshot                                \n",
       "4         0.0      -0.0   -0.0      -0.0\n",
       "5         0.5       0.5    0.5       0.5"
      ]
     },
     "execution_count": 226,
     "metadata": {},
     "output_type": "execute_result"
    }
   ],
   "source": [
    "o[2].stores_t.e"
   ]
  },
  {
   "cell_type": "code",
   "execution_count": 225,
   "id": "ff2f2606-c8d6-47ae-9b84-7de5da188f19",
   "metadata": {},
   "outputs": [
    {
     "data": {
      "text/plain": [
       "Store\n",
       "php         0.0\n",
       "battery1    0.0\n",
       "hydro       0.0\n",
       "battery2    0.0\n",
       "Name: e_initial, dtype: float64"
      ]
     },
     "execution_count": 225,
     "metadata": {},
     "output_type": "execute_result"
    }
   ],
   "source": [
    "o[3].stores.e_initial"
   ]
  },
  {
   "cell_type": "code",
   "execution_count": 224,
   "id": "68dfae3b-3c38-4999-9727-2d80f5ec68d6",
   "metadata": {},
   "outputs": [
    {
     "data": {
      "text/html": [
       "<div>\n",
       "<style scoped>\n",
       "    .dataframe tbody tr th:only-of-type {\n",
       "        vertical-align: middle;\n",
       "    }\n",
       "\n",
       "    .dataframe tbody tr th {\n",
       "        vertical-align: top;\n",
       "    }\n",
       "\n",
       "    .dataframe thead th {\n",
       "        text-align: right;\n",
       "    }\n",
       "</style>\n",
       "<table border=\"1\" class=\"dataframe\">\n",
       "  <thead>\n",
       "    <tr style=\"text-align: right;\">\n",
       "      <th>Store</th>\n",
       "      <th>php</th>\n",
       "      <th>battery1</th>\n",
       "      <th>hydro</th>\n",
       "      <th>battery2</th>\n",
       "    </tr>\n",
       "    <tr>\n",
       "      <th>snapshot</th>\n",
       "      <th></th>\n",
       "      <th></th>\n",
       "      <th></th>\n",
       "      <th></th>\n",
       "    </tr>\n",
       "  </thead>\n",
       "  <tbody>\n",
       "    <tr>\n",
       "      <th>6</th>\n",
       "      <td>-0.5</td>\n",
       "      <td>-0.5</td>\n",
       "      <td>-0.5</td>\n",
       "      <td>-0.5</td>\n",
       "    </tr>\n",
       "    <tr>\n",
       "      <th>7</th>\n",
       "      <td>0.5</td>\n",
       "      <td>0.5</td>\n",
       "      <td>0.5</td>\n",
       "      <td>0.5</td>\n",
       "    </tr>\n",
       "  </tbody>\n",
       "</table>\n",
       "</div>"
      ],
      "text/plain": [
       "Store     php  battery1  hydro  battery2\n",
       "snapshot                                \n",
       "6        -0.5      -0.5   -0.5      -0.5\n",
       "7         0.5       0.5    0.5       0.5"
      ]
     },
     "execution_count": 224,
     "metadata": {},
     "output_type": "execute_result"
    }
   ],
   "source": [
    "o[3].stores_t.p"
   ]
  },
  {
   "cell_type": "code",
   "execution_count": 221,
   "id": "de24d74e-528e-4b44-a9fc-a558a79f931a",
   "metadata": {},
   "outputs": [
    {
     "data": {
      "text/html": [
       "<div>\n",
       "<style scoped>\n",
       "    .dataframe tbody tr th:only-of-type {\n",
       "        vertical-align: middle;\n",
       "    }\n",
       "\n",
       "    .dataframe tbody tr th {\n",
       "        vertical-align: top;\n",
       "    }\n",
       "\n",
       "    .dataframe thead th {\n",
       "        text-align: right;\n",
       "    }\n",
       "</style>\n",
       "<table border=\"1\" class=\"dataframe\">\n",
       "  <thead>\n",
       "    <tr style=\"text-align: right;\">\n",
       "      <th>Store</th>\n",
       "      <th>php</th>\n",
       "      <th>battery1</th>\n",
       "      <th>hydro</th>\n",
       "      <th>battery2</th>\n",
       "    </tr>\n",
       "    <tr>\n",
       "      <th>snapshot</th>\n",
       "      <th></th>\n",
       "      <th></th>\n",
       "      <th></th>\n",
       "      <th></th>\n",
       "    </tr>\n",
       "  </thead>\n",
       "  <tbody>\n",
       "    <tr>\n",
       "      <th>6</th>\n",
       "      <td>0.5</td>\n",
       "      <td>0.5</td>\n",
       "      <td>0.5</td>\n",
       "      <td>0.5</td>\n",
       "    </tr>\n",
       "    <tr>\n",
       "      <th>7</th>\n",
       "      <td>0.0</td>\n",
       "      <td>-0.0</td>\n",
       "      <td>0.0</td>\n",
       "      <td>0.0</td>\n",
       "    </tr>\n",
       "  </tbody>\n",
       "</table>\n",
       "</div>"
      ],
      "text/plain": [
       "Store     php  battery1  hydro  battery2\n",
       "snapshot                                \n",
       "6         0.5       0.5    0.5       0.5\n",
       "7         0.0      -0.0    0.0       0.0"
      ]
     },
     "execution_count": 221,
     "metadata": {},
     "output_type": "execute_result"
    }
   ],
   "source": [
    "l.stores_t.e.loc[[6,7]]"
   ]
  },
  {
   "cell_type": "code",
   "execution_count": 208,
   "id": "104d2c51-ee57-4e0a-9100-3141ed658937",
   "metadata": {},
   "outputs": [
    {
     "data": {
      "text/html": [
       "<div>\n",
       "<style scoped>\n",
       "    .dataframe tbody tr th:only-of-type {\n",
       "        vertical-align: middle;\n",
       "    }\n",
       "\n",
       "    .dataframe tbody tr th {\n",
       "        vertical-align: top;\n",
       "    }\n",
       "\n",
       "    .dataframe thead th {\n",
       "        text-align: right;\n",
       "    }\n",
       "</style>\n",
       "<table border=\"1\" class=\"dataframe\">\n",
       "  <thead>\n",
       "    <tr style=\"text-align: right;\">\n",
       "      <th>Generator</th>\n",
       "      <th>ls</th>\n",
       "      <th>gs</th>\n",
       "      <th>gas</th>\n",
       "    </tr>\n",
       "    <tr>\n",
       "      <th>snapshot</th>\n",
       "      <th></th>\n",
       "      <th></th>\n",
       "      <th></th>\n",
       "    </tr>\n",
       "  </thead>\n",
       "  <tbody>\n",
       "    <tr>\n",
       "      <th>4</th>\n",
       "      <td>-0.0</td>\n",
       "      <td>-0.0</td>\n",
       "      <td>4.0</td>\n",
       "    </tr>\n",
       "    <tr>\n",
       "      <th>5</th>\n",
       "      <td>-0.0</td>\n",
       "      <td>-2.0</td>\n",
       "      <td>-0.0</td>\n",
       "    </tr>\n",
       "  </tbody>\n",
       "</table>\n",
       "</div>"
      ],
      "text/plain": [
       "Generator   ls   gs  gas\n",
       "snapshot                \n",
       "4         -0.0 -0.0  4.0\n",
       "5         -0.0 -2.0 -0.0"
      ]
     },
     "execution_count": 208,
     "metadata": {},
     "output_type": "execute_result"
    }
   ],
   "source": [
    "l.generators_t.p.loc[[4,5]]"
   ]
  },
  {
   "cell_type": "code",
   "execution_count": 197,
   "id": "d839490c-2d41-4b16-aa2f-91648f8b14a2",
   "metadata": {},
   "outputs": [
    {
     "data": {
      "text/plain": [
       "2.0"
      ]
     },
     "execution_count": 197,
     "metadata": {},
     "output_type": "execute_result"
    }
   ],
   "source": [
    "\n",
    "o[1].stores_t.p.sum().sum()"
   ]
  },
  {
   "cell_type": "code",
   "execution_count": 196,
   "id": "68bf4af2-3fa2-4242-8f38-395ea8a7c5b4",
   "metadata": {},
   "outputs": [
    {
     "data": {
      "text/plain": [
       "3.0"
      ]
     },
     "execution_count": 196,
     "metadata": {},
     "output_type": "execute_result"
    }
   ],
   "source": [
    "o[1].generators_t.p.sum().sum()"
   ]
  },
  {
   "cell_type": "code",
   "execution_count": 198,
   "id": "1b5362dc-4eae-4646-860a-9ed205bd5e05",
   "metadata": {},
   "outputs": [
    {
     "data": {
      "text/plain": [
       "2.0"
      ]
     },
     "execution_count": 198,
     "metadata": {},
     "output_type": "execute_result"
    }
   ],
   "source": [
    "l.stores_t.p.iloc[2:4].sum().sum()"
   ]
  },
  {
   "cell_type": "code",
   "execution_count": 199,
   "id": "4f8f31d7-355d-4f91-9105-e65d4eb4fa5e",
   "metadata": {},
   "outputs": [
    {
     "data": {
      "text/plain": [
       "3.0"
      ]
     },
     "execution_count": 199,
     "metadata": {},
     "output_type": "execute_result"
    }
   ],
   "source": [
    "l.generators_t.p.iloc[2:4].sum().sum()"
   ]
  },
  {
   "cell_type": "code",
   "execution_count": null,
   "id": "604ec4a3-d288-4f67-abbc-b8906b321334",
   "metadata": {},
   "outputs": [],
   "source": []
  },
  {
   "cell_type": "code",
   "execution_count": 177,
   "id": "06d28342-8681-40f9-88ca-39df7e436cc9",
   "metadata": {},
   "outputs": [
    {
     "data": {
      "text/plain": [
       "snapshot\n",
       "0    1.0\n",
       "1    2.0\n",
       "2    2.0\n",
       "3    0.0\n",
       "4    0.0\n",
       "5    2.0\n",
       "6    2.0\n",
       "7    0.0\n",
       "dtype: float64"
      ]
     },
     "execution_count": 177,
     "metadata": {},
     "output_type": "execute_result"
    }
   ],
   "source": [
    "\n",
    "pd.concat([o[i].stores_t.e for i in o.keys()]).sum(axis=1)"
   ]
  },
  {
   "cell_type": "code",
   "execution_count": null,
   "id": "4074799a-20f7-4c92-a2fe-52de718c04b0",
   "metadata": {},
   "outputs": [],
   "source": []
  },
  {
   "cell_type": "code",
   "execution_count": 174,
   "id": "2d38bec5-64f4-4a6e-8f31-cc85e79df601",
   "metadata": {},
   "outputs": [
    {
     "data": {
      "text/plain": [
       "0.0"
      ]
     },
     "execution_count": 174,
     "metadata": {},
     "output_type": "execute_result"
    }
   ],
   "source": [
    "l.stores_t.p.sum().sum()"
   ]
  },
  {
   "cell_type": "code",
   "execution_count": null,
   "id": "9c48d750-f3e2-40fb-9d2a-4cb3acdd04c5",
   "metadata": {},
   "outputs": [],
   "source": []
  }
 ],
 "metadata": {
  "kernelspec": {
   "display_name": "lmp-v13",
   "language": "python",
   "name": "lmp-v13"
  },
  "language_info": {
   "codemirror_mode": {
    "name": "ipython",
    "version": 3
   },
   "file_extension": ".py",
   "mimetype": "text/x-python",
   "name": "python",
   "nbconvert_exporter": "python",
   "pygments_lexer": "ipython3",
   "version": "3.11.11"
  }
 },
 "nbformat": 4,
 "nbformat_minor": 5
}
