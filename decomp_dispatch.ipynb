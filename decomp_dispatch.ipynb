{
 "cells": [
  {
   "cell_type": "code",
   "execution_count": 1,
   "id": "7bb1a217-9bff-4b6a-941b-d5f5baae4bae",
   "metadata": {},
   "outputs": [],
   "source": [
    "import pandas as pd\n",
    "import pypsa"
   ]
  },
  {
   "cell_type": "code",
   "execution_count": 10,
   "id": "475a053d-c5aa-43e5-9dad-a1dcd6241301",
   "metadata": {},
   "outputs": [],
   "source": [
    "import linopy"
   ]
  },
  {
   "cell_type": "code",
   "execution_count": 26,
   "id": "aa727633-b91b-43a3-804a-7bc03e83705c",
   "metadata": {},
   "outputs": [
    {
     "name": "stderr",
     "output_type": "stream",
     "text": [
      "WARNING:pypsa.io:Importing network from PyPSA version v0.25.2 while current version is v0.32.0. Read the release notes at https://pypsa.readthedocs.io/en/latest/release_notes.html to prepare your network for import.\n",
      "INFO:pypsa.io:Imported network cy1982_ty2025.nc has buses, generators, links, loads, storage_units\n"
     ]
    }
   ],
   "source": [
    "n = pypsa.Network(\"resources/networks/0/cy1982_ty2025.nc\")"
   ]
  },
  {
   "cell_type": "code",
   "execution_count": 27,
   "id": "0fe67ea4-2e35-4610-9ce1-e57a45c86680",
   "metadata": {},
   "outputs": [],
   "source": [
    "n.set_snapshots(n.snapshots[:48])"
   ]
  },
  {
   "cell_type": "code",
   "execution_count": 28,
   "id": "e223611e-5a20-446f-bb2d-662cdbf654bf",
   "metadata": {},
   "outputs": [
    {
     "data": {
      "text/plain": [
       "Index(['AL00 load-shedding', 'AT00 load-shedding', 'BA00 load-shedding',\n",
       "       'BE00 load-shedding', 'BG00 load-shedding', 'CH00 load-shedding',\n",
       "       'CY00 load-shedding', 'CZ00 load-shedding', 'DE00 load-shedding',\n",
       "       'DEKF load-shedding', 'DKE1 load-shedding', 'DKKF load-shedding',\n",
       "       'DKW1 load-shedding', 'EE00 load-shedding', 'ES00 load-shedding',\n",
       "       'FI00 load-shedding', 'FR00 load-shedding', 'GR00 load-shedding',\n",
       "       'GR03 load-shedding', 'HR00 load-shedding', 'HU00 load-shedding',\n",
       "       'IE00 load-shedding', 'ITCA load-shedding', 'ITCN load-shedding',\n",
       "       'ITCS load-shedding', 'ITN1 load-shedding', 'ITS1 load-shedding',\n",
       "       'ITSA load-shedding', 'ITSI load-shedding', 'LT00 load-shedding',\n",
       "       'LUG1 load-shedding', 'LV00 load-shedding', 'ME00 load-shedding',\n",
       "       'MK00 load-shedding', 'MT00 load-shedding', 'NL00 load-shedding',\n",
       "       'NOM1 load-shedding', 'NON1 load-shedding', 'NOS0 load-shedding',\n",
       "       'PL00 load-shedding', 'PLE0 load-shedding', 'PLI0 load-shedding',\n",
       "       'PT00 load-shedding', 'RO00 load-shedding', 'RS00 load-shedding',\n",
       "       'SE01 load-shedding', 'SE02 load-shedding', 'SE03 load-shedding',\n",
       "       'SE04 load-shedding', 'SI00 load-shedding', 'SK00 load-shedding',\n",
       "       'UK00 load-shedding', 'UKNI load-shedding'],\n",
       "      dtype='object', name='Bus')"
      ]
     },
     "execution_count": 28,
     "metadata": {},
     "output_type": "execute_result"
    }
   ],
   "source": [
    "n.add(\"Generator\", n.buses.index + \" load-shedding\", bus= n.buses.index, p_nom=1e5, marginal_cost=10e3)"
   ]
  },
  {
   "cell_type": "code",
   "execution_count": 29,
   "id": "c5232d38-e493-4d19-84ce-afd0df12cc34",
   "metadata": {},
   "outputs": [
    {
     "data": {
      "text/plain": [
       "Index(['AL00 gen-shedding', 'AT00 gen-shedding', 'BA00 gen-shedding',\n",
       "       'BE00 gen-shedding', 'BG00 gen-shedding', 'CH00 gen-shedding',\n",
       "       'CY00 gen-shedding', 'CZ00 gen-shedding', 'DE00 gen-shedding',\n",
       "       'DEKF gen-shedding', 'DKE1 gen-shedding', 'DKKF gen-shedding',\n",
       "       'DKW1 gen-shedding', 'EE00 gen-shedding', 'ES00 gen-shedding',\n",
       "       'FI00 gen-shedding', 'FR00 gen-shedding', 'GR00 gen-shedding',\n",
       "       'GR03 gen-shedding', 'HR00 gen-shedding', 'HU00 gen-shedding',\n",
       "       'IE00 gen-shedding', 'ITCA gen-shedding', 'ITCN gen-shedding',\n",
       "       'ITCS gen-shedding', 'ITN1 gen-shedding', 'ITS1 gen-shedding',\n",
       "       'ITSA gen-shedding', 'ITSI gen-shedding', 'LT00 gen-shedding',\n",
       "       'LUG1 gen-shedding', 'LV00 gen-shedding', 'ME00 gen-shedding',\n",
       "       'MK00 gen-shedding', 'MT00 gen-shedding', 'NL00 gen-shedding',\n",
       "       'NOM1 gen-shedding', 'NON1 gen-shedding', 'NOS0 gen-shedding',\n",
       "       'PL00 gen-shedding', 'PLE0 gen-shedding', 'PLI0 gen-shedding',\n",
       "       'PT00 gen-shedding', 'RO00 gen-shedding', 'RS00 gen-shedding',\n",
       "       'SE01 gen-shedding', 'SE02 gen-shedding', 'SE03 gen-shedding',\n",
       "       'SE04 gen-shedding', 'SI00 gen-shedding', 'SK00 gen-shedding',\n",
       "       'UK00 gen-shedding', 'UKNI gen-shedding'],\n",
       "      dtype='object', name='Bus')"
      ]
     },
     "execution_count": 29,
     "metadata": {},
     "output_type": "execute_result"
    }
   ],
   "source": [
    "n.add(\"Generator\", n.buses.index + \" gen-shedding\", bus= n.buses.index, p_nom=1e5, marginal_cost=-10e3, p_max_pu=0, p_min_pu=-1)"
   ]
  },
  {
   "cell_type": "code",
   "execution_count": 30,
   "id": "66aaa92b-c92a-422b-b1a3-4d607353a321",
   "metadata": {},
   "outputs": [],
   "source": [
    "n1 = n.copy()"
   ]
  },
  {
   "cell_type": "code",
   "execution_count": 31,
   "id": "40e7e935-d7ea-4d9c-8424-3f088dadd81d",
   "metadata": {},
   "outputs": [],
   "source": [
    "n2 = n.copy()"
   ]
  },
  {
   "cell_type": "code",
   "execution_count": 32,
   "id": "17c4a4d4-b2b5-4fa3-9698-adc2bcd58c13",
   "metadata": {},
   "outputs": [],
   "source": [
    "n1.set_snapshots(n.snapshots[:24])"
   ]
  },
  {
   "cell_type": "code",
   "execution_count": 33,
   "id": "fc1537be-9778-4c66-b402-2735f8f1217c",
   "metadata": {},
   "outputs": [],
   "source": [
    "n2.set_snapshots(n.snapshots[24:])"
   ]
  },
  {
   "cell_type": "code",
   "execution_count": 37,
   "id": "28228270-1fb0-46de-a9f8-9be7c6fbe854",
   "metadata": {},
   "outputs": [
    {
     "name": "stderr",
     "output_type": "stream",
     "text": [
      "WARNING:pypsa.consistency:The following generators have carriers which are not defined:\n",
      "Index(['AL00 CCGT exit 2034', 'AT00 CCGT exit 2028', 'AT00 CCGT exit 2030',\n",
      "       'AT00 CCGT exit 2033', 'AT00 CCGT exit 2034', 'BE00 CCGT exit 2030',\n",
      "       'BE00 CCGT exit 2033', 'BE00 CCGT exit 2034', 'BG00 CCGT exit 2034',\n",
      "       'CH00 CCGT exit 2028',\n",
      "       ...\n",
      "       'SE02 dsr band 3', 'SE03 dsr band 1', 'SE03 dsr band 2',\n",
      "       'SE03 dsr band 3', 'SE04 dsr band 1', 'SE04 dsr band 2',\n",
      "       'SE04 dsr band 3', 'SI00 dsr band 1', 'SI00 dsr band 2',\n",
      "       'UK00 dsr band 1'],\n",
      "      dtype='object', name='Generator', length=686)\n",
      "WARNING:pypsa.consistency:The following links have carriers which are not defined:\n",
      "Index(['AL00-GR00-AC', 'AL00-ME00-AC', 'AL00-MK00-AC', 'AL00-RS00-AC',\n",
      "       'AT00-CH00-AC', 'AT00-CZ00-AC', 'AT00-DE00-AC', 'AT00-HU00-AC',\n",
      "       'AT00-ITN1-AC', 'AT00-SI00-AC',\n",
      "       ...\n",
      "       'SK00-PLI0-AC', 'UK00-BE00-DC', 'UK00-DKW1-DC', 'UK00-FR00-DC',\n",
      "       'UK00-IE00-DC', 'UK00-NL00-DC', 'UK00-NOS0-DC', 'UK00-UKNI-DC',\n",
      "       'UKNI-IE00-AC', 'UKNI-UK00-DC'],\n",
      "      dtype='object', name='Link', length=200)\n",
      "WARNING:pypsa.consistency:The following storage_units have carriers which are not defined:\n",
      "Index(['AL00 reservoir', 'AT00 reservoir', 'AT00 battery', 'BA00 reservoir',\n",
      "       'BE00 PHS', 'BE00 battery', 'BG00 PHS', 'BG00 reservoir', 'CH00 PHS',\n",
      "       'CH00 reservoir', 'CH00 battery', 'CZ00 PHS', 'CZ00 reservoir',\n",
      "       'CZ00 battery', 'DE00 PHS', 'DE00 reservoir', 'DE00 battery',\n",
      "       'ES00 PHS', 'ES00 reservoir', 'ES00 battery', 'FI00 reservoir',\n",
      "       'FI00 battery', 'FR00 PHS', 'FR00 reservoir', 'FR00 battery',\n",
      "       'GR00 reservoir', 'GR00 battery', 'HR00 reservoir', 'HR00 battery',\n",
      "       'HU00 battery', 'IE00 PHS', 'IE00 battery', 'ITCA reservoir',\n",
      "       'ITCA battery', 'ITCN reservoir', 'ITCN battery', 'ITCS PHS',\n",
      "       'ITCS reservoir', 'ITCS battery', 'ITN1 PHS', 'ITN1 reservoir',\n",
      "       'ITN1 battery', 'ITS1 reservoir', 'ITS1 battery', 'ITSA PHS',\n",
      "       'ITSA reservoir', 'ITSA battery', 'ITSI PHS', 'ITSI reservoir',\n",
      "       'ITSI battery', 'LT00 PHS', 'LT00 battery', 'LUG1 battery',\n",
      "       'LV00 battery', 'ME00 reservoir', 'MK00 reservoir', 'NL00 battery',\n",
      "       'NOM1 reservoir', 'NON1 reservoir', 'NOS0 reservoir', 'PL00 PHS',\n",
      "       'PL00 reservoir', 'PT00 reservoir', 'RO00 reservoir', 'RO00 battery',\n",
      "       'RS00 PHS', 'RS00 reservoir', 'SE01 reservoir', 'SE02 reservoir',\n",
      "       'SE03 reservoir', 'SE04 reservoir', 'SI00 PHS', 'SI00 reservoir',\n",
      "       'SI00 battery', 'SK00 PHS', 'SK00 reservoir', 'SK00 battery',\n",
      "       'UK00 PHS', 'UK00 battery', 'UKNI battery'],\n",
      "      dtype='object', name='StorageUnit')\n",
      "WARNING:pypsa.consistency:The following buses have carriers which are not defined:\n",
      "Index(['AL00', 'AT00', 'BA00', 'BE00', 'BG00', 'CH00', 'CY00', 'CZ00', 'DE00',\n",
      "       'DEKF', 'DKE1', 'DKKF', 'DKW1', 'EE00', 'ES00', 'FI00', 'FR00', 'GR00',\n",
      "       'GR03', 'HR00', 'HU00', 'IE00', 'ITCA', 'ITCN', 'ITCS', 'ITN1', 'ITS1',\n",
      "       'ITSA', 'ITSI', 'LT00', 'LUG1', 'LV00', 'ME00', 'MK00', 'MT00', 'NL00',\n",
      "       'NOM1', 'NON1', 'NOS0', 'PL00', 'PLE0', 'PLI0', 'PT00', 'RO00', 'RS00',\n",
      "       'SE01', 'SE02', 'SE03', 'SE04', 'SI00', 'SK00', 'UK00', 'UKNI'],\n",
      "      dtype='object', name='Bus')\n",
      "WARNING:pypsa.consistency:The following generators have carriers which are not defined:\n",
      "Index(['AL00 CCGT exit 2034', 'AT00 CCGT exit 2028', 'AT00 CCGT exit 2030',\n",
      "       'AT00 CCGT exit 2033', 'AT00 CCGT exit 2034', 'BE00 CCGT exit 2030',\n",
      "       'BE00 CCGT exit 2033', 'BE00 CCGT exit 2034', 'BG00 CCGT exit 2034',\n",
      "       'CH00 CCGT exit 2028',\n",
      "       ...\n",
      "       'SE02 dsr band 3', 'SE03 dsr band 1', 'SE03 dsr band 2',\n",
      "       'SE03 dsr band 3', 'SE04 dsr band 1', 'SE04 dsr band 2',\n",
      "       'SE04 dsr band 3', 'SI00 dsr band 1', 'SI00 dsr band 2',\n",
      "       'UK00 dsr band 1'],\n",
      "      dtype='object', name='Generator', length=686)\n",
      "WARNING:pypsa.consistency:The following links have carriers which are not defined:\n",
      "Index(['AL00-GR00-AC', 'AL00-ME00-AC', 'AL00-MK00-AC', 'AL00-RS00-AC',\n",
      "       'AT00-CH00-AC', 'AT00-CZ00-AC', 'AT00-DE00-AC', 'AT00-HU00-AC',\n",
      "       'AT00-ITN1-AC', 'AT00-SI00-AC',\n",
      "       ...\n",
      "       'SK00-PLI0-AC', 'UK00-BE00-DC', 'UK00-DKW1-DC', 'UK00-FR00-DC',\n",
      "       'UK00-IE00-DC', 'UK00-NL00-DC', 'UK00-NOS0-DC', 'UK00-UKNI-DC',\n",
      "       'UKNI-IE00-AC', 'UKNI-UK00-DC'],\n",
      "      dtype='object', name='Link', length=200)\n",
      "WARNING:pypsa.consistency:The following storage_units have carriers which are not defined:\n",
      "Index(['AL00 reservoir', 'AT00 reservoir', 'AT00 battery', 'BA00 reservoir',\n",
      "       'BE00 PHS', 'BE00 battery', 'BG00 PHS', 'BG00 reservoir', 'CH00 PHS',\n",
      "       'CH00 reservoir', 'CH00 battery', 'CZ00 PHS', 'CZ00 reservoir',\n",
      "       'CZ00 battery', 'DE00 PHS', 'DE00 reservoir', 'DE00 battery',\n",
      "       'ES00 PHS', 'ES00 reservoir', 'ES00 battery', 'FI00 reservoir',\n",
      "       'FI00 battery', 'FR00 PHS', 'FR00 reservoir', 'FR00 battery',\n",
      "       'GR00 reservoir', 'GR00 battery', 'HR00 reservoir', 'HR00 battery',\n",
      "       'HU00 battery', 'IE00 PHS', 'IE00 battery', 'ITCA reservoir',\n",
      "       'ITCA battery', 'ITCN reservoir', 'ITCN battery', 'ITCS PHS',\n",
      "       'ITCS reservoir', 'ITCS battery', 'ITN1 PHS', 'ITN1 reservoir',\n",
      "       'ITN1 battery', 'ITS1 reservoir', 'ITS1 battery', 'ITSA PHS',\n",
      "       'ITSA reservoir', 'ITSA battery', 'ITSI PHS', 'ITSI reservoir',\n",
      "       'ITSI battery', 'LT00 PHS', 'LT00 battery', 'LUG1 battery',\n",
      "       'LV00 battery', 'ME00 reservoir', 'MK00 reservoir', 'NL00 battery',\n",
      "       'NOM1 reservoir', 'NON1 reservoir', 'NOS0 reservoir', 'PL00 PHS',\n",
      "       'PL00 reservoir', 'PT00 reservoir', 'RO00 reservoir', 'RO00 battery',\n",
      "       'RS00 PHS', 'RS00 reservoir', 'SE01 reservoir', 'SE02 reservoir',\n",
      "       'SE03 reservoir', 'SE04 reservoir', 'SI00 PHS', 'SI00 reservoir',\n",
      "       'SI00 battery', 'SK00 PHS', 'SK00 reservoir', 'SK00 battery',\n",
      "       'UK00 PHS', 'UK00 battery', 'UKNI battery'],\n",
      "      dtype='object', name='StorageUnit')\n",
      "WARNING:pypsa.consistency:The following buses have carriers which are not defined:\n",
      "Index(['AL00', 'AT00', 'BA00', 'BE00', 'BG00', 'CH00', 'CY00', 'CZ00', 'DE00',\n",
      "       'DEKF', 'DKE1', 'DKKF', 'DKW1', 'EE00', 'ES00', 'FI00', 'FR00', 'GR00',\n",
      "       'GR03', 'HR00', 'HU00', 'IE00', 'ITCA', 'ITCN', 'ITCS', 'ITN1', 'ITS1',\n",
      "       'ITSA', 'ITSI', 'LT00', 'LUG1', 'LV00', 'ME00', 'MK00', 'MT00', 'NL00',\n",
      "       'NOM1', 'NON1', 'NOS0', 'PL00', 'PLE0', 'PLI0', 'PT00', 'RO00', 'RS00',\n",
      "       'SE01', 'SE02', 'SE03', 'SE04', 'SI00', 'SK00', 'UK00', 'UKNI'],\n",
      "      dtype='object', name='Bus')\n",
      "INFO:linopy.model: Solve problem using Cplex solver\n",
      "INFO:linopy.io:Writing objective.\n",
      "Writing constraints.: 100%|\u001b[38;2;128;191;255m████████████████████████████████████████████████████████████\u001b[0m| 15/15 [00:00<00:00, 21.87it/s]\u001b[0m\n",
      "Writing continuous variables.: 100%|\u001b[38;2;128;191;255m█████████████████████████████████████████████████████\u001b[0m| 6/6 [00:00<00:00, 55.49it/s]\u001b[0m\n",
      "INFO:linopy.io: Writing time: 0.84s\n"
     ]
    },
    {
     "name": "stdout",
     "output_type": "stream",
     "text": [
      "Checking license ...\n"
     ]
    },
    {
     "name": "stderr",
     "output_type": "stream",
     "text": [
      "cpxchecklic: /lib64/libcurl.so.4: no version information available (required by cpxchecklic)\n",
      "\n"
     ]
    },
    {
     "name": "stdout",
     "output_type": "stream",
     "text": [
      "License found. [0.02 s]\n",
      "Version identifier: 22.1.1.0 | 2023-06-15 | d64d5bd77\n",
      "CPXPARAM_Read_DataCheck                          1\n",
      "Parallel mode: deterministic, using up to 32 threads for concurrent optimization:\n",
      " * Starting dual Simplex on 1 thread...\n",
      " * Starting Barrier on 30 threads...\n",
      " * Starting primal Simplex on 1 thread...\n",
      "Tried aggregator 1 time.\n",
      "LP Presolve eliminated 158653 rows and 18885 columns.\n",
      "Reduced LP has 6329 rows, 41835 columns, and 57356 nonzeros.\n",
      "Presolve time = 0.13 sec. (91.43 ticks)\n",
      "Initializing dual steep norms . . .\n",
      "\n",
      "Iteration log . . .\n",
      "Iteration:     1   Dual objective     =     641600259.035753\n",
      "Iteration:   367   Dual objective     =     642457042.991301\n",
      "Iteration:   718   Dual objective     =     768083875.165822\n",
      "Iteration:  1042   Dual objective     =     858624037.711222\n",
      "Iteration:  1398   Dual objective     =    1011487143.173753\n",
      "Iteration:  1721   Dual objective     =    1029132137.732088\n",
      "Iteration:  2065   Dual objective     =    1049723797.497804\n",
      "Iteration:  2379   Dual objective     =    1057605888.093176\n",
      "Iteration:  2714   Dual objective     =    1065905283.684245\n",
      "Iteration:  3054   Dual objective     =    1069219558.954842\n",
      "Iteration:  3345   Dual objective     =    1073949126.396129\n",
      "Iteration:  3610   Dual objective     =    1076471885.134384\n",
      "Iteration:  3911   Dual objective     =    1144487736.271689\n",
      "Iteration:  4233   Dual objective     =    1157211208.989631\n",
      "Iteration:  4521   Dual objective     =    1158050853.671863\n",
      "Iteration:  4824   Dual objective     =    1159949455.026286\n",
      "Iteration:  5165   Dual objective     =    1160960361.658301\n",
      "Iteration:  5439   Dual objective     =    1162757793.525518\n",
      "Iteration:  5734   Dual objective     =    1165163546.623507\n",
      "Iteration:  6006   Dual objective     =    1167142015.431635\n",
      "Iteration:  6281   Dual objective     =    1169334869.472816\n",
      "Iteration:  6545   Dual objective     =    1171546871.565991\n",
      "Iteration:  6827   Dual objective     =    1171752937.451166\n",
      "Iteration:  7061   Dual objective     =    1171851580.270610\n",
      "Iteration:  7288   Dual objective     =    1172550585.615581\n",
      "Iteration:  7480   Dual objective     =    1173042829.231274\n",
      "\n",
      "Dual simplex solved model.\n",
      "\n"
     ]
    },
    {
     "name": "stderr",
     "output_type": "stream",
     "text": [
      "INFO:linopy.constants: Optimization successful: \n",
      "Status: ok\n",
      "Termination condition: optimal\n",
      "Solution: 60720 primals, 164982 duals\n",
      "Objective: 1.17e+09\n",
      "Solver model: available\n",
      "Solver message: optimal\n",
      "\n",
      "INFO:pypsa.optimization.optimize:The shadow-prices of the constraints Generator-fix-p-lower, Generator-fix-p-upper, Generator-fix-p-ramp_limit_up, Generator-fix-p-ramp_limit_down, Link-fix-p-lower, Link-fix-p-upper, StorageUnit-fix-p_dispatch-lower, StorageUnit-fix-p_dispatch-upper, StorageUnit-fix-p_store-lower, StorageUnit-fix-p_store-upper, StorageUnit-fix-state_of_charge-lower, StorageUnit-fix-state_of_charge-upper, StorageUnit-energy_balance were not assigned to the network.\n"
     ]
    },
    {
     "data": {
      "text/plain": [
       "('ok', 'optimal')"
      ]
     },
     "execution_count": 37,
     "metadata": {},
     "output_type": "execute_result"
    }
   ],
   "source": [
    "n.optimize(solver_name=\"cplex\", linearized_unit_commitment=True)"
   ]
  },
  {
   "cell_type": "code",
   "execution_count": null,
   "id": "14e45aad-eac7-4dac-b6db-5bb4b2fbb7dd",
   "metadata": {},
   "outputs": [],
   "source": []
  },
  {
   "cell_type": "code",
   "execution_count": null,
   "id": "223c8956-38dd-4dca-8bf9-601d4898cb8c",
   "metadata": {},
   "outputs": [],
   "source": []
  },
  {
   "cell_type": "code",
   "execution_count": null,
   "id": "a0fd65d1-adae-4f92-a9b4-db26090d02d3",
   "metadata": {},
   "outputs": [],
   "source": []
  },
  {
   "cell_type": "code",
   "execution_count": null,
   "id": "b5622606-7bac-45c9-b19e-cf3bf18d0d0a",
   "metadata": {},
   "outputs": [],
   "source": []
  },
  {
   "cell_type": "code",
   "execution_count": null,
   "id": "d2ac21a8-0eab-4c89-ae41-50c992669a72",
   "metadata": {},
   "outputs": [],
   "source": []
  },
  {
   "cell_type": "code",
   "execution_count": null,
   "id": "ece50cbe-d450-408f-8d46-53cd485a3703",
   "metadata": {},
   "outputs": [],
   "source": []
  },
  {
   "cell_type": "code",
   "execution_count": null,
   "id": "082b721c-0c89-44f6-9248-056f05490a81",
   "metadata": {},
   "outputs": [],
   "source": []
  }
 ],
 "metadata": {
  "kernelspec": {
   "display_name": "lmp-v13",
   "language": "python",
   "name": "lmp-v13"
  },
  "language_info": {
   "codemirror_mode": {
    "name": "ipython",
    "version": 3
   },
   "file_extension": ".py",
   "mimetype": "text/x-python",
   "name": "python",
   "nbconvert_exporter": "python",
   "pygments_lexer": "ipython3",
   "version": "3.11.11"
  }
 },
 "nbformat": 4,
 "nbformat_minor": 5
}
