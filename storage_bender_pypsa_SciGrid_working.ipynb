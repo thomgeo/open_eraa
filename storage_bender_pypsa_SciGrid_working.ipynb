{
 "cells": [
  {
   "cell_type": "code",
   "execution_count": 1,
   "id": "1e09d4cc-5c17-4ed2-9b5b-1a895a01e6dc",
   "metadata": {},
   "outputs": [
    {
     "name": "stderr",
     "output_type": "stream",
     "text": [
      "ERROR 1: PROJ: proj_create_from_database: Open of /trinity/home/thomgeo/micromamba/envs/lmp-v13/share/proj failed\n"
     ]
    }
   ],
   "source": [
    "import pandas as pd\n",
    "import numpy as np \n",
    "import pypsa"
   ]
  },
  {
   "cell_type": "code",
   "execution_count": 2,
   "id": "4e964245-f57a-4267-a0b2-52aa5c3b497f",
   "metadata": {},
   "outputs": [],
   "source": [
    "from pypsa.descriptors import get_switchable_as_dense as as_dense"
   ]
  },
  {
   "cell_type": "markdown",
   "id": "679f79f8-e72a-4485-903c-3dc245f26042",
   "metadata": {},
   "source": [
    "## Notes\n",
    "\n",
    "- remove e_initial from h"
   ]
  },
  {
   "cell_type": "code",
   "execution_count": 3,
   "id": "c6090f69-520c-4b5b-b8ff-1f415931e524",
   "metadata": {},
   "outputs": [
    {
     "name": "stderr",
     "output_type": "stream",
     "text": [
      "WARNING:pypsa.io:Importing network from PyPSA version v0.17.1 while current version is v0.32.0. Read the release notes at https://pypsa.readthedocs.io/en/latest/release_notes.html to prepare your network for import.\n",
      "INFO:pypsa.io:Imported network scigrid-de.nc has buses, generators, lines, loads, storage_units, transformers\n"
     ]
    }
   ],
   "source": [
    "n = pypsa.examples.scigrid_de()"
   ]
  },
  {
   "cell_type": "code",
   "execution_count": 4,
   "id": "92ae12e3-8a8f-41d8-bd41-9a95ec240b51",
   "metadata": {
    "tags": []
   },
   "outputs": [],
   "source": [
    "def replace_su(network, su_to_replace):\n",
    "\n",
    "    su = network.storage_units.loc[su_to_replace]\n",
    "\n",
    "    bus_name = \"{} {}\".format(su[\"bus\"], su[\"carrier\"])\n",
    "    link_1_name = \"{} converter {} to AC\".format(su_to_replace, su[\"carrier\"])\n",
    "    link_2_name = \"{} converter AC to {}\".format(su_to_replace, su[\"carrier\"])\n",
    "    store_name = \"{} store {}\".format(su_to_replace, su[\"carrier\"])\n",
    "    gen_name = \"{} inflow\".format(su_to_replace)\n",
    "\n",
    "    if bus_name not in network.buses.index:\n",
    "        network.add(\"Bus\", bus_name, carrier=su[\"carrier\"])\n",
    "\n",
    "    # dispatch link\n",
    "    network.add(\n",
    "        \"Link\",\n",
    "        link_1_name,\n",
    "        bus0=bus_name,\n",
    "        bus1=su[\"bus\"],\n",
    "        capital_cost=su[\"capital_cost\"] * su[\"efficiency_dispatch\"],\n",
    "        p_nom=su[\"p_nom\"] / su[\"efficiency_dispatch\"],\n",
    "        p_nom_extendable=su[\"p_nom_extendable\"],\n",
    "        p_nom_max=su[\"p_nom_max\"] / su[\"efficiency_dispatch\"],\n",
    "        p_nom_min=su[\"p_nom_min\"] / su[\"efficiency_dispatch\"],\n",
    "        p_max_pu=su[\"p_max_pu\"],\n",
    "        marginal_cost=su[\"marginal_cost\"] * su[\"efficiency_dispatch\"],\n",
    "        efficiency=su[\"efficiency_dispatch\"],\n",
    "        carrier = su[\"carrier\"],\n",
    "        type=\"discharging\",\n",
    "    )\n",
    "\n",
    "    # store link\n",
    "    network.add(\n",
    "        \"Link\",\n",
    "        link_2_name,\n",
    "        bus1=bus_name,\n",
    "        bus0=su[\"bus\"],\n",
    "        p_nom=su[\"p_nom\"],\n",
    "        p_nom_extendable=su[\"p_nom_extendable\"],\n",
    "        p_nom_max=su[\"p_nom_max\"],\n",
    "        p_nom_min=su[\"p_nom_min\"],\n",
    "        p_max_pu=-su[\"p_min_pu\"],\n",
    "        efficiency=su[\"efficiency_store\"],\n",
    "        carrier = su[\"carrier\"],\n",
    "        type=\"charging\"\n",
    "    )\n",
    "\n",
    "    if (\n",
    "        su_to_replace in network.storage_units_t.state_of_charge_set.columns\n",
    "        and (\n",
    "            ~pd.isnull(network.storage_units_t.state_of_charge_set[su_to_replace])\n",
    "        ).any()\n",
    "    ):\n",
    "        e_max_pu = pd.Series(data=1.0, index=network.snapshots)\n",
    "        e_min_pu = pd.Series(data=0.0, index=network.snapshots)\n",
    "        non_null = ~pd.isnull(\n",
    "            network.storage_units_t.state_of_charge_set[su_to_replace]\n",
    "        )\n",
    "        e_max_pu[non_null] = network.storage_units_t.state_of_charge_set[su_to_replace][\n",
    "            non_null\n",
    "        ]\n",
    "        e_min_pu[non_null] = network.storage_units_t.state_of_charge_set[su_to_replace][\n",
    "            non_null\n",
    "        ]\n",
    "    else:\n",
    "        e_max_pu = 1.0\n",
    "        e_min_pu = 0.0\n",
    "\n",
    "    network.add(\n",
    "        \"Store\",\n",
    "        store_name,\n",
    "        bus=bus_name,\n",
    "        e_nom=su[\"p_nom\"] * su[\"max_hours\"],\n",
    "        e_nom_min=su[\"p_nom_min\"] / su[\"efficiency_dispatch\"] * su[\"max_hours\"],\n",
    "        e_nom_max=su[\"p_nom_max\"] / su[\"efficiency_dispatch\"] * su[\"max_hours\"],\n",
    "        e_nom_extendable=su[\"p_nom_extendable\"],\n",
    "        e_max_pu=e_max_pu,\n",
    "        e_min_pu=e_min_pu,\n",
    "        standing_loss=su[\"standing_loss\"],\n",
    "        e_cyclic=su[\"cyclic_state_of_charge\"],\n",
    "        e_initial=su[\"state_of_charge_initial\"],\n",
    "        carrier = su[\"carrier\"]\n",
    "    )\n",
    "\n",
    "\n",
    "    # inflow from a variable generator, which can be curtailed (i.e. spilled)\n",
    "    inflow_max = as_dense(network, \"StorageUnit\", \"inflow\").max()[su_to_replace]\n",
    "    \n",
    "    if inflow_max == 0.0:\n",
    "        inflow_pu = 0.0\n",
    "    else:\n",
    "        inflow_pu = network.storage_units_t.inflow[su_to_replace] / inflow_max\n",
    "\n",
    "    if inflow_max >0:\n",
    "        network.add(\n",
    "            \"Generator\",\n",
    "            gen_name,\n",
    "            bus=bus_name,\n",
    "            carrier=\"rain\",\n",
    "            p_nom=inflow_max,\n",
    "            p_max_pu=inflow_pu,\n",
    "        )\n",
    "        \n",
    "    network.add(\n",
    "        \"Generator\",\n",
    "        gen_name + \" loss-of-charge\",\n",
    "        bus=bus_name,\n",
    "        carrier= su[\"carrier\"],\n",
    "        p_nom=su[\"p_nom\"] * su[\"max_hours\"],\n",
    "        marginal_cost = 200,\n",
    "        type=\"inflow\",\n",
    "        )\n",
    "\n",
    "    network.remove(\"StorageUnit\", su_to_replace)"
   ]
  },
  {
   "cell_type": "code",
   "execution_count": 5,
   "id": "17f61f30-e469-42e4-89ee-d37e6559e3a4",
   "metadata": {},
   "outputs": [],
   "source": [
    "for su in n.storage_units.index:\n",
    "    replace_su(n, su);"
   ]
  },
  {
   "cell_type": "code",
   "execution_count": 6,
   "id": "cfdb69a5-374c-4f95-9398-f4f1aeea8afe",
   "metadata": {},
   "outputs": [],
   "source": [
    "n_opt = n.copy()"
   ]
  },
  {
   "cell_type": "code",
   "execution_count": 8,
   "id": "d196471c-0c13-4c4c-8a0f-4e44745edfda",
   "metadata": {
    "tags": []
   },
   "outputs": [
    {
     "name": "stderr",
     "output_type": "stream",
     "text": [
      "WARNING:pypsa.consistency:The following transformers have zero r, which could break the linear load flow:\n",
      "Index(['2', '5', '10', '12', '13', '15', '18', '20', '22', '24', '26', '30',\n",
      "       '32', '37', '42', '46', '52', '56', '61', '68', '69', '74', '78', '86',\n",
      "       '87', '94', '95', '96', '99', '100', '104', '105', '106', '107', '117',\n",
      "       '120', '123', '124', '125', '128', '129', '138', '143', '156', '157',\n",
      "       '159', '160', '165', '184', '191', '195', '201', '220', '231', '232',\n",
      "       '233', '236', '247', '248', '250', '251', '252', '261', '263', '264',\n",
      "       '267', '272', '279', '281', '282', '292', '303', '307', '308', '312',\n",
      "       '315', '317', '322', '332', '334', '336', '338', '351', '353', '360',\n",
      "       '362', '382', '384', '385', '391', '403', '404', '413', '421', '450',\n",
      "       '458'],\n",
      "      dtype='object', name='Transformer')\n",
      "WARNING:pypsa.consistency:The following transformers have zero r, which could break the linear load flow:\n",
      "Index(['2', '5', '10', '12', '13', '15', '18', '20', '22', '24', '26', '30',\n",
      "       '32', '37', '42', '46', '52', '56', '61', '68', '69', '74', '78', '86',\n",
      "       '87', '94', '95', '96', '99', '100', '104', '105', '106', '107', '117',\n",
      "       '120', '123', '124', '125', '128', '129', '138', '143', '156', '157',\n",
      "       '159', '160', '165', '184', '191', '195', '201', '220', '231', '232',\n",
      "       '233', '236', '247', '248', '250', '251', '252', '261', '263', '264',\n",
      "       '267', '272', '279', '281', '282', '292', '303', '307', '308', '312',\n",
      "       '315', '317', '322', '332', '334', '336', '338', '351', '353', '360',\n",
      "       '362', '382', '384', '385', '391', '403', '404', '413', '421', '450',\n",
      "       '458'],\n",
      "      dtype='object', name='Transformer')\n",
      "INFO:linopy.model: Solve problem using Cplex solver\n",
      "INFO:linopy.io:Writing objective.\n",
      "Writing constraints.: 100%|\u001b[38;2;128;191;255m███████████████████████████████████████████████████████████████████████████████████████████████████████████████\u001b[0m| 13/13 [00:00<00:00, 19.63it/s]\u001b[0m\n",
      "Writing continuous variables.: 100%|\u001b[38;2;128;191;255m████████████████████████████████████████████████████████████████████████████████████████████████████████\u001b[0m| 6/6 [00:00<00:00, 54.48it/s]\u001b[0m\n",
      "INFO:linopy.io: Writing time: 0.8s\n"
     ]
    },
    {
     "name": "stdout",
     "output_type": "stream",
     "text": [
      "Checking license ...\n"
     ]
    },
    {
     "name": "stderr",
     "output_type": "stream",
     "text": [
      "cpxchecklic: /lib64/libcurl.so.4: no version information available (required by cpxchecklic)\n",
      "\n"
     ]
    },
    {
     "name": "stdout",
     "output_type": "stream",
     "text": [
      "License found. [0.02 s]\n",
      "Version identifier: 22.1.1.0 | 2023-06-15 | d64d5bd77\n",
      "CPXPARAM_Read_DataCheck                          1\n",
      "Parallel mode: deterministic, using up to 32 threads for concurrent optimization:\n",
      " * Starting dual Simplex on 1 thread...\n",
      " * Starting Barrier on 30 threads...\n",
      " * Starting primal Simplex on 1 thread...\n",
      "Tried aggregator 1 time.\n",
      "LP Presolve eliminated 121182 rows and 16948 columns.\n",
      "Aggregator did 10025 substitutions.\n",
      "Reduced LP has 14497 rows, 34491 columns, and 98769 nonzeros.\n",
      "Presolve time = 0.18 sec. (95.42 ticks)\n",
      "\n",
      "Iteration log . . .\n",
      "Iteration:     1   Dual objective     =         37603.389805\n",
      "Perturbation started.\n",
      "Iteration:   101   Dual objective     =         37603.389805\n",
      "Iteration:   539   Dual objective     =         37604.123311\n",
      "Iteration:   998   Dual objective     =         37604.644476\n",
      "Iteration:  1529   Dual objective     =         37605.158327\n",
      "Iteration:  2032   Dual objective     =         37605.600014\n",
      "Iteration:  2486   Dual objective     =         37605.995391\n",
      "Iteration:  2988   Dual objective     =         37606.348591\n",
      "Iteration:  3492   Dual objective     =         37606.665572\n",
      "Iteration:  3952   Dual objective     =         37606.923888\n",
      "Iteration:  4424   Dual objective     =         37607.150457\n",
      "Iteration:  4923   Dual objective     =         37607.420405\n",
      "Iteration:  5379   Dual objective     =         37607.611972\n",
      "Iteration:  5844   Dual objective     =         37607.792098\n",
      "Iteration:  6280   Dual objective     =         37607.958350\n",
      "Iteration:  6752   Dual objective     =         37608.133041\n",
      "Iteration:  7241   Dual objective     =         37608.298733\n",
      "Iteration:  7727   Dual objective     =         37608.448979\n",
      "Iteration:  8055   Dual objective     =         37608.575779\n",
      "Iteration:  8385   Dual objective     =         37608.693821\n",
      "Iteration:  8722   Dual objective     =         37608.812136\n",
      "Iteration:  9058   Dual objective     =         37608.940718\n",
      "Iteration:  9366   Dual objective     =         37609.042385\n",
      "Iteration:  9661   Dual objective     =         37609.133803\n",
      "Iteration:  9978   Dual objective     =         37609.238611\n",
      "Iteration: 10284   Dual objective     =         37609.337017\n",
      "Iteration: 10579   Dual objective     =         37609.425675\n",
      "Iteration: 10878   Dual objective     =         37609.517075\n",
      "Iteration: 11186   Dual objective     =         37609.611655\n",
      "Iteration: 11450   Dual objective     =         37609.719433\n",
      "Iteration: 11722   Dual objective     =        161987.876328\n",
      "Iteration: 12012   Dual objective     =        190183.797320\n",
      "Iteration: 12278   Dual objective     =        248913.349727\n",
      "Iteration: 12513   Dual objective     =        355094.910162\n",
      "Iteration: 12796   Dual objective     =        507341.027727\n",
      "Iteration: 13049   Dual objective     =        800943.121809\n",
      "Iteration: 13287   Dual objective     =        851552.746680\n",
      "Iteration: 13550   Dual objective     =        943972.208461\n",
      "Iteration: 13795   Dual objective     =       1152224.424990\n",
      "Iteration: 14048   Dual objective     =       1310360.298117\n",
      "Iteration: 14290   Dual objective     =       1672506.763977\n",
      "Iteration: 14523   Dual objective     =       1912990.207408\n",
      "Iteration: 14764   Dual objective     =       2291242.223457\n",
      "Iteration: 15029   Dual objective     =       3002625.519890\n",
      "Iteration: 15280   Dual objective     =       3574291.478675\n",
      "Iteration: 15561   Dual objective     =       4197473.348981\n",
      "Iteration: 15867   Dual objective     =       4547678.988704\n",
      "Removing perturbation.\n",
      "\n",
      "Barrier solved model.\n",
      "\n"
     ]
    },
    {
     "name": "stderr",
     "output_type": "stream",
     "text": [
      "INFO:linopy.constants: Optimization successful: \n",
      "Status: ok\n",
      "Termination condition: optimal\n",
      "Solution: 61464 primals, 145704 duals\n",
      "Objective: 6.68e+06\n",
      "Solver model: available\n",
      "Solver message: optimal\n",
      "\n",
      "INFO:pypsa.optimization.optimize:The shadow-prices of the constraints Generator-fix-p-lower, Generator-fix-p-upper, Line-fix-s-lower, Line-fix-s-upper, Transformer-fix-s-lower, Transformer-fix-s-upper, Link-fix-p-lower, Link-fix-p-upper, Store-fix-e-lower, Store-fix-e-upper, Kirchhoff-Voltage-Law, Store-energy_balance were not assigned to the network.\n"
     ]
    },
    {
     "data": {
      "text/plain": [
       "('ok', 'optimal')"
      ]
     },
     "execution_count": 8,
     "metadata": {},
     "output_type": "execute_result"
    }
   ],
   "source": [
    "n_opt.optimize(solver_name=\"cplex\")"
   ]
  },
  {
   "cell_type": "code",
   "execution_count": 9,
   "id": "0e883ac5-b12e-483d-bcb2-c4a7d2d5628c",
   "metadata": {},
   "outputs": [
    {
     "data": {
      "text/plain": [
       "6684817.323606998"
      ]
     },
     "execution_count": 9,
     "metadata": {},
     "output_type": "execute_result"
    }
   ],
   "source": [
    "n_opt.objective"
   ]
  },
  {
   "cell_type": "code",
   "execution_count": 10,
   "id": "627e376a-f412-4c50-89a1-c180563b3043",
   "metadata": {},
   "outputs": [],
   "source": [
    "n1 = n.copy()\n",
    "n1.set_snapshots(n.snapshots[:12])\n",
    "\n",
    "n2 = n.copy()\n",
    "n2.set_snapshots(n.snapshots[12:])"
   ]
  },
  {
   "cell_type": "code",
   "execution_count": 11,
   "id": "7b30d59c-dc0a-4478-abdd-91df06f3a753",
   "metadata": {},
   "outputs": [],
   "source": [
    "def optimality_cut_parameters(n):\n",
    "\n",
    "    m = n.model\n",
    "    \n",
    "    h_gen = {}\n",
    "    u_gen = {}\n",
    "\n",
    "    for c in m.constraints:\n",
    "        \n",
    "        constraint = m.constraints[c]\n",
    "\n",
    "        h_constraint = constraint.rhs.to_dataframe()\n",
    "        h_gen[c] = h_constraint\n",
    "\n",
    "        u_constraint = m.constraints[c].dual.to_dataframe()\n",
    "        u_gen[c] =  u_constraint\n",
    "\n",
    "    return h_gen, u_gen"
   ]
  },
  {
   "cell_type": "code",
   "execution_count": 13,
   "id": "a9995d25-eab4-4aa7-a44c-94e399503ef5",
   "metadata": {
    "tags": []
   },
   "outputs": [
    {
     "name": "stderr",
     "output_type": "stream",
     "text": [
      "WARNING:pypsa.consistency:The following transformers have zero r, which could break the linear load flow:\n",
      "Index(['2', '5', '10', '12', '13', '15', '18', '20', '22', '24', '26', '30',\n",
      "       '32', '37', '42', '46', '52', '56', '61', '68', '69', '74', '78', '86',\n",
      "       '87', '94', '95', '96', '99', '100', '104', '105', '106', '107', '117',\n",
      "       '120', '123', '124', '125', '128', '129', '138', '143', '156', '157',\n",
      "       '159', '160', '165', '184', '191', '195', '201', '220', '231', '232',\n",
      "       '233', '236', '247', '248', '250', '251', '252', '261', '263', '264',\n",
      "       '267', '272', '279', '281', '282', '292', '303', '307', '308', '312',\n",
      "       '315', '317', '322', '332', '334', '336', '338', '351', '353', '360',\n",
      "       '362', '382', '384', '385', '391', '403', '404', '413', '421', '450',\n",
      "       '458'],\n",
      "      dtype='object', name='Transformer')\n"
     ]
    }
   ],
   "source": [
    "n1.optimize.create_model()\n",
    "\n",
    "\n",
    "theta = n1.model.add_variables(lower=-1e6, name=\"theta\")\n",
    "\n",
    "obj = n1.model.objective.expression\n",
    "n1.model.add_objective(obj + theta, overwrite=True)"
   ]
  },
  {
   "cell_type": "code",
   "execution_count": 14,
   "id": "f7efff2f-a2c1-4af0-a6d5-407da9af47b2",
   "metadata": {},
   "outputs": [],
   "source": [
    "i = 0"
   ]
  },
  {
   "cell_type": "code",
   "execution_count": 15,
   "id": "74fcb945-160f-48c4-9805-6073773fbbd8",
   "metadata": {
    "tags": []
   },
   "outputs": [
    {
     "name": "stderr",
     "output_type": "stream",
     "text": [
      "INFO:linopy.model: Solve problem using Cbc solver\n"
     ]
    },
    {
     "name": "stdout",
     "output_type": "stream",
     "text": [
      "\n",
      "\n",
      "Starting with iteration 0\n",
      "\n",
      "\n"
     ]
    },
    {
     "ename": "AssertionError",
     "evalue": "Solver cbc not installed",
     "output_type": "error",
     "traceback": [
      "\u001b[0;31m---------------------------------------------------------------------------\u001b[0m",
      "\u001b[0;31mAssertionError\u001b[0m                            Traceback (most recent call last)",
      "Cell \u001b[0;32mIn[15], line 5\u001b[0m\n\u001b[1;32m      1\u001b[0m \u001b[38;5;28;01mwhile\u001b[39;00m i \u001b[38;5;241m<\u001b[39m \u001b[38;5;241m10\u001b[39m:\n\u001b[1;32m      3\u001b[0m     \u001b[38;5;28mprint\u001b[39m(\u001b[38;5;124m\"\u001b[39m\u001b[38;5;130;01m\\n\u001b[39;00m\u001b[38;5;130;01m\\n\u001b[39;00m\u001b[38;5;124mStarting with iteration \u001b[39m\u001b[38;5;124m\"\u001b[39m \u001b[38;5;241m+\u001b[39m \u001b[38;5;28mstr\u001b[39m(i) \u001b[38;5;241m+\u001b[39m \u001b[38;5;124m\"\u001b[39m\u001b[38;5;130;01m\\n\u001b[39;00m\u001b[38;5;130;01m\\n\u001b[39;00m\u001b[38;5;124m\"\u001b[39m)\n\u001b[0;32m----> 5\u001b[0m     \u001b[43mn1\u001b[49m\u001b[38;5;241;43m.\u001b[39;49m\u001b[43moptimize\u001b[49m\u001b[38;5;241;43m.\u001b[39;49m\u001b[43msolve_model\u001b[49m\u001b[43m(\u001b[49m\u001b[43msolver_name\u001b[49m\u001b[38;5;241;43m=\u001b[39;49m\u001b[38;5;124;43m\"\u001b[39;49m\u001b[38;5;124;43mcbc\u001b[39;49m\u001b[38;5;124;43m\"\u001b[39;49m\u001b[43m)\u001b[49m\n\u001b[1;32m      7\u001b[0m     n2\u001b[38;5;241m.\u001b[39mstores\u001b[38;5;241m.\u001b[39me_initial \u001b[38;5;241m=\u001b[39m n1\u001b[38;5;241m.\u001b[39mstores_t\u001b[38;5;241m.\u001b[39me\u001b[38;5;241m.\u001b[39miloc[\u001b[38;5;241m-\u001b[39m\u001b[38;5;241m1\u001b[39m]\n\u001b[1;32m      9\u001b[0m     n2\u001b[38;5;241m.\u001b[39moptimize(solver_name\u001b[38;5;241m=\u001b[39m\u001b[38;5;124m\"\u001b[39m\u001b[38;5;124mcbc\u001b[39m\u001b[38;5;124m\"\u001b[39m)\n",
      "File \u001b[0;32m~/micromamba/envs/eraa23-new/lib/python3.11/site-packages/pypsa/optimization/optimize.py:673\u001b[0m, in \u001b[0;36mOptimizationAccessor.solve_model\u001b[0;34m(self, extra_functionality, solver_name, solver_options, assign_all_duals, **kwargs)\u001b[0m\n\u001b[1;32m    671\u001b[0m     extra_functionality(n, n\u001b[38;5;241m.\u001b[39msnapshots)\n\u001b[1;32m    672\u001b[0m m \u001b[38;5;241m=\u001b[39m n\u001b[38;5;241m.\u001b[39mmodel\n\u001b[0;32m--> 673\u001b[0m status, condition \u001b[38;5;241m=\u001b[39m \u001b[43mm\u001b[49m\u001b[38;5;241;43m.\u001b[39;49m\u001b[43msolve\u001b[49m\u001b[43m(\u001b[49m\u001b[43msolver_name\u001b[49m\u001b[38;5;241;43m=\u001b[39;49m\u001b[43msolver_name\u001b[49m\u001b[43m,\u001b[49m\u001b[43m \u001b[49m\u001b[38;5;241;43m*\u001b[39;49m\u001b[38;5;241;43m*\u001b[39;49m\u001b[43msolver_options\u001b[49m\u001b[43m,\u001b[49m\u001b[43m \u001b[49m\u001b[38;5;241;43m*\u001b[39;49m\u001b[38;5;241;43m*\u001b[39;49m\u001b[43mkwargs\u001b[49m\u001b[43m)\u001b[49m\n\u001b[1;32m    675\u001b[0m \u001b[38;5;28;01mif\u001b[39;00m status \u001b[38;5;241m==\u001b[39m \u001b[38;5;124m\"\u001b[39m\u001b[38;5;124mok\u001b[39m\u001b[38;5;124m\"\u001b[39m:\n\u001b[1;32m    676\u001b[0m     assign_solution(n)\n",
      "File \u001b[0;32m~/micromamba/envs/eraa23-new/lib/python3.11/site-packages/linopy/model.py:1112\u001b[0m, in \u001b[0;36mModel.solve\u001b[0;34m(self, solver_name, io_api, problem_fn, solution_fn, log_fn, basis_fn, warmstart_fn, keep_files, env, sanitize_zeros, sanitize_infinities, slice_size, remote, progress, **solver_options)\u001b[0m\n\u001b[1;32m   1109\u001b[0m     solver_name \u001b[38;5;241m=\u001b[39m available_solvers[\u001b[38;5;241m0\u001b[39m]\n\u001b[1;32m   1111\u001b[0m logger\u001b[38;5;241m.\u001b[39minfo(\u001b[38;5;124mf\u001b[39m\u001b[38;5;124m\"\u001b[39m\u001b[38;5;124m Solve problem using \u001b[39m\u001b[38;5;132;01m{\u001b[39;00msolver_name\u001b[38;5;241m.\u001b[39mtitle()\u001b[38;5;132;01m}\u001b[39;00m\u001b[38;5;124m solver\u001b[39m\u001b[38;5;124m\"\u001b[39m)\n\u001b[0;32m-> 1112\u001b[0m \u001b[38;5;28;01massert\u001b[39;00m solver_name \u001b[38;5;129;01min\u001b[39;00m available_solvers, \u001b[38;5;124mf\u001b[39m\u001b[38;5;124m\"\u001b[39m\u001b[38;5;124mSolver \u001b[39m\u001b[38;5;132;01m{\u001b[39;00msolver_name\u001b[38;5;132;01m}\u001b[39;00m\u001b[38;5;124m not installed\u001b[39m\u001b[38;5;124m\"\u001b[39m\n\u001b[1;32m   1114\u001b[0m \u001b[38;5;66;03m# reset result\u001b[39;00m\n\u001b[1;32m   1115\u001b[0m \u001b[38;5;28mself\u001b[39m\u001b[38;5;241m.\u001b[39mreset_solution()\n",
      "\u001b[0;31mAssertionError\u001b[0m: Solver cbc not installed"
     ]
    }
   ],
   "source": [
    "while i < 10:\n",
    "    \n",
    "    print(\"\\n\\nStarting with iteration \" + str(i) + \"\\n\\n\")\n",
    "\n",
    "    n1.optimize.solve_model(solver_name=\"cbc\")\n",
    "\n",
    "    n2.stores.e_initial = n1.stores_t.e.iloc[-1]\n",
    "\n",
    "    n2.optimize(solver_name=\"cbc\")\n",
    "\n",
    "    h_p, u_p = optimality_cut_parameters(n2)\n",
    "\n",
    "    h_p[\"Store-energy_balance\"].loc[n2.snapshots[0], \"rhs\"] = 0\n",
    "\n",
    "    T_p = pd.DataFrame(0, h_p['Store-energy_balance'].index, n2.stores.index)\n",
    "\n",
    "    for store in n2.stores.index:\n",
    "        T_p.loc[(n2.snapshots[0], store), store] = 1\n",
    "\n",
    "    E_p = T_p.multiply(u_p[\"Store-energy_balance\"].dual, axis=0).sum()\n",
    "\n",
    "    e_p = sum(u_p[c].dual.multiply(h_p[c].rhs).sum() for c in n2.model.constraints)\n",
    "\n",
    "    store_e = n1.model[\"Store-e\"]\n",
    "\n",
    "    n1.model.add_constraints(\n",
    "        (\n",
    "            store_e.loc[n1.snapshots[-1]]\n",
    "            *E_p.to_xarray()\n",
    "        ).sum()\n",
    "        + n1.model.variables.theta >= e_p\n",
    "    )\n",
    "    \n",
    "    if n1.model.solution.theta.to_dict()[\"data\"] >= n2.objective:\n",
    "        break\n",
    "    \n",
    "    i+=1"
   ]
  },
  {
   "cell_type": "code",
   "execution_count": null,
   "id": "df3bf669-c4ae-4c1f-8920-9ccb4c480d63",
   "metadata": {},
   "outputs": [],
   "source": []
  },
  {
   "cell_type": "code",
   "execution_count": 33,
   "id": "86b0141d-71fa-4045-b548-5511bd47f72e",
   "metadata": {},
   "outputs": [
    {
     "data": {
      "text/plain": [
       "<AxesSubplot:xlabel='Store'>"
      ]
     },
     "execution_count": 33,
     "metadata": {},
     "output_type": "execute_result"
    },
    {
     "data": {
      "image/png": "[encoded data removed]",
      "text/plain": [
       "<Figure size 640x480 with 1 Axes>"
      ]
     },
     "metadata": {},
     "output_type": "display_data"
    }
   ],
   "source": [
    "n2.stores.e_initial.plot.bar()"
   ]
  },
  {
   "cell_type": "code",
   "execution_count": 29,
   "id": "8c35ea4f-3f5b-4b42-a283-f341aefe5310",
   "metadata": {},
   "outputs": [
    {
     "data": {
      "text/plain": [
       "<AxesSubplot:xlabel='Store'>"
      ]
     },
     "execution_count": 29,
     "metadata": {},
     "output_type": "execute_result"
    },
    {
     "data": {
      "image/png": "[encoded data removed]",
      "text/plain": [
       "<Figure size 640x480 with 1 Axes>"
      ]
     },
     "metadata": {},
     "output_type": "display_data"
    }
   ],
   "source": []
  },
  {
   "cell_type": "code",
   "execution_count": null,
   "id": "269f3783-4b72-4ba8-a00b-d197ca0d717f",
   "metadata": {},
   "outputs": [],
   "source": []
  },
  {
   "cell_type": "code",
   "execution_count": null,
   "id": "43fc806c-23af-4f2f-ab6e-a4943b7da6b5",
   "metadata": {},
   "outputs": [],
   "source": []
  },
  {
   "cell_type": "code",
   "execution_count": null,
   "id": "82695c5f-f504-49a8-b08c-0810bbb874fc",
   "metadata": {},
   "outputs": [],
   "source": []
  },
  {
   "cell_type": "code",
   "execution_count": null,
   "id": "794ec995-8939-4f5c-af17-a7214a4f0ac6",
   "metadata": {},
   "outputs": [],
   "source": []
  },
  {
   "cell_type": "code",
   "execution_count": null,
   "id": "6e5a122d-6c9c-4e22-b296-9f8d3e61ebc4",
   "metadata": {},
   "outputs": [],
   "source": []
  },
  {
   "cell_type": "code",
   "execution_count": null,
   "id": "a5e721d6-575b-4541-a87d-1febb7278f73",
   "metadata": {},
   "outputs": [],
   "source": []
  },
  {
   "cell_type": "code",
   "execution_count": null,
   "id": "30b7c780-0cd1-450e-bbe3-fb3951e7a6fd",
   "metadata": {},
   "outputs": [],
   "source": []
  },
  {
   "cell_type": "code",
   "execution_count": null,
   "id": "7db61562-e9de-46df-9cc6-c4abf3f62c33",
   "metadata": {},
   "outputs": [],
   "source": []
  },
  {
   "cell_type": "code",
   "execution_count": null,
   "id": "feb21f51-4b80-4c70-9128-fc196402d8bd",
   "metadata": {},
   "outputs": [],
   "source": []
  },
  {
   "cell_type": "code",
   "execution_count": null,
   "id": "ff202246-cc3b-403b-9f8c-10e4ab749062",
   "metadata": {},
   "outputs": [],
   "source": []
  },
  {
   "cell_type": "code",
   "execution_count": null,
   "id": "560afefc-2c43-418a-b51a-8d69914db8e3",
   "metadata": {},
   "outputs": [],
   "source": []
  },
  {
   "cell_type": "code",
   "execution_count": null,
   "id": "ed0d48c9-be3d-4bda-8796-a150ea3f7549",
   "metadata": {},
   "outputs": [],
   "source": []
  },
  {
   "cell_type": "code",
   "execution_count": 15,
   "id": "ab61f3d9-4caf-4cb6-a3d8-36fed7ab8359",
   "metadata": {
    "collapsed": true,
    "jupyter": {
     "outputs_hidden": true
    },
    "tags": []
   },
   "outputs": [
    {
     "name": "stderr",
     "output_type": "stream",
     "text": [
      "WARNING:pypsa.components:The following transformers have zero r, which could break the linear load flow:\n",
      "Index(['2', '5', '10', '12', '13', '15', '18', '20', '22', '24', '26', '30',\n",
      "       '32', '37', '42', '46', '52', '56', '61', '68', '69', '74', '78', '86',\n",
      "       '87', '94', '95', '96', '99', '100', '104', '105', '106', '107', '117',\n",
      "       '120', '123', '124', '125', '128', '129', '138', '143', '156', '157',\n",
      "       '159', '160', '165', '184', '191', '195', '201', '220', '231', '232',\n",
      "       '233', '236', '247', '248', '250', '251', '252', '261', '263', '264',\n",
      "       '267', '272', '279', '281', '282', '292', '303', '307', '308', '312',\n",
      "       '315', '317', '322', '332', '334', '336', '338', '351', '353', '360',\n",
      "       '362', '382', '384', '385', '391', '403', '404', '413', '421', '450',\n",
      "       '458'],\n",
      "      dtype='object', name='Transformer')\n",
      "WARNING:pypsa.components:The following transformers have zero r, which could break the linear load flow:\n",
      "Index(['2', '5', '10', '12', '13', '15', '18', '20', '22', '24', '26', '30',\n",
      "       '32', '37', '42', '46', '52', '56', '61', '68', '69', '74', '78', '86',\n",
      "       '87', '94', '95', '96', '99', '100', '104', '105', '106', '107', '117',\n",
      "       '120', '123', '124', '125', '128', '129', '138', '143', '156', '157',\n",
      "       '159', '160', '165', '184', '191', '195', '201', '220', '231', '232',\n",
      "       '233', '236', '247', '248', '250', '251', '252', '261', '263', '264',\n",
      "       '267', '272', '279', '281', '282', '292', '303', '307', '308', '312',\n",
      "       '315', '317', '322', '332', '334', '336', '338', '351', '353', '360',\n",
      "       '362', '382', '384', '385', '391', '403', '404', '413', '421', '450',\n",
      "       '458'],\n",
      "      dtype='object', name='Transformer')\n",
      "/home/thomgeo/conda/envs/thomgeo/envs/pypsa-eur/lib/python3.10/site-packages/linopy/expressions.py:176: FutureWarning: the `pandas.MultiIndex` object(s) passed as 'Generator' coordinate(s) or data variable(s) will no longer be implicitly promoted and wrapped into multiple indexed coordinates in the future (i.e., one coordinate for each multi-index level + one dimension coordinate). If you want to keep this behavior, you need to first wrap it explicitly using `mindex_coords = xarray.Coordinates.from_pandas_multiindex(mindex_obj, 'dim')` and pass it as coordinates, e.g., `xarray.Dataset(coords=mindex_coords)`, `dataset.assign_coords(mindex_coords)` or `dataarray.assign_coords(mindex_coords)`.\n",
      "  ds = self.data.assign_coords({group_dim: idx})\n",
      "/home/thomgeo/conda/envs/thomgeo/envs/pypsa-eur/lib/python3.10/site-packages/linopy/expressions.py:176: FutureWarning: the `pandas.MultiIndex` object(s) passed as 'Store' coordinate(s) or data variable(s) will no longer be implicitly promoted and wrapped into multiple indexed coordinates in the future (i.e., one coordinate for each multi-index level + one dimension coordinate). If you want to keep this behavior, you need to first wrap it explicitly using `mindex_coords = xarray.Coordinates.from_pandas_multiindex(mindex_obj, 'dim')` and pass it as coordinates, e.g., `xarray.Dataset(coords=mindex_coords)`, `dataset.assign_coords(mindex_coords)` or `dataarray.assign_coords(mindex_coords)`.\n",
      "  ds = self.data.assign_coords({group_dim: idx})\n",
      "/home/thomgeo/conda/envs/thomgeo/envs/pypsa-eur/lib/python3.10/site-packages/linopy/expressions.py:176: FutureWarning: the `pandas.MultiIndex` object(s) passed as 'Line' coordinate(s) or data variable(s) will no longer be implicitly promoted and wrapped into multiple indexed coordinates in the future (i.e., one coordinate for each multi-index level + one dimension coordinate). If you want to keep this behavior, you need to first wrap it explicitly using `mindex_coords = xarray.Coordinates.from_pandas_multiindex(mindex_obj, 'dim')` and pass it as coordinates, e.g., `xarray.Dataset(coords=mindex_coords)`, `dataset.assign_coords(mindex_coords)` or `dataarray.assign_coords(mindex_coords)`.\n",
      "  ds = self.data.assign_coords({group_dim: idx})\n",
      "/home/thomgeo/conda/envs/thomgeo/envs/pypsa-eur/lib/python3.10/site-packages/linopy/expressions.py:176: FutureWarning: the `pandas.MultiIndex` object(s) passed as 'Line' coordinate(s) or data variable(s) will no longer be implicitly promoted and wrapped into multiple indexed coordinates in the future (i.e., one coordinate for each multi-index level + one dimension coordinate). If you want to keep this behavior, you need to first wrap it explicitly using `mindex_coords = xarray.Coordinates.from_pandas_multiindex(mindex_obj, 'dim')` and pass it as coordinates, e.g., `xarray.Dataset(coords=mindex_coords)`, `dataset.assign_coords(mindex_coords)` or `dataarray.assign_coords(mindex_coords)`.\n",
      "  ds = self.data.assign_coords({group_dim: idx})\n",
      "/home/thomgeo/conda/envs/thomgeo/envs/pypsa-eur/lib/python3.10/site-packages/linopy/expressions.py:176: FutureWarning: the `pandas.MultiIndex` object(s) passed as 'Transformer' coordinate(s) or data variable(s) will no longer be implicitly promoted and wrapped into multiple indexed coordinates in the future (i.e., one coordinate for each multi-index level + one dimension coordinate). If you want to keep this behavior, you need to first wrap it explicitly using `mindex_coords = xarray.Coordinates.from_pandas_multiindex(mindex_obj, 'dim')` and pass it as coordinates, e.g., `xarray.Dataset(coords=mindex_coords)`, `dataset.assign_coords(mindex_coords)` or `dataarray.assign_coords(mindex_coords)`.\n",
      "  ds = self.data.assign_coords({group_dim: idx})\n",
      "/home/thomgeo/conda/envs/thomgeo/envs/pypsa-eur/lib/python3.10/site-packages/linopy/expressions.py:176: FutureWarning: the `pandas.MultiIndex` object(s) passed as 'Transformer' coordinate(s) or data variable(s) will no longer be implicitly promoted and wrapped into multiple indexed coordinates in the future (i.e., one coordinate for each multi-index level + one dimension coordinate). If you want to keep this behavior, you need to first wrap it explicitly using `mindex_coords = xarray.Coordinates.from_pandas_multiindex(mindex_obj, 'dim')` and pass it as coordinates, e.g., `xarray.Dataset(coords=mindex_coords)`, `dataset.assign_coords(mindex_coords)` or `dataarray.assign_coords(mindex_coords)`.\n",
      "  ds = self.data.assign_coords({group_dim: idx})\n",
      "/home/thomgeo/conda/envs/thomgeo/envs/pypsa-eur/lib/python3.10/site-packages/linopy/expressions.py:176: FutureWarning: the `pandas.MultiIndex` object(s) passed as 'Link' coordinate(s) or data variable(s) will no longer be implicitly promoted and wrapped into multiple indexed coordinates in the future (i.e., one coordinate for each multi-index level + one dimension coordinate). If you want to keep this behavior, you need to first wrap it explicitly using `mindex_coords = xarray.Coordinates.from_pandas_multiindex(mindex_obj, 'dim')` and pass it as coordinates, e.g., `xarray.Dataset(coords=mindex_coords)`, `dataset.assign_coords(mindex_coords)` or `dataarray.assign_coords(mindex_coords)`.\n",
      "  ds = self.data.assign_coords({group_dim: idx})\n",
      "/home/thomgeo/conda/envs/thomgeo/envs/pypsa-eur/lib/python3.10/site-packages/linopy/expressions.py:176: FutureWarning: the `pandas.MultiIndex` object(s) passed as 'Link' coordinate(s) or data variable(s) will no longer be implicitly promoted and wrapped into multiple indexed coordinates in the future (i.e., one coordinate for each multi-index level + one dimension coordinate). If you want to keep this behavior, you need to first wrap it explicitly using `mindex_coords = xarray.Coordinates.from_pandas_multiindex(mindex_obj, 'dim')` and pass it as coordinates, e.g., `xarray.Dataset(coords=mindex_coords)`, `dataset.assign_coords(mindex_coords)` or `dataarray.assign_coords(mindex_coords)`.\n",
      "  ds = self.data.assign_coords({group_dim: idx})\n",
      "INFO:linopy.model: Solve problem using Cbc solver\n",
      "INFO:linopy.io:Writing objective.\n",
      "Writing constraints.: 100% 13/13 [00:00<00:00, 36.18it/s]\n",
      "Writing continuous variables.: 100% 7/7 [00:00<00:00, 113.10it/s]\n",
      "INFO:linopy.io: Writing time: 0.44s\n",
      "INFO:linopy.constants: Optimization successful: \n",
      "Status: ok\n",
      "Termination condition: optimal\n",
      "Solution: 30733 primals, 72852 duals\n",
      "Objective: -7.89e+06\n",
      "Solver model: not available\n",
      "Solver message: Optimal - objective value -7888268.00038694\n",
      "\n",
      "\n"
     ]
    },
    {
     "name": "stdout",
     "output_type": "stream",
     "text": [
      "Welcome to the CBC MILP Solver \n",
      "Version: 2.10.10 \n",
      "Build Date: Apr 19 2023 \n",
      "\n",
      "command line - cbc -printingOptions all -import /tmp/linopy-problem-yukou5k9.lp -solve -solu /tmp/linopy-solve-3hgv00av.sol (default strategy 1)\n",
      "Option for printingOptions changed from normal to all\n",
      "Presolve 7294 (-65558) rows, 13713 (-17020) columns and 45881 (-87029) elements\n",
      "Perturbing problem by 0.001% of 2155.1063 - largest nonzero change 0.00099885507 ( 0.04638933%) - largest zero change 0.00099882928\n",
      "0  Obj -9902183.8 Primal inf 23792309 (6680) Dual inf 375.24321 (4)\n",
      "220  Obj -9996211.8 Primal inf 17434132 (6639)\n",
      "440  Obj -9996210.4 Primal inf 15726518 (6541)\n",
      "660  Obj -9996209.5 Primal inf 15135100 (6484)\n",
      "880  Obj -9996209.2 Primal inf 14419221 (6392)\n",
      "1100  Obj -9996208.4 Primal inf 14310985 (6336)\n",
      "1320  Obj -9996207.3 Primal inf 13268956 (6230)\n",
      "1540  Obj -9996205.9 Primal inf 13067803 (6133)\n",
      "1760  Obj -9996205.4 Primal inf 12334628 (6024)\n",
      "1980  Obj -9996204.6 Primal inf 12887216 (5991)\n",
      "2200  Obj -9996201.9 Primal inf 13217220 (5918)\n",
      "2420  Obj -9996195.9 Primal inf 16127827 (5876)\n",
      "2640  Obj -9996191.7 Primal inf 15298934 (5732)\n",
      "2860  Obj -9996186.2 Primal inf 15389563 (5585)\n",
      "3080  Obj -9996181.2 Primal inf 19094893 (5411)\n",
      "3300  Obj -9996176.5 Primal inf 14298309 (5276)\n",
      "3520  Obj -9996174.6 Primal inf 17406289 (5254)\n",
      "3740  Obj -9996169.6 Primal inf 14441100 (5112)\n",
      "3960  Obj -9996164.2 Primal inf 16557925 (4962)\n",
      "4180  Obj -9996153.3 Primal inf 21230391 (4821)\n",
      "4400  Obj -9996141.8 Primal inf 30123587 (4655)\n",
      "4620  Obj -9996134.9 Primal inf 14953378 (4640)\n",
      "4840  Obj -9996125 Primal inf 18352765 (4673)\n",
      "5060  Obj -9996118.5 Primal inf 16115768 (4356)\n",
      "5280  Obj -9996111.1 Primal inf 22163833 (4058)\n",
      "5500  Obj -9996098.8 Primal inf 50578911 (3998)\n",
      "5720  Obj -9996090.5 Primal inf 53666308 (3748)\n",
      "5940  Obj -9996082.5 Primal inf 61034831 (3507)\n",
      "6160  Obj -9996069.7 Primal inf 24462323 (3183)\n",
      "6380  Obj -9996060.1 Primal inf 21122244 (2829)\n",
      "6600  Obj -9996051.5 Primal inf 13068364 (2449)\n",
      "6820  Obj -9996042.8 Primal inf 9780958.3 (2457)\n",
      "7040  Obj -9996033 Primal inf 6401721.8 (2241)\n",
      "7260  Obj -9976582.7 Primal inf 11462585 (2134)\n",
      "7480  Obj -9831188.7 Primal inf 4407287.9 (1668)\n",
      "7700  Obj -9570459 Primal inf 3188826.1 (1501)\n",
      "7920  Obj -9150944 Primal inf 3276268.8 (1537)\n",
      "8140  Obj -8855015.8 Primal inf 5289218.2 (1136)\n",
      "8360  Obj -8590938.7 Primal inf 12867424 (1559)\n",
      "8580  Obj -8390030.3 Primal inf 11716250 (914)\n",
      "8800  Obj -8255590.2 Primal inf 1912730.9 (584)\n",
      "9020  Obj -7983643.7 Primal inf 18263.755 (306)\n",
      "9240  Obj -7908233.1 Primal inf 5187.7525 (173)\n",
      "9460  Obj -7888517.9 Primal inf 36.804225 (33)\n",
      "9498  Obj -7888244.8\n",
      "9498  Obj -7888268 Dual inf 0.0011997762 (17)\n",
      "9519  Obj -7888268\n",
      "Optimal - objective value -7888268\n",
      "After Postsolve, objective -7888268, infeasibilities - dual 221.01603 (12), primal 2.7100111e-06 (10)\n",
      "Presolved model was optimal, full model needs cleaning up\n",
      "0  Obj -7888268 Dual inf 2.2038708 (10)\n",
      "End of values pass after 28 iterations\n",
      "28  Obj -7888268\n",
      "Optimal - objective value -7888268\n",
      "Optimal objective -7888268 - 9547 iterations time 1.492, Presolve 0.07\n",
      "Total time (CPU seconds):       2.27   (Wallclock seconds):       2.02\n",
      "\n"
     ]
    },
    {
     "name": "stderr",
     "output_type": "stream",
     "text": [
      "INFO:pypsa.optimization.optimize:The shadow-prices of the constraints Generator-fix-p-lower, Generator-fix-p-upper, Line-fix-s-lower, Line-fix-s-upper, Transformer-fix-s-lower, Transformer-fix-s-upper, Link-fix-p-lower, Link-fix-p-upper, Store-fix-e-lower, Store-fix-e-upper, Kirchhoff-Voltage-Law, Store-energy_balance were not assigned to the network.\n"
     ]
    },
    {
     "data": {
      "text/plain": [
       "('ok', 'optimal')"
      ]
     },
     "execution_count": 15,
     "metadata": {},
     "output_type": "execute_result"
    }
   ],
   "source": [
    "n1.optimize(\n",
    "    solver_name=\"cbc\", \n",
    "    extra_functionality=add_theta\n",
    ")"
   ]
  },
  {
   "cell_type": "code",
   "execution_count": 114,
   "id": "1c2f4fef-1ee5-492b-87c3-1cd165499c9a",
   "metadata": {},
   "outputs": [],
   "source": [
    "n2.stores.e_initial = n1.stores_t.e.iloc[-1]"
   ]
  },
  {
   "cell_type": "code",
   "execution_count": 115,
   "id": "aada1e68-f33c-4504-b0a9-703ad3e26944",
   "metadata": {
    "collapsed": true,
    "jupyter": {
     "outputs_hidden": true
    },
    "tags": []
   },
   "outputs": [
    {
     "name": "stderr",
     "output_type": "stream",
     "text": [
      "WARNING:pypsa.components:The following transformers have zero r, which could break the linear load flow:\n",
      "Index(['2', '5', '10', '12', '13', '15', '18', '20', '22', '24', '26', '30',\n",
      "       '32', '37', '42', '46', '52', '56', '61', '68', '69', '74', '78', '86',\n",
      "       '87', '94', '95', '96', '99', '100', '104', '105', '106', '107', '117',\n",
      "       '120', '123', '124', '125', '128', '129', '138', '143', '156', '157',\n",
      "       '159', '160', '165', '184', '191', '195', '201', '220', '231', '232',\n",
      "       '233', '236', '247', '248', '250', '251', '252', '261', '263', '264',\n",
      "       '267', '272', '279', '281', '282', '292', '303', '307', '308', '312',\n",
      "       '315', '317', '322', '332', '334', '336', '338', '351', '353', '360',\n",
      "       '362', '382', '384', '385', '391', '403', '404', '413', '421', '450',\n",
      "       '458'],\n",
      "      dtype='object', name='Transformer')\n",
      "WARNING:pypsa.components:The following transformers have zero r, which could break the linear load flow:\n",
      "Index(['2', '5', '10', '12', '13', '15', '18', '20', '22', '24', '26', '30',\n",
      "       '32', '37', '42', '46', '52', '56', '61', '68', '69', '74', '78', '86',\n",
      "       '87', '94', '95', '96', '99', '100', '104', '105', '106', '107', '117',\n",
      "       '120', '123', '124', '125', '128', '129', '138', '143', '156', '157',\n",
      "       '159', '160', '165', '184', '191', '195', '201', '220', '231', '232',\n",
      "       '233', '236', '247', '248', '250', '251', '252', '261', '263', '264',\n",
      "       '267', '272', '279', '281', '282', '292', '303', '307', '308', '312',\n",
      "       '315', '317', '322', '332', '334', '336', '338', '351', '353', '360',\n",
      "       '362', '382', '384', '385', '391', '403', '404', '413', '421', '450',\n",
      "       '458'],\n",
      "      dtype='object', name='Transformer')\n",
      "/home/thomgeo/conda/envs/thomgeo/envs/pypsa-eur/lib/python3.10/site-packages/linopy/expressions.py:176: FutureWarning: the `pandas.MultiIndex` object(s) passed as 'Generator' coordinate(s) or data variable(s) will no longer be implicitly promoted and wrapped into multiple indexed coordinates in the future (i.e., one coordinate for each multi-index level + one dimension coordinate). If you want to keep this behavior, you need to first wrap it explicitly using `mindex_coords = xarray.Coordinates.from_pandas_multiindex(mindex_obj, 'dim')` and pass it as coordinates, e.g., `xarray.Dataset(coords=mindex_coords)`, `dataset.assign_coords(mindex_coords)` or `dataarray.assign_coords(mindex_coords)`.\n",
      "  ds = self.data.assign_coords({group_dim: idx})\n",
      "/home/thomgeo/conda/envs/thomgeo/envs/pypsa-eur/lib/python3.10/site-packages/linopy/expressions.py:176: FutureWarning: the `pandas.MultiIndex` object(s) passed as 'Store' coordinate(s) or data variable(s) will no longer be implicitly promoted and wrapped into multiple indexed coordinates in the future (i.e., one coordinate for each multi-index level + one dimension coordinate). If you want to keep this behavior, you need to first wrap it explicitly using `mindex_coords = xarray.Coordinates.from_pandas_multiindex(mindex_obj, 'dim')` and pass it as coordinates, e.g., `xarray.Dataset(coords=mindex_coords)`, `dataset.assign_coords(mindex_coords)` or `dataarray.assign_coords(mindex_coords)`.\n",
      "  ds = self.data.assign_coords({group_dim: idx})\n",
      "/home/thomgeo/conda/envs/thomgeo/envs/pypsa-eur/lib/python3.10/site-packages/linopy/expressions.py:176: FutureWarning: the `pandas.MultiIndex` object(s) passed as 'Line' coordinate(s) or data variable(s) will no longer be implicitly promoted and wrapped into multiple indexed coordinates in the future (i.e., one coordinate for each multi-index level + one dimension coordinate). If you want to keep this behavior, you need to first wrap it explicitly using `mindex_coords = xarray.Coordinates.from_pandas_multiindex(mindex_obj, 'dim')` and pass it as coordinates, e.g., `xarray.Dataset(coords=mindex_coords)`, `dataset.assign_coords(mindex_coords)` or `dataarray.assign_coords(mindex_coords)`.\n",
      "  ds = self.data.assign_coords({group_dim: idx})\n",
      "/home/thomgeo/conda/envs/thomgeo/envs/pypsa-eur/lib/python3.10/site-packages/linopy/expressions.py:176: FutureWarning: the `pandas.MultiIndex` object(s) passed as 'Line' coordinate(s) or data variable(s) will no longer be implicitly promoted and wrapped into multiple indexed coordinates in the future (i.e., one coordinate for each multi-index level + one dimension coordinate). If you want to keep this behavior, you need to first wrap it explicitly using `mindex_coords = xarray.Coordinates.from_pandas_multiindex(mindex_obj, 'dim')` and pass it as coordinates, e.g., `xarray.Dataset(coords=mindex_coords)`, `dataset.assign_coords(mindex_coords)` or `dataarray.assign_coords(mindex_coords)`.\n",
      "  ds = self.data.assign_coords({group_dim: idx})\n",
      "/home/thomgeo/conda/envs/thomgeo/envs/pypsa-eur/lib/python3.10/site-packages/linopy/expressions.py:176: FutureWarning: the `pandas.MultiIndex` object(s) passed as 'Transformer' coordinate(s) or data variable(s) will no longer be implicitly promoted and wrapped into multiple indexed coordinates in the future (i.e., one coordinate for each multi-index level + one dimension coordinate). If you want to keep this behavior, you need to first wrap it explicitly using `mindex_coords = xarray.Coordinates.from_pandas_multiindex(mindex_obj, 'dim')` and pass it as coordinates, e.g., `xarray.Dataset(coords=mindex_coords)`, `dataset.assign_coords(mindex_coords)` or `dataarray.assign_coords(mindex_coords)`.\n",
      "  ds = self.data.assign_coords({group_dim: idx})\n",
      "/home/thomgeo/conda/envs/thomgeo/envs/pypsa-eur/lib/python3.10/site-packages/linopy/expressions.py:176: FutureWarning: the `pandas.MultiIndex` object(s) passed as 'Transformer' coordinate(s) or data variable(s) will no longer be implicitly promoted and wrapped into multiple indexed coordinates in the future (i.e., one coordinate for each multi-index level + one dimension coordinate). If you want to keep this behavior, you need to first wrap it explicitly using `mindex_coords = xarray.Coordinates.from_pandas_multiindex(mindex_obj, 'dim')` and pass it as coordinates, e.g., `xarray.Dataset(coords=mindex_coords)`, `dataset.assign_coords(mindex_coords)` or `dataarray.assign_coords(mindex_coords)`.\n",
      "  ds = self.data.assign_coords({group_dim: idx})\n",
      "/home/thomgeo/conda/envs/thomgeo/envs/pypsa-eur/lib/python3.10/site-packages/linopy/expressions.py:176: FutureWarning: the `pandas.MultiIndex` object(s) passed as 'Link' coordinate(s) or data variable(s) will no longer be implicitly promoted and wrapped into multiple indexed coordinates in the future (i.e., one coordinate for each multi-index level + one dimension coordinate). If you want to keep this behavior, you need to first wrap it explicitly using `mindex_coords = xarray.Coordinates.from_pandas_multiindex(mindex_obj, 'dim')` and pass it as coordinates, e.g., `xarray.Dataset(coords=mindex_coords)`, `dataset.assign_coords(mindex_coords)` or `dataarray.assign_coords(mindex_coords)`.\n",
      "  ds = self.data.assign_coords({group_dim: idx})\n",
      "/home/thomgeo/conda/envs/thomgeo/envs/pypsa-eur/lib/python3.10/site-packages/linopy/expressions.py:176: FutureWarning: the `pandas.MultiIndex` object(s) passed as 'Link' coordinate(s) or data variable(s) will no longer be implicitly promoted and wrapped into multiple indexed coordinates in the future (i.e., one coordinate for each multi-index level + one dimension coordinate). If you want to keep this behavior, you need to first wrap it explicitly using `mindex_coords = xarray.Coordinates.from_pandas_multiindex(mindex_obj, 'dim')` and pass it as coordinates, e.g., `xarray.Dataset(coords=mindex_coords)`, `dataset.assign_coords(mindex_coords)` or `dataarray.assign_coords(mindex_coords)`.\n",
      "  ds = self.data.assign_coords({group_dim: idx})\n",
      "INFO:linopy.model: Solve problem using Cbc solver\n",
      "INFO:linopy.io:Writing objective.\n",
      "Writing constraints.: 100% 13/13 [00:00<00:00, 34.53it/s]\n",
      "Writing continuous variables.: 100% 6/6 [00:00<00:00, 88.13it/s]\n",
      "INFO:linopy.io: Writing time: 0.46s\n",
      "INFO:linopy.constants: Optimization successful: \n",
      "Status: ok\n",
      "Termination condition: optimal\n",
      "Solution: 30732 primals, 72852 duals\n",
      "Objective: 4.76e+06\n",
      "Solver model: not available\n",
      "Solver message: Optimal - objective value 4760372.95216812\n",
      "\n",
      "\n"
     ]
    },
    {
     "name": "stdout",
     "output_type": "stream",
     "text": [
      "Welcome to the CBC MILP Solver \n",
      "Version: 2.10.10 \n",
      "Build Date: Apr 19 2023 \n",
      "\n",
      "command line - cbc -printingOptions all -import /tmp/linopy-problem-1gn0d4yz.lp -solve -solu /tmp/linopy-solve-d99g_q4t.sol (default strategy 1)\n",
      "Option for printingOptions changed from normal to all\n",
      "Presolve 7333 (-65519) rows, 13806 (-16926) columns and 46091 (-86819) elements\n",
      "Perturbing problem by 0.001% of 6864.1841 - largest nonzero change 0.00099766078 ( 0.0031661008%) - largest zero change 0.00099761978\n",
      "0  Obj 186427.8 Primal inf 25074855 (6824) Dual inf 2640.3198 (7)\n",
      "221  Obj 33325.832 Primal inf 17968976 (6753)\n",
      "442  Obj 33326.537 Primal inf 15555408 (6613)\n",
      "663  Obj 33327.408 Primal inf 14817041 (6577)\n",
      "884  Obj 33328.368 Primal inf 15068869 (6503)\n",
      "1105  Obj 33328.44 Primal inf 14390178 (6395)\n",
      "1326  Obj 33328.606 Primal inf 14848293 (6331)\n",
      "1547  Obj 33329.266 Primal inf 12487884 (6192)\n",
      "1768  Obj 33329.664 Primal inf 13052672 (6110)\n",
      "1989  Obj 33330.042 Primal inf 17840379 (6051)\n",
      "2210  Obj 33332.283 Primal inf 17661028 (5974)\n",
      "2431  Obj 33335.489 Primal inf 14494608 (5884)\n",
      "2652  Obj 33340.89 Primal inf 13313684 (5712)\n",
      "2873  Obj 33344.632 Primal inf 11037630 (5524)\n",
      "3094  Obj 33347.105 Primal inf 31589229 (5461)\n",
      "3315  Obj 33348.757 Primal inf 11511324 (5308)\n",
      "3536  Obj 33351.635 Primal inf 11857674 (5186)\n",
      "3757  Obj 33353.813 Primal inf 23781217 (5059)\n",
      "3978  Obj 33356.297 Primal inf 20902798 (4855)\n",
      "4199  Obj 33359.338 Primal inf 12925048 (4726)\n",
      "4420  Obj 33362.057 Primal inf 12988944 (4644)\n",
      "4641  Obj 33364.739 Primal inf 15437388 (4555)\n",
      "4862  Obj 33370.323 Primal inf 15484080 (4377)\n",
      "5083  Obj 33373.967 Primal inf 38401833 (4469)\n",
      "5304  Obj 33378.576 Primal inf 52254432 (4216)\n",
      "5525  Obj 33385.15 Primal inf 25119434 (3875)\n",
      "5746  Obj 33389.307 Primal inf 27265147 (3723)\n",
      "5967  Obj 33392.949 Primal inf 25661276 (3352)\n",
      "6188  Obj 33397.499 Primal inf 11188231 (2973)\n",
      "6409  Obj 33401.669 Primal inf 23680977 (3016)\n",
      "6630  Obj 33407.044 Primal inf 6256674.9 (2726)\n",
      "6851  Obj 66210.431 Primal inf 4888266.3 (2412)\n",
      "7072  Obj 151764.71 Primal inf 5224519.3 (2175)\n",
      "7293  Obj 536061.59 Primal inf 5221535.8 (2242)\n",
      "7514  Obj 596161.67 Primal inf 1573768.4 (1772)\n",
      "7735  Obj 1113019.6 Primal inf 1640976 (1449)\n",
      "7956  Obj 1911646.6 Primal inf 1534489.8 (1310)\n",
      "8177  Obj 2803087 Primal inf 1515617.7 (1021)\n",
      "8398  Obj 3658789.7 Primal inf 71098.237 (728)\n",
      "8619  Obj 4137672.5 Primal inf 100190.65 (674)\n",
      "8840  Obj 4447490 Primal inf 17052.84 (421)\n",
      "9061  Obj 4684426.6 Primal inf 27611.187 (371)\n",
      "9282  Obj 4754172.7 Primal inf 8004.7706 (212)\n",
      "9503  Obj 4760256.6 Primal inf 277.31823 (27)\n",
      "9538  Obj 4760386.3\n",
      "Optimal - objective value 4760373\n",
      "After Postsolve, objective 4760373, infeasibilities - dual 276.1193 (11), primal 2.8026293e-06 (11)\n",
      "Presolved model was optimal, full model needs cleaning up\n",
      "0  Obj 4760373 Primal inf 6.3133676e-07 (1) Dual inf 1e+08 (12)\n",
      "End of values pass after 12 iterations\n",
      "12  Obj 4760373\n",
      "Optimal - objective value 4760373\n",
      "Optimal objective 4760372.952 - 9550 iterations time 1.722, Presolve 0.09\n",
      "Total time (CPU seconds):       2.56   (Wallclock seconds):       2.40\n",
      "\n"
     ]
    },
    {
     "name": "stderr",
     "output_type": "stream",
     "text": [
      "INFO:pypsa.optimization.optimize:The shadow-prices of the constraints Generator-fix-p-lower, Generator-fix-p-upper, Line-fix-s-lower, Line-fix-s-upper, Transformer-fix-s-lower, Transformer-fix-s-upper, Link-fix-p-lower, Link-fix-p-upper, Store-fix-e-lower, Store-fix-e-upper, Kirchhoff-Voltage-Law, Store-energy_balance were not assigned to the network.\n"
     ]
    },
    {
     "data": {
      "text/plain": [
       "('ok', 'optimal')"
      ]
     },
     "execution_count": 115,
     "metadata": {},
     "output_type": "execute_result"
    }
   ],
   "source": [
    "n2.optimize(\n",
    "    solver_name=\"cbc\", \n",
    "    #extra_functionality=add_theta\n",
    ")"
   ]
  },
  {
   "cell_type": "code",
   "execution_count": 116,
   "id": "12e52886-1514-48c8-b1df-2ae8c6cacc2e",
   "metadata": {},
   "outputs": [],
   "source": [
    "E = ((n2.stores.e_initial>=0)*1).multiply(\n",
    "    n2.model.constraints[\"Store-energy_balance\"].dual.to_dataframe().loc[n2.snapshots[0]].dual\n",
    ")"
   ]
  },
  {
   "cell_type": "code",
   "execution_count": 130,
   "id": "3a8b1256-f8a8-4dab-9b21-15264f931273",
   "metadata": {},
   "outputs": [
    {
     "data": {
      "text/plain": [
       "Store\n",
       "100_220kV Pumped Hydro store Pumped Hydro    2.241135e+01\n",
       "114 Pumped Hydro store Pumped Hydro          2.047375e+01\n",
       "121 Pumped Hydro store Pumped Hydro          2.225975e+01\n",
       "140 Pumped Hydro store Pumped Hydro          1.858242e+01\n",
       "141 Pumped Hydro store Pumped Hydro          1.862678e+01\n",
       "158 Pumped Hydro store Pumped Hydro          2.225975e+01\n",
       "166 Pumped Hydro store Pumped Hydro          1.895570e+01\n",
       "205 Pumped Hydro store Pumped Hydro          1.962209e+01\n",
       "228 Pumped Hydro store Pumped Hydro          2.090000e+01\n",
       "235 Pumped Hydro store Pumped Hydro          2.170587e+01\n",
       "25 Pumped Hydro store Pumped Hydro          -5.600924e+09\n",
       "266 Pumped Hydro store Pumped Hydro          2.148707e+01\n",
       "268 Pumped Hydro store Pumped Hydro          2.669893e+01\n",
       "279_220kV Pumped Hydro store Pumped Hydro    2.112494e+01\n",
       "293 Pumped Hydro store Pumped Hydro          2.136707e+01\n",
       "320 Pumped Hydro store Pumped Hydro          2.550831e+01\n",
       "32_220kV Pumped Hydro store Pumped Hydro     2.079828e+01\n",
       "333 Pumped Hydro store Pumped Hydro         -7.532428e+08\n",
       "342 Pumped Hydro store Pumped Hydro          2.045751e+01\n",
       "343 Pumped Hydro store Pumped Hydro          2.124278e+01\n",
       "362_220kV Pumped Hydro store Pumped Hydro    2.170284e+01\n",
       "368 Pumped Hydro store Pumped Hydro          2.169706e+01\n",
       "374 Pumped Hydro store Pumped Hydro          2.090000e+01\n",
       "379 Pumped Hydro store Pumped Hydro          2.167049e+01\n",
       "389 Pumped Hydro store Pumped Hydro          2.658014e+01\n",
       "397 Pumped Hydro store Pumped Hydro          2.261217e+01\n",
       "423 Pumped Hydro store Pumped Hydro          2.170074e+01\n",
       "424 Pumped Hydro store Pumped Hydro          2.166494e+01\n",
       "479 Pumped Hydro store Pumped Hydro          2.051343e+01\n",
       "481 Pumped Hydro store Pumped Hydro         -2.857614e+09\n",
       "493 Pumped Hydro store Pumped Hydro          2.191222e+01\n",
       "51 Pumped Hydro store Pumped Hydro           2.647993e+01\n",
       "63 Pumped Hydro store Pumped Hydro           2.167354e+01\n",
       "66 Pumped Hydro store Pumped Hydro           2.334134e+01\n",
       "72 Pumped Hydro store Pumped Hydro           2.042864e+01\n",
       "78_220kV Pumped Hydro store Pumped Hydro     2.154548e+01\n",
       "8 Pumped Hydro store Pumped Hydro           -1.786795e+09\n",
       "98 Pumped Hydro store Pumped Hydro          -7.510899e+08\n",
       "dtype: float64"
      ]
     },
     "execution_count": 130,
     "metadata": {},
     "output_type": "execute_result"
    }
   ],
   "source": [
    "E - (n1.stores_t.e.iloc[-1]*e)"
   ]
  },
  {
   "cell_type": "code",
   "execution_count": 117,
   "id": "a4330c02-aa34-47c6-94ef-41e99ebb733b",
   "metadata": {},
   "outputs": [],
   "source": [
    "def determine_e(n):\n",
    "    m = n.model\n",
    "\n",
    "    h_gen = pd.DataFrame()\n",
    "    u_gen = pd.DataFrame()\n",
    "\n",
    "    for c in m.constraints:\n",
    "        constraint = m.constraints[c]\n",
    "\n",
    "        h_constraint = constraint.rhs.to_dataframe()\n",
    "\n",
    "        if c == 'Store-energy_balance':\n",
    "            h_constraint.loc[n.snapshots[0], \"rhs\"] = 0\n",
    "\n",
    "        h_constraint = h_constraint.set_index(\n",
    "            pd.Series(c, index=h_constraint.index, name=\"constraint\"),\n",
    "            append=True\n",
    "        ).reorder_levels([\"constraint\"] + h_constraint.index.names)\n",
    "\n",
    "        h_constraint.index = h_constraint.index.to_flat_index()\n",
    "\n",
    "        h_gen = pd.concat([h_gen, h_constraint])\n",
    "\n",
    "        u_constraint = m.constraints[c].dual.to_dataframe()\n",
    "\n",
    "        u_constraint = u_constraint.set_index(\n",
    "            pd.Series(c, index=u_constraint.index, name=\"constraint\"),\n",
    "            append=True\n",
    "        ).reorder_levels([\"constraint\"] + u_constraint.index.names)\n",
    "\n",
    "        u_constraint.index = u_constraint.index.to_flat_index()\n",
    "\n",
    "        u_gen = pd.concat([u_gen, u_constraint])\n",
    "    \n",
    "    return h_gen, u_gen\n",
    "    "
   ]
  },
  {
   "cell_type": "code",
   "execution_count": 118,
   "id": "2258100f-1e9d-4de7-8d7f-2af4e1db0b43",
   "metadata": {},
   "outputs": [],
   "source": [
    "h, u = determine_e(n2)"
   ]
  },
  {
   "cell_type": "code",
   "execution_count": 119,
   "id": "5590ba71-a6c6-4bcf-8b37-88096e623b54",
   "metadata": {},
   "outputs": [],
   "source": [
    "e = h.rhs.multiply(u.dual).sum()"
   ]
  },
  {
   "cell_type": "code",
   "execution_count": 120,
   "id": "28f7e71a-642f-401b-8329-d446387c10d5",
   "metadata": {},
   "outputs": [
    {
     "data": {
      "text/plain": [
       "4762690.552731366"
      ]
     },
     "execution_count": 120,
     "metadata": {},
     "output_type": "execute_result"
    }
   ],
   "source": [
    "e"
   ]
  },
  {
   "cell_type": "code",
   "execution_count": 121,
   "id": "92cbc515-f333-4db2-ad5a-8dca72d76046",
   "metadata": {},
   "outputs": [],
   "source": [
    "m = n1.model"
   ]
  },
  {
   "cell_type": "raw",
   "id": "081a5127-a4f1-4efb-9e3e-436aeb0d9ed5",
   "metadata": {},
   "source": [
    "i = 0"
   ]
  },
  {
   "cell_type": "code",
   "execution_count": 122,
   "id": "578ddfbb-f71c-4730-9f85-5d9506d7599b",
   "metadata": {},
   "outputs": [],
   "source": [
    "i += 1"
   ]
  },
  {
   "cell_type": "code",
   "execution_count": 123,
   "id": "6e6bbf61-d86a-4794-bd5d-f62c9feac967",
   "metadata": {},
   "outputs": [
    {
     "data": {
      "text/plain": [
       "Constraint `Optimality cut 8`\n",
       "-----------------------------\n",
       "+22.41 Store-e[2011-01-01 11:00:00, 100_220kV Pumped Hydro store Pumped Hydro] + 20.47 Store-e[2011-01-01 11:00:00, 114 Pumped Hydro store Pumped Hydro] + 22.26 Store-e[2011-01-01 11:00:00, 121 Pumped Hydro store Pumped Hydro] ... +18.61 Store-e[2011-01-01 11:00:00, 8 Pumped Hydro store Pumped Hydro] + 19.53 Store-e[2011-01-01 11:00:00, 98 Pumped Hydro store Pumped Hydro] + 1 theta ≥ 4762690.552731366"
      ]
     },
     "execution_count": 123,
     "metadata": {},
     "output_type": "execute_result"
    }
   ],
   "source": [
    "m.add_constraints(\n",
    "    (m.variables[\"Store-e\"].loc[n1.snapshots[-1]]*E.to_xarray()).sum() + m.variables.theta >= e,\n",
    "    name=\"Optimality cut \" + str(i)\n",
    ")"
   ]
  },
  {
   "cell_type": "raw",
   "id": "b7a05be8-6bfd-4d25-a331-0a18f68df890",
   "metadata": {},
   "source": [
    "theta = m.add_variables(lower=-1e7, name=\"theta\")\n",
    "\n",
    "obj = m.objective\n",
    "\n",
    "m.add_objective(obj + theta, overwrite=True)"
   ]
  },
  {
   "cell_type": "code",
   "execution_count": 124,
   "id": "733911c0-0bcd-484b-a8d5-9eb614eb7575",
   "metadata": {
    "tags": []
   },
   "outputs": [
    {
     "name": "stderr",
     "output_type": "stream",
     "text": [
      "INFO:linopy.model: Solve problem using Cbc solver\n",
      "INFO:linopy.io:Writing objective.\n",
      "Writing constraints.: 100% 21/21 [00:00<00:00, 50.05it/s]\n",
      "Writing continuous variables.: 100% 7/7 [00:00<00:00, 101.12it/s]\n",
      "INFO:linopy.io: Writing time: 0.51s\n"
     ]
    },
    {
     "name": "stdout",
     "output_type": "stream",
     "text": [
      "Welcome to the CBC MILP Solver \n",
      "Version: 2.10.10 \n",
      "Build Date: Apr 19 2023 \n",
      "\n",
      "command line - cbc -printingOptions all -import /tmp/linopy-problem-daodmtfl.lp -solve -solu /tmp/linopy-solve-bogcmqwh.sol (default strategy 1)\n",
      "Option for printingOptions changed from normal to all\n",
      "Presolve 7302 (-65558) rows, 13740 (-16993) columns and 46209 (-87004) elements\n",
      "Perturbing problem by 0.001% of 3016.5068 - largest nonzero change 0.0009978036 ( 0.016591658%) - largest zero change 0.00099744634\n",
      "0  Obj 4849548.8 Primal inf 23803938 (6688) Dual inf 375.2432 (4)\n",
      "221  Obj 4755520.7 Primal inf 17429749 (6650)\n",
      "442  Obj 4755522.5 Primal inf 15816496 (6546)\n",
      "663  Obj 4755523.6 Primal inf 15536938 (6501)\n",
      "884  Obj 4755524.3 Primal inf 14626241 (6437)\n",
      "1105  Obj 4755525.4 Primal inf 14337400 (6381)\n",
      "1326  Obj 4755526.2 Primal inf 12905740 (6258)\n",
      "1547  Obj 4755526.3 Primal inf 14373373 (6181)\n",
      "1768  Obj 4755527.9 Primal inf 12550703 (6076)\n",
      "1989  Obj 4755529.4 Primal inf 13507221 (6020)\n",
      "2210  Obj 4755530.9 Primal inf 14968311 (5945)\n",
      "2431  Obj 4755539.1 Primal inf 20942176 (5910)\n",
      "2652  Obj 4755548 Primal inf 17484106 (5709)\n",
      "2873  Obj 4755557.5 Primal inf 15249391 (5488)\n",
      "3094  Obj 4755561.9 Primal inf 14716598 (5378)\n",
      "3315  Obj 4755564.7 Primal inf 16023307 (5264)\n",
      "3536  Obj 4755569.1 Primal inf 32926394 (5233)\n",
      "3757  Obj 4760672.4 Primal inf 33053566 (5088)\n",
      "3978  Obj 4760676.7 Primal inf 32127905 (4875)\n",
      "4199  Obj 4760684.1 Primal inf 31799895 (4835)\n",
      "4420  Obj 4760691.7 Primal inf 57596509 (4604)\n",
      "4641  Obj 4760702.6 Primal inf 36633552 (4438)\n",
      "4862  Obj 4760712.5 Primal inf 37641264 (4294)\n",
      "5083  Obj 4760721 Primal inf 36506669 (4213)\n",
      "5304  Obj 4760729.4 Primal inf 39753188 (4111)\n",
      "5525  Obj 4760741.4 Primal inf 29188489 (3790)\n",
      "5746  Obj 4760753.3 Primal inf 31680036 (3795)\n",
      "5967  Obj 4760766.9 Primal inf 33223537 (3378)\n",
      "6188  Obj 4760785.5 Primal inf 35779195 (3097)\n",
      "6409  Obj 4760804.2 Primal inf 36914317 (2911)\n",
      "6630  Obj 4761977.1 Primal inf 15591168 (2736)\n",
      "6851  Obj 4778572.7 Primal inf 33801348 (2854)\n",
      "7072  Obj 4809513.2 Primal inf 57792848 (2642)\n",
      "7293  Obj 4815782.4 Primal inf 65998143 (2505)\n",
      "7514  Obj 4895311.2 Primal inf 20041886 (1890)\n",
      "7735  Obj 5078322.5 Primal inf 31947057 (1668)\n",
      "7956  Obj 5360959.3 Primal inf 2653165.2 (1545)\n",
      "8177  Obj 5762760.2 Primal inf 1258514.6 (1136)\n",
      "8398  Obj 5857980 Primal inf 1696155.8 (1325)\n",
      "8619  Obj 6124074.3 Primal inf 1571419.5 (1305)\n",
      "8840  Obj 6402221.6 Primal inf 183913.11 (708)\n",
      "9061  Obj 6712015.1 Primal inf 20543430 (1678)\n",
      "9282  Obj 6839479.8 Primal inf 53098.045 (319)\n",
      "9503  Obj 6868538.8 Primal inf 5170.4204 (105)\n",
      "9649  Obj 6872611.9\n",
      "9649  Obj 6872356.2 Dual inf 0.00069667738 (17)\n",
      "9667  Obj 6872356.2\n",
      "Optimal - objective value 6872356.2\n",
      "After Postsolve, objective 6872356.2, infeasibilities - dual 229.01603 (11), primal 3.1950181e-06 (11)\n",
      "Presolved model was optimal, full model needs cleaning up\n",
      "0  Obj 6872356.2 Dual inf 2.2838707 (11)\n",
      "End of values pass after 24 iterations\n",
      "24  Obj 6872356.2\n",
      "Optimal - objective value 6872356.2\n",
      "Optimal objective 6872356.17 - 9691 iterations time 1.662, Presolve 0.07\n",
      "Total time (CPU seconds):       2.52   (Wallclock seconds):       2.35\n",
      "\n"
     ]
    },
    {
     "name": "stderr",
     "output_type": "stream",
     "text": [
      "INFO:linopy.constants: Optimization successful: \n",
      "Status: ok\n",
      "Termination condition: optimal\n",
      "Solution: 30733 primals, 72860 duals\n",
      "Objective: 6.87e+06\n",
      "Solver model: not available\n",
      "Solver message: Optimal - objective value 6872356.16954819\n",
      "\n",
      "\n",
      "INFO:pypsa.optimization.optimize:The shadow-prices of the constraints Generator-fix-p-lower, Generator-fix-p-upper, Line-fix-s-lower, Line-fix-s-upper, Transformer-fix-s-lower, Transformer-fix-s-upper, Link-fix-p-lower, Link-fix-p-upper, Store-fix-e-lower, Store-fix-e-upper, Kirchhoff-Voltage-Law, Store-energy_balance, Optimality cut 1, Optimality cut 2, Optimality cut 3, Optimality cut 4, Optimality cut 5, Optimality cut 6, Optimality cut 7, Optimality cut 8 were not assigned to the network.\n"
     ]
    },
    {
     "data": {
      "text/plain": [
       "('ok', 'optimal')"
      ]
     },
     "execution_count": 124,
     "metadata": {},
     "output_type": "execute_result"
    }
   ],
   "source": [
    "n1.optimize.solve_model(solver_name=\"cbc\")"
   ]
  },
  {
   "cell_type": "code",
   "execution_count": 125,
   "id": "d9a95ba1-431b-45c5-9fdb-6e0de604e71e",
   "metadata": {},
   "outputs": [
    {
     "data": {
      "text/plain": [
       "Store\n",
       "100_220kV Pumped Hydro store Pumped Hydro       0.00000\n",
       "114 Pumped Hydro store Pumped Hydro             0.00000\n",
       "121 Pumped Hydro store Pumped Hydro             0.00000\n",
       "140 Pumped Hydro store Pumped Hydro             0.00000\n",
       "141 Pumped Hydro store Pumped Hydro             0.00000\n",
       "158 Pumped Hydro store Pumped Hydro             0.00000\n",
       "166 Pumped Hydro store Pumped Hydro             0.00000\n",
       "205 Pumped Hydro store Pumped Hydro             0.00000\n",
       "228 Pumped Hydro store Pumped Hydro             0.00000\n",
       "235 Pumped Hydro store Pumped Hydro             0.00000\n",
       "25 Pumped Hydro store Pumped Hydro           1176.00000\n",
       "266 Pumped Hydro store Pumped Hydro             0.00000\n",
       "268 Pumped Hydro store Pumped Hydro             0.00000\n",
       "279_220kV Pumped Hydro store Pumped Hydro       0.00000\n",
       "293 Pumped Hydro store Pumped Hydro             0.00000\n",
       "320 Pumped Hydro store Pumped Hydro             0.00000\n",
       "32_220kV Pumped Hydro store Pumped Hydro        0.00000\n",
       "333 Pumped Hydro store Pumped Hydro           158.15488\n",
       "342 Pumped Hydro store Pumped Hydro             0.00000\n",
       "343 Pumped Hydro store Pumped Hydro             0.00000\n",
       "362_220kV Pumped Hydro store Pumped Hydro       0.00000\n",
       "368 Pumped Hydro store Pumped Hydro             0.00000\n",
       "374 Pumped Hydro store Pumped Hydro             0.00000\n",
       "379 Pumped Hydro store Pumped Hydro             0.00000\n",
       "389 Pumped Hydro store Pumped Hydro             0.00000\n",
       "397 Pumped Hydro store Pumped Hydro             0.00000\n",
       "423 Pumped Hydro store Pumped Hydro             0.00000\n",
       "424 Pumped Hydro store Pumped Hydro             0.00000\n",
       "479 Pumped Hydro store Pumped Hydro             0.00000\n",
       "481 Pumped Hydro store Pumped Hydro           600.00000\n",
       "493 Pumped Hydro store Pumped Hydro             0.00000\n",
       "51 Pumped Hydro store Pumped Hydro              0.00000\n",
       "63 Pumped Hydro store Pumped Hydro              0.00000\n",
       "66 Pumped Hydro store Pumped Hydro              0.00000\n",
       "72 Pumped Hydro store Pumped Hydro              0.00000\n",
       "78_220kV Pumped Hydro store Pumped Hydro        0.00000\n",
       "8 Pumped Hydro store Pumped Hydro             375.16504\n",
       "98 Pumped Hydro store Pumped Hydro            157.70286\n",
       "Name: 2011-01-01 11:00:00, dtype: float64"
      ]
     },
     "execution_count": 125,
     "metadata": {},
     "output_type": "execute_result"
    }
   ],
   "source": [
    "n1.stores_t.e.iloc[-1]"
   ]
  },
  {
   "cell_type": "code",
   "execution_count": 126,
   "id": "edb981e0-b9a8-4c80-ac2f-291e6481fe92",
   "metadata": {},
   "outputs": [
    {
     "data": {
      "text/plain": [
       "Store\n",
       "100_220kV Pumped Hydro store Pumped Hydro       0.00000\n",
       "114 Pumped Hydro store Pumped Hydro             0.00000\n",
       "121 Pumped Hydro store Pumped Hydro             0.00000\n",
       "140 Pumped Hydro store Pumped Hydro             0.00000\n",
       "141 Pumped Hydro store Pumped Hydro             0.00000\n",
       "158 Pumped Hydro store Pumped Hydro             0.00000\n",
       "166 Pumped Hydro store Pumped Hydro             0.00000\n",
       "205 Pumped Hydro store Pumped Hydro             0.00000\n",
       "228 Pumped Hydro store Pumped Hydro             0.00000\n",
       "235 Pumped Hydro store Pumped Hydro             0.00000\n",
       "25 Pumped Hydro store Pumped Hydro           1176.00000\n",
       "266 Pumped Hydro store Pumped Hydro             0.00000\n",
       "268 Pumped Hydro store Pumped Hydro             0.00000\n",
       "279_220kV Pumped Hydro store Pumped Hydro       0.00000\n",
       "293 Pumped Hydro store Pumped Hydro             0.00000\n",
       "320 Pumped Hydro store Pumped Hydro             0.00000\n",
       "32_220kV Pumped Hydro store Pumped Hydro        0.00000\n",
       "333 Pumped Hydro store Pumped Hydro           155.89225\n",
       "342 Pumped Hydro store Pumped Hydro             0.00000\n",
       "343 Pumped Hydro store Pumped Hydro             0.00000\n",
       "362_220kV Pumped Hydro store Pumped Hydro       0.00000\n",
       "368 Pumped Hydro store Pumped Hydro             0.00000\n",
       "374 Pumped Hydro store Pumped Hydro             0.00000\n",
       "379 Pumped Hydro store Pumped Hydro             0.00000\n",
       "389 Pumped Hydro store Pumped Hydro             0.00000\n",
       "397 Pumped Hydro store Pumped Hydro             0.00000\n",
       "423 Pumped Hydro store Pumped Hydro             0.00000\n",
       "424 Pumped Hydro store Pumped Hydro             0.00000\n",
       "479 Pumped Hydro store Pumped Hydro             0.00000\n",
       "481 Pumped Hydro store Pumped Hydro           600.00000\n",
       "493 Pumped Hydro store Pumped Hydro             0.00000\n",
       "51 Pumped Hydro store Pumped Hydro              0.00000\n",
       "63 Pumped Hydro store Pumped Hydro              0.00000\n",
       "66 Pumped Hydro store Pumped Hydro              0.00000\n",
       "72 Pumped Hydro store Pumped Hydro              0.00000\n",
       "78_220kV Pumped Hydro store Pumped Hydro        0.00000\n",
       "8 Pumped Hydro store Pumped Hydro             371.56245\n",
       "98 Pumped Hydro store Pumped Hydro            159.97641\n",
       "Name: e_initial, dtype: float64"
      ]
     },
     "execution_count": 126,
     "metadata": {},
     "output_type": "execute_result"
    }
   ],
   "source": [
    "n2.stores.e_initial"
   ]
  },
  {
   "cell_type": "code",
   "execution_count": 208,
   "id": "62468c2b-39ba-47dd-a041-1275c7223245",
   "metadata": {},
   "outputs": [
    {
     "name": "stderr",
     "output_type": "stream",
     "text": [
      "INFO:linopy.model: Solve problem using Cbc solver\n",
      "INFO:linopy.io:Writing objective.\n",
      "Writing constraints.: 100% 19/19 [00:00<00:00, 49.29it/s]\n",
      "Writing continuous variables.: 100% 7/7 [00:00<00:00, 108.94it/s]\n",
      "INFO:linopy.io: Writing time: 0.47s\n",
      "INFO:linopy.constants: Optimization successful: \n",
      "Status: ok\n",
      "Termination condition: optimal\n",
      "Solution: 30733 primals, 72858 duals\n",
      "Objective: 6.88e+06\n",
      "Solver model: not available\n",
      "Solver message: Optimal - objective value 6876782.71731035\n",
      "\n",
      "\n"
     ]
    },
    {
     "name": "stdout",
     "output_type": "stream",
     "text": [
      "Welcome to the CBC MILP Solver \n",
      "Version: 2.10.10 \n",
      "Build Date: Apr 19 2023 \n",
      "\n",
      "command line - cbc -printingOptions all -import /tmp/linopy-problem-bpk5z6hg.lp -solve -solu /tmp/linopy-solve-nb04no2q.sol (default strategy 1)\n",
      "Option for printingOptions changed from normal to all\n",
      "Presolve 7296 (-65562) rows, 13715 (-17018) columns and 45890 (-87044) elements\n",
      "Perturbing problem by 0.001% of 2155.1063 - largest nonzero change 0.00099997287 ( 0.036530155%) - largest zero change 0.00099940831\n",
      "0  Obj 2975536.5 Primal inf 23807702 (6682) Dual inf 375.24321 (4)\n",
      "220  Obj 2881508.5 Primal inf 17424848 (6646)\n",
      "440  Obj 2881510.1 Primal inf 23180559 (6555)\n",
      "660  Obj 2881511.1 Primal inf 15209723 (6482)\n",
      "880  Obj 2881511.4 Primal inf 14202441 (6393)\n",
      "1100  Obj 4766640 Primal inf 13920810 (6313)\n",
      "1320  Obj 4766640 Primal inf 13046453 (6232)\n",
      "1540  Obj 4766641 Primal inf 13437548 (6192)\n",
      "1760  Obj 4766641.6 Primal inf 13212476 (6052)\n",
      "1980  Obj 4766642.5 Primal inf 13009651 (5999)\n",
      "2200  Obj 4766644.1 Primal inf 19605762 (5935)\n",
      "2420  Obj 4766651.3 Primal inf 16799490 (5844)\n",
      "2640  Obj 4766654.5 Primal inf 52348364 (5794)\n",
      "2860  Obj 4766665 Primal inf 50261672 (5637)\n",
      "3080  Obj 4766669.1 Primal inf 22228231 (5432)\n",
      "3300  Obj 4766672.1 Primal inf 28447378 (5374)\n",
      "3520  Obj 4766676 Primal inf 26242889 (5243)\n",
      "3740  Obj 4766681.1 Primal inf 31147979 (5140)\n",
      "3960  Obj 4766687.4 Primal inf 36978288 (5082)\n",
      "4180  Obj 4766693.3 Primal inf 25555350 (4956)\n",
      "4400  Obj 4766702.3 Primal inf 57530833 (4819)\n",
      "4620  Obj 4766709 Primal inf 50208043 (4698)\n",
      "4840  Obj 4766718.1 Primal inf 35077465 (4441)\n",
      "5060  Obj 4766724.8 Primal inf 17732086 (4311)\n",
      "5280  Obj 4766731.8 Primal inf 19149750 (4113)\n",
      "5500  Obj 4766739 Primal inf 16186483 (3849)\n",
      "5720  Obj 4766747.4 Primal inf 40031400 (4078)\n",
      "5940  Obj 4766762.8 Primal inf 53009680 (3915)\n",
      "6160  Obj 4766777.3 Primal inf 16634844 (3558)\n",
      "6380  Obj 4766790.2 Primal inf 85738759 (3245)\n",
      "6600  Obj 4783115.5 Primal inf 82690511 (3226)\n",
      "6820  Obj 4788662.8 Primal inf 18739278 (2709)\n",
      "7040  Obj 4842620.7 Primal inf 8364894 (2350)\n",
      "7260  Obj 4857313.5 Primal inf 7047814.2 (2070)\n",
      "7480  Obj 4909301.6 Primal inf 1509825.2 (1462)\n",
      "7700  Obj 5069705.3 Primal inf 829698.71 (1236)\n",
      "7920  Obj 5469033.4 Primal inf 1969046.3 (1297)\n",
      "8140  Obj 5891295.8 Primal inf 1009600 (1194)\n",
      "8360  Obj 6250960.5 Primal inf 1108692.9 (1501)\n",
      "8580  Obj 6439532.3 Primal inf 1042962.3 (747)\n",
      "8800  Obj 6615678.7 Primal inf 178215.46 (678)\n",
      "9020  Obj 6757880.1 Primal inf 66990.77 (417)\n",
      "9240  Obj 6823384.5 Primal inf 30466.964 (274)\n",
      "9460  Obj 6872497.1 Primal inf 5028.0277 (135)\n",
      "9612  Obj 6876806.3\n",
      "9612  Obj 6876782.7 Dual inf 0.00016571625 (14)\n",
      "9634  Obj 6876782.7\n",
      "Optimal - objective value 6876782.7\n",
      "After Postsolve, objective 6876782.7, infeasibilities - dual 231.0137 (11), primal 3.2089676e-06 (11)\n",
      "Presolved model was optimal, full model needs cleaning up\n",
      "0  Obj 6876782.7 Dual inf 2.3038473 (11)\n",
      "End of values pass after 22 iterations\n",
      "22  Obj 6876782.7\n",
      "Optimal - objective value 6876782.7\n",
      "Optimal objective 6876782.717 - 9656 iterations time 1.692, Presolve 0.10\n",
      "Total time (CPU seconds):       2.45   (Wallclock seconds):       2.32\n",
      "\n"
     ]
    },
    {
     "data": {
      "text/plain": [
       "('ok', 'optimal')"
      ]
     },
     "execution_count": 208,
     "metadata": {},
     "output_type": "execute_result"
    }
   ],
   "source": [
    "m.solve(\n",
    "\n",
    "    solver_name=\"cbc\"\n",
    ")"
   ]
  },
  {
   "cell_type": "code",
   "execution_count": 282,
   "id": "ef4a49f1-1b59-450d-bcc6-42e699c244e8",
   "metadata": {},
   "outputs": [
    {
     "data": {
      "text/plain": [
       "6317447.09346161"
      ]
     },
     "execution_count": 282,
     "metadata": {},
     "output_type": "execute_result"
    }
   ],
   "source": [
    "n1.objective"
   ]
  },
  {
   "cell_type": "code",
   "execution_count": 283,
   "id": "75dfa2b8-8997-4280-82c4-232029c5e1ba",
   "metadata": {},
   "outputs": [
    {
     "data": {
      "text/plain": [
       "6684817.32360732"
      ]
     },
     "execution_count": 283,
     "metadata": {},
     "output_type": "execute_result"
    }
   ],
   "source": [
    "n_opt.objective"
   ]
  },
  {
   "cell_type": "code",
   "execution_count": 209,
   "id": "63be46f9-879e-434e-9f36-90e2b10b39f9",
   "metadata": {},
   "outputs": [
    {
     "data": {
      "text/html": [
       "<div><svg style=\"position: absolute; width: 0; height: 0; overflow: hidden\">\n",
       "<defs>\n",
       "<symbol id=\"icon-database\" viewBox=\"0 0 32 32\">\n",
       "<path d=\"M16 0c-8.837 0-16 2.239-16 5v4c0 2.761 7.163 5 16 5s16-2.239 16-5v-4c0-2.761-7.163-5-16-5z\"></path>\n",
       "<path d=\"M16 17c-8.837 0-16-2.239-16-5v6c0 2.761 7.163 5 16 5s16-2.239 16-5v-6c0 2.761-7.163 5-16 5z\"></path>\n",
       "<path d=\"M16 26c-8.837 0-16-2.239-16-5v6c0 2.761 7.163 5 16 5s16-2.239 16-5v-6c0 2.761-7.163 5-16 5z\"></path>\n",
       "</symbol>\n",
       "<symbol id=\"icon-file-text2\" viewBox=\"0 0 32 32\">\n",
       "<path d=\"M28.681 7.159c-0.694-0.947-1.662-2.053-2.724-3.116s-2.169-2.030-3.116-2.724c-1.612-1.182-2.393-1.319-2.841-1.319h-15.5c-1.378 0-2.5 1.121-2.5 2.5v27c0 1.378 1.122 2.5 2.5 2.5h23c1.378 0 2.5-1.122 2.5-2.5v-19.5c0-0.448-0.137-1.23-1.319-2.841zM24.543 5.457c0.959 0.959 1.712 1.825 2.268 2.543h-4.811v-4.811c0.718 0.556 1.584 1.309 2.543 2.268zM28 29.5c0 0.271-0.229 0.5-0.5 0.5h-23c-0.271 0-0.5-0.229-0.5-0.5v-27c0-0.271 0.229-0.5 0.5-0.5 0 0 15.499-0 15.5 0v7c0 0.552 0.448 1 1 1h7v19.5z\"></path>\n",
       "<path d=\"M23 26h-14c-0.552 0-1-0.448-1-1s0.448-1 1-1h14c0.552 0 1 0.448 1 1s-0.448 1-1 1z\"></path>\n",
       "<path d=\"M23 22h-14c-0.552 0-1-0.448-1-1s0.448-1 1-1h14c0.552 0 1 0.448 1 1s-0.448 1-1 1z\"></path>\n",
       "<path d=\"M23 18h-14c-0.552 0-1-0.448-1-1s0.448-1 1-1h14c0.552 0 1 0.448 1 1s-0.448 1-1 1z\"></path>\n",
       "</symbol>\n",
       "</defs>\n",
       "</svg>\n",
       "<style>/* CSS stylesheet for displaying xarray objects in jupyterlab.\n",
       " *\n",
       " */\n",
       "\n",
       ":root {\n",
       "  --xr-font-color0: var(--jp-content-font-color0, rgba(0, 0, 0, 1));\n",
       "  --xr-font-color2: var(--jp-content-font-color2, rgba(0, 0, 0, 0.54));\n",
       "  --xr-font-color3: var(--jp-content-font-color3, rgba(0, 0, 0, 0.38));\n",
       "  --xr-border-color: var(--jp-border-color2, #e0e0e0);\n",
       "  --xr-disabled-color: var(--jp-layout-color3, #bdbdbd);\n",
       "  --xr-background-color: var(--jp-layout-color0, white);\n",
       "  --xr-background-color-row-even: var(--jp-layout-color1, white);\n",
       "  --xr-background-color-row-odd: var(--jp-layout-color2, #eeeeee);\n",
       "}\n",
       "\n",
       "html[theme=dark],\n",
       "body[data-theme=dark],\n",
       "body.vscode-dark {\n",
       "  --xr-font-color0: rgba(255, 255, 255, 1);\n",
       "  --xr-font-color2: rgba(255, 255, 255, 0.54);\n",
       "  --xr-font-color3: rgba(255, 255, 255, 0.38);\n",
       "  --xr-border-color: #1F1F1F;\n",
       "  --xr-disabled-color: #515151;\n",
       "  --xr-background-color: #111111;\n",
       "  --xr-background-color-row-even: #111111;\n",
       "  --xr-background-color-row-odd: #313131;\n",
       "}\n",
       "\n",
       ".xr-wrap {\n",
       "  display: block !important;\n",
       "  min-width: 300px;\n",
       "  max-width: 700px;\n",
       "}\n",
       "\n",
       ".xr-text-repr-fallback {\n",
       "  /* fallback to plain text repr when CSS is not injected (untrusted notebook) */\n",
       "  display: none;\n",
       "}\n",
       "\n",
       ".xr-header {\n",
       "  padding-top: 6px;\n",
       "  padding-bottom: 6px;\n",
       "  margin-bottom: 4px;\n",
       "  border-bottom: solid 1px var(--xr-border-color);\n",
       "}\n",
       "\n",
       ".xr-header > div,\n",
       ".xr-header > ul {\n",
       "  display: inline;\n",
       "  margin-top: 0;\n",
       "  margin-bottom: 0;\n",
       "}\n",
       "\n",
       ".xr-obj-type,\n",
       ".xr-array-name {\n",
       "  margin-left: 2px;\n",
       "  margin-right: 10px;\n",
       "}\n",
       "\n",
       ".xr-obj-type {\n",
       "  color: var(--xr-font-color2);\n",
       "}\n",
       "\n",
       ".xr-sections {\n",
       "  padding-left: 0 !important;\n",
       "  display: grid;\n",
       "  grid-template-columns: 150px auto auto 1fr 20px 20px;\n",
       "}\n",
       "\n",
       ".xr-section-item {\n",
       "  display: contents;\n",
       "}\n",
       "\n",
       ".xr-section-item input {\n",
       "  display: none;\n",
       "}\n",
       "\n",
       ".xr-section-item input + label {\n",
       "  color: var(--xr-disabled-color);\n",
       "}\n",
       "\n",
       ".xr-section-item input:enabled + label {\n",
       "  cursor: pointer;\n",
       "  color: var(--xr-font-color2);\n",
       "}\n",
       "\n",
       ".xr-section-item input:enabled + label:hover {\n",
       "  color: var(--xr-font-color0);\n",
       "}\n",
       "\n",
       ".xr-section-summary {\n",
       "  grid-column: 1;\n",
       "  color: var(--xr-font-color2);\n",
       "  font-weight: 500;\n",
       "}\n",
       "\n",
       ".xr-section-summary > span {\n",
       "  display: inline-block;\n",
       "  padding-left: 0.5em;\n",
       "}\n",
       "\n",
       ".xr-section-summary-in:disabled + label {\n",
       "  color: var(--xr-font-color2);\n",
       "}\n",
       "\n",
       ".xr-section-summary-in + label:before {\n",
       "  display: inline-block;\n",
       "  content: '►';\n",
       "  font-size: 11px;\n",
       "  width: 15px;\n",
       "  text-align: center;\n",
       "}\n",
       "\n",
       ".xr-section-summary-in:disabled + label:before {\n",
       "  color: var(--xr-disabled-color);\n",
       "}\n",
       "\n",
       ".xr-section-summary-in:checked + label:before {\n",
       "  content: '▼';\n",
       "}\n",
       "\n",
       ".xr-section-summary-in:checked + label > span {\n",
       "  display: none;\n",
       "}\n",
       "\n",
       ".xr-section-summary,\n",
       ".xr-section-inline-details {\n",
       "  padding-top: 4px;\n",
       "  padding-bottom: 4px;\n",
       "}\n",
       "\n",
       ".xr-section-inline-details {\n",
       "  grid-column: 2 / -1;\n",
       "}\n",
       "\n",
       ".xr-section-details {\n",
       "  display: none;\n",
       "  grid-column: 1 / -1;\n",
       "  margin-bottom: 5px;\n",
       "}\n",
       "\n",
       ".xr-section-summary-in:checked ~ .xr-section-details {\n",
       "  display: contents;\n",
       "}\n",
       "\n",
       ".xr-array-wrap {\n",
       "  grid-column: 1 / -1;\n",
       "  display: grid;\n",
       "  grid-template-columns: 20px auto;\n",
       "}\n",
       "\n",
       ".xr-array-wrap > label {\n",
       "  grid-column: 1;\n",
       "  vertical-align: top;\n",
       "}\n",
       "\n",
       ".xr-preview {\n",
       "  color: var(--xr-font-color3);\n",
       "}\n",
       "\n",
       ".xr-array-preview,\n",
       ".xr-array-data {\n",
       "  padding: 0 5px !important;\n",
       "  grid-column: 2;\n",
       "}\n",
       "\n",
       ".xr-array-data,\n",
       ".xr-array-in:checked ~ .xr-array-preview {\n",
       "  display: none;\n",
       "}\n",
       "\n",
       ".xr-array-in:checked ~ .xr-array-data,\n",
       ".xr-array-preview {\n",
       "  display: inline-block;\n",
       "}\n",
       "\n",
       ".xr-dim-list {\n",
       "  display: inline-block !important;\n",
       "  list-style: none;\n",
       "  padding: 0 !important;\n",
       "  margin: 0;\n",
       "}\n",
       "\n",
       ".xr-dim-list li {\n",
       "  display: inline-block;\n",
       "  padding: 0;\n",
       "  margin: 0;\n",
       "}\n",
       "\n",
       ".xr-dim-list:before {\n",
       "  content: '(';\n",
       "}\n",
       "\n",
       ".xr-dim-list:after {\n",
       "  content: ')';\n",
       "}\n",
       "\n",
       ".xr-dim-list li:not(:last-child):after {\n",
       "  content: ',';\n",
       "  padding-right: 5px;\n",
       "}\n",
       "\n",
       ".xr-has-index {\n",
       "  font-weight: bold;\n",
       "}\n",
       "\n",
       ".xr-var-list,\n",
       ".xr-var-item {\n",
       "  display: contents;\n",
       "}\n",
       "\n",
       ".xr-var-item > div,\n",
       ".xr-var-item label,\n",
       ".xr-var-item > .xr-var-name span {\n",
       "  background-color: var(--xr-background-color-row-even);\n",
       "  margin-bottom: 0;\n",
       "}\n",
       "\n",
       ".xr-var-item > .xr-var-name:hover span {\n",
       "  padding-right: 5px;\n",
       "}\n",
       "\n",
       ".xr-var-list > li:nth-child(odd) > div,\n",
       ".xr-var-list > li:nth-child(odd) > label,\n",
       ".xr-var-list > li:nth-child(odd) > .xr-var-name span {\n",
       "  background-color: var(--xr-background-color-row-odd);\n",
       "}\n",
       "\n",
       ".xr-var-name {\n",
       "  grid-column: 1;\n",
       "}\n",
       "\n",
       ".xr-var-dims {\n",
       "  grid-column: 2;\n",
       "}\n",
       "\n",
       ".xr-var-dtype {\n",
       "  grid-column: 3;\n",
       "  text-align: right;\n",
       "  color: var(--xr-font-color2);\n",
       "}\n",
       "\n",
       ".xr-var-preview {\n",
       "  grid-column: 4;\n",
       "}\n",
       "\n",
       ".xr-index-preview {\n",
       "  grid-column: 2 / 5;\n",
       "  color: var(--xr-font-color2);\n",
       "}\n",
       "\n",
       ".xr-var-name,\n",
       ".xr-var-dims,\n",
       ".xr-var-dtype,\n",
       ".xr-preview,\n",
       ".xr-attrs dt {\n",
       "  white-space: nowrap;\n",
       "  overflow: hidden;\n",
       "  text-overflow: ellipsis;\n",
       "  padding-right: 10px;\n",
       "}\n",
       "\n",
       ".xr-var-name:hover,\n",
       ".xr-var-dims:hover,\n",
       ".xr-var-dtype:hover,\n",
       ".xr-attrs dt:hover {\n",
       "  overflow: visible;\n",
       "  width: auto;\n",
       "  z-index: 1;\n",
       "}\n",
       "\n",
       ".xr-var-attrs,\n",
       ".xr-var-data,\n",
       ".xr-index-data {\n",
       "  display: none;\n",
       "  background-color: var(--xr-background-color) !important;\n",
       "  padding-bottom: 5px !important;\n",
       "}\n",
       "\n",
       ".xr-var-attrs-in:checked ~ .xr-var-attrs,\n",
       ".xr-var-data-in:checked ~ .xr-var-data,\n",
       ".xr-index-data-in:checked ~ .xr-index-data {\n",
       "  display: block;\n",
       "}\n",
       "\n",
       ".xr-var-data > table {\n",
       "  float: right;\n",
       "}\n",
       "\n",
       ".xr-var-name span,\n",
       ".xr-var-data,\n",
       ".xr-index-name div,\n",
       ".xr-index-data,\n",
       ".xr-attrs {\n",
       "  padding-left: 25px !important;\n",
       "}\n",
       "\n",
       ".xr-attrs,\n",
       ".xr-var-attrs,\n",
       ".xr-var-data,\n",
       ".xr-index-data {\n",
       "  grid-column: 1 / -1;\n",
       "}\n",
       "\n",
       "dl.xr-attrs {\n",
       "  padding: 0;\n",
       "  margin: 0;\n",
       "  display: grid;\n",
       "  grid-template-columns: 125px auto;\n",
       "}\n",
       "\n",
       ".xr-attrs dt,\n",
       ".xr-attrs dd {\n",
       "  padding: 0;\n",
       "  margin: 0;\n",
       "  float: left;\n",
       "  padding-right: 10px;\n",
       "  width: auto;\n",
       "}\n",
       "\n",
       ".xr-attrs dt {\n",
       "  font-weight: normal;\n",
       "  grid-column: 1;\n",
       "}\n",
       "\n",
       ".xr-attrs dt:hover span {\n",
       "  display: inline-block;\n",
       "  background: var(--xr-background-color);\n",
       "  padding-right: 10px;\n",
       "}\n",
       "\n",
       ".xr-attrs dd {\n",
       "  grid-column: 2;\n",
       "  white-space: pre-wrap;\n",
       "  word-break: break-all;\n",
       "}\n",
       "\n",
       ".xr-icon-database,\n",
       ".xr-icon-file-text2,\n",
       ".xr-no-icon {\n",
       "  display: inline-block;\n",
       "  vertical-align: middle;\n",
       "  width: 1em;\n",
       "  height: 1.5em !important;\n",
       "  stroke-width: 0;\n",
       "  stroke: currentColor;\n",
       "  fill: currentColor;\n",
       "}\n",
       "</style><pre class='xr-text-repr-fallback'>&lt;xarray.DataArray &#x27;theta&#x27; ()&gt;\n",
       "array(4762845.)</pre><div class='xr-wrap' style='display:none'><div class='xr-header'><div class='xr-obj-type'>xarray.DataArray</div><div class='xr-array-name'>'theta'</div></div><ul class='xr-sections'><li class='xr-section-item'><div class='xr-array-wrap'><input id='section-ef803643-476d-4444-9330-bea74737ba0e' class='xr-array-in' type='checkbox' checked><label for='section-ef803643-476d-4444-9330-bea74737ba0e' title='Show/hide data repr'><svg class='icon xr-icon-database'><use xlink:href='#icon-database'></use></svg></label><div class='xr-array-preview xr-preview'><span>4.763e+06</span></div><div class='xr-array-data'><pre>array(4762845.)</pre></div></div></li><li class='xr-section-item'><input id='section-0b9ab06a-575f-423c-a6cf-0db0b553cedc' class='xr-section-summary-in' type='checkbox' disabled ><label for='section-0b9ab06a-575f-423c-a6cf-0db0b553cedc' class='xr-section-summary'  title='Expand/collapse section'>Coordinates: <span>(0)</span></label><div class='xr-section-inline-details'></div><div class='xr-section-details'><ul class='xr-var-list'></ul></div></li><li class='xr-section-item'><input id='section-0a9cad02-6ed2-41cd-82f0-c9e0573106ea' class='xr-section-summary-in' type='checkbox' disabled ><label for='section-0a9cad02-6ed2-41cd-82f0-c9e0573106ea' class='xr-section-summary'  title='Expand/collapse section'>Indexes: <span>(0)</span></label><div class='xr-section-inline-details'></div><div class='xr-section-details'><ul class='xr-var-list'></ul></div></li><li class='xr-section-item'><input id='section-9b280853-5eab-471b-8609-5deb239c3325' class='xr-section-summary-in' type='checkbox' disabled ><label for='section-9b280853-5eab-471b-8609-5deb239c3325' class='xr-section-summary'  title='Expand/collapse section'>Attributes: <span>(0)</span></label><div class='xr-section-inline-details'></div><div class='xr-section-details'><dl class='xr-attrs'></dl></div></li></ul></div></div>"
      ],
      "text/plain": [
       "<xarray.DataArray 'theta' ()>\n",
       "array(4762845.)"
      ]
     },
     "execution_count": 209,
     "metadata": {},
     "output_type": "execute_result"
    }
   ],
   "source": [
    "\n",
    "m.solution."
   ]
  },
  {
   "cell_type": "code",
   "execution_count": 198,
   "id": "395b8e90-fcf5-467b-a2b3-cbd441615fe8",
   "metadata": {},
   "outputs": [
    {
     "data": {
      "text/plain": [
       "-5237154.96536066"
      ]
     },
     "execution_count": 198,
     "metadata": {},
     "output_type": "execute_result"
    }
   ],
   "source": [
    "n2.objective"
   ]
  },
  {
   "cell_type": "code",
   "execution_count": 229,
   "id": "97afb9bf-22b1-4714-950c-8c8e0f1813b6",
   "metadata": {},
   "outputs": [
    {
     "data": {
      "text/plain": [
       "Store\n",
       "100_220kV Pumped Hydro store Pumped Hydro      0.00000\n",
       "114 Pumped Hydro store Pumped Hydro            0.00000\n",
       "121 Pumped Hydro store Pumped Hydro            0.00000\n",
       "140 Pumped Hydro store Pumped Hydro            0.00000\n",
       "141 Pumped Hydro store Pumped Hydro            0.00000\n",
       "158 Pumped Hydro store Pumped Hydro            0.00000\n",
       "166 Pumped Hydro store Pumped Hydro            0.00000\n",
       "205 Pumped Hydro store Pumped Hydro            0.00000\n",
       "228 Pumped Hydro store Pumped Hydro            0.00000\n",
       "235 Pumped Hydro store Pumped Hydro            0.00000\n",
       "25 Pumped Hydro store Pumped Hydro           985.91105\n",
       "266 Pumped Hydro store Pumped Hydro            0.00000\n",
       "268 Pumped Hydro store Pumped Hydro            0.00000\n",
       "279_220kV Pumped Hydro store Pumped Hydro      0.00000\n",
       "293 Pumped Hydro store Pumped Hydro            0.00000\n",
       "320 Pumped Hydro store Pumped Hydro            0.00000\n",
       "32_220kV Pumped Hydro store Pumped Hydro       0.00000\n",
       "333 Pumped Hydro store Pumped Hydro          658.64818\n",
       "342 Pumped Hydro store Pumped Hydro            0.00000\n",
       "343 Pumped Hydro store Pumped Hydro            0.00000\n",
       "362_220kV Pumped Hydro store Pumped Hydro      0.00000\n",
       "368 Pumped Hydro store Pumped Hydro            0.00000\n",
       "374 Pumped Hydro store Pumped Hydro            0.00000\n",
       "379 Pumped Hydro store Pumped Hydro            0.00000\n",
       "389 Pumped Hydro store Pumped Hydro            0.00000\n",
       "397 Pumped Hydro store Pumped Hydro            0.00000\n",
       "423 Pumped Hydro store Pumped Hydro            0.00000\n",
       "424 Pumped Hydro store Pumped Hydro            0.00000\n",
       "479 Pumped Hydro store Pumped Hydro            0.00000\n",
       "481 Pumped Hydro store Pumped Hydro          600.00000\n",
       "493 Pumped Hydro store Pumped Hydro            0.00000\n",
       "51 Pumped Hydro store Pumped Hydro             0.00000\n",
       "63 Pumped Hydro store Pumped Hydro             0.00000\n",
       "66 Pumped Hydro store Pumped Hydro             0.00000\n",
       "72 Pumped Hydro store Pumped Hydro             0.00000\n",
       "78_220kV Pumped Hydro store Pumped Hydro       0.00000\n",
       "8 Pumped Hydro store Pumped Hydro            452.58000\n",
       "98 Pumped Hydro store Pumped Hydro             0.00000\n",
       "Name: 2011-01-01 11:00:00, dtype: float64"
      ]
     },
     "execution_count": 229,
     "metadata": {},
     "output_type": "execute_result"
    }
   ],
   "source": [
    "n1.stores_t.e.iloc[-1]"
   ]
  },
  {
   "cell_type": "code",
   "execution_count": 170,
   "id": "ef5655ed-c59b-43e3-b429-6ddf5553be4c",
   "metadata": {},
   "outputs": [
    {
     "data": {
      "text/html": [
       "<div>\n",
       "<style scoped>\n",
       "    .dataframe tbody tr th:only-of-type {\n",
       "        vertical-align: middle;\n",
       "    }\n",
       "\n",
       "    .dataframe tbody tr th {\n",
       "        vertical-align: top;\n",
       "    }\n",
       "\n",
       "    .dataframe thead th {\n",
       "        text-align: right;\n",
       "    }\n",
       "</style>\n",
       "<table border=\"1\" class=\"dataframe\">\n",
       "  <thead>\n",
       "    <tr style=\"text-align: right;\">\n",
       "      <th></th>\n",
       "      <th>Store-e</th>\n",
       "    </tr>\n",
       "    <tr>\n",
       "      <th>Store</th>\n",
       "      <th></th>\n",
       "    </tr>\n",
       "  </thead>\n",
       "  <tbody>\n",
       "    <tr>\n",
       "      <th>100_220kV Pumped Hydro store Pumped Hydro</th>\n",
       "      <td>0.000</td>\n",
       "    </tr>\n",
       "    <tr>\n",
       "      <th>114 Pumped Hydro store Pumped Hydro</th>\n",
       "      <td>0.000</td>\n",
       "    </tr>\n",
       "    <tr>\n",
       "      <th>121 Pumped Hydro store Pumped Hydro</th>\n",
       "      <td>0.000</td>\n",
       "    </tr>\n",
       "    <tr>\n",
       "      <th>140 Pumped Hydro store Pumped Hydro</th>\n",
       "      <td>0.000</td>\n",
       "    </tr>\n",
       "    <tr>\n",
       "      <th>141 Pumped Hydro store Pumped Hydro</th>\n",
       "      <td>0.000</td>\n",
       "    </tr>\n",
       "    <tr>\n",
       "      <th>158 Pumped Hydro store Pumped Hydro</th>\n",
       "      <td>0.000</td>\n",
       "    </tr>\n",
       "    <tr>\n",
       "      <th>166 Pumped Hydro store Pumped Hydro</th>\n",
       "      <td>0.000</td>\n",
       "    </tr>\n",
       "    <tr>\n",
       "      <th>205 Pumped Hydro store Pumped Hydro</th>\n",
       "      <td>0.000</td>\n",
       "    </tr>\n",
       "    <tr>\n",
       "      <th>228 Pumped Hydro store Pumped Hydro</th>\n",
       "      <td>0.000</td>\n",
       "    </tr>\n",
       "    <tr>\n",
       "      <th>235 Pumped Hydro store Pumped Hydro</th>\n",
       "      <td>0.000</td>\n",
       "    </tr>\n",
       "    <tr>\n",
       "      <th>25 Pumped Hydro store Pumped Hydro</th>\n",
       "      <td>0.000</td>\n",
       "    </tr>\n",
       "    <tr>\n",
       "      <th>266 Pumped Hydro store Pumped Hydro</th>\n",
       "      <td>0.000</td>\n",
       "    </tr>\n",
       "    <tr>\n",
       "      <th>268 Pumped Hydro store Pumped Hydro</th>\n",
       "      <td>0.000</td>\n",
       "    </tr>\n",
       "    <tr>\n",
       "      <th>279_220kV Pumped Hydro store Pumped Hydro</th>\n",
       "      <td>0.000</td>\n",
       "    </tr>\n",
       "    <tr>\n",
       "      <th>293 Pumped Hydro store Pumped Hydro</th>\n",
       "      <td>0.000</td>\n",
       "    </tr>\n",
       "    <tr>\n",
       "      <th>320 Pumped Hydro store Pumped Hydro</th>\n",
       "      <td>0.000</td>\n",
       "    </tr>\n",
       "    <tr>\n",
       "      <th>32_220kV Pumped Hydro store Pumped Hydro</th>\n",
       "      <td>0.000</td>\n",
       "    </tr>\n",
       "    <tr>\n",
       "      <th>333 Pumped Hydro store Pumped Hydro</th>\n",
       "      <td>1023.557</td>\n",
       "    </tr>\n",
       "    <tr>\n",
       "      <th>342 Pumped Hydro store Pumped Hydro</th>\n",
       "      <td>0.000</td>\n",
       "    </tr>\n",
       "    <tr>\n",
       "      <th>343 Pumped Hydro store Pumped Hydro</th>\n",
       "      <td>0.000</td>\n",
       "    </tr>\n",
       "    <tr>\n",
       "      <th>362_220kV Pumped Hydro store Pumped Hydro</th>\n",
       "      <td>0.000</td>\n",
       "    </tr>\n",
       "    <tr>\n",
       "      <th>368 Pumped Hydro store Pumped Hydro</th>\n",
       "      <td>0.000</td>\n",
       "    </tr>\n",
       "    <tr>\n",
       "      <th>374 Pumped Hydro store Pumped Hydro</th>\n",
       "      <td>0.000</td>\n",
       "    </tr>\n",
       "    <tr>\n",
       "      <th>379 Pumped Hydro store Pumped Hydro</th>\n",
       "      <td>0.000</td>\n",
       "    </tr>\n",
       "    <tr>\n",
       "      <th>389 Pumped Hydro store Pumped Hydro</th>\n",
       "      <td>0.000</td>\n",
       "    </tr>\n",
       "    <tr>\n",
       "      <th>397 Pumped Hydro store Pumped Hydro</th>\n",
       "      <td>0.000</td>\n",
       "    </tr>\n",
       "    <tr>\n",
       "      <th>423 Pumped Hydro store Pumped Hydro</th>\n",
       "      <td>0.000</td>\n",
       "    </tr>\n",
       "    <tr>\n",
       "      <th>424 Pumped Hydro store Pumped Hydro</th>\n",
       "      <td>0.000</td>\n",
       "    </tr>\n",
       "    <tr>\n",
       "      <th>479 Pumped Hydro store Pumped Hydro</th>\n",
       "      <td>0.000</td>\n",
       "    </tr>\n",
       "    <tr>\n",
       "      <th>481 Pumped Hydro store Pumped Hydro</th>\n",
       "      <td>0.000</td>\n",
       "    </tr>\n",
       "    <tr>\n",
       "      <th>493 Pumped Hydro store Pumped Hydro</th>\n",
       "      <td>0.000</td>\n",
       "    </tr>\n",
       "    <tr>\n",
       "      <th>51 Pumped Hydro store Pumped Hydro</th>\n",
       "      <td>0.000</td>\n",
       "    </tr>\n",
       "    <tr>\n",
       "      <th>63 Pumped Hydro store Pumped Hydro</th>\n",
       "      <td>0.000</td>\n",
       "    </tr>\n",
       "    <tr>\n",
       "      <th>66 Pumped Hydro store Pumped Hydro</th>\n",
       "      <td>0.000</td>\n",
       "    </tr>\n",
       "    <tr>\n",
       "      <th>72 Pumped Hydro store Pumped Hydro</th>\n",
       "      <td>0.000</td>\n",
       "    </tr>\n",
       "    <tr>\n",
       "      <th>78_220kV Pumped Hydro store Pumped Hydro</th>\n",
       "      <td>0.000</td>\n",
       "    </tr>\n",
       "    <tr>\n",
       "      <th>8 Pumped Hydro store Pumped Hydro</th>\n",
       "      <td>714.600</td>\n",
       "    </tr>\n",
       "    <tr>\n",
       "      <th>98 Pumped Hydro store Pumped Hydro</th>\n",
       "      <td>0.000</td>\n",
       "    </tr>\n",
       "  </tbody>\n",
       "</table>\n",
       "</div>"
      ],
      "text/plain": [
       "                                            Store-e\n",
       "Store                                              \n",
       "100_220kV Pumped Hydro store Pumped Hydro     0.000\n",
       "114 Pumped Hydro store Pumped Hydro           0.000\n",
       "121 Pumped Hydro store Pumped Hydro           0.000\n",
       "140 Pumped Hydro store Pumped Hydro           0.000\n",
       "141 Pumped Hydro store Pumped Hydro           0.000\n",
       "158 Pumped Hydro store Pumped Hydro           0.000\n",
       "166 Pumped Hydro store Pumped Hydro           0.000\n",
       "205 Pumped Hydro store Pumped Hydro           0.000\n",
       "228 Pumped Hydro store Pumped Hydro           0.000\n",
       "235 Pumped Hydro store Pumped Hydro           0.000\n",
       "25 Pumped Hydro store Pumped Hydro            0.000\n",
       "266 Pumped Hydro store Pumped Hydro           0.000\n",
       "268 Pumped Hydro store Pumped Hydro           0.000\n",
       "279_220kV Pumped Hydro store Pumped Hydro     0.000\n",
       "293 Pumped Hydro store Pumped Hydro           0.000\n",
       "320 Pumped Hydro store Pumped Hydro           0.000\n",
       "32_220kV Pumped Hydro store Pumped Hydro      0.000\n",
       "333 Pumped Hydro store Pumped Hydro        1023.557\n",
       "342 Pumped Hydro store Pumped Hydro           0.000\n",
       "343 Pumped Hydro store Pumped Hydro           0.000\n",
       "362_220kV Pumped Hydro store Pumped Hydro     0.000\n",
       "368 Pumped Hydro store Pumped Hydro           0.000\n",
       "374 Pumped Hydro store Pumped Hydro           0.000\n",
       "379 Pumped Hydro store Pumped Hydro           0.000\n",
       "389 Pumped Hydro store Pumped Hydro           0.000\n",
       "397 Pumped Hydro store Pumped Hydro           0.000\n",
       "423 Pumped Hydro store Pumped Hydro           0.000\n",
       "424 Pumped Hydro store Pumped Hydro           0.000\n",
       "479 Pumped Hydro store Pumped Hydro           0.000\n",
       "481 Pumped Hydro store Pumped Hydro           0.000\n",
       "493 Pumped Hydro store Pumped Hydro           0.000\n",
       "51 Pumped Hydro store Pumped Hydro            0.000\n",
       "63 Pumped Hydro store Pumped Hydro            0.000\n",
       "66 Pumped Hydro store Pumped Hydro            0.000\n",
       "72 Pumped Hydro store Pumped Hydro            0.000\n",
       "78_220kV Pumped Hydro store Pumped Hydro      0.000\n",
       "8 Pumped Hydro store Pumped Hydro           714.600\n",
       "98 Pumped Hydro store Pumped Hydro            0.000"
      ]
     },
     "execution_count": 170,
     "metadata": {},
     "output_type": "execute_result"
    }
   ],
   "source": [
    "m.solution[\"Store-e\"].to_dataframe().loc[n1.snapshots[-1]]"
   ]
  },
  {
   "cell_type": "code",
   "execution_count": 58,
   "id": "163bbf65-624c-4a67-be6c-5e6fa8e45e70",
   "metadata": {},
   "outputs": [
    {
     "name": "stderr",
     "output_type": "stream",
     "text": [
      "WARNING:pypsa.components:The following transformers have zero r, which could break the linear load flow:\n",
      "Index(['2', '5', '10', '12', '13', '15', '18', '20', '22', '24', '26', '30',\n",
      "       '32', '37', '42', '46', '52', '56', '61', '68', '69', '74', '78', '86',\n",
      "       '87', '94', '95', '96', '99', '100', '104', '105', '106', '107', '117',\n",
      "       '120', '123', '124', '125', '128', '129', '138', '143', '156', '157',\n",
      "       '159', '160', '165', '184', '191', '195', '201', '220', '231', '232',\n",
      "       '233', '236', '247', '248', '250', '251', '252', '261', '263', '264',\n",
      "       '267', '272', '279', '281', '282', '292', '303', '307', '308', '312',\n",
      "       '315', '317', '322', '332', '334', '336', '338', '351', '353', '360',\n",
      "       '362', '382', '384', '385', '391', '403', '404', '413', '421', '450',\n",
      "       '458'],\n",
      "      dtype='object', name='Transformer')\n",
      "/home/thomgeo/conda/envs/thomgeo/envs/pypsa-eur/lib/python3.10/site-packages/linopy/expressions.py:176: FutureWarning: the `pandas.MultiIndex` object(s) passed as 'Generator' coordinate(s) or data variable(s) will no longer be implicitly promoted and wrapped into multiple indexed coordinates in the future (i.e., one coordinate for each multi-index level + one dimension coordinate). If you want to keep this behavior, you need to first wrap it explicitly using `mindex_coords = xarray.Coordinates.from_pandas_multiindex(mindex_obj, 'dim')` and pass it as coordinates, e.g., `xarray.Dataset(coords=mindex_coords)`, `dataset.assign_coords(mindex_coords)` or `dataarray.assign_coords(mindex_coords)`.\n",
      "  ds = self.data.assign_coords({group_dim: idx})\n",
      "/home/thomgeo/conda/envs/thomgeo/envs/pypsa-eur/lib/python3.10/site-packages/linopy/expressions.py:176: FutureWarning: the `pandas.MultiIndex` object(s) passed as 'Store' coordinate(s) or data variable(s) will no longer be implicitly promoted and wrapped into multiple indexed coordinates in the future (i.e., one coordinate for each multi-index level + one dimension coordinate). If you want to keep this behavior, you need to first wrap it explicitly using `mindex_coords = xarray.Coordinates.from_pandas_multiindex(mindex_obj, 'dim')` and pass it as coordinates, e.g., `xarray.Dataset(coords=mindex_coords)`, `dataset.assign_coords(mindex_coords)` or `dataarray.assign_coords(mindex_coords)`.\n",
      "  ds = self.data.assign_coords({group_dim: idx})\n",
      "/home/thomgeo/conda/envs/thomgeo/envs/pypsa-eur/lib/python3.10/site-packages/linopy/expressions.py:176: FutureWarning: the `pandas.MultiIndex` object(s) passed as 'Line' coordinate(s) or data variable(s) will no longer be implicitly promoted and wrapped into multiple indexed coordinates in the future (i.e., one coordinate for each multi-index level + one dimension coordinate). If you want to keep this behavior, you need to first wrap it explicitly using `mindex_coords = xarray.Coordinates.from_pandas_multiindex(mindex_obj, 'dim')` and pass it as coordinates, e.g., `xarray.Dataset(coords=mindex_coords)`, `dataset.assign_coords(mindex_coords)` or `dataarray.assign_coords(mindex_coords)`.\n",
      "  ds = self.data.assign_coords({group_dim: idx})\n",
      "/home/thomgeo/conda/envs/thomgeo/envs/pypsa-eur/lib/python3.10/site-packages/linopy/expressions.py:176: FutureWarning: the `pandas.MultiIndex` object(s) passed as 'Line' coordinate(s) or data variable(s) will no longer be implicitly promoted and wrapped into multiple indexed coordinates in the future (i.e., one coordinate for each multi-index level + one dimension coordinate). If you want to keep this behavior, you need to first wrap it explicitly using `mindex_coords = xarray.Coordinates.from_pandas_multiindex(mindex_obj, 'dim')` and pass it as coordinates, e.g., `xarray.Dataset(coords=mindex_coords)`, `dataset.assign_coords(mindex_coords)` or `dataarray.assign_coords(mindex_coords)`.\n",
      "  ds = self.data.assign_coords({group_dim: idx})\n",
      "/home/thomgeo/conda/envs/thomgeo/envs/pypsa-eur/lib/python3.10/site-packages/linopy/expressions.py:176: FutureWarning: the `pandas.MultiIndex` object(s) passed as 'Transformer' coordinate(s) or data variable(s) will no longer be implicitly promoted and wrapped into multiple indexed coordinates in the future (i.e., one coordinate for each multi-index level + one dimension coordinate). If you want to keep this behavior, you need to first wrap it explicitly using `mindex_coords = xarray.Coordinates.from_pandas_multiindex(mindex_obj, 'dim')` and pass it as coordinates, e.g., `xarray.Dataset(coords=mindex_coords)`, `dataset.assign_coords(mindex_coords)` or `dataarray.assign_coords(mindex_coords)`.\n",
      "  ds = self.data.assign_coords({group_dim: idx})\n",
      "/home/thomgeo/conda/envs/thomgeo/envs/pypsa-eur/lib/python3.10/site-packages/linopy/expressions.py:176: FutureWarning: the `pandas.MultiIndex` object(s) passed as 'Transformer' coordinate(s) or data variable(s) will no longer be implicitly promoted and wrapped into multiple indexed coordinates in the future (i.e., one coordinate for each multi-index level + one dimension coordinate). If you want to keep this behavior, you need to first wrap it explicitly using `mindex_coords = xarray.Coordinates.from_pandas_multiindex(mindex_obj, 'dim')` and pass it as coordinates, e.g., `xarray.Dataset(coords=mindex_coords)`, `dataset.assign_coords(mindex_coords)` or `dataarray.assign_coords(mindex_coords)`.\n",
      "  ds = self.data.assign_coords({group_dim: idx})\n",
      "/home/thomgeo/conda/envs/thomgeo/envs/pypsa-eur/lib/python3.10/site-packages/linopy/expressions.py:176: FutureWarning: the `pandas.MultiIndex` object(s) passed as 'Link' coordinate(s) or data variable(s) will no longer be implicitly promoted and wrapped into multiple indexed coordinates in the future (i.e., one coordinate for each multi-index level + one dimension coordinate). If you want to keep this behavior, you need to first wrap it explicitly using `mindex_coords = xarray.Coordinates.from_pandas_multiindex(mindex_obj, 'dim')` and pass it as coordinates, e.g., `xarray.Dataset(coords=mindex_coords)`, `dataset.assign_coords(mindex_coords)` or `dataarray.assign_coords(mindex_coords)`.\n",
      "  ds = self.data.assign_coords({group_dim: idx})\n",
      "/home/thomgeo/conda/envs/thomgeo/envs/pypsa-eur/lib/python3.10/site-packages/linopy/expressions.py:176: FutureWarning: the `pandas.MultiIndex` object(s) passed as 'Link' coordinate(s) or data variable(s) will no longer be implicitly promoted and wrapped into multiple indexed coordinates in the future (i.e., one coordinate for each multi-index level + one dimension coordinate). If you want to keep this behavior, you need to first wrap it explicitly using `mindex_coords = xarray.Coordinates.from_pandas_multiindex(mindex_obj, 'dim')` and pass it as coordinates, e.g., `xarray.Dataset(coords=mindex_coords)`, `dataset.assign_coords(mindex_coords)` or `dataarray.assign_coords(mindex_coords)`.\n",
      "  ds = self.data.assign_coords({group_dim: idx})\n"
     ]
    },
    {
     "data": {
      "text/plain": [
       "Linopy LP model\n",
       "===============\n",
       "\n",
       "Variables:\n",
       "----------\n",
       " * Generator-p (snapshot, Generator)\n",
       " * Line-s (snapshot, Line)\n",
       " * Transformer-s (snapshot, Transformer)\n",
       " * Link-p (snapshot, Link)\n",
       " * Store-e (snapshot, Store)\n",
       " * Store-p (snapshot, Store)\n",
       "\n",
       "Constraints:\n",
       "------------\n",
       " * Generator-fix-p-lower (snapshot, Generator-fix)\n",
       " * Generator-fix-p-upper (snapshot, Generator-fix)\n",
       " * Line-fix-s-lower (snapshot, Line-fix)\n",
       " * Line-fix-s-upper (snapshot, Line-fix)\n",
       " * Transformer-fix-s-lower (snapshot, Transformer-fix)\n",
       " * Transformer-fix-s-upper (snapshot, Transformer-fix)\n",
       " * Link-fix-p-lower (snapshot, Link-fix)\n",
       " * Link-fix-p-upper (snapshot, Link-fix)\n",
       " * Store-fix-e-lower (snapshot, Store-fix)\n",
       " * Store-fix-e-upper (snapshot, Store-fix)\n",
       " * Bus-nodal_balance (Bus, snapshot)\n",
       " * Kirchhoff-Voltage-Law (snapshot, cycles)\n",
       " * Store-energy_balance (snapshot, Store)\n",
       "\n",
       "Status:\n",
       "-------\n",
       "initialized"
      ]
     },
     "execution_count": 58,
     "metadata": {},
     "output_type": "execute_result"
    }
   ],
   "source": [
    "n1.optimize.create_model()"
   ]
  },
  {
   "cell_type": "code",
   "execution_count": null,
   "id": "6671c174-f21c-40c8-8bcc-0bc24319c54f",
   "metadata": {},
   "outputs": [],
   "source": []
  },
  {
   "cell_type": "code",
   "execution_count": 59,
   "id": "20376397-aa44-4fae-a39c-66575036098d",
   "metadata": {},
   "outputs": [],
   "source": [
    "m = n1.model\n",
    "\n",
    "theta = m.add_variables(lower=-1e7, name=\"theta\")\n",
    "\n",
    "obj = m.objective\n",
    "\n",
    "m.add_objective(obj + theta, overwrite=True)"
   ]
  },
  {
   "cell_type": "code",
   "execution_count": 63,
   "id": "c3f9d46e-c946-4d66-b984-cbc582d8ec5a",
   "metadata": {},
   "outputs": [
    {
     "name": "stderr",
     "output_type": "stream",
     "text": [
      "INFO:linopy.model: Solve problem using Cbc solver\n",
      "INFO:linopy.io:Writing objective.\n",
      "Writing constraints.: 100% 13/13 [00:00<00:00, 35.72it/s]\n",
      "Writing continuous variables.: 100% 7/7 [00:00<00:00, 109.36it/s]\n",
      "INFO:linopy.io: Writing time: 0.45s\n"
     ]
    },
    {
     "name": "stdout",
     "output_type": "stream",
     "text": [
      "Welcome to the CBC MILP Solver \n",
      "Version: 2.10.10 \n",
      "Build Date: Apr 19 2023 \n",
      "\n",
      "command line - cbc -printingOptions all -import /tmp/linopy-problem-dr673xxy.lp -solve -solu /tmp/linopy-solve-awe58ty9.sol (default strategy 1)\n",
      "Option for printingOptions changed from normal to all\n",
      "Presolve 7294 (-65558) rows, 13713 (-17020) columns and 45881 (-87029) elements\n",
      "Perturbing problem by 0.001% of 2155.1063 - largest nonzero change 0.00099885507 ( 0.04638933%) - largest zero change 0.00099882928\n",
      "0  Obj -9902183.8 Primal inf 23792309 (6680) Dual inf 375.24321 (4)\n",
      "220  Obj -9996211.8 Primal inf 17434132 (6639)\n",
      "440  Obj -9996210.4 Primal inf 15726518 (6541)\n",
      "660  Obj -9996209.5 Primal inf 15135100 (6484)\n",
      "880  Obj -9996209.2 Primal inf 14419221 (6392)\n",
      "1100  Obj -9996208.4 Primal inf 14310985 (6336)\n",
      "1320  Obj -9996207.3 Primal inf 13268956 (6230)\n",
      "1540  Obj -9996205.9 Primal inf 13067803 (6133)\n",
      "1760  Obj -9996205.4 Primal inf 12334628 (6024)\n",
      "1980  Obj -9996204.6 Primal inf 12887216 (5991)\n",
      "2200  Obj -9996201.9 Primal inf 13217220 (5918)\n",
      "2420  Obj -9996195.9 Primal inf 16127827 (5876)\n",
      "2640  Obj -9996191.7 Primal inf 15298934 (5732)\n",
      "2860  Obj -9996186.2 Primal inf 15389563 (5585)\n",
      "3080  Obj -9996181.2 Primal inf 19094893 (5411)\n",
      "3300  Obj -9996176.5 Primal inf 14298309 (5276)\n",
      "3520  Obj -9996174.6 Primal inf 17406289 (5254)\n",
      "3740  Obj -9996169.6 Primal inf 14441100 (5112)\n",
      "3960  Obj -9996164.2 Primal inf 16557925 (4962)\n",
      "4180  Obj -9996153.3 Primal inf 21230391 (4821)\n",
      "4400  Obj -9996141.8 Primal inf 30123587 (4655)\n",
      "4620  Obj -9996134.9 Primal inf 14953378 (4640)\n",
      "4840  Obj -9996125 Primal inf 18352765 (4673)\n",
      "5060  Obj -9996118.5 Primal inf 16115768 (4356)\n",
      "5280  Obj -9996111.1 Primal inf 22163833 (4058)\n",
      "5500  Obj -9996098.8 Primal inf 50578911 (3998)\n",
      "5720  Obj -9996090.5 Primal inf 53666308 (3748)\n",
      "5940  Obj -9996082.5 Primal inf 61034831 (3507)\n",
      "6160  Obj -9996069.7 Primal inf 24462323 (3183)\n",
      "6380  Obj -9996060.1 Primal inf 21122244 (2829)\n",
      "6600  Obj -9996051.5 Primal inf 13068364 (2449)\n",
      "6820  Obj -9996042.8 Primal inf 9780958.3 (2457)\n",
      "7040  Obj -9996033 Primal inf 6401721.8 (2241)\n",
      "7260  Obj -9976582.7 Primal inf 11462585 (2134)\n",
      "7480  Obj -9831188.7 Primal inf 4407287.9 (1668)\n",
      "7700  Obj -9570459 Primal inf 3188826.1 (1501)\n",
      "7920  Obj -9150944 Primal inf 3276268.8 (1537)\n",
      "8140  Obj -8855015.8 Primal inf 5289218.2 (1136)\n",
      "8360  Obj -8590938.7 Primal inf 12867424 (1559)\n",
      "8580  Obj -8390030.3 Primal inf 11716250 (914)\n",
      "8800  Obj -8255590.2 Primal inf 1912730.9 (584)\n",
      "9020  Obj -7983643.7 Primal inf 18263.755 (306)\n",
      "9240  Obj -7908233.1 Primal inf 5187.7525 (173)\n",
      "9460  Obj -7888517.9 Primal inf 36.804225 (33)\n",
      "9498  Obj -7888244.8\n",
      "9498  Obj -7888268 Dual inf 0.0011997762 (17)\n",
      "9519  Obj -7888268\n",
      "Optimal - objective value -7888268\n",
      "After Postsolve, objective -7888268, infeasibilities - dual 221.01603 (12), primal 2.7100111e-06 (10)\n",
      "Presolved model was optimal, full model needs cleaning up\n",
      "0  Obj -7888268 Dual inf 2.2038708 (10)\n",
      "End of values pass after 28 iterations\n",
      "28  Obj -7888268\n",
      "Optimal - objective value -7888268\n",
      "Optimal objective -7888268 - 9547 iterations time 1.682, Presolve 0.10\n",
      "Total time (CPU seconds):       2.54   (Wallclock seconds):       2.44\n",
      "\n"
     ]
    },
    {
     "name": "stderr",
     "output_type": "stream",
     "text": [
      "INFO:linopy.constants: Optimization successful: \n",
      "Status: ok\n",
      "Termination condition: optimal\n",
      "Solution: 30733 primals, 72852 duals\n",
      "Objective: -7.89e+06\n",
      "Solver model: not available\n",
      "Solver message: Optimal - objective value -7888268.00038694\n",
      "\n",
      "\n"
     ]
    },
    {
     "data": {
      "text/plain": [
       "('ok', 'optimal')"
      ]
     },
     "execution_count": 63,
     "metadata": {},
     "output_type": "execute_result"
    }
   ],
   "source": [
    "m.solve(solver_name=\"cbc\")"
   ]
  },
  {
   "cell_type": "code",
   "execution_count": null,
   "id": "b29606fa-8e94-4439-b4c9-a2ccc8e0a00d",
   "metadata": {},
   "outputs": [],
   "source": []
  },
  {
   "cell_type": "code",
   "execution_count": null,
   "id": "1207f6f0-9653-4e0f-ba84-f46ab25ae451",
   "metadata": {},
   "outputs": [],
   "source": []
  },
  {
   "cell_type": "code",
   "execution_count": null,
   "id": "7d42dff3-d7ba-403a-a93d-14efafa79951",
   "metadata": {},
   "outputs": [],
   "source": []
  },
  {
   "cell_type": "code",
   "execution_count": null,
   "id": "fa3b0d45-2bd5-4eb4-ac8c-d4190950e378",
   "metadata": {},
   "outputs": [],
   "source": []
  },
  {
   "cell_type": "code",
   "execution_count": null,
   "id": "cd6c6fd7-3196-43bf-b8cf-e1102c92909b",
   "metadata": {},
   "outputs": [],
   "source": []
  },
  {
   "cell_type": "code",
   "execution_count": null,
   "id": "735e845f-de06-4a8b-a31b-d9f0e29e9dbc",
   "metadata": {},
   "outputs": [],
   "source": []
  },
  {
   "cell_type": "code",
   "execution_count": null,
   "id": "f1bae434-2965-44c4-872c-1b7084f50886",
   "metadata": {},
   "outputs": [],
   "source": []
  },
  {
   "cell_type": "code",
   "execution_count": null,
   "id": "aaed87dd-a0fa-4e39-99b7-b476c61c516c",
   "metadata": {},
   "outputs": [],
   "source": []
  },
  {
   "cell_type": "code",
   "execution_count": null,
   "id": "606ba6ff-f84f-4e8e-b759-869aa0b2d613",
   "metadata": {},
   "outputs": [],
   "source": []
  },
  {
   "cell_type": "code",
   "execution_count": null,
   "id": "d3248af8-cd09-4284-9c5c-e230b8c8e06b",
   "metadata": {},
   "outputs": [],
   "source": []
  },
  {
   "cell_type": "code",
   "execution_count": null,
   "id": "68b279ff-7628-472d-b1a2-ca5479b695f6",
   "metadata": {},
   "outputs": [],
   "source": []
  },
  {
   "cell_type": "code",
   "execution_count": null,
   "id": "76d51f7b-d898-4dc8-be6f-0d2ff56772ec",
   "metadata": {},
   "outputs": [],
   "source": []
  }
 ],
 "metadata": {
  "kernelspec": {
   "display_name": "eraa23-new",
   "language": "python",
   "name": "eraa23-new"
  },
  "language_info": {
   "codemirror_mode": {
    "name": "ipython",
    "version": 3
   },
   "file_extension": ".py",
   "mimetype": "text/x-python",
   "name": "python",
   "nbconvert_exporter": "python",
   "pygments_lexer": "ipython3",
   "version": "3.11.11"
  }
 },
 "nbformat": 4,
 "nbformat_minor": 5
}
