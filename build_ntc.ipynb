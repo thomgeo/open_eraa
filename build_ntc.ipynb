{
 "cells": [
  {
   "cell_type": "code",
   "execution_count": 1,
   "metadata": {},
   "outputs": [],
   "source": [
    "import pandas as pd\n",
    "import zipfile\n",
    "import glob\n",
    "import os"
   ]
  },
  {
   "cell_type": "code",
   "execution_count": 2,
   "metadata": {},
   "outputs": [],
   "source": [
    "def get_ntc_data(df):\n",
    "    \n",
    "    p_nom = df.max().reset_index([1,2])\n",
    "    p_nom.columns = [\"bus0\", \"bus1\", \"p_nom\"]\n",
    "    p_max_pu = df.div(df.max().add(1e-6))\n",
    "    p_max_pu = p_max_pu.T.reset_index([1,2], drop=True).T\n",
    "    \n",
    "    return p_nom, p_max_pu"
   ]
  },
  {
   "cell_type": "code",
   "execution_count": 3,
   "metadata": {},
   "outputs": [],
   "source": [
    "def get_ntc_tables(excel_file):\n",
    "    \n",
    "    hvac = pd.read_excel(excel_file, \"HVAC\", header=[7, 8, 9], index_col=[0, 1]).iloc[6:]\n",
    "    hvdc = pd.read_excel(excel_file, \"HVDC\", header=[7, 8, 9], index_col=[0, 1]).iloc[6:]\n",
    "\n",
    "    p_nom_ac, p_max_pu_ac = get_ntc_data(hvac)\n",
    "    p_nom_ac.index = p_nom_ac.index + \"-AC\"\n",
    "    p_max_pu_ac.columns = p_max_pu_ac.columns + \"-AC\"\n",
    "    \n",
    "    p_nom_ac = p_nom_ac[~p_nom_ac.index.duplicated(keep=\"first\")]\n",
    "    p_max_pu_ac = p_max_pu_ac.loc[:, ~p_max_pu_ac.columns.duplicated(keep=\"first\")]\n",
    "\n",
    "    p_nom_dc, p_max_pu_dc = get_ntc_data(hvdc)\n",
    "    p_nom_dc.index = p_nom_dc.index + \"-DC\"\n",
    "    p_max_pu_dc.columns = p_max_pu_dc.columns + \"-DC\"\n",
    "\n",
    "    p_nom = pd.concat([p_nom_ac, p_nom_dc])\n",
    "    p_max_pu = pd.concat([p_max_pu_ac, p_max_pu_dc], axis=1)\n",
    "\n",
    "    p_nom = p_nom[p_nom.p_nom >0]\n",
    "    p_max_pu = p_max_pu[p_nom.index]\n",
    "    \n",
    "    return p_nom, p_max_pu"
   ]
  },
  {
   "cell_type": "code",
   "execution_count": 4,
   "metadata": {},
   "outputs": [],
   "source": [
    "with zipfile.ZipFile(\"data/ntc.zip\") as zip_f:\n",
    "    zip_f.extractall(\"data/\")"
   ]
  },
  {
   "cell_type": "code",
   "execution_count": 5,
   "metadata": {},
   "outputs": [],
   "source": [
    "p_nom = pd.DataFrame()\n",
    "p_max_pu = pd.DataFrame()\n",
    "\n",
    "for file in sorted([i for i in glob.glob(\"data/Net Transfer Capacities/*\") if \"PEMMDB\" in i]):\n",
    "\n",
    "    excel_file = pd.ExcelFile(file)\n",
    "\n",
    "    p_nom_year, p_max_pu_year = get_ntc_tables(excel_file)\n",
    "\n",
    "    p_nom_year, p_max_pu_year = get_ntc_tables(excel_file)\n",
    "    \n",
    "    p_nom_year = p_nom_year.stack()\n",
    "    p_nom_year.name = int(os.path.splitext(file.split(\"_\")[-1])[0])\n",
    "    p_nom = pd.concat([p_nom, p_nom_year], axis=1)\n",
    "    \n",
    "    p_max_pu_year = p_max_pu_year.stack()\n",
    "    p_max_pu_year.name= int(os.path.splitext(file.split(\"_\")[-1])[0])\n",
    "    p_max_pu = pd.concat([p_max_pu, p_max_pu_year],axis=1)"
   ]
  },
  {
   "cell_type": "code",
   "execution_count": 6,
   "metadata": {},
   "outputs": [],
   "source": [
    "for col in p_max_pu.columns:\n",
    "    p_max_pu[col] = p_max_pu[col].astype(float)"
   ]
  },
  {
   "cell_type": "code",
   "execution_count": 8,
   "metadata": {},
   "outputs": [
    {
     "data": {
      "text/html": [
       "<div>\n",
       "<style scoped>\n",
       "    .dataframe tbody tr th:only-of-type {\n",
       "        vertical-align: middle;\n",
       "    }\n",
       "\n",
       "    .dataframe tbody tr th {\n",
       "        vertical-align: top;\n",
       "    }\n",
       "\n",
       "    .dataframe thead th {\n",
       "        text-align: right;\n",
       "    }\n",
       "</style>\n",
       "<table border=\"1\" class=\"dataframe\">\n",
       "  <thead>\n",
       "    <tr style=\"text-align: right;\">\n",
       "      <th></th>\n",
       "      <th>2025</th>\n",
       "      <th>2028</th>\n",
       "      <th>2030</th>\n",
       "      <th>2033</th>\n",
       "    </tr>\n",
       "  </thead>\n",
       "  <tbody>\n",
       "    <tr>\n",
       "      <th>(AL00-GR00-AC, bus0)</th>\n",
       "      <td>AL00</td>\n",
       "      <td>AL00</td>\n",
       "      <td>AL00</td>\n",
       "      <td>AL00</td>\n",
       "    </tr>\n",
       "    <tr>\n",
       "      <th>(AL00-GR00-AC, bus1)</th>\n",
       "      <td>GR00</td>\n",
       "      <td>GR00</td>\n",
       "      <td>GR00</td>\n",
       "      <td>GR00</td>\n",
       "    </tr>\n",
       "    <tr>\n",
       "      <th>(AL00-GR00-AC, p_nom)</th>\n",
       "      <td>400</td>\n",
       "      <td>400</td>\n",
       "      <td>400</td>\n",
       "      <td>400</td>\n",
       "    </tr>\n",
       "    <tr>\n",
       "      <th>(AL00-ME00-AC, bus0)</th>\n",
       "      <td>AL00</td>\n",
       "      <td>AL00</td>\n",
       "      <td>AL00</td>\n",
       "      <td>AL00</td>\n",
       "    </tr>\n",
       "    <tr>\n",
       "      <th>(AL00-ME00-AC, bus1)</th>\n",
       "      <td>ME00</td>\n",
       "      <td>ME00</td>\n",
       "      <td>ME00</td>\n",
       "      <td>ME00</td>\n",
       "    </tr>\n",
       "    <tr>\n",
       "      <th>...</th>\n",
       "      <td>...</td>\n",
       "      <td>...</td>\n",
       "      <td>...</td>\n",
       "      <td>...</td>\n",
       "    </tr>\n",
       "    <tr>\n",
       "      <th>(UKNI-IE00-AC, bus1)</th>\n",
       "      <td>IE00</td>\n",
       "      <td>IE00</td>\n",
       "      <td>IE00</td>\n",
       "      <td>IE00</td>\n",
       "    </tr>\n",
       "    <tr>\n",
       "      <th>(UKNI-IE00-AC, p_nom)</th>\n",
       "      <td>300</td>\n",
       "      <td>900</td>\n",
       "      <td>900</td>\n",
       "      <td>900</td>\n",
       "    </tr>\n",
       "    <tr>\n",
       "      <th>(UKNI-UK00-DC, bus0)</th>\n",
       "      <td>UKNI</td>\n",
       "      <td>UKNI</td>\n",
       "      <td>UKNI</td>\n",
       "      <td>UKNI</td>\n",
       "    </tr>\n",
       "    <tr>\n",
       "      <th>(UKNI-UK00-DC, bus1)</th>\n",
       "      <td>UK00</td>\n",
       "      <td>UK00</td>\n",
       "      <td>UK00</td>\n",
       "      <td>UK00</td>\n",
       "    </tr>\n",
       "    <tr>\n",
       "      <th>(UKNI-UK00-DC, p_nom)</th>\n",
       "      <td>400</td>\n",
       "      <td>400</td>\n",
       "      <td>400</td>\n",
       "      <td>400</td>\n",
       "    </tr>\n",
       "  </tbody>\n",
       "</table>\n",
       "<p>702 rows × 4 columns</p>\n",
       "</div>"
      ],
      "text/plain": [
       "                       2025  2028  2030  2033\n",
       "(AL00-GR00-AC, bus0)   AL00  AL00  AL00  AL00\n",
       "(AL00-GR00-AC, bus1)   GR00  GR00  GR00  GR00\n",
       "(AL00-GR00-AC, p_nom)   400   400   400   400\n",
       "(AL00-ME00-AC, bus0)   AL00  AL00  AL00  AL00\n",
       "(AL00-ME00-AC, bus1)   ME00  ME00  ME00  ME00\n",
       "...                     ...   ...   ...   ...\n",
       "(UKNI-IE00-AC, bus1)   IE00  IE00  IE00  IE00\n",
       "(UKNI-IE00-AC, p_nom)   300   900   900   900\n",
       "(UKNI-UK00-DC, bus0)   UKNI  UKNI  UKNI  UKNI\n",
       "(UKNI-UK00-DC, bus1)   UK00  UK00  UK00  UK00\n",
       "(UKNI-UK00-DC, p_nom)   400   400   400   400\n",
       "\n",
       "[702 rows x 4 columns]"
      ]
     },
     "execution_count": 8,
     "metadata": {},
     "output_type": "execute_result"
    }
   ],
   "source": [
    "p_nom"
   ]
  },
  {
   "cell_type": "code",
   "execution_count": 63,
   "metadata": {},
   "outputs": [
    {
     "name": "stderr",
     "output_type": "stream",
     "text": [
      "/tmp/ipykernel_46228/1177414403.py:1: PerformanceWarning: \n",
      "your performance may suffer as PyTables will pickle object types that it cannot\n",
      "map directly to c-types [inferred_type->mixed-integer,key->block0_values] [items->Int64Index([2025, 2028, 2030, 2033], dtype='int64')]\n",
      "\n",
      "  p_nom.to_hdf(\"resources/ntcs.h5\", \"p_nom\")\n"
     ]
    }
   ],
   "source": [
    "p_nom.to_hdf(\"resources/ntcs.h5\", \"p_nom\")\n",
    "p_max_pu.to_hdf(\"resources/ntcs.h5\", \"p_max_pu\")"
   ]
  },
  {
   "cell_type": "code",
   "execution_count": null,
   "metadata": {},
   "outputs": [],
   "source": []
  }
 ],
 "metadata": {
  "kernelspec": {
   "display_name": "pypsa-eur3",
   "language": "python",
   "name": "pypsa-eur3"
  },
  "language_info": {
   "codemirror_mode": {
    "name": "ipython",
    "version": 3
   },
   "file_extension": ".py",
   "mimetype": "text/x-python",
   "name": "python",
   "nbconvert_exporter": "python",
   "pygments_lexer": "ipython3",
   "version": "3.8.5"
  }
 },
 "nbformat": 4,
 "nbformat_minor": 4
}
