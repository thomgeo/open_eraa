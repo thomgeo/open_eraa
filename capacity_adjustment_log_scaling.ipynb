{
 "cells": [
  {
   "cell_type": "code",
   "execution_count": 1,
   "metadata": {},
   "outputs": [],
   "source": [
    "import pandas as pd"
   ]
  },
  {
   "cell_type": "code",
   "execution_count": 2,
   "metadata": {},
   "outputs": [],
   "source": [
    "import glob"
   ]
  },
  {
   "cell_type": "code",
   "execution_count": 3,
   "metadata": {},
   "outputs": [],
   "source": [
    "import numpy as np"
   ]
  },
  {
   "cell_type": "code",
   "execution_count": 4,
   "metadata": {},
   "outputs": [],
   "source": [
    "import os"
   ]
  },
  {
   "cell_type": "code",
   "execution_count": 5,
   "metadata": {},
   "outputs": [],
   "source": [
    "def scaling(input_data, offset, adjustment_factor):\n",
    "    return (\n",
    "        np.log(\n",
    "            (input_data - offset)\n",
    "            .clip(1e-6))\n",
    "        .multiply(adjustment_factor)\n",
    "    )"
   ]
  },
  {
   "cell_type": "code",
   "execution_count": 6,
   "metadata": {},
   "outputs": [],
   "source": [
    "def revenue_ratios_new_plants(average_expected_revenue):\n",
    "    \n",
    "    revenue_lifetime_new = pd.Series(index = average_expected_revenue.filter(like=\"new\").columns)\n",
    "\n",
    "    lifetime_new = costs.loc[:, \"lifetime\", :].reindex([i.split(\" \")[1] for i in revenue_lifetime_new.index]).value\n",
    "    lifetime_new.index = revenue_lifetime_new.index\n",
    "\n",
    "    for plant in revenue_lifetime_new.index:\n",
    "\n",
    "        tech = initial_capacity_table.loc[plant, \"carrier\"].iloc[0]\n",
    "        entry = initial_capacity_table.loc[plant, \"entry\"].iloc[0]\n",
    "\n",
    "        initial_capacity_table.loc[plant]\n",
    "\n",
    "        lifetime = lifetime_new.loc[plant]\n",
    "\n",
    "        revenue_horizon = average_expected_revenue[plant].loc[entry: min(end_year, entry+lifetime)].sum()\n",
    "        revenue_beyond = average_expected_revenue.loc[end_year,plant]*max(lifetime - (end_year - entry), 0)\n",
    "        revenue_lifetime_new.loc[plant] = revenue_horizon + revenue_beyond\n",
    "\n",
    "    invest_cost_new = costs.loc[:, \"investment\", :].reindex([i.split(\" \")[1] for i in revenue_lifetime_new.index]).value.multiply(1e3) #converstion to EUR/MW\n",
    "    invest_cost_new.index = revenue_lifetime_new.index\n",
    "\n",
    "\n",
    "\n",
    "\n",
    "    fixed_om_new = (\n",
    "        costs.loc[:, \"FOM\", :]\n",
    "        .reindex([i.split(\" \")[1] for i in revenue_lifetime_new.index])\n",
    "        .value\n",
    "        .multiply(\n",
    "            costs.loc[:, \"investment\", :]\n",
    "            .reindex([i.split(\" \")[1] for i in revenue_lifetime_new.index])\n",
    "            .value\n",
    "            .multiply(1e3)\n",
    "        )\n",
    "    )\n",
    "\n",
    "    fixed_om_new.index = revenue_lifetime_new.index\n",
    "\n",
    "    total_fixed_new = invest_cost_new + fixed_om_new.multiply(lifetime_new)\n",
    "\n",
    "    return revenue_lifetime_new.div(total_fixed_new)"
   ]
  },
  {
   "cell_type": "code",
   "execution_count": 7,
   "metadata": {},
   "outputs": [],
   "source": [
    "def revenue_ratios_existing_plants(average_expected_revenue):\n",
    "    \n",
    "\n",
    "    revenue_lifetime_existing = pd.DataFrame(\n",
    "        index = average_expected_revenue.index, \n",
    "        columns = [i for i in average_expected_revenue if \"new\" not in i]\n",
    "    )\n",
    "\n",
    "    relative_fixed_om = costs.loc[:, \"FOM\", :].reindex([i.split(\" \")[1] for i in revenue_lifetime_existing]).value\n",
    "\n",
    "    relative_fixed_om.index = revenue_lifetime_existing.columns\n",
    "\n",
    "    invest_cost = (\n",
    "        costs.loc[:, \"investment\", :]\n",
    "        .reindex([i.split(\" \")[1] for i in revenue_lifetime_existing])\n",
    "        .value\n",
    "        .multiply(1e3) #converstion to EUR/MW\n",
    "    ) \n",
    "\n",
    "    invest_cost.index = revenue_lifetime_existing.columns\n",
    "    total_fixed_om = relative_fixed_om.multiply(invest_cost).divide(100) # O&M given in %\n",
    "    \n",
    "\n",
    "    total_fixed = pd.DataFrame(\n",
    "            index = average_expected_revenue.index, \n",
    "            columns = [i for i in average_expected_revenue if \"new\" not in i]\n",
    "        )\n",
    "\n",
    "    for plant in revenue_lifetime_existing.columns:\n",
    "        \n",
    "        tech = initial_capacity_table.loc[plant, \"carrier\"].unique()[0]\n",
    "\n",
    "        entry = int(initial_capacity_table.loc[plant, \"entry\"].unique()[0])\n",
    "        exit = int(initial_capacity_table.loc[plant, \"exit\"].unique()[0])\n",
    "\n",
    "        for year in range(max(start_year, entry), min(exit, end_year+1)):\n",
    "            revenue_lifetime_existing.loc[year, plant] = average_expected_revenue.loc[start_year:year, plant].fillna(0).sum()\n",
    "            total_fixed.loc[year, plant] = (year + 1 - entry)*total_fixed_om.loc[plant]\n",
    "\n",
    "    revenue_lifetime_existing = revenue_lifetime_existing.astype(float)\n",
    "    total_fixed = total_fixed.astype(float)\n",
    "\n",
    "    return revenue_lifetime_existing.divide(total_fixed)\n",
    "        "
   ]
  },
  {
   "cell_type": "code",
   "execution_count": 8,
   "metadata": {},
   "outputs": [],
   "source": [
    "adjustment_factor = 0.005"
   ]
  },
  {
   "cell_type": "code",
   "execution_count": 9,
   "metadata": {},
   "outputs": [],
   "source": [
    "offset = 0.1"
   ]
  },
  {
   "cell_type": "code",
   "execution_count": 10,
   "metadata": {},
   "outputs": [],
   "source": [
    "demand = pd.read_hdf(\"resources/demand.h5\")"
   ]
  },
  {
   "cell_type": "code",
   "execution_count": 11,
   "metadata": {},
   "outputs": [],
   "source": [
    "revenue_files = glob.glob(\"results/revenues/0/*\")"
   ]
  },
  {
   "cell_type": "code",
   "execution_count": 12,
   "metadata": {},
   "outputs": [],
   "source": [
    "initial_capacity_table = pd.read_csv(\"resources/capacity_tables/0.csv\", index_col=[0,1])"
   ]
  },
  {
   "cell_type": "code",
   "execution_count": 13,
   "metadata": {},
   "outputs": [],
   "source": [
    "revenues = []\n",
    "climate_years = []\n",
    "target_years = []"
   ]
  },
  {
   "cell_type": "code",
   "execution_count": 14,
   "metadata": {},
   "outputs": [],
   "source": [
    "for file in revenue_files:\n",
    "    revenues.append(pd.read_hdf(file))\n",
    "\n",
    "    climate_years.append(int(file.split(\"cy\")[1][:4]))\n",
    "    target_years.append(int(file.split(\"ty\")[1][:4]))"
   ]
  },
  {
   "cell_type": "code",
   "execution_count": 15,
   "metadata": {},
   "outputs": [],
   "source": [
    "revenues = pd.concat(revenues,axis=1).T"
   ]
  },
  {
   "cell_type": "code",
   "execution_count": 16,
   "metadata": {},
   "outputs": [],
   "source": [
    "revenues.index = pd.MultiIndex.from_arrays([climate_years, target_years])"
   ]
  },
  {
   "cell_type": "code",
   "execution_count": 17,
   "metadata": {},
   "outputs": [],
   "source": [
    "costs = pd.read_csv(\"../technology-data/outputs/costs_2025.csv\", index_col=[0,1])"
   ]
  },
  {
   "cell_type": "code",
   "execution_count": 18,
   "metadata": {},
   "outputs": [],
   "source": [
    "eva_technologies = ['CCGT', 'OCGT', 'oil', 'biomass', 'lignite', 'coal']"
   ]
  },
  {
   "cell_type": "code",
   "execution_count": 19,
   "metadata": {},
   "outputs": [],
   "source": [
    "costs = costs.reindex(eva_technologies, level=0)"
   ]
  },
  {
   "cell_type": "code",
   "execution_count": 20,
   "metadata": {},
   "outputs": [],
   "source": [
    "average_expected_revenue = revenues.groupby(level=1).mean()"
   ]
  },
  {
   "cell_type": "code",
   "execution_count": 21,
   "metadata": {
    "scrolled": false
   },
   "outputs": [],
   "source": [
    "average_expected_revenue = average_expected_revenue[[i for i in average_expected_revenue.columns if i.split(\" \")[1] in eva_technologies]]"
   ]
  },
  {
   "cell_type": "code",
   "execution_count": 22,
   "metadata": {},
   "outputs": [],
   "source": [
    "start_year = revenues.index.levels[1][0]\n",
    "end_year = revenues.index.levels[1][-1]"
   ]
  },
  {
   "cell_type": "code",
   "execution_count": null,
   "metadata": {},
   "outputs": [],
   "source": []
  },
  {
   "cell_type": "code",
   "execution_count": 23,
   "metadata": {},
   "outputs": [],
   "source": [
    "revenue_ratios_new = revenue_ratios_new_plants(average_expected_revenue)"
   ]
  },
  {
   "cell_type": "code",
   "execution_count": 24,
   "metadata": {},
   "outputs": [],
   "source": [
    "demand_scaling_factor_new = (\n",
    "        demand.groupby(level=2).mean()\n",
    "        .reindex(revenue_ratios_new.index.str[:4])**0.5\n",
    "    )\n",
    "\n",
    "demand_scaling_factor_new.index = revenue_ratios_new.index"
   ]
  },
  {
   "cell_type": "code",
   "execution_count": 25,
   "metadata": {},
   "outputs": [],
   "source": [
    "capacity_adjustment_new = scaling(\n",
    "        revenue_ratios_new,\n",
    "        offset,\n",
    "        adjustment_factor    \n",
    "    ).multiply(\n",
    "        demand_scaling_factor_new\n",
    "    )"
   ]
  },
  {
   "cell_type": "code",
   "execution_count": 27,
   "metadata": {},
   "outputs": [],
   "source": [
    "revenue_ratios_existing = revenue_ratios_existing_plants(average_expected_revenue)"
   ]
  },
  {
   "cell_type": "code",
   "execution_count": 28,
   "metadata": {},
   "outputs": [],
   "source": [
    "demand_scaling_factor_existing = (\n",
    "        demand.groupby(level=2).mean()\n",
    "        .reindex(revenue_ratios_existing.columns.str[:4])**0.5\n",
    "    )\n",
    "\n",
    "demand_scaling_factor_existing.index = revenue_ratios_existing.columns"
   ]
  },
  {
   "cell_type": "code",
   "execution_count": 29,
   "metadata": {},
   "outputs": [],
   "source": [
    "capacity_adjustment_existing = scaling(\n",
    "    revenue_ratios_existing,\n",
    "    offset,\n",
    "    adjustment_factor    \n",
    ").multiply(\n",
    "    demand_scaling_factor_existing\n",
    ")"
   ]
  },
  {
   "cell_type": "code",
   "execution_count": null,
   "metadata": {},
   "outputs": [],
   "source": []
  },
  {
   "cell_type": "code",
   "execution_count": null,
   "metadata": {},
   "outputs": [],
   "source": [
    "p_nom_initial = initial_capacity_table.p_nom.unstack(0)"
   ]
  },
  {
   "cell_type": "code",
   "execution_count": null,
   "metadata": {},
   "outputs": [],
   "source": [
    "p_nom_min = initial_capacity_table.p_nom_min.unstack(0)"
   ]
  },
  {
   "cell_type": "code",
   "execution_count": null,
   "metadata": {},
   "outputs": [],
   "source": [
    "p_nom_max = initial_capacity_table.p_nom_max.unstack(0)"
   ]
  },
  {
   "cell_type": "raw",
   "metadata": {},
   "source": [
    "initial_capacity_changes = initial_capacity_table.p_nom.unstack(0).subtract(\n",
    "    initial_capacity_table.loc[:, start_year, :].p_nom\n",
    ")"
   ]
  },
  {
   "cell_type": "code",
   "execution_count": null,
   "metadata": {},
   "outputs": [],
   "source": [
    "next_capacities_new = pd.concat(\n",
    "    [\n",
    "        p_nom_initial[capacity_adjustment_new.index].add(capacity_adjustment_new).unstack(),\n",
    "        p_nom_min[capacity_adjustment_new.index].unstack()\n",
    "    ],\n",
    "    axis=1\n",
    ").max(axis=1).dropna()"
   ]
  },
  {
   "cell_type": "code",
   "execution_count": null,
   "metadata": {},
   "outputs": [],
   "source": [
    "capacity_adjustment_existing = (\n",
    "    capacity_adjustment_existing\n",
    "    .reindex(capacity_adjustment_existing.index[::-1])\n",
    "    .cummax()\n",
    "    .sort_index()\n",
    ")"
   ]
  },
  {
   "cell_type": "code",
   "execution_count": null,
   "metadata": {},
   "outputs": [],
   "source": [
    "next_capacities_existing = pd.concat(\n",
    "    [\n",
    "        p_nom_initial[capacity_adjustment_existing.columns].add(capacity_adjustment_existing).unstack(),\n",
    "        p_nom_max[capacity_adjustment_existing.columns].unstack()\n",
    "    ],\n",
    "    axis=1\n",
    ").min(axis=1)"
   ]
  },
  {
   "cell_type": "code",
   "execution_count": null,
   "metadata": {},
   "outputs": [],
   "source": [
    "capacity_adjustment_existing.filter(like=\"coal\")"
   ]
  },
  {
   "cell_type": "code",
   "execution_count": null,
   "metadata": {},
   "outputs": [],
   "source": [
    "next_capacities_existing = pd.concat(\n",
    "    [\n",
    "        next_capacities_existing,\n",
    "        p_nom_min[capacity_adjustment_existing.columns].unstack(),\n",
    "    ],\n",
    "    axis=1\n",
    ").max(axis=1)"
   ]
  },
  {
   "cell_type": "code",
   "execution_count": null,
   "metadata": {},
   "outputs": [],
   "source": [
    "next_capacity_table = initial_capacity_table.copy()"
   ]
  },
  {
   "cell_type": "code",
   "execution_count": null,
   "metadata": {},
   "outputs": [],
   "source": [
    "next_capacities_existing.dropna(inplace=True)"
   ]
  },
  {
   "cell_type": "code",
   "execution_count": null,
   "metadata": {},
   "outputs": [],
   "source": [
    "next_capacities_new.dropna(inplace=True)"
   ]
  },
  {
   "cell_type": "code",
   "execution_count": null,
   "metadata": {},
   "outputs": [],
   "source": [
    "next_capacity_table.loc[next_capacities_existing.index, \"p_nom\"] = next_capacities_existing"
   ]
  },
  {
   "cell_type": "code",
   "execution_count": null,
   "metadata": {},
   "outputs": [],
   "source": [
    "next_capacity_table.loc[next_capacities_new.index, \"p_nom\"] = next_capacities_new"
   ]
  },
  {
   "cell_type": "raw",
   "metadata": {},
   "source": [
    "next_capacity_table.to_csv(\"resources/capacity_tables/1.csv\")"
   ]
  },
  {
   "cell_type": "code",
   "execution_count": null,
   "metadata": {},
   "outputs": [],
   "source": []
  },
  {
   "cell_type": "code",
   "execution_count": 43,
   "metadata": {},
   "outputs": [],
   "source": [
    "save_path_rr_exist = \"results/revenue_ratios/1_existing.csv\"\n",
    "save_path_rr_new = \"results/revenue_ratios/1_new.csv\""
   ]
  },
  {
   "cell_type": "code",
   "execution_count": null,
   "metadata": {},
   "outputs": [],
   "source": [
    "os.makedirs(os.path.dirname(save_path_rr_exist), exist_ok=True)"
   ]
  },
  {
   "cell_type": "code",
   "execution_count": 42,
   "metadata": {},
   "outputs": [
    {
     "data": {
      "text/html": [
       "<div>\n",
       "<style scoped>\n",
       "    .dataframe tbody tr th:only-of-type {\n",
       "        vertical-align: middle;\n",
       "    }\n",
       "\n",
       "    .dataframe tbody tr th {\n",
       "        vertical-align: top;\n",
       "    }\n",
       "\n",
       "    .dataframe thead th {\n",
       "        text-align: right;\n",
       "    }\n",
       "</style>\n",
       "<table border=\"1\" class=\"dataframe\">\n",
       "  <thead>\n",
       "    <tr style=\"text-align: right;\">\n",
       "      <th></th>\n",
       "      <th>AL00 CCGT exit 2034</th>\n",
       "      <th>AL00 OCGT exit 2034</th>\n",
       "      <th>AL00 oil exit 2028</th>\n",
       "      <th>AT00 CCGT exit 2028</th>\n",
       "      <th>AT00 CCGT exit 2030</th>\n",
       "      <th>AT00 CCGT exit 2033</th>\n",
       "      <th>AT00 CCGT exit 2034</th>\n",
       "      <th>AT00 biomass exit 2034</th>\n",
       "      <th>AT00 oil exit 2034</th>\n",
       "      <th>BA00 lignite exit 2028</th>\n",
       "      <th>...</th>\n",
       "      <th>UK00 OCGT exit 2034</th>\n",
       "      <th>UK00 biomass exit 2034</th>\n",
       "      <th>UK00 oil exit 2028</th>\n",
       "      <th>UK00 oil exit 2030</th>\n",
       "      <th>UK00 oil exit 2033</th>\n",
       "      <th>UK00 oil exit 2034</th>\n",
       "      <th>UKNI CCGT exit 2034</th>\n",
       "      <th>UKNI OCGT exit 2034</th>\n",
       "      <th>UKNI biomass exit 2034</th>\n",
       "      <th>UKNI oil exit 2034</th>\n",
       "    </tr>\n",
       "  </thead>\n",
       "  <tbody>\n",
       "    <tr>\n",
       "      <th>2025</th>\n",
       "      <td>-28.524277</td>\n",
       "      <td>-31.884863</td>\n",
       "      <td>-566.215707</td>\n",
       "      <td>-257.572947</td>\n",
       "      <td>-0.809575</td>\n",
       "      <td>-363.772575</td>\n",
       "      <td>-605.623719</td>\n",
       "      <td>2801.608335</td>\n",
       "      <td>-515.456032</td>\n",
       "      <td>30.531050</td>\n",
       "      <td>...</td>\n",
       "      <td>-12915.386326</td>\n",
       "      <td>7141.934012</td>\n",
       "      <td>-4388.494741</td>\n",
       "      <td>-1568.760887</td>\n",
       "      <td>-1339.877572</td>\n",
       "      <td>-463.513039</td>\n",
       "      <td>-678.779683</td>\n",
       "      <td>-651.286432</td>\n",
       "      <td>411.189146</td>\n",
       "      <td>-2181.244868</td>\n",
       "    </tr>\n",
       "    <tr>\n",
       "      <th>2026</th>\n",
       "      <td>-28.520762</td>\n",
       "      <td>-31.945368</td>\n",
       "      <td>-568.452377</td>\n",
       "      <td>-272.926226</td>\n",
       "      <td>-0.859433</td>\n",
       "      <td>-382.544849</td>\n",
       "      <td>-638.252546</td>\n",
       "      <td>2763.162047</td>\n",
       "      <td>-526.679889</td>\n",
       "      <td>29.401430</td>\n",
       "      <td>...</td>\n",
       "      <td>-13066.651496</td>\n",
       "      <td>6884.276570</td>\n",
       "      <td>-4469.944102</td>\n",
       "      <td>-1597.876696</td>\n",
       "      <td>-1364.745363</td>\n",
       "      <td>-472.115725</td>\n",
       "      <td>-687.988016</td>\n",
       "      <td>-660.084623</td>\n",
       "      <td>401.797325</td>\n",
       "      <td>-2231.067628</td>\n",
       "    </tr>\n",
       "    <tr>\n",
       "      <th>2027</th>\n",
       "      <td>-28.738592</td>\n",
       "      <td>-32.123973</td>\n",
       "      <td>-572.832031</td>\n",
       "      <td>-277.326994</td>\n",
       "      <td>-0.872504</td>\n",
       "      <td>-388.166987</td>\n",
       "      <td>-648.690203</td>\n",
       "      <td>2744.732478</td>\n",
       "      <td>-531.087337</td>\n",
       "      <td>27.290034</td>\n",
       "      <td>...</td>\n",
       "      <td>-13115.615109</td>\n",
       "      <td>6788.218057</td>\n",
       "      <td>-4497.660905</td>\n",
       "      <td>-1607.784657</td>\n",
       "      <td>-1373.207746</td>\n",
       "      <td>-475.043175</td>\n",
       "      <td>-690.113307</td>\n",
       "      <td>-662.657344</td>\n",
       "      <td>398.283922</td>\n",
       "      <td>-2247.102175</td>\n",
       "    </tr>\n",
       "  </tbody>\n",
       "</table>\n",
       "<p>3 rows × 250 columns</p>\n",
       "</div>"
      ],
      "text/plain": [
       "      AL00 CCGT exit 2034  AL00 OCGT exit 2034  AL00 oil exit 2028  \\\n",
       "2025           -28.524277           -31.884863         -566.215707   \n",
       "2026           -28.520762           -31.945368         -568.452377   \n",
       "2027           -28.738592           -32.123973         -572.832031   \n",
       "\n",
       "      AT00 CCGT exit 2028  AT00 CCGT exit 2030  AT00 CCGT exit 2033  \\\n",
       "2025          -257.572947            -0.809575          -363.772575   \n",
       "2026          -272.926226            -0.859433          -382.544849   \n",
       "2027          -277.326994            -0.872504          -388.166987   \n",
       "\n",
       "      AT00 CCGT exit 2034  AT00 biomass exit 2034  AT00 oil exit 2034  \\\n",
       "2025          -605.623719             2801.608335         -515.456032   \n",
       "2026          -638.252546             2763.162047         -526.679889   \n",
       "2027          -648.690203             2744.732478         -531.087337   \n",
       "\n",
       "      BA00 lignite exit 2028  ...  UK00 OCGT exit 2034  \\\n",
       "2025               30.531050  ...        -12915.386326   \n",
       "2026               29.401430  ...        -13066.651496   \n",
       "2027               27.290034  ...        -13115.615109   \n",
       "\n",
       "      UK00 biomass exit 2034  UK00 oil exit 2028  UK00 oil exit 2030  \\\n",
       "2025             7141.934012        -4388.494741        -1568.760887   \n",
       "2026             6884.276570        -4469.944102        -1597.876696   \n",
       "2027             6788.218057        -4497.660905        -1607.784657   \n",
       "\n",
       "      UK00 oil exit 2033  UK00 oil exit 2034  UKNI CCGT exit 2034  \\\n",
       "2025        -1339.877572         -463.513039          -678.779683   \n",
       "2026        -1364.745363         -472.115725          -687.988016   \n",
       "2027        -1373.207746         -475.043175          -690.113307   \n",
       "\n",
       "      UKNI OCGT exit 2034  UKNI biomass exit 2034  UKNI oil exit 2034  \n",
       "2025          -651.286432              411.189146        -2181.244868  \n",
       "2026          -660.084623              401.797325        -2231.067628  \n",
       "2027          -662.657344              398.283922        -2247.102175  \n",
       "\n",
       "[3 rows x 250 columns]"
      ]
     },
     "execution_count": 42,
     "metadata": {},
     "output_type": "execute_result"
    }
   ],
   "source": [
    "revenue_ratios_existing.to_csv(save_path_rr_exist)\n",
    "revenue_ratios_new.to_frame().to_csv(save_path_rr_new)"
   ]
  },
  {
   "cell_type": "code",
   "execution_count": null,
   "metadata": {},
   "outputs": [],
   "source": []
  }
 ],
 "metadata": {
  "kernelspec": {
   "display_name": "pypsa-training",
   "language": "python",
   "name": "pypsa-training"
  },
  "language_info": {
   "codemirror_mode": {
    "name": "ipython",
    "version": 3
   },
   "file_extension": ".py",
   "mimetype": "text/x-python",
   "name": "python",
   "nbconvert_exporter": "python",
   "pygments_lexer": "ipython3",
   "version": "3.10.13"
  }
 },
 "nbformat": 4,
 "nbformat_minor": 4
}
