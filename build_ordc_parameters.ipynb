{
 "cells": [
  {
   "cell_type": "code",
   "execution_count": 1,
   "metadata": {},
   "outputs": [],
   "source": [
    "import pandas as pd"
   ]
  },
  {
   "cell_type": "code",
   "execution_count": 2,
   "metadata": {},
   "outputs": [],
   "source": [
    "from entsoe import EntsoePandasClient\n",
    "from entsoe.exceptions import InvalidBusinessParameterError, NoMatchingDataError\n",
    "from requests import HTTPError"
   ]
  },
  {
   "cell_type": "code",
   "execution_count": 3,
   "metadata": {},
   "outputs": [],
   "source": [
    "def get_balancing(zone_list):\n",
    "    \n",
    "    unavailable_zones = []\n",
    "    \n",
    "    balancing = pd.DataFrame()\n",
    "\n",
    "    for zone in zone_list:\n",
    "        \n",
    "        print(\"Extracting balancing of zone \" + zone)\n",
    "        \n",
    "        for business_type in business_types:\n",
    "            \n",
    "            bal = pd.DataFrame()\n",
    "\n",
    "            try: \n",
    "                act = client.query_activated_balancing_energy(zone, start=start, end=end, business_type=business_type)            \n",
    "                act = act.resample(\"1h\").sum().unstack()            \n",
    "                act.name = business_type\n",
    "                bal = pd.concat([bal, act],axis=1)\n",
    "\n",
    "            except: # (HTTPError, NoMatchingDataError, InvalidBusinessParameterError):\n",
    "                unavailable_zones.append(zone)\n",
    "        \n",
    "        if len(bal)>0:\n",
    "            bal = bal.sum(axis=1)\n",
    "            bal.name = zone \n",
    "            balancing = pd.concat([balancing, bal], axis=1)\n",
    "            \n",
    "    if len(unavailable_zones) >0:\n",
    "        print(\"Unable to retrieve \" + \", \".join(unavailable_zones) + \" from ENTSO-E transparency\" )\n",
    "    \n",
    "    \n",
    "    balancing.reset_index(0, drop=True, inplace=True)\n",
    "\n",
    "    balancing.loc[\n",
    "        (\"Down\", balancing.index.levels[1]), balancing.columns\n",
    "    ] = -balancing.loc[(\"Down\", balancing.index.levels[1]), balancing.columns]\n",
    "\n",
    "    return balancing\n",
    "            \n",
    "        \n"
   ]
  },
  {
   "cell_type": "code",
   "execution_count": 4,
   "metadata": {},
   "outputs": [],
   "source": [
    "api_key = \"99516228-fb84-4a73-9b38-d0703b72cce0\"\n",
    "client = EntsoePandasClient(api_key=api_key)"
   ]
  },
  {
   "cell_type": "code",
   "execution_count": 5,
   "metadata": {},
   "outputs": [],
   "source": [
    "start = pd.Timestamp(\"2018-01-01\", tz=\"Europe/Brussels\")\n",
    "end = pd.Timestamp(\"2022-01-01\", tz=\"Europe/Brussels\")"
   ]
  },
  {
   "cell_type": "code",
   "execution_count": 26,
   "metadata": {},
   "outputs": [],
   "source": [
    "ordc_hdf = \"data/ordc_parameters.h5\""
   ]
  },
  {
   "cell_type": "code",
   "execution_count": 6,
   "metadata": {},
   "outputs": [],
   "source": [
    "business_types = [ 'A96',  'A97']"
   ]
  },
  {
   "cell_type": "code",
   "execution_count": 7,
   "metadata": {},
   "outputs": [],
   "source": [
    "reserve_requirements = pd.read_excel(\"data/pemmdb.xlsx\", \"Reserve Requirements\",index_col=[0,1])[[\"FCR (MW)\", \"FRR (MW)\"]].sum(axis=1)"
   ]
  },
  {
   "cell_type": "code",
   "execution_count": 8,
   "metadata": {},
   "outputs": [],
   "source": [
    "reserve_requirements = reserve_requirements[reserve_requirements >0]"
   ]
  },
  {
   "cell_type": "code",
   "execution_count": 9,
   "metadata": {},
   "outputs": [],
   "source": [
    "reserve_requirements.index = reserve_requirements.index.remove_unused_levels()"
   ]
  },
  {
   "cell_type": "code",
   "execution_count": 10,
   "metadata": {},
   "outputs": [],
   "source": [
    "bz_map = pd.Series(\n",
    "    reserve_requirements.index.levels[0].str[:2],\n",
    "    index = reserve_requirements.index.levels[0]\n",
    ")"
   ]
  },
  {
   "cell_type": "code",
   "execution_count": 11,
   "metadata": {},
   "outputs": [],
   "source": [
    "bz_map.drop([\"UKNI\", \"NOM1\", \"NOS0\", \"NON1\"], inplace=True) # norway to be built separately because ERAA contains only 3 NO zones \n",
    "                                                            # while ENTSO-E transparency features 5 zones."
   ]
  },
  {
   "cell_type": "code",
   "execution_count": 12,
   "metadata": {},
   "outputs": [],
   "source": [
    "bz_map.loc[\n",
    "    [\"DKW1\", \"DKE1\", \"SE01\", \"SE02\", \"SE03\", \"SE04\", \"DE00\", 'ITCA', 'ITCN', 'ITCS', 'ITN1', 'ITS1', 'ITSA', 'ITSI']\n",
    "] = [\"DK_1\",\"DK_2\", 'SE_1', 'SE_2', 'SE_3', 'SE_4', 'DE_LU','IT_CALA', \n",
    "     'IT_CNOR', 'IT_CSUD',  'IT_NORD',  'IT_SUD' ,  'IT_SARD', 'IT_SICI']"
   ]
  },
  {
   "cell_type": "code",
   "execution_count": 13,
   "metadata": {},
   "outputs": [],
   "source": [
    "norway = pd.Series(\n",
    "    [\"NOS0\", \"NOS0\", \"NOM1\", \"NON1\", \"NOS0\"],\n",
    "    ['NO_1', 'NO_2', 'NO_3', 'NO_4', 'NO_5'] \n",
    ")"
   ]
  },
  {
   "cell_type": "code",
   "execution_count": 14,
   "metadata": {
    "scrolled": true
   },
   "outputs": [
    {
     "name": "stdout",
     "output_type": "stream",
     "text": [
      "Extracting balancing of zone AL\n",
      "Extracting balancing of zone AT\n",
      "Extracting balancing of zone BA\n",
      "Extracting balancing of zone BE\n",
      "Extracting balancing of zone BG\n",
      "Extracting balancing of zone CH\n",
      "Extracting balancing of zone CY\n",
      "Extracting balancing of zone CZ\n",
      "Extracting balancing of zone DE_LU\n",
      "Extracting balancing of zone DK_2\n",
      "Extracting balancing of zone DK_1\n",
      "Extracting balancing of zone EE\n",
      "Extracting balancing of zone ES\n",
      "Extracting balancing of zone FI\n",
      "Extracting balancing of zone FR\n"
     ]
    },
    {
     "name": "stderr",
     "output_type": "stream",
     "text": [
      "Connection Error, retrying in 0 seconds\n"
     ]
    },
    {
     "name": "stdout",
     "output_type": "stream",
     "text": [
      "Extracting balancing of zone GR\n",
      "Extracting balancing of zone HR\n",
      "Extracting balancing of zone HU\n",
      "Extracting balancing of zone IE\n",
      "Extracting balancing of zone IT_CALA\n",
      "Extracting balancing of zone IT_CNOR\n",
      "Extracting balancing of zone IT_CSUD\n",
      "Extracting balancing of zone IT_NORD\n",
      "Extracting balancing of zone IT_SUD\n",
      "Extracting balancing of zone IT_SARD\n",
      "Extracting balancing of zone IT_SICI\n",
      "Extracting balancing of zone LT\n",
      "Extracting balancing of zone LV\n"
     ]
    },
    {
     "name": "stderr",
     "output_type": "stream",
     "text": [
      "Connection Error, retrying in 0 seconds\n"
     ]
    },
    {
     "name": "stdout",
     "output_type": "stream",
     "text": [
      "Extracting balancing of zone MK\n",
      "Extracting balancing of zone MT\n",
      "Extracting balancing of zone NL\n",
      "Extracting balancing of zone PL\n",
      "Extracting balancing of zone PT\n",
      "Extracting balancing of zone RO\n",
      "Extracting balancing of zone RS\n",
      "Extracting balancing of zone SE_1\n",
      "Extracting balancing of zone SE_2\n",
      "Extracting balancing of zone SE_3\n",
      "Extracting balancing of zone SE_4\n",
      "Extracting balancing of zone SI\n",
      "Extracting balancing of zone SK\n",
      "Extracting balancing of zone UK\n",
      "Unable to retrieve BG, BG, CH, CY, CY, DK_2, EE, GR, GR, IE, IE, IT_CALA, IT_CALA, IT_CNOR, IT_CNOR, IT_CSUD, IT_CSUD, IT_NORD, IT_NORD, IT_SUD, IT_SUD, IT_SARD, IT_SARD, IT_SICI, IT_SICI, LT, LV, MK, MK, MT, MT, PL, UK, UK from ENTSO-E transparency\n"
     ]
    }
   ],
   "source": [
    "balancing = get_balancing(bz_map.values)"
   ]
  },
  {
   "cell_type": "code",
   "execution_count": 15,
   "metadata": {},
   "outputs": [],
   "source": [
    "balancing_mean = balancing.stack().groupby(\n",
    "    pd.Series(bz_map.index, bz_map.values)\n",
    "    .reindex([i[2] for i in balancing.stack().index]).values\n",
    ").mean()"
   ]
  },
  {
   "cell_type": "code",
   "execution_count": 16,
   "metadata": {},
   "outputs": [],
   "source": [
    "balancing_std = balancing.stack().groupby(\n",
    "    pd.Series(bz_map.index, bz_map.values)\n",
    "    .reindex([i[2] for i in balancing.stack().index]).values\n",
    ").std()"
   ]
  },
  {
   "cell_type": "code",
   "execution_count": 17,
   "metadata": {},
   "outputs": [
    {
     "name": "stdout",
     "output_type": "stream",
     "text": [
      "Extracting balancing of zone NO_1\n",
      "Extracting balancing of zone NO_2\n",
      "Extracting balancing of zone NO_3\n",
      "Extracting balancing of zone NO_4\n",
      "Extracting balancing of zone NO_5\n"
     ]
    }
   ],
   "source": [
    "balancing_norway = get_balancing(norway.index)"
   ]
  },
  {
   "cell_type": "code",
   "execution_count": 18,
   "metadata": {},
   "outputs": [],
   "source": [
    "balancing_mean = pd.concat(\n",
    "    [\n",
    "        balancing_mean, \n",
    "        balancing_norway.stack().groupby(\n",
    "            norway.reindex([i[2] for i in balancing_norway.stack().index]).values\n",
    "        ).mean()\n",
    "    ]\n",
    ")"
   ]
  },
  {
   "cell_type": "code",
   "execution_count": 19,
   "metadata": {},
   "outputs": [],
   "source": [
    "balancing_std = pd.concat(\n",
    "    [\n",
    "        balancing_std, \n",
    "        balancing_norway.stack().groupby(\n",
    "            norway.reindex([i[2] for i in balancing_norway.stack().index]).values\n",
    "        ).std()\n",
    "    ]\n",
    ")"
   ]
  },
  {
   "cell_type": "code",
   "execution_count": 20,
   "metadata": {},
   "outputs": [],
   "source": [
    "balancing_mean = balancing_mean.reindex(reserve_requirements.index.levels[0], fill_value=0)"
   ]
  },
  {
   "cell_type": "code",
   "execution_count": 21,
   "metadata": {},
   "outputs": [],
   "source": [
    "balancing_std = balancing_std.reindex(reserve_requirements.index.levels[0])"
   ]
  },
  {
   "cell_type": "code",
   "execution_count": 22,
   "metadata": {},
   "outputs": [],
   "source": [
    "missing_zones = balancing_std.loc[balancing_std.isna()].index"
   ]
  },
  {
   "cell_type": "code",
   "execution_count": 23,
   "metadata": {},
   "outputs": [],
   "source": [
    "scale_missing = reserve_requirements.loc[missing_zones].groupby(level=0).mean().div(\n",
    "    reserve_requirements.groupby(level=0).mean().mean()\n",
    ")"
   ]
  },
  {
   "cell_type": "code",
   "execution_count": 24,
   "metadata": {},
   "outputs": [],
   "source": [
    "balancing_std.loc[missing_zones] = scale_missing.multiply(balancing_std.mean())"
   ]
  },
  {
   "cell_type": "code",
   "execution_count": 40,
   "metadata": {},
   "outputs": [],
   "source": [
    "ordc_parameters = pd.concat([balancing_mean, balancing_std], axis=1)\n",
    "ordc_parameters.columns = [\"mean\", \"std\"]\n",
    "ordc_parameters.to_hdf(ordc_hdf, \"ordc_parameters\")"
   ]
  },
  {
   "cell_type": "code",
   "execution_count": null,
   "metadata": {},
   "outputs": [],
   "source": []
  }
 ],
 "metadata": {
  "kernelspec": {
   "display_name": "pypsa-training",
   "language": "python",
   "name": "pypsa-training"
  },
  "language_info": {
   "codemirror_mode": {
    "name": "ipython",
    "version": 3
   },
   "file_extension": ".py",
   "mimetype": "text/x-python",
   "name": "python",
   "nbconvert_exporter": "python",
   "pygments_lexer": "ipython3",
   "version": "3.10.13"
  }
 },
 "nbformat": 4,
 "nbformat_minor": 4
}
