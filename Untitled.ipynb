{
 "cells": [
  {
   "cell_type": "code",
   "execution_count": 1,
   "id": "52ed004d-cfcd-4d1d-a9bf-45d48c512a82",
   "metadata": {},
   "outputs": [
    {
     "name": "stderr",
     "output_type": "stream",
     "text": [
      "/trinity/home/thomgeo/.conda/envs/pypsa-training/lib/python3.10/site-packages/PIL/../../../libtiff.so.6: version `LIBTIFF_4.6.1' not found (required by /trinity/home/thomgeo/micromamba/envs/lmp-v13/lib/gdalplugins/../libgdal.so.35)\n",
      "/trinity/home/thomgeo/.conda/envs/pypsa-training/lib/python3.10/site-packages/PIL/../../../libtiff.so.6: version `LIBTIFF_4.6.1' not found (required by /trinity/home/thomgeo/micromamba/envs/lmp-v13/lib/gdalplugins/../libgdal.so.35)\n",
      "/trinity/home/thomgeo/.conda/envs/pypsa-training/lib/python3.10/site-packages/PIL/../../../libtiff.so.6: version `LIBTIFF_4.6.1' not found (required by /trinity/home/thomgeo/micromamba/envs/lmp-v13/lib/gdalplugins/../libgdal.so.35)\n",
      "/trinity/home/thomgeo/.conda/envs/pypsa-training/lib/python3.10/site-packages/PIL/../../../libtiff.so.6: version `LIBTIFF_4.6.1' not found (required by /trinity/home/thomgeo/micromamba/envs/lmp-v13/lib/gdalplugins/../libgdal.so.35)\n",
      "/trinity/home/thomgeo/.conda/envs/pypsa-training/lib/python3.10/site-packages/PIL/../../../libtiff.so.6: version `LIBTIFF_4.6.1' not found (required by /trinity/home/thomgeo/micromamba/envs/lmp-v13/lib/gdalplugins/../libgdal.so.35)\n",
      "/trinity/home/thomgeo/.conda/envs/pypsa-training/lib/python3.10/site-packages/PIL/../../../libtiff.so.6: version `LIBTIFF_4.6.1' not found (required by /trinity/home/thomgeo/micromamba/envs/lmp-v13/lib/gdalplugins/../libgdal.so.35)\n",
      "/trinity/home/thomgeo/.conda/envs/pypsa-training/lib/python3.10/site-packages/PIL/../../../libtiff.so.6: version `LIBTIFF_4.6.1' not found (required by /trinity/home/thomgeo/micromamba/envs/lmp-v13/lib/gdalplugins/../libgdal.so.35)\n",
      "/trinity/home/thomgeo/.conda/envs/pypsa-training/lib/python3.10/site-packages/PIL/../../../libtiff.so.6: version `LIBTIFF_4.6.1' not found (required by /trinity/home/thomgeo/micromamba/envs/lmp-v13/lib/gdalplugins/../libgdal.so.35)\n",
      "/trinity/home/thomgeo/.conda/envs/pypsa-training/lib/python3.10/site-packages/PIL/../../../libtiff.so.6: version `LIBTIFF_4.6.1' not found (required by /trinity/home/thomgeo/micromamba/envs/lmp-v13/lib/gdalplugins/../libgdal.so.35)\n",
      "/trinity/home/thomgeo/.conda/envs/pypsa-training/lib/python3.10/site-packages/PIL/../../../libtiff.so.6: version `LIBTIFF_4.6.1' not found (required by /trinity/home/thomgeo/micromamba/envs/lmp-v13/lib/gdalplugins/../libgdal.so.35)\n",
      "/trinity/home/thomgeo/.conda/envs/pypsa-training/lib/python3.10/site-packages/PIL/../../../libtiff.so.6: version `LIBTIFF_4.6.1' not found (required by /trinity/home/thomgeo/micromamba/envs/lmp-v13/lib/gdalplugins/../libgdal.so.35)\n",
      "/trinity/home/thomgeo/.conda/envs/pypsa-training/lib/python3.10/site-packages/PIL/../../../libtiff.so.6: version `LIBTIFF_4.6.1' not found (required by /trinity/home/thomgeo/micromamba/envs/lmp-v13/lib/gdalplugins/../libgdal.so.35)\n",
      "/trinity/home/thomgeo/.conda/envs/pypsa-training/lib/python3.10/site-packages/PIL/../../../libtiff.so.6: version `LIBTIFF_4.6.1' not found (required by /trinity/home/thomgeo/micromamba/envs/lmp-v13/lib/gdalplugins/../libgdal.so.35)\n",
      "/trinity/home/thomgeo/.conda/envs/pypsa-training/lib/python3.10/site-packages/PIL/../../../libtiff.so.6: version `LIBTIFF_4.6.1' not found (required by /trinity/home/thomgeo/micromamba/envs/lmp-v13/lib/gdalplugins/../libgdal.so.35)\n",
      "/trinity/home/thomgeo/.conda/envs/pypsa-training/lib/python3.10/site-packages/PIL/../../../libtiff.so.6: version `LIBTIFF_4.6.1' not found (required by /trinity/home/thomgeo/micromamba/envs/lmp-v13/lib/gdalplugins/../libgdal.so.35)\n",
      "/trinity/home/thomgeo/.conda/envs/pypsa-training/lib/python3.10/site-packages/PIL/../../../libtiff.so.6: version `LIBTIFF_4.6.1' not found (required by /trinity/home/thomgeo/micromamba/envs/lmp-v13/lib/gdalplugins/../libgdal.so.35)\n",
      "/trinity/home/thomgeo/.conda/envs/pypsa-training/lib/python3.10/site-packages/PIL/../../../libtiff.so.6: version `LIBTIFF_4.6.1' not found (required by /trinity/home/thomgeo/micromamba/envs/lmp-v13/lib/gdalplugins/../libgdal.so.35)\n",
      "/trinity/home/thomgeo/.conda/envs/pypsa-training/lib/python3.10/site-packages/PIL/../../../libtiff.so.6: version `LIBTIFF_4.6.1' not found (required by /trinity/home/thomgeo/micromamba/envs/lmp-v13/lib/gdalplugins/../libgdal.so.35)\n",
      "/trinity/home/thomgeo/.conda/envs/pypsa-training/lib/python3.10/site-packages/PIL/../../../libtiff.so.6: version `LIBTIFF_4.6.1' not found (required by /trinity/home/thomgeo/micromamba/envs/lmp-v13/lib/gdalplugins/../libgdal.so.35)\n",
      "/trinity/home/thomgeo/.conda/envs/pypsa-training/lib/python3.10/site-packages/PIL/../../../libtiff.so.6: version `LIBTIFF_4.6.1' not found (required by /trinity/home/thomgeo/micromamba/envs/lmp-v13/lib/gdalplugins/../libgdal.so.35)\n",
      "/trinity/home/thomgeo/.conda/envs/pypsa-training/lib/python3.10/site-packages/PIL/../../../libtiff.so.6: version `LIBTIFF_4.6.1' not found (required by /trinity/home/thomgeo/micromamba/envs/lmp-v13/lib/gdalplugins/../libgdal.so.35)\n",
      "/trinity/home/thomgeo/.conda/envs/pypsa-training/lib/python3.10/site-packages/PIL/../../../libtiff.so.6: version `LIBTIFF_4.6.1' not found (required by /trinity/home/thomgeo/micromamba/envs/lmp-v13/lib/gdalplugins/../libgdal.so.35)\n",
      "/trinity/home/thomgeo/.conda/envs/pypsa-training/lib/python3.10/site-packages/PIL/../../../libtiff.so.6: version `LIBTIFF_4.6.1' not found (required by /trinity/home/thomgeo/micromamba/envs/lmp-v13/lib/gdalplugins/../libgdal.so.35)\n",
      "/trinity/home/thomgeo/.conda/envs/pypsa-training/lib/python3.10/site-packages/PIL/../../../libtiff.so.6: version `LIBTIFF_4.6.1' not found (required by /trinity/home/thomgeo/micromamba/envs/lmp-v13/lib/gdalplugins/../libgdal.so.35)\n",
      "/trinity/home/thomgeo/.conda/envs/pypsa-training/lib/python3.10/site-packages/PIL/../../../libtiff.so.6: version `LIBTIFF_4.6.1' not found (required by /trinity/home/thomgeo/micromamba/envs/lmp-v13/lib/gdalplugins/../libgdal.so.35)\n",
      "/trinity/home/thomgeo/.conda/envs/pypsa-training/lib/python3.10/site-packages/PIL/../../../libtiff.so.6: version `LIBTIFF_4.6.1' not found (required by /trinity/home/thomgeo/micromamba/envs/lmp-v13/lib/gdalplugins/../libgdal.so.35)\n",
      "/trinity/home/thomgeo/.conda/envs/pypsa-training/lib/python3.10/site-packages/PIL/../../../libtiff.so.6: version `LIBTIFF_4.6.1' not found (required by /trinity/home/thomgeo/micromamba/envs/lmp-v13/lib/gdalplugins/../libgdal.so.35)\n",
      "/trinity/home/thomgeo/.conda/envs/pypsa-training/lib/python3.10/site-packages/PIL/../../../libtiff.so.6: version `LIBTIFF_4.6.1' not found (required by /trinity/home/thomgeo/micromamba/envs/lmp-v13/lib/gdalplugins/../libgdal.so.35)\n",
      "/trinity/home/thomgeo/.conda/envs/pypsa-training/lib/python3.10/site-packages/PIL/../../../libtiff.so.6: version `LIBTIFF_4.6.1' not found (required by /trinity/home/thomgeo/micromamba/envs/lmp-v13/lib/gdalplugins/../libgdal.so.35)\n",
      "/trinity/home/thomgeo/.conda/envs/pypsa-training/lib/python3.10/site-packages/PIL/../../../libtiff.so.6: version `LIBTIFF_4.6.1' not found (required by /trinity/home/thomgeo/micromamba/envs/lmp-v13/lib/gdalplugins/../libgdal.so.35)\n",
      "/trinity/home/thomgeo/.conda/envs/pypsa-training/lib/python3.10/site-packages/PIL/../../../libtiff.so.6: version `LIBTIFF_4.6.1' not found (required by /trinity/home/thomgeo/micromamba/envs/lmp-v13/lib/gdalplugins/../libgdal.so.35)\n",
      "/trinity/home/thomgeo/.conda/envs/pypsa-training/lib/python3.10/site-packages/PIL/../../../libtiff.so.6: version `LIBTIFF_4.6.1' not found (required by /trinity/home/thomgeo/micromamba/envs/lmp-v13/lib/gdalplugins/../libgdal.so.35)\n",
      "/trinity/home/thomgeo/.conda/envs/pypsa-training/lib/python3.10/site-packages/PIL/../../../libtiff.so.6: version `LIBTIFF_4.6.1' not found (required by /trinity/home/thomgeo/micromamba/envs/lmp-v13/lib/gdalplugins/../libgdal.so.35)\n",
      "/trinity/home/thomgeo/.conda/envs/pypsa-training/lib/python3.10/site-packages/PIL/../../../libtiff.so.6: version `LIBTIFF_4.6.1' not found (required by /trinity/home/thomgeo/micromamba/envs/lmp-v13/lib/gdalplugins/../libgdal.so.35)\n",
      "/trinity/home/thomgeo/.conda/envs/pypsa-training/lib/python3.10/site-packages/PIL/../../../libtiff.so.6: version `LIBTIFF_4.6.1' not found (required by /trinity/home/thomgeo/micromamba/envs/lmp-v13/lib/gdalplugins/../libgdal.so.35)\n",
      "/trinity/home/thomgeo/.conda/envs/pypsa-training/lib/python3.10/site-packages/PIL/../../../libtiff.so.6: version `LIBTIFF_4.6.1' not found (required by /trinity/home/thomgeo/micromamba/envs/lmp-v13/lib/gdalplugins/../libgdal.so.35)\n",
      "/trinity/home/thomgeo/.conda/envs/pypsa-training/lib/python3.10/site-packages/PIL/../../../libtiff.so.6: version `LIBTIFF_4.6.1' not found (required by /trinity/home/thomgeo/micromamba/envs/lmp-v13/lib/gdalplugins/../libgdal.so.35)\n",
      "/trinity/home/thomgeo/.conda/envs/pypsa-training/lib/python3.10/site-packages/PIL/../../../libtiff.so.6: version `LIBTIFF_4.6.1' not found (required by /trinity/home/thomgeo/micromamba/envs/lmp-v13/lib/gdalplugins/../libgdal.so.35)\n",
      "/trinity/home/thomgeo/.conda/envs/pypsa-training/lib/python3.10/site-packages/PIL/../../../libtiff.so.6: version `LIBTIFF_4.6.1' not found (required by /trinity/home/thomgeo/micromamba/envs/lmp-v13/lib/gdalplugins/../libgdal.so.35)\n",
      "/trinity/home/thomgeo/.conda/envs/pypsa-training/lib/python3.10/site-packages/PIL/../../../libtiff.so.6: version `LIBTIFF_4.6.1' not found (required by /trinity/home/thomgeo/micromamba/envs/lmp-v13/lib/gdalplugins/../libgdal.so.35)\n",
      "/trinity/home/thomgeo/.conda/envs/pypsa-training/lib/python3.10/site-packages/PIL/../../../libtiff.so.6: version `LIBTIFF_4.6.1' not found (required by /trinity/home/thomgeo/micromamba/envs/lmp-v13/lib/gdalplugins/../libgdal.so.35)\n",
      "/trinity/home/thomgeo/.conda/envs/pypsa-training/lib/python3.10/site-packages/PIL/../../../libtiff.so.6: version `LIBTIFF_4.6.1' not found (required by /trinity/home/thomgeo/micromamba/envs/lmp-v13/lib/gdalplugins/../libgdal.so.35)\n",
      "/trinity/home/thomgeo/.conda/envs/pypsa-training/lib/python3.10/site-packages/PIL/../../../libtiff.so.6: version `LIBTIFF_4.6.1' not found (required by /trinity/home/thomgeo/micromamba/envs/lmp-v13/lib/gdalplugins/../libgdal.so.35)\n",
      "/trinity/home/thomgeo/.conda/envs/pypsa-training/lib/python3.10/site-packages/PIL/../../../libtiff.so.6: version `LIBTIFF_4.6.1' not found (required by /trinity/home/thomgeo/micromamba/envs/lmp-v13/lib/gdalplugins/../libgdal.so.35)\n",
      "/trinity/home/thomgeo/.conda/envs/pypsa-training/lib/python3.10/site-packages/PIL/../../../libtiff.so.6: version `LIBTIFF_4.6.1' not found (required by /trinity/home/thomgeo/micromamba/envs/lmp-v13/lib/gdalplugins/../libgdal.so.35)\n",
      "/trinity/home/thomgeo/.conda/envs/pypsa-training/lib/python3.10/site-packages/PIL/../../../libtiff.so.6: version `LIBTIFF_4.6.1' not found (required by /trinity/home/thomgeo/micromamba/envs/lmp-v13/lib/gdalplugins/../libgdal.so.35)\n",
      "/trinity/home/thomgeo/.conda/envs/pypsa-training/lib/python3.10/site-packages/PIL/../../../libtiff.so.6: version `LIBTIFF_4.6.1' not found (required by /trinity/home/thomgeo/micromamba/envs/lmp-v13/lib/gdalplugins/../libgdal.so.35)\n",
      "/trinity/home/thomgeo/.conda/envs/pypsa-training/lib/python3.10/site-packages/PIL/../../../libtiff.so.6: version `LIBTIFF_4.6.1' not found (required by /trinity/home/thomgeo/micromamba/envs/lmp-v13/lib/gdalplugins/../libgdal.so.35)\n"
     ]
    }
   ],
   "source": [
    "import pypsa \n",
    "import pandas as pd"
   ]
  },
  {
   "cell_type": "code",
   "execution_count": 2,
   "id": "bbd10d2b-d715-4e88-a3c4-686732e16d28",
   "metadata": {},
   "outputs": [
    {
     "name": "stderr",
     "output_type": "stream",
     "text": [
      "WARNING:pypsa.io:Components Index(['AL00 reservoir charger', 'AL00 reservoir discharger', 'AL00-GR00-AC',\n",
      "       'AL00-ME00-AC', 'AL00-MK00-AC', 'AL00-RS00-AC', 'AT00 battery charger',\n",
      "       'AT00 battery discharger', 'AT00 reservoir charger',\n",
      "       'AT00 reservoir discharger',\n",
      "       ...\n",
      "       'UK00-DKW1-DC', 'UK00-FR00-DC', 'UK00-IE00-DC', 'UK00-NL00-DC',\n",
      "       'UK00-NOS0-DC', 'UK00-UKNI-DC', 'UKNI battery charger',\n",
      "       'UKNI battery discharger', 'UKNI-IE00-AC', 'UKNI-UK00-DC'],\n",
      "      dtype='object', name='Bus', length=361) for attribute mu_alegro of Bus are not in main components dataframe buses\n",
      "WARNING:pypsa.io:Components Index(['Allegro'], dtype='object', name='Link') for attribute r of Link are not in main components dataframe links\n",
      "WARNING:pypsa.io:Components Index(['BA00-HR00', 'BG00-RO00', 'CH00-AT00', 'CH00-DE00', 'CH00-FR00',\n",
      "       'DKE1-DE00', 'DKW1-DE00', 'DKW1-NL00', 'ES00-FR00', 'ITN1-AT00',\n",
      "       'ITN1-FR00', 'ITN1-SI00', 'LT00-PL00', 'NOS0-DE00', 'NOS0-NL00',\n",
      "       'RS00-HR00', 'RS00-HU00', 'RS00-RO00', 'SE04-DE00', 'SE04-PL00',\n",
      "       'UK00-BE00', 'UK00-FR00', 'UK00-NL00'],\n",
      "      dtype='object', name='Link') for attribute external_flow of Link are not in main components dataframe links\n",
      "WARNING:pypsa.io:Components Index(['Allegro'], dtype='object', name='Link') for attribute mu_capacity_upper of Link are not in main components dataframe links\n",
      "WARNING:pypsa.io:Components Index(['AL00 reservoir store', 'AT00 battery store', 'AT00 reservoir store',\n",
      "       'BA00 reservoir store', 'BE00 PHS store', 'BE00 battery store',\n",
      "       'BG00 PHS store', 'BG00 reservoir store', 'CH00 PHS store',\n",
      "       'CH00 battery store', 'CH00 reservoir store', 'CZ00 PHS store',\n",
      "       'CZ00 battery store', 'CZ00 reservoir store', 'DE00 PHS store',\n",
      "       'DE00 battery store', 'DE00 reservoir store', 'ES00 PHS store',\n",
      "       'ES00 battery store', 'ES00 reservoir store', 'FI00 battery store',\n",
      "       'FI00 reservoir store', 'FR00 PHS store', 'FR00 battery store',\n",
      "       'FR00 reservoir store', 'GR00 battery store', 'GR00 reservoir store',\n",
      "       'HR00 battery store', 'HR00 reservoir store', 'HU00 battery store',\n",
      "       'IE00 PHS store', 'IE00 battery store', 'ITCA battery store',\n",
      "       'ITCA reservoir store', 'ITCN battery store', 'ITCN reservoir store',\n",
      "       'ITCS PHS store', 'ITCS battery store', 'ITCS reservoir store',\n",
      "       'ITN1 PHS store', 'ITN1 battery store', 'ITN1 reservoir store',\n",
      "       'ITS1 battery store', 'ITS1 reservoir store', 'ITSA PHS store',\n",
      "       'ITSA battery store', 'ITSA reservoir store', 'ITSI PHS store',\n",
      "       'ITSI battery store', 'ITSI reservoir store', 'LT00 PHS store',\n",
      "       'LT00 battery store', 'LUG1 battery store', 'LV00 battery store',\n",
      "       'ME00 reservoir store', 'MK00 reservoir store', 'NL00 battery store',\n",
      "       'NOM1 reservoir store', 'NON1 reservoir store', 'NOS0 reservoir store',\n",
      "       'PL00 PHS store', 'PL00 reservoir store', 'PT00 reservoir store',\n",
      "       'RO00 battery store', 'RO00 reservoir store', 'RS00 PHS store',\n",
      "       'RS00 reservoir store', 'SE01 reservoir store', 'SE02 reservoir store',\n",
      "       'SE03 reservoir store', 'SE04 reservoir store', 'SI00 PHS store',\n",
      "       'SI00 battery store', 'SI00 reservoir store', 'SK00 PHS store',\n",
      "       'SK00 battery store', 'SK00 reservoir store', 'UK00 PHS store',\n",
      "       'UK00 battery store', 'UKNI battery store'],\n",
      "      dtype='object', name='Link') for attribute mu_reserve_reservoir_constraint of Link are not in main components dataframe links\n",
      "WARNING:pypsa.io:Components Index(['BA00-HR00', 'BG00-RO00', 'CH00-AT00', 'CH00-DE00', 'CH00-FR00',\n",
      "       'DKE1-DE00', 'DKW1-DE00', 'DKW1-NL00', 'ES00-FR00', 'ITN1-AT00',\n",
      "       'ITN1-FR00', 'ITN1-SI00', 'LT00-PL00', 'NOS0-DE00', 'NOS0-NL00',\n",
      "       'RS00-HR00', 'RS00-HU00', 'RS00-RO00', 'SE04-DE00', 'SE04-PL00',\n",
      "       'UK00-BE00', 'UK00-FR00', 'UK00-NL00'],\n",
      "      dtype='object', name='Link') for attribute mu_external_flows of Link are not in main components dataframe links\n",
      "WARNING:pypsa.io:Components Index([  1,   2,   3,   4,   5,   6,   7,   8,   9,  10,\n",
      "       ...\n",
      "       372, 373, 374, 375, 376, 377, 378, 379, 380, 381],\n",
      "      dtype='int64', name='Link', length=381) for attribute mu_RAM_constraint of Link are not in main components dataframe links\n",
      "INFO:pypsa.io:Imported network cy1982_ty2026.nc has buses, generators, links, loads, stores\n"
     ]
    }
   ],
   "source": [
    "n = pypsa.Network(\"results/networks/29/cy1982_ty2026.nc\")"
   ]
  },
  {
   "cell_type": "code",
   "execution_count": 3,
   "id": "ec6f3e05-630a-4aea-93f5-6525ee93c4ed",
   "metadata": {},
   "outputs": [
    {
     "name": "stderr",
     "output_type": "stream",
     "text": [
      "INFO:linopy.model: Solve problem using Cplex solver\n",
      "INFO:linopy.io:Writing objective.\n",
      "Writing constraints.: 100%|\u001b[38;2;128;191;255m████████████████████████████████████████████████████████████\u001b[0m| 22/22 [00:01<00:00, 14.82it/s]\u001b[0m\n",
      "Writing continuous variables.: 100%|\u001b[38;2;128;191;255m█████████████████████████████████████████████████████\u001b[0m| 7/7 [00:00<00:00, 45.86it/s]\u001b[0m\n",
      "INFO:linopy.io: Writing time: 1.84s\n"
     ]
    },
    {
     "name": "stdout",
     "output_type": "stream",
     "text": [
      "Checking license ...\n"
     ]
    },
    {
     "name": "stderr",
     "output_type": "stream",
     "text": [
      "cpxchecklic: /lib64/libcurl.so.4: no version information available (required by cpxchecklic)\n",
      "\n"
     ]
    },
    {
     "name": "stdout",
     "output_type": "stream",
     "text": [
      "License found. [0.03 s]\n",
      "Version identifier: 22.1.1.0 | 2022-11-26 | 9160aff4d\n",
      "CPXPARAM_Read_DataCheck                          1\n",
      "Parallel mode: deterministic, using up to 32 threads for concurrent optimization:\n",
      " * Starting dual Simplex on 1 thread...\n",
      " * Starting Barrier on 30 threads...\n",
      " * Starting primal Simplex on 1 thread...\n",
      "Tried aggregator 1 time.\n",
      "LP Presolve eliminated 83158 rows and 12664 columns.\n",
      "Aggregator did 2376 substitutions.\n",
      "Reduced LP has 112518 rows, 59456 columns, and 425408 nonzeros.\n",
      "Presolve time = 0.40 sec. (217.18 ticks)\n",
      "Symmetry aggregator did 44435 additional substitutions.\n",
      "Initializing dual steep norms . . .\n",
      "\n",
      "Iteration log . . .\n",
      "Iteration:     1   Dual objective     =      30617213.985709\n",
      "Perturbation started.\n",
      "Iteration:   101   Dual objective     =      30617213.985711\n",
      "Iteration:  1101   Dual objective     =  163620916923.426422\n",
      "Iteration:  1750   Dual objective     =  164210357334.039520\n",
      "Iteration:  2753   Dual objective     =  164241032669.976196\n",
      "Iteration:  3538   Dual objective     =  164245497690.017059\n",
      "Iteration:  4328   Dual objective     =  164246786838.145874\n",
      "Iteration:  5067   Dual objective     =  164246798100.648468\n",
      "Iteration:  5754   Dual objective     =  164246798100.824341\n",
      "Iteration:  6450   Dual objective     =  164246798100.916107\n",
      "Iteration:  7200   Dual objective     =  164246799352.932251\n",
      "Iteration:  7930   Dual objective     =  164247127809.314758\n",
      "Iteration:  8653   Dual objective     =  164247127915.887634\n",
      "Iteration:  9387   Dual objective     =  164247127915.887634\n",
      "Iteration: 10145   Dual objective     =  164247523388.444061\n",
      "Iteration: 10987   Dual objective     =  164249468749.998932\n",
      "Iteration: 11807   Dual objective     =  164333504687.174622\n",
      "Iteration: 12508   Dual objective     =  164333565641.823120\n",
      "Iteration: 13191   Dual objective     =  164333566533.449402\n",
      "Iteration: 13887   Dual objective     =  164333567926.303589\n",
      "Iteration: 14516   Dual objective     =  164333569731.598236\n",
      "Iteration: 15134   Dual objective     =  164333570998.655426\n",
      "Iteration: 15912   Dual objective     =  164333589369.097656\n",
      "Iteration: 16694   Dual objective     =  164333611003.812469\n",
      "Iteration: 17299   Dual objective     =  164333627831.656219\n",
      "Iteration: 17816   Dual objective     =  164333645644.278503\n",
      "Iteration: 18423   Dual objective     =  164333651135.046997\n",
      "Iteration: 19068   Dual objective     =  164333654878.552277\n",
      "Iteration: 19931   Dual objective     =  164333659610.514709\n",
      "Removing perturbation.\n",
      "Iteration: 20322   Dual objective     =  164333661522.869843\n",
      "\n",
      "Dual crossover.\n",
      "  Dual:  Fixing 57 variables.\n",
      "       56 DMoves:  Infeasibility  2.06057393e-12  Objective  1.64333662e+11\n",
      "        0 DMoves:  Infeasibility  0.00000000e+00  Objective  1.64333662e+11\n",
      "  Dual:  Pushed 7, exchanged 50.\n",
      "  Primal:  Fixing 40 variables.\n",
      "       39 PMoves:  Infeasibility  4.12603843e-06  Objective  1.64333662e+11\n",
      "        0 PMoves:  Infeasibility  1.45081734e-05  Objective  1.64333662e+11\n",
      "  Primal:  Pushed 16, exchanged 24.\n",
      "Iteration: 20327   Dual objective     =  164333661518.803467\n",
      "Iteration: 20333   Dual objective     =  164333661520.834015\n",
      "Iteration: 20351   Scaled dual infeas =           152.249352\n",
      "Iteration: 20363   Dual objective     =  164333661525.901184\n",
      "Perturbation started.\n",
      "Iteration: 20464   Dual objective     =  164333661525.901123\n",
      "Removing perturbation.\n",
      "\n",
      "Dual simplex solved model.\n",
      "\n"
     ]
    },
    {
     "name": "stderr",
     "output_type": "stream",
     "text": [
      "INFO:linopy.constants: Optimization successful: \n",
      "Status: ok\n",
      "Termination condition: optimal\n",
      "Solution: 74496 primals, 198052 duals\n",
      "Objective: 1.64e+11\n",
      "Solver model: available\n",
      "Solver message: optimal\n",
      "\n",
      "/trinity/home/thomgeo/.conda/envs/pypsa-training/lib/python3.10/site-packages/linopy/common.py:124: UserWarning: Coordinates across variables not equal. Perform outer join.\n",
      "  warn(\"Coordinates across variables not equal. Perform outer join.\", UserWarning)\n",
      "INFO:pypsa.optimization.optimize:The shadow-prices of the constraints Generator-fix-p-lower, Generator-fix-p-upper, Generator-com-p-lower, Generator-com-p-upper, Generator-com-transition-start-up, Generator-com-transition-shut-down, Generator-com-up-time, Generator-com-down-time, Generator-com-status-min_up_time_must_stay_up, Generator-com-p-before, Generator-com-p-current, Generator-com-partly-start-up, Generator-com-partly-shut-down, Generator-com-p-ramp_limit_up, Generator-com-p-ramp_limit_down, Link-fix-p-lower, Link-fix-p-upper, Store-fix-e-lower, Store-fix-e-upper, Store-energy_balance were not assigned to the network.\n"
     ]
    },
    {
     "data": {
      "text/plain": [
       "('ok', 'optimal')"
      ]
     },
     "execution_count": 3,
     "metadata": {},
     "output_type": "execute_result"
    }
   ],
   "source": [
    "n.optimize(solver_name=\"cplex\", \n",
    "           linearized_unit_commitment=True,\n",
    "           snapshots=n.snapshots[:24]\n",
    "          )"
   ]
  },
  {
   "cell_type": "code",
   "execution_count": 22,
   "id": "690fa8d9-78be-43ba-b879-c500c5d9b8b9",
   "metadata": {},
   "outputs": [
    {
     "data": {
      "text/html": [
       "<div>\n",
       "<style scoped>\n",
       "    .dataframe tbody tr th:only-of-type {\n",
       "        vertical-align: middle;\n",
       "    }\n",
       "\n",
       "    .dataframe tbody tr th {\n",
       "        vertical-align: top;\n",
       "    }\n",
       "\n",
       "    .dataframe thead th {\n",
       "        text-align: right;\n",
       "    }\n",
       "</style>\n",
       "<table border=\"1\" class=\"dataframe\">\n",
       "  <thead>\n",
       "    <tr style=\"text-align: right;\">\n",
       "      <th></th>\n",
       "      <th>bus</th>\n",
       "      <th>p_nom</th>\n",
       "      <th>carrier</th>\n",
       "      <th>entry</th>\n",
       "      <th>exit</th>\n",
       "      <th>efficiency</th>\n",
       "      <th>start_up_cost</th>\n",
       "      <th>ramp_limit_up</th>\n",
       "      <th>ramp_limit_down</th>\n",
       "      <th>p_min_pu</th>\n",
       "      <th>...</th>\n",
       "      <th>marginal_cost_quadratic</th>\n",
       "      <th>build_year</th>\n",
       "      <th>lifetime</th>\n",
       "      <th>capital_cost</th>\n",
       "      <th>stand_by_cost</th>\n",
       "      <th>up_time_before</th>\n",
       "      <th>down_time_before</th>\n",
       "      <th>ramp_limit_start_up</th>\n",
       "      <th>ramp_limit_shut_down</th>\n",
       "      <th>weight</th>\n",
       "    </tr>\n",
       "    <tr>\n",
       "      <th>Generator</th>\n",
       "      <th></th>\n",
       "      <th></th>\n",
       "      <th></th>\n",
       "      <th></th>\n",
       "      <th></th>\n",
       "      <th></th>\n",
       "      <th></th>\n",
       "      <th></th>\n",
       "      <th></th>\n",
       "      <th></th>\n",
       "      <th></th>\n",
       "      <th></th>\n",
       "      <th></th>\n",
       "      <th></th>\n",
       "      <th></th>\n",
       "      <th></th>\n",
       "      <th></th>\n",
       "      <th></th>\n",
       "      <th></th>\n",
       "      <th></th>\n",
       "      <th></th>\n",
       "    </tr>\n",
       "  </thead>\n",
       "  <tbody>\n",
       "    <tr>\n",
       "      <th>DE00 CCGT exit 2033</th>\n",
       "      <td>DE00</td>\n",
       "      <td>0.010000</td>\n",
       "      <td>CCGT</td>\n",
       "      <td>2025.0</td>\n",
       "      <td>2033.0</td>\n",
       "      <td>0.521667</td>\n",
       "      <td>39.025</td>\n",
       "      <td>2.0</td>\n",
       "      <td>3.0</td>\n",
       "      <td>0.433333</td>\n",
       "      <td>...</td>\n",
       "      <td>0.0</td>\n",
       "      <td>0</td>\n",
       "      <td>inf</td>\n",
       "      <td>0.0</td>\n",
       "      <td>0.0</td>\n",
       "      <td>1</td>\n",
       "      <td>0</td>\n",
       "      <td>1.0</td>\n",
       "      <td>1.0</td>\n",
       "      <td>1.0</td>\n",
       "    </tr>\n",
       "    <tr>\n",
       "      <th>DE00 CCGT exit 2034</th>\n",
       "      <td>DE00</td>\n",
       "      <td>17445.831142</td>\n",
       "      <td>CCGT</td>\n",
       "      <td>2025.0</td>\n",
       "      <td>2034.0</td>\n",
       "      <td>0.521667</td>\n",
       "      <td>39.025</td>\n",
       "      <td>2.0</td>\n",
       "      <td>3.0</td>\n",
       "      <td>0.433333</td>\n",
       "      <td>...</td>\n",
       "      <td>0.0</td>\n",
       "      <td>0</td>\n",
       "      <td>inf</td>\n",
       "      <td>0.0</td>\n",
       "      <td>0.0</td>\n",
       "      <td>1</td>\n",
       "      <td>0</td>\n",
       "      <td>1.0</td>\n",
       "      <td>1.0</td>\n",
       "      <td>1.0</td>\n",
       "    </tr>\n",
       "    <tr>\n",
       "      <th>DE00 CCGT new 2025</th>\n",
       "      <td>DE00</td>\n",
       "      <td>0.010000</td>\n",
       "      <td>CCGT</td>\n",
       "      <td>2025.0</td>\n",
       "      <td>inf</td>\n",
       "      <td>0.600000</td>\n",
       "      <td>25.060</td>\n",
       "      <td>2.4</td>\n",
       "      <td>3.0</td>\n",
       "      <td>0.400000</td>\n",
       "      <td>...</td>\n",
       "      <td>0.0</td>\n",
       "      <td>0</td>\n",
       "      <td>inf</td>\n",
       "      <td>0.0</td>\n",
       "      <td>0.0</td>\n",
       "      <td>1</td>\n",
       "      <td>0</td>\n",
       "      <td>1.0</td>\n",
       "      <td>1.0</td>\n",
       "      <td>1.0</td>\n",
       "    </tr>\n",
       "    <tr>\n",
       "      <th>DE00 CCGT new 2026</th>\n",
       "      <td>DE00</td>\n",
       "      <td>0.010000</td>\n",
       "      <td>CCGT</td>\n",
       "      <td>2026.0</td>\n",
       "      <td>inf</td>\n",
       "      <td>0.600000</td>\n",
       "      <td>25.060</td>\n",
       "      <td>2.4</td>\n",
       "      <td>3.0</td>\n",
       "      <td>0.400000</td>\n",
       "      <td>...</td>\n",
       "      <td>0.0</td>\n",
       "      <td>0</td>\n",
       "      <td>inf</td>\n",
       "      <td>0.0</td>\n",
       "      <td>0.0</td>\n",
       "      <td>1</td>\n",
       "      <td>0</td>\n",
       "      <td>1.0</td>\n",
       "      <td>1.0</td>\n",
       "      <td>1.0</td>\n",
       "    </tr>\n",
       "  </tbody>\n",
       "</table>\n",
       "<p>4 rows × 37 columns</p>\n",
       "</div>"
      ],
      "text/plain": [
       "                      bus         p_nom carrier   entry    exit  efficiency  \\\n",
       "Generator                                                                     \n",
       "DE00 CCGT exit 2033  DE00      0.010000    CCGT  2025.0  2033.0    0.521667   \n",
       "DE00 CCGT exit 2034  DE00  17445.831142    CCGT  2025.0  2034.0    0.521667   \n",
       "DE00 CCGT new 2025   DE00      0.010000    CCGT  2025.0     inf    0.600000   \n",
       "DE00 CCGT new 2026   DE00      0.010000    CCGT  2026.0     inf    0.600000   \n",
       "\n",
       "                     start_up_cost  ramp_limit_up  ramp_limit_down  p_min_pu  \\\n",
       "Generator                                                                      \n",
       "DE00 CCGT exit 2033         39.025            2.0              3.0  0.433333   \n",
       "DE00 CCGT exit 2034         39.025            2.0              3.0  0.433333   \n",
       "DE00 CCGT new 2025          25.060            2.4              3.0  0.400000   \n",
       "DE00 CCGT new 2026          25.060            2.4              3.0  0.400000   \n",
       "\n",
       "                     ...  marginal_cost_quadratic  build_year  lifetime  \\\n",
       "Generator            ...                                                  \n",
       "DE00 CCGT exit 2033  ...                      0.0           0       inf   \n",
       "DE00 CCGT exit 2034  ...                      0.0           0       inf   \n",
       "DE00 CCGT new 2025   ...                      0.0           0       inf   \n",
       "DE00 CCGT new 2026   ...                      0.0           0       inf   \n",
       "\n",
       "                     capital_cost  stand_by_cost up_time_before  \\\n",
       "Generator                                                         \n",
       "DE00 CCGT exit 2033           0.0            0.0              1   \n",
       "DE00 CCGT exit 2034           0.0            0.0              1   \n",
       "DE00 CCGT new 2025            0.0            0.0              1   \n",
       "DE00 CCGT new 2026            0.0            0.0              1   \n",
       "\n",
       "                     down_time_before ramp_limit_start_up  \\\n",
       "Generator                                                   \n",
       "DE00 CCGT exit 2033                 0                 1.0   \n",
       "DE00 CCGT exit 2034                 0                 1.0   \n",
       "DE00 CCGT new 2025                  0                 1.0   \n",
       "DE00 CCGT new 2026                  0                 1.0   \n",
       "\n",
       "                     ramp_limit_shut_down  weight  \n",
       "Generator                                          \n",
       "DE00 CCGT exit 2033                   1.0     1.0  \n",
       "DE00 CCGT exit 2034                   1.0     1.0  \n",
       "DE00 CCGT new 2025                    1.0     1.0  \n",
       "DE00 CCGT new 2026                    1.0     1.0  \n",
       "\n",
       "[4 rows x 37 columns]"
      ]
     },
     "execution_count": 22,
     "metadata": {},
     "output_type": "execute_result"
    }
   ],
   "source": [
    "n.generators.filter(regex=\"DE.*CCGT\", axis=0)"
   ]
  },
  {
   "cell_type": "code",
   "execution_count": 100,
   "id": "2113ddbe-2f85-45c5-bcbb-99dcc720bdff",
   "metadata": {},
   "outputs": [],
   "source": [
    "unit = \"DE00 CCGT exit 2034\""
   ]
  },
  {
   "cell_type": "code",
   "execution_count": 109,
   "id": "00c08cc5-bc0e-4b82-a889-b9dbd3b7a386",
   "metadata": {},
   "outputs": [
    {
     "data": {
      "text/plain": [
       "snapshot\n",
       "2010-01-01 00:00:00   -38.263907\n",
       "2010-01-01 01:00:00    -0.000000\n",
       "2010-01-01 02:00:00    -0.000000\n",
       "2010-01-01 03:00:00    -0.000000\n",
       "2010-01-01 04:00:00    -0.000000\n",
       "                         ...    \n",
       "2010-12-31 19:00:00    -0.000000\n",
       "2010-12-31 20:00:00    -0.000000\n",
       "2010-12-31 21:00:00    -0.000000\n",
       "2010-12-31 22:00:00    -0.000000\n",
       "2010-12-31 23:00:00    -0.000000\n",
       "Length: 8760, dtype: float64"
      ]
     },
     "execution_count": 109,
     "metadata": {},
     "output_type": "execute_result"
    }
   ],
   "source": [
    "n.generators_t.p[unit].multiply(n.buses_t.marginal_price[\"DE00\"].subtract(n.generators.loc[unit, \"marginal_cost\"])).div(n.generators.loc[unit, \"p_nom\"])"
   ]
  },
  {
   "cell_type": "code",
   "execution_count": 116,
   "id": "95f8c78c-9bd1-4ddb-bb09-c574d565b2df",
   "metadata": {},
   "outputs": [
    {
     "data": {
      "text/plain": [
       "snapshot\n",
       "2010-01-01 00:00:00     88.301325\n",
       "2010-01-01 01:00:00     73.267451\n",
       "2010-01-01 02:00:00     72.933214\n",
       "2010-01-01 03:00:00     72.933214\n",
       "2010-01-01 04:00:00     72.933214\n",
       "                          ...    \n",
       "2010-12-31 19:00:00    106.474496\n",
       "2010-12-31 20:00:00    106.474496\n",
       "2010-12-31 21:00:00    106.474496\n",
       "2010-12-31 22:00:00    106.474496\n",
       "2010-12-31 23:00:00    106.474496\n",
       "Name: DE00 CCGT exit 2034, Length: 8760, dtype: float64"
      ]
     },
     "execution_count": 116,
     "metadata": {},
     "output_type": "execute_result"
    }
   ],
   "source": [
    "n.generators_t.mu_lower[unit]"
   ]
  },
  {
   "cell_type": "code",
   "execution_count": null,
   "id": "e3d7fe05-421e-4c8c-b03c-be122a12fa92",
   "metadata": {},
   "outputs": [],
   "source": []
  },
  {
   "cell_type": "code",
   "execution_count": null,
   "id": "b35643ad-d961-47af-a518-7612af0a11ef",
   "metadata": {},
   "outputs": [],
   "source": []
  },
  {
   "cell_type": "code",
   "execution_count": 92,
   "id": "e45bc61f-a6f3-46e1-b059-8ef4ff0aed73",
   "metadata": {},
   "outputs": [
    {
     "name": "stderr",
     "output_type": "stream",
     "text": [
      "WARNING:pypsa.io:Components Index(['AL00 reservoir charger', 'AL00 reservoir discharger', 'AL00-GR00-AC',\n",
      "       'AL00-ME00-AC', 'AL00-MK00-AC', 'AL00-RS00-AC', 'AT00 battery charger',\n",
      "       'AT00 battery discharger', 'AT00 reservoir charger',\n",
      "       'AT00 reservoir discharger',\n",
      "       ...\n",
      "       'UK00-DKW1-DC', 'UK00-FR00-DC', 'UK00-IE00-DC', 'UK00-NL00-DC',\n",
      "       'UK00-NOS0-DC', 'UK00-UKNI-DC', 'UKNI battery charger',\n",
      "       'UKNI battery discharger', 'UKNI-IE00-AC', 'UKNI-UK00-DC'],\n",
      "      dtype='object', name='Bus', length=361) for attribute mu_alegro of Bus are not in main components dataframe buses\n",
      "WARNING:pypsa.io:Components Index(['Allegro'], dtype='object', name='Link') for attribute r of Link are not in main components dataframe links\n",
      "WARNING:pypsa.io:Components Index(['BA00-HR00', 'BG00-RO00', 'CH00-AT00', 'CH00-DE00', 'CH00-FR00',\n",
      "       'DKE1-DE00', 'DKW1-DE00', 'DKW1-NL00', 'ES00-FR00', 'ITN1-AT00',\n",
      "       'ITN1-FR00', 'ITN1-SI00', 'LT00-PL00', 'NOS0-DE00', 'NOS0-NL00',\n",
      "       'RS00-HR00', 'RS00-HU00', 'RS00-RO00', 'SE04-DE00', 'SE04-PL00',\n",
      "       'UK00-BE00', 'UK00-FR00', 'UK00-NL00'],\n",
      "      dtype='object', name='Link') for attribute external_flow of Link are not in main components dataframe links\n",
      "WARNING:pypsa.io:Components Index(['Allegro'], dtype='object', name='Link') for attribute mu_capacity_upper of Link are not in main components dataframe links\n",
      "WARNING:pypsa.io:Components Index(['AL00 reservoir store', 'AT00 battery store', 'AT00 reservoir store',\n",
      "       'BA00 reservoir store', 'BE00 PHS store', 'BE00 battery store',\n",
      "       'BG00 PHS store', 'BG00 reservoir store', 'CH00 PHS store',\n",
      "       'CH00 battery store', 'CH00 reservoir store', 'CZ00 PHS store',\n",
      "       'CZ00 battery store', 'CZ00 reservoir store', 'DE00 PHS store',\n",
      "       'DE00 battery store', 'DE00 reservoir store', 'ES00 PHS store',\n",
      "       'ES00 battery store', 'ES00 reservoir store', 'FI00 battery store',\n",
      "       'FI00 reservoir store', 'FR00 PHS store', 'FR00 battery store',\n",
      "       'FR00 reservoir store', 'GR00 battery store', 'GR00 reservoir store',\n",
      "       'HR00 battery store', 'HR00 reservoir store', 'HU00 battery store',\n",
      "       'IE00 PHS store', 'IE00 battery store', 'ITCA battery store',\n",
      "       'ITCA reservoir store', 'ITCN battery store', 'ITCN reservoir store',\n",
      "       'ITCS PHS store', 'ITCS battery store', 'ITCS reservoir store',\n",
      "       'ITN1 PHS store', 'ITN1 battery store', 'ITN1 reservoir store',\n",
      "       'ITS1 battery store', 'ITS1 reservoir store', 'ITSA PHS store',\n",
      "       'ITSA battery store', 'ITSA reservoir store', 'ITSI PHS store',\n",
      "       'ITSI battery store', 'ITSI reservoir store', 'LT00 PHS store',\n",
      "       'LT00 battery store', 'LUG1 battery store', 'LV00 battery store',\n",
      "       'ME00 reservoir store', 'MK00 reservoir store', 'NL00 battery store',\n",
      "       'NOM1 reservoir store', 'NON1 reservoir store', 'NOS0 reservoir store',\n",
      "       'PL00 PHS store', 'PL00 reservoir store', 'PT00 reservoir store',\n",
      "       'RO00 battery store', 'RO00 reservoir store', 'RS00 PHS store',\n",
      "       'RS00 reservoir store', 'SE01 reservoir store', 'SE02 reservoir store',\n",
      "       'SE03 reservoir store', 'SE04 reservoir store', 'SI00 PHS store',\n",
      "       'SI00 battery store', 'SI00 reservoir store', 'SK00 PHS store',\n",
      "       'SK00 battery store', 'SK00 reservoir store', 'UK00 PHS store',\n",
      "       'UK00 battery store', 'UKNI battery store'],\n",
      "      dtype='object', name='Link') for attribute mu_reserve_reservoir_constraint of Link are not in main components dataframe links\n",
      "WARNING:pypsa.io:Components Index(['BA00-HR00', 'BG00-RO00', 'CH00-AT00', 'CH00-DE00', 'CH00-FR00',\n",
      "       'DKE1-DE00', 'DKW1-DE00', 'DKW1-NL00', 'ES00-FR00', 'ITN1-AT00',\n",
      "       'ITN1-FR00', 'ITN1-SI00', 'LT00-PL00', 'NOS0-DE00', 'NOS0-NL00',\n",
      "       'RS00-HR00', 'RS00-HU00', 'RS00-RO00', 'SE04-DE00', 'SE04-PL00',\n",
      "       'UK00-BE00', 'UK00-FR00', 'UK00-NL00'],\n",
      "      dtype='object', name='Link') for attribute mu_external_flows of Link are not in main components dataframe links\n",
      "WARNING:pypsa.io:Components Index([  1,   2,   3,   4,   5,   6,   7,   8,   9,  10,\n",
      "       ...\n",
      "       372, 373, 374, 375, 376, 377, 378, 379, 380, 381],\n",
      "      dtype='int64', name='Link', length=381) for attribute mu_RAM_constraint of Link are not in main components dataframe links\n",
      "INFO:pypsa.io:Imported network cy1983_ty2027.nc has buses, generators, links, loads, stores\n"
     ]
    }
   ],
   "source": [
    "n = pypsa.Network(\"results/networks/0/cy1983_ty2027.nc\")"
   ]
  },
  {
   "cell_type": "code",
   "execution_count": 95,
   "id": "d8cba8d0-2cb2-4de2-8348-dffdf450b40d",
   "metadata": {},
   "outputs": [],
   "source": [
    "unit = \"AL00 CCGT exit 2034\""
   ]
  },
  {
   "cell_type": "code",
   "execution_count": 99,
   "id": "0ac90621-8402-4b39-849c-0339a3c8444c",
   "metadata": {},
   "outputs": [
    {
     "data": {
      "text/plain": [
       "-812796.7546186035"
      ]
     },
     "execution_count": 99,
     "metadata": {},
     "output_type": "execute_result"
    }
   ],
   "source": [
    "n.generators_t.p[unit].multiply(n.buses_t.marginal_price[\"AL00\"].subtract(\n",
    "    n.generators.loc[unit, \"marginal_cost\"]\n",
    ")).sum()"
   ]
  },
  {
   "cell_type": "code",
   "execution_count": 55,
   "id": "b1f6c311-9d4c-4254-80c8-53533191945a",
   "metadata": {},
   "outputs": [
    {
     "data": {
      "text/html": [
       "<div>\n",
       "<style scoped>\n",
       "    .dataframe tbody tr th:only-of-type {\n",
       "        vertical-align: middle;\n",
       "    }\n",
       "\n",
       "    .dataframe tbody tr th {\n",
       "        vertical-align: top;\n",
       "    }\n",
       "\n",
       "    .dataframe thead th {\n",
       "        text-align: right;\n",
       "    }\n",
       "</style>\n",
       "<table border=\"1\" class=\"dataframe\">\n",
       "  <thead>\n",
       "    <tr style=\"text-align: right;\">\n",
       "      <th>Generator</th>\n",
       "    </tr>\n",
       "    <tr>\n",
       "      <th>snapshot</th>\n",
       "    </tr>\n",
       "  </thead>\n",
       "  <tbody>\n",
       "    <tr>\n",
       "      <th>2010-01-01 00:00:00</th>\n",
       "    </tr>\n",
       "    <tr>\n",
       "      <th>2010-01-01 01:00:00</th>\n",
       "    </tr>\n",
       "    <tr>\n",
       "      <th>2010-01-01 02:00:00</th>\n",
       "    </tr>\n",
       "    <tr>\n",
       "      <th>2010-01-01 03:00:00</th>\n",
       "    </tr>\n",
       "    <tr>\n",
       "      <th>2010-01-01 04:00:00</th>\n",
       "    </tr>\n",
       "    <tr>\n",
       "      <th>...</th>\n",
       "    </tr>\n",
       "    <tr>\n",
       "      <th>2010-12-31 19:00:00</th>\n",
       "    </tr>\n",
       "    <tr>\n",
       "      <th>2010-12-31 20:00:00</th>\n",
       "    </tr>\n",
       "    <tr>\n",
       "      <th>2010-12-31 21:00:00</th>\n",
       "    </tr>\n",
       "    <tr>\n",
       "      <th>2010-12-31 22:00:00</th>\n",
       "    </tr>\n",
       "    <tr>\n",
       "      <th>2010-12-31 23:00:00</th>\n",
       "    </tr>\n",
       "  </tbody>\n",
       "</table>\n",
       "<p>8760 rows × 0 columns</p>\n",
       "</div>"
      ],
      "text/plain": [
       "Empty DataFrame\n",
       "Columns: []\n",
       "Index: [2010-01-01 00:00:00, 2010-01-01 01:00:00, 2010-01-01 02:00:00, 2010-01-01 03:00:00, 2010-01-01 04:00:00, 2010-01-01 05:00:00, 2010-01-01 06:00:00, 2010-01-01 07:00:00, 2010-01-01 08:00:00, 2010-01-01 09:00:00, 2010-01-01 10:00:00, 2010-01-01 11:00:00, 2010-01-01 12:00:00, 2010-01-01 13:00:00, 2010-01-01 14:00:00, 2010-01-01 15:00:00, 2010-01-01 16:00:00, 2010-01-01 17:00:00, 2010-01-01 18:00:00, 2010-01-01 19:00:00, 2010-01-01 20:00:00, 2010-01-01 21:00:00, 2010-01-01 22:00:00, 2010-01-01 23:00:00, 2010-01-02 00:00:00, 2010-01-02 01:00:00, 2010-01-02 02:00:00, 2010-01-02 03:00:00, 2010-01-02 04:00:00, 2010-01-02 05:00:00, 2010-01-02 06:00:00, 2010-01-02 07:00:00, 2010-01-02 08:00:00, 2010-01-02 09:00:00, 2010-01-02 10:00:00, 2010-01-02 11:00:00, 2010-01-02 12:00:00, 2010-01-02 13:00:00, 2010-01-02 14:00:00, 2010-01-02 15:00:00, 2010-01-02 16:00:00, 2010-01-02 17:00:00, 2010-01-02 18:00:00, 2010-01-02 19:00:00, 2010-01-02 20:00:00, 2010-01-02 21:00:00, 2010-01-02 22:00:00, 2010-01-02 23:00:00, 2010-01-03 00:00:00, 2010-01-03 01:00:00, 2010-01-03 02:00:00, 2010-01-03 03:00:00, 2010-01-03 04:00:00, 2010-01-03 05:00:00, 2010-01-03 06:00:00, 2010-01-03 07:00:00, 2010-01-03 08:00:00, 2010-01-03 09:00:00, 2010-01-03 10:00:00, 2010-01-03 11:00:00, 2010-01-03 12:00:00, 2010-01-03 13:00:00, 2010-01-03 14:00:00, 2010-01-03 15:00:00, 2010-01-03 16:00:00, 2010-01-03 17:00:00, 2010-01-03 18:00:00, 2010-01-03 19:00:00, 2010-01-03 20:00:00, 2010-01-03 21:00:00, 2010-01-03 22:00:00, 2010-01-03 23:00:00, 2010-01-04 00:00:00, 2010-01-04 01:00:00, 2010-01-04 02:00:00, 2010-01-04 03:00:00, 2010-01-04 04:00:00, 2010-01-04 05:00:00, 2010-01-04 06:00:00, 2010-01-04 07:00:00, 2010-01-04 08:00:00, 2010-01-04 09:00:00, 2010-01-04 10:00:00, 2010-01-04 11:00:00, 2010-01-04 12:00:00, 2010-01-04 13:00:00, 2010-01-04 14:00:00, 2010-01-04 15:00:00, 2010-01-04 16:00:00, 2010-01-04 17:00:00, 2010-01-04 18:00:00, 2010-01-04 19:00:00, 2010-01-04 20:00:00, 2010-01-04 21:00:00, 2010-01-04 22:00:00, 2010-01-04 23:00:00, 2010-01-05 00:00:00, 2010-01-05 01:00:00, 2010-01-05 02:00:00, 2010-01-05 03:00:00, ...]\n",
       "\n",
       "[8760 rows x 0 columns]"
      ]
     },
     "execution_count": 55,
     "metadata": {},
     "output_type": "execute_result"
    }
   ],
   "source": [
    "n.generators_t.r.filter(regex=\"DE.*CCGT\")"
   ]
  },
  {
   "cell_type": "code",
   "execution_count": 48,
   "id": "e5bc2e6b-8258-4225-a10e-e33bea5d9e12",
   "metadata": {},
   "outputs": [
    {
     "data": {
      "text/plain": [
       "snapshot\n",
       "2010-01-01 00:00:00   -0.0\n",
       "2010-01-01 01:00:00    0.0\n",
       "2010-01-01 02:00:00    0.0\n",
       "2010-01-01 03:00:00    0.0\n",
       "2010-01-01 04:00:00    0.0\n",
       "                      ... \n",
       "2010-12-31 19:00:00    0.0\n",
       "2010-12-31 20:00:00    0.0\n",
       "2010-12-31 21:00:00    0.0\n",
       "2010-12-31 22:00:00    0.0\n",
       "2010-12-31 23:00:00    0.0\n",
       "Name: DE00, Length: 8760, dtype: float64"
      ]
     },
     "execution_count": 48,
     "metadata": {},
     "output_type": "execute_result"
    }
   ],
   "source": [
    "n.buses_t.mu_reserve_balance[\"DE00\"].multiply()"
   ]
  },
  {
   "cell_type": "code",
   "execution_count": 43,
   "id": "76d888c9-072d-4289-a1a5-ad6692a67513",
   "metadata": {},
   "outputs": [
    {
     "data": {
      "text/plain": [
       "<AxesSubplot:>"
      ]
     },
     "execution_count": 43,
     "metadata": {},
     "output_type": "execute_result"
    },
    {
     "data": {
      "image/png": "[encoded data removed]",
      "text/plain": [
       "<Figure size 640x480 with 1 Axes>"
      ]
     },
     "metadata": {},
     "output_type": "display_data"
    }
   ],
   "source": [
    "duc(n.generators_t.status[unit][(n.generators_t.status[unit]>0) &(n.generators_t.status[unit]<1)]).plot()"
   ]
  },
  {
   "cell_type": "code",
   "execution_count": 45,
   "id": "7c7fd2fe-a72f-4806-bfbf-94b3c4f1f2fd",
   "metadata": {},
   "outputs": [
    {
     "data": {
      "text/plain": [
       "<Axes: xlabel='snapshot'>"
      ]
     },
     "execution_count": 45,
     "metadata": {},
     "output_type": "execute_result"
    },
    {
     "data": {
      "image/png": "[encoded data removed]",
      "text/plain": [
       "<Figure size 640x480 with 1 Axes>"
      ]
     },
     "metadata": {},
     "output_type": "display_data"
    }
   ],
   "source": [
    "n.generators_t.p[unit].plot()"
   ]
  },
  {
   "cell_type": "code",
   "execution_count": 19,
   "id": "5f90d4f0-c47f-412c-a15c-7e4653ade824",
   "metadata": {},
   "outputs": [],
   "source": [
    "def duc(ts):\n",
    "    return ts.sort_values(ascending=False).reset_index(drop=True)"
   ]
  },
  {
   "cell_type": "code",
   "execution_count": 21,
   "id": "929fdc9b-5585-4f96-adc8-85996a06b6ec",
   "metadata": {},
   "outputs": [
    {
     "data": {
      "text/plain": [
       "<AxesSubplot:>"
      ]
     },
     "execution_count": 21,
     "metadata": {},
     "output_type": "execute_result"
    },
    {
     "data": {
      "image/png": "[encoded data removed]",
      "text/plain": [
       "<Figure size 640x480 with 1 Axes>"
      ]
     },
     "metadata": {},
     "output_type": "display_data"
    }
   ],
   "source": [
    "duc(n.buses_t.marginal_price[\"DE00\"]).plot()"
   ]
  },
  {
   "cell_type": "code",
   "execution_count": null,
   "id": "b64ed19c-c3a6-4c25-bc72-b82c7b3afe07",
   "metadata": {},
   "outputs": [],
   "source": []
  },
  {
   "cell_type": "code",
   "execution_count": null,
   "id": "b61efbb8-ab82-4da3-8d69-a6dad188c61e",
   "metadata": {},
   "outputs": [],
   "source": []
  },
  {
   "cell_type": "code",
   "execution_count": null,
   "id": "c47b0763-9b8f-4e7c-92bc-023160a09069",
   "metadata": {},
   "outputs": [],
   "source": []
  },
  {
   "cell_type": "code",
   "execution_count": null,
   "id": "db4c5994-9991-4feb-8e5d-696e154ab73e",
   "metadata": {},
   "outputs": [],
   "source": []
  },
  {
   "cell_type": "code",
   "execution_count": null,
   "id": "40c47bdb-7b26-4cbc-af0a-5021e0bab3d2",
   "metadata": {},
   "outputs": [],
   "source": []
  },
  {
   "cell_type": "code",
   "execution_count": null,
   "id": "779af3fc-fbe8-46b9-963e-2147c8cb4b8f",
   "metadata": {},
   "outputs": [],
   "source": []
  },
  {
   "cell_type": "code",
   "execution_count": null,
   "id": "94428b77-e943-4a77-9d31-39db071d0fcf",
   "metadata": {},
   "outputs": [],
   "source": []
  },
  {
   "cell_type": "code",
   "execution_count": null,
   "id": "0aec10e8-72a0-471d-8bd2-0f0665d4c61e",
   "metadata": {},
   "outputs": [],
   "source": []
  },
  {
   "cell_type": "code",
   "execution_count": null,
   "id": "8ef8f06e-d8bc-449c-acbc-2696c7f62c91",
   "metadata": {},
   "outputs": [],
   "source": []
  },
  {
   "cell_type": "code",
   "execution_count": null,
   "id": "24fcad66-af1c-48c5-bd31-e0dbd30fc3a8",
   "metadata": {},
   "outputs": [],
   "source": []
  },
  {
   "cell_type": "code",
   "execution_count": null,
   "id": "a71716f8-04c8-4dd0-beda-b1ec7dc476b0",
   "metadata": {},
   "outputs": [],
   "source": []
  },
  {
   "cell_type": "code",
   "execution_count": null,
   "id": "abe625c7-13cc-4698-b71b-683dbba6a277",
   "metadata": {},
   "outputs": [],
   "source": []
  },
  {
   "cell_type": "code",
   "execution_count": null,
   "id": "81ef94c0-d3b4-49c8-9ac2-1aa081c6b38c",
   "metadata": {},
   "outputs": [],
   "source": []
  }
 ],
 "metadata": {
  "kernelspec": {
   "display_name": "pypsa-training",
   "language": "python",
   "name": "pypsa-training"
  },
  "language_info": {
   "codemirror_mode": {
    "name": "ipython",
    "version": 3
   },
   "file_extension": ".py",
   "mimetype": "text/x-python",
   "name": "python",
   "nbconvert_exporter": "python",
   "pygments_lexer": "ipython3",
   "version": "3.10.13"
  }
 },
 "nbformat": 4,
 "nbformat_minor": 5
}
