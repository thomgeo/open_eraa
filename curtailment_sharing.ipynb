{
 "cells": [
  {
   "cell_type": "code",
   "execution_count": 1,
   "metadata": {},
   "outputs": [],
   "source": [
    "import pandas as pd\n",
    "import numpy as np \n",
    "import pypsa"
   ]
  },
  {
   "cell_type": "code",
   "execution_count": 2,
   "metadata": {},
   "outputs": [
    {
     "name": "stderr",
     "output_type": "stream",
     "text": [
      "WARNING:pypsa.io:Components Index(['AL00 reservoir charger', 'AL00 reservoir discharger', 'AL00-GR00-AC',\n",
      "       'AL00-ME00-AC', 'AL00-MK00-AC', 'AL00-RS00-AC', 'AT00 battery charger',\n",
      "       'AT00 battery discharger', 'AT00 reservoir charger',\n",
      "       'AT00 reservoir discharger',\n",
      "       ...\n",
      "       'UK00-DKW1-DC', 'UK00-FR00-DC', 'UK00-IE00-DC', 'UK00-NL00-DC',\n",
      "       'UK00-NOS0-DC', 'UK00-UKNI-DC', 'UKNI battery charger',\n",
      "       'UKNI battery discharger', 'UKNI-IE00-AC', 'UKNI-UK00-DC'],\n",
      "      dtype='object', name='Bus', length=361) for attribute mu_alegro of Bus are not in main components dataframe buses\n",
      "WARNING:pypsa.io:Components Index(['Allegro'], dtype='object', name='Link') for attribute r of Link are not in main components dataframe links\n",
      "WARNING:pypsa.io:Components Index(['BA00-HR00', 'BG00-RO00', 'CH00-AT00', 'CH00-DE00', 'CH00-FR00',\n",
      "       'DKE1-DE00', 'DKW1-DE00', 'DKW1-NL00', 'ES00-FR00', 'ITN1-AT00',\n",
      "       'ITN1-FR00', 'ITN1-SI00', 'LT00-PL00', 'NOS0-DE00', 'NOS0-NL00',\n",
      "       'RS00-HR00', 'RS00-HU00', 'RS00-RO00', 'SE04-DE00', 'SE04-PL00',\n",
      "       'UK00-BE00', 'UK00-FR00', 'UK00-NL00'],\n",
      "      dtype='object', name='Link') for attribute external_flow of Link are not in main components dataframe links\n",
      "WARNING:pypsa.io:Components Index(['Allegro'], dtype='object', name='Link') for attribute mu_capacity_upper of Link are not in main components dataframe links\n",
      "WARNING:pypsa.io:Components Index(['AL00 reservoir store', 'AT00 battery store', 'AT00 reservoir store',\n",
      "       'BA00 reservoir store', 'BE00 PHS store', 'BE00 battery store',\n",
      "       'BG00 PHS store', 'BG00 reservoir store', 'CH00 PHS store',\n",
      "       'CH00 battery store', 'CH00 reservoir store', 'CZ00 PHS store',\n",
      "       'CZ00 battery store', 'CZ00 reservoir store', 'DE00 PHS store',\n",
      "       'DE00 battery store', 'DE00 reservoir store', 'ES00 PHS store',\n",
      "       'ES00 battery store', 'ES00 reservoir store', 'FI00 battery store',\n",
      "       'FI00 reservoir store', 'FR00 PHS store', 'FR00 battery store',\n",
      "       'FR00 reservoir store', 'GR00 battery store', 'GR00 reservoir store',\n",
      "       'HR00 battery store', 'HR00 reservoir store', 'HU00 battery store',\n",
      "       'IE00 PHS store', 'IE00 battery store', 'ITCA battery store',\n",
      "       'ITCA reservoir store', 'ITCN battery store', 'ITCN reservoir store',\n",
      "       'ITCS PHS store', 'ITCS battery store', 'ITCS reservoir store',\n",
      "       'ITN1 PHS store', 'ITN1 battery store', 'ITN1 reservoir store',\n",
      "       'ITS1 battery store', 'ITS1 reservoir store', 'ITSA PHS store',\n",
      "       'ITSA battery store', 'ITSA reservoir store', 'ITSI PHS store',\n",
      "       'ITSI battery store', 'ITSI reservoir store', 'LT00 PHS store',\n",
      "       'LT00 battery store', 'LUG1 battery store', 'LV00 battery store',\n",
      "       'ME00 reservoir store', 'MK00 reservoir store', 'NL00 battery store',\n",
      "       'NOM1 reservoir store', 'NON1 reservoir store', 'NOS0 reservoir store',\n",
      "       'PL00 PHS store', 'PL00 reservoir store', 'PT00 reservoir store',\n",
      "       'RO00 battery store', 'RO00 reservoir store', 'RS00 PHS store',\n",
      "       'RS00 reservoir store', 'SE01 reservoir store', 'SE02 reservoir store',\n",
      "       'SE03 reservoir store', 'SE04 reservoir store', 'SI00 PHS store',\n",
      "       'SI00 battery store', 'SI00 reservoir store', 'SK00 PHS store',\n",
      "       'SK00 battery store', 'SK00 reservoir store', 'UK00 PHS store',\n",
      "       'UK00 battery store', 'UKNI battery store'],\n",
      "      dtype='object', name='Link') for attribute mu_reserve_reservoir_constraint of Link are not in main components dataframe links\n",
      "WARNING:pypsa.io:Components Index(['BA00-HR00', 'BG00-RO00', 'CH00-AT00', 'CH00-DE00', 'CH00-FR00',\n",
      "       'DKE1-DE00', 'DKW1-DE00', 'DKW1-NL00', 'ES00-FR00', 'ITN1-AT00',\n",
      "       'ITN1-FR00', 'ITN1-SI00', 'LT00-PL00', 'NOS0-DE00', 'NOS0-NL00',\n",
      "       'RS00-HR00', 'RS00-HU00', 'RS00-RO00', 'SE04-DE00', 'SE04-PL00',\n",
      "       'UK00-BE00', 'UK00-FR00', 'UK00-NL00'],\n",
      "      dtype='object', name='Link') for attribute mu_external_flows of Link are not in main components dataframe links\n",
      "WARNING:pypsa.io:Components Index([  1,   2,   3,   4,   5,   6,   7,   8,   9,  10,\n",
      "       ...\n",
      "       372, 373, 374, 375, 376, 377, 378, 379, 380, 381],\n",
      "      dtype='int64', name='Link', length=381) for attribute mu_RAM_constraint of Link are not in main components dataframe links\n",
      "INFO:pypsa.io:Imported network cy1985_ty2025.nc has buses, generators, links, loads, stores\n"
     ]
    }
   ],
   "source": [
    "n = pypsa.Network(\"results/networks/10/cy1985_ty2025.nc\")"
   ]
  },
  {
   "cell_type": "code",
   "execution_count": 61,
   "metadata": {},
   "outputs": [],
   "source": [
    "c = n.copy()"
   ]
  },
  {
   "cell_type": "code",
   "execution_count": 62,
   "metadata": {},
   "outputs": [],
   "source": [
    "load_shedding = c.generators.filter(like=\"load-shedding\", axis=0)"
   ]
  },
  {
   "cell_type": "code",
   "execution_count": 63,
   "metadata": {},
   "outputs": [],
   "source": [
    "snapshots_with_curtailment = c.snapshots[c.generators_t.p[load_shedding.index].sum(axis=1)>0]"
   ]
  },
  {
   "cell_type": "code",
   "execution_count": 64,
   "metadata": {},
   "outputs": [],
   "source": [
    "c.set_snapshots(snapshots_with_curtailment)"
   ]
  },
  {
   "cell_type": "code",
   "execution_count": 65,
   "metadata": {
    "scrolled": false
   },
   "outputs": [],
   "source": [
    "other_generators = c.generators.loc[c.generators.index.symmetric_difference(load_shedding.index)]"
   ]
  },
  {
   "cell_type": "code",
   "execution_count": 66,
   "metadata": {},
   "outputs": [],
   "source": [
    "market_buses = c.buses.query(\"carrier == 'electricity'\").index"
   ]
  },
  {
   "cell_type": "code",
   "execution_count": 67,
   "metadata": {},
   "outputs": [],
   "source": [
    "generation = c.generators_t.p[other_generators.index].groupby(other_generators.bus, axis=1).sum()[market_buses]"
   ]
  },
  {
   "cell_type": "code",
   "execution_count": 68,
   "metadata": {},
   "outputs": [],
   "source": [
    "itc_carriers  = [\"AC\", \"DC\"]"
   ]
  },
  {
   "cell_type": "code",
   "execution_count": 69,
   "metadata": {},
   "outputs": [],
   "source": [
    "storage_links = c.links.query(\"carrier not in @itc_carriers\")"
   ]
  },
  {
   "cell_type": "code",
   "execution_count": 70,
   "metadata": {},
   "outputs": [],
   "source": [
    "net_positions = c.loads_t.p_set.groupby(c.loads.bus, axis=1).sum().subtract(\n",
    "    c.generators_t.p[other_generators.index].groupby(other_generators.bus, axis=1).sum(),\n",
    "    fill_value=0\n",
    ").add(\n",
    "    c.links_t.p0[storage_links.index].groupby(storage_links.bus0, axis=1).sum(),\n",
    "    fill_value=0\n",
    ").add(\n",
    "    c.links_t.p1.groupby(storage_links.bus1, axis=1).sum(),\n",
    "    fill_value=0\n",
    ")[market_buses]"
   ]
  },
  {
   "cell_type": "code",
   "execution_count": 71,
   "metadata": {},
   "outputs": [],
   "source": [
    "loads = c.loads_t.p_set.copy()"
   ]
  },
  {
   "cell_type": "code",
   "execution_count": 72,
   "metadata": {},
   "outputs": [
    {
     "data": {
      "text/plain": [
       "Index(['AL00', 'AT00', 'BA00', 'BE00', 'BG00', 'CH00', 'CY00', 'CZ00', 'DE00',\n",
       "       'DEKF', 'DKE1', 'DKKF', 'DKW1', 'EE00', 'ES00', 'FI00', 'FR00', 'GR00',\n",
       "       'GR03', 'HR00', 'HU00', 'IE00', 'ITCA', 'ITCN', 'ITCS', 'ITN1', 'ITS1',\n",
       "       'ITSA', 'ITSI', 'LT00', 'LUG1', 'LV00', 'ME00', 'MK00', 'MT00', 'NL00',\n",
       "       'NOM1', 'NON1', 'NOS0', 'PL00', 'PLE0', 'PLI0', 'PT00', 'RO00', 'RS00',\n",
       "       'SE01', 'SE02', 'SE03', 'SE04', 'SI00', 'SK00', 'UK00', 'UKNI'],\n",
       "      dtype='object')"
      ]
     },
     "execution_count": 72,
     "metadata": {},
     "output_type": "execute_result"
    }
   ],
   "source": [
    "c.mremove(\"Generator\", other_generators.index)\n",
    "c.mremove(\"Load\", c.loads.index)\n",
    "c.mremove(\"Link\", storage_links.index)\n",
    "c.mremove(\"Store\", c.stores.index)\n",
    "c.mremove(\"Bus\", c.buses.query(\"carrier != 'electricity'\").index)\n",
    "c.madd(\"Load\", net_positions.columns, bus = net_positions.columns, p_set = net_positions)"
   ]
  },
  {
   "cell_type": "code",
   "execution_count": 144,
   "metadata": {},
   "outputs": [],
   "source": [
    "for ls in load_shedding.index:\n",
    "    c.generators_t.p_max_pu[ls] = 1"
   ]
  },
  {
   "cell_type": "code",
   "execution_count": 153,
   "metadata": {},
   "outputs": [],
   "source": [
    "c.generators_t.p_max_pu[net_positions[[i[:4] for i in load_shedding.index]].values >0] = 0"
   ]
  },
  {
   "cell_type": "code",
   "execution_count": 156,
   "metadata": {},
   "outputs": [],
   "source": [
    "snapshots = c.snapshots"
   ]
  },
  {
   "cell_type": "code",
   "execution_count": 157,
   "metadata": {},
   "outputs": [],
   "source": [
    "m = c.optimize.create_model()"
   ]
  },
  {
   "cell_type": "code",
   "execution_count": 158,
   "metadata": {},
   "outputs": [],
   "source": [
    "max_curtailment_ratio = m.add_variables(lower=0, coords=[snapshots] , name=\"Bus-max_curtailment_ratio\")"
   ]
  },
  {
   "cell_type": "code",
   "execution_count": 159,
   "metadata": {},
   "outputs": [],
   "source": [
    "loads.columns.name = \"bus\""
   ]
  },
  {
   "cell_type": "code",
   "execution_count": 160,
   "metadata": {},
   "outputs": [],
   "source": [
    "loads = loads.reindex(c.buses.index, axis=1, fill_value=1e-6)"
   ]
  },
  {
   "cell_type": "code",
   "execution_count": 161,
   "metadata": {},
   "outputs": [
    {
     "data": {
      "text/plain": [
       "Constraint `Bus-max_curtailment_ratio_constraint` (snapshot: 62, bus: 53):\n",
       "--------------------------------------------------------------------------\n",
       "[2010-01-15 17:00:00, AL00]: +1 Bus-max_curtailment_ratio[2010-01-15 17:00:00] - 0.0006313 Generator-p[2010-01-15 17:00:00, AL00 load-shedding] ≥ -0.0\n",
       "[2010-01-15 17:00:00, AT00]: +1 Bus-max_curtailment_ratio[2010-01-15 17:00:00] - 8.245e-05 Generator-p[2010-01-15 17:00:00, AT00 load-shedding] ≥ -0.0\n",
       "[2010-01-15 17:00:00, BA00]: +1 Bus-max_curtailment_ratio[2010-01-15 17:00:00] - 0.0005095 Generator-p[2010-01-15 17:00:00, BA00 load-shedding] ≥ -0.0\n",
       "[2010-01-15 17:00:00, BE00]: +1 Bus-max_curtailment_ratio[2010-01-15 17:00:00] - 6.39e-05 Generator-p[2010-01-15 17:00:00, BE00 load-shedding]  ≥ -0.0\n",
       "[2010-01-15 17:00:00, BG00]: +1 Bus-max_curtailment_ratio[2010-01-15 17:00:00] - 0.0001612 Generator-p[2010-01-15 17:00:00, BG00 load-shedding] ≥ -0.0\n",
       "[2010-01-15 17:00:00, CH00]: +1 Bus-max_curtailment_ratio[2010-01-15 17:00:00] - 8.743e-05 Generator-p[2010-01-15 17:00:00, CH00 load-shedding] ≥ -0.0\n",
       "[2010-01-15 17:00:00, CY00]: +1 Bus-max_curtailment_ratio[2010-01-15 17:00:00] - 0.001344 Generator-p[2010-01-15 17:00:00, CY00 load-shedding]  ≥ -0.0\n",
       "\t\t...\n",
       "[2010-11-09 23:00:00, SE02]: +1 Bus-max_curtailment_ratio[2010-11-09 23:00:00] - 0.0005048 Generator-p[2010-11-09 23:00:00, SE02 load-shedding] ≥ -0.0\n",
       "[2010-11-09 23:00:00, SE03]: +1 Bus-max_curtailment_ratio[2010-11-09 23:00:00] - 0.0001059 Generator-p[2010-11-09 23:00:00, SE03 load-shedding] ≥ -0.0\n",
       "[2010-11-09 23:00:00, SE04]: +1 Bus-max_curtailment_ratio[2010-11-09 23:00:00] - 0.0003824 Generator-p[2010-11-09 23:00:00, SE04 load-shedding] ≥ -0.0\n",
       "[2010-11-09 23:00:00, SI00]: +1 Bus-max_curtailment_ratio[2010-11-09 23:00:00] - 0.0006338 Generator-p[2010-11-09 23:00:00, SI00 load-shedding] ≥ -0.0\n",
       "[2010-11-09 23:00:00, SK00]: +1 Bus-max_curtailment_ratio[2010-11-09 23:00:00] - 0.0003484 Generator-p[2010-11-09 23:00:00, SK00 load-shedding] ≥ -0.0\n",
       "[2010-11-09 23:00:00, UK00]: +1 Bus-max_curtailment_ratio[2010-11-09 23:00:00] - 3.498e-05 Generator-p[2010-11-09 23:00:00, UK00 load-shedding] ≥ -0.0\n",
       "[2010-11-09 23:00:00, UKNI]: +1 Bus-max_curtailment_ratio[2010-11-09 23:00:00] - 0.001022 Generator-p[2010-11-09 23:00:00, UKNI load-shedding]  ≥ -0.0"
      ]
     },
     "execution_count": 161,
     "metadata": {},
     "output_type": "execute_result"
    }
   ],
   "source": [
    "m.add_constraints(\n",
    "    max_curtailment_ratio >= m[\"Generator-p\"].groupby(c.generators.bus).sum()/loads.stack().to_xarray(),\n",
    "    name=\"Bus-max_curtailment_ratio_constraint\"\n",
    ")"
   ]
  },
  {
   "cell_type": "code",
   "execution_count": 162,
   "metadata": {},
   "outputs": [
    {
     "data": {
      "text/plain": [
       "LinearExpression\n",
       "----------------\n",
       "+1 Bus-max_curtailment_ratio[2010-01-15 17:00:00] + 1 Bus-max_curtailment_ratio[2010-01-16 06:00:00] + 1 Bus-max_curtailment_ratio[2010-01-16 07:00:00] ... +1 Bus-max_curtailment_ratio[2010-11-09 21:00:00] + 1 Bus-max_curtailment_ratio[2010-11-09 22:00:00] + 1 Bus-max_curtailment_ratio[2010-11-09 23:00:00]"
      ]
     },
     "execution_count": 162,
     "metadata": {},
     "output_type": "execute_result"
    }
   ],
   "source": [
    "m.add_objective(\n",
    "    max_curtailment_ratio.sum(),\n",
    "    overwrite=True\n",
    ")"
   ]
  },
  {
   "cell_type": "code",
   "execution_count": 163,
   "metadata": {},
   "outputs": [
    {
     "name": "stderr",
     "output_type": "stream",
     "text": [
      "INFO:linopy.model: Solve problem using Cplex solver\n",
      "INFO:linopy.io:Writing objective.\n",
      "Writing constraints.: 100%|\u001b[38;2;128;191;255m█████████████████████████████████████████████████████████████████████████████████████████████████████████████\u001b[0m| 7/7 [00:00<00:00, 35.62it/s]\u001b[0m\n",
      "Writing continuous variables.: 100%|\u001b[38;2;128;191;255m████████████████████████████████████████████████████████████████████████████████████████████████████\u001b[0m| 3/3 [00:00<00:00, 85.15it/s]\u001b[0m\n",
      "INFO:linopy.io: Writing time: 0.24s\n"
     ]
    },
    {
     "name": "stdout",
     "output_type": "stream",
     "text": [
      "Checking license ...\n"
     ]
    },
    {
     "name": "stderr",
     "output_type": "stream",
     "text": [
      "cpxchecklic: /lib64/libcurl.so.4: no version information available (required by cpxchecklic)\n",
      "\n"
     ]
    },
    {
     "name": "stdout",
     "output_type": "stream",
     "text": [
      "License found. [0.04 s]\n",
      "Version identifier: 22.1.1.0 | 2022-11-26 | 9160aff4d\n",
      "CPXPARAM_Read_DataCheck                          1\n",
      "Parallel mode: deterministic, using up to 32 threads for concurrent optimization:\n",
      " * Starting dual Simplex on 1 thread...\n",
      " * Starting Barrier on 30 threads...\n",
      " * Starting primal Simplex on 1 thread...\n",
      "Row 'c32302' infeasible, all entries at implied bounds.\n",
      "Presolve time = 0.02 sec. (4.68 ticks)\n"
     ]
    },
    {
     "name": "stderr",
     "output_type": "stream",
     "text": [
      "WARNING:linopy.constants:Optimization failed: \n",
      "Status: warning\n",
      "Termination condition: infeasible\n",
      "Solution: 0 primals, 0 duals\n",
      "Objective: nan\n",
      "Solver model: available\n",
      "Solver message: infeasible\n",
      "\n"
     ]
    },
    {
     "data": {
      "text/plain": [
       "('warning', 'infeasible')"
      ]
     },
     "execution_count": 163,
     "metadata": {},
     "output_type": "execute_result"
    }
   ],
   "source": [
    "m.solve(solver_name=\"cplex\")"
   ]
  },
  {
   "cell_type": "code",
   "execution_count": 137,
   "metadata": {},
   "outputs": [
    {
     "data": {
      "text/plain": [
       "Generator\n",
       "AL00 load-shedding        0.000000\n",
       "AT00 load-shedding    14995.914453\n",
       "BA00 load-shedding        0.000000\n",
       "BE00 load-shedding    16262.045326\n",
       "BG00 load-shedding        0.000000\n",
       "CH00 load-shedding        0.000000\n",
       "CY00 load-shedding       32.914023\n",
       "CZ00 load-shedding        0.000000\n",
       "DE00 load-shedding        0.000000\n",
       "DEKF load-shedding        0.000000\n",
       "DKE1 load-shedding     2287.894143\n",
       "DKKF load-shedding      179.917393\n",
       "DKW1 load-shedding        0.000000\n",
       "EE00 load-shedding     3805.739298\n",
       "ES00 load-shedding        0.000000\n",
       "FI00 load-shedding     5956.583828\n",
       "FR00 load-shedding    13689.039392\n",
       "GR00 load-shedding        0.000000\n",
       "GR03 load-shedding        0.000000\n",
       "HR00 load-shedding        0.000000\n",
       "HU00 load-shedding        0.000000\n",
       "IE00 load-shedding    11066.889783\n",
       "ITCA load-shedding        0.000000\n",
       "ITCN load-shedding        0.000000\n",
       "ITCS load-shedding        0.000000\n",
       "ITN1 load-shedding        0.000000\n",
       "ITS1 load-shedding        0.000000\n",
       "ITSA load-shedding        0.000000\n",
       "ITSI load-shedding        0.000000\n",
       "LT00 load-shedding     2651.595090\n",
       "LUG1 load-shedding        0.000000\n",
       "LV00 load-shedding     3758.490422\n",
       "ME00 load-shedding        0.000000\n",
       "MK00 load-shedding        0.000000\n",
       "MT00 load-shedding        0.000000\n",
       "NL00 load-shedding        0.000000\n",
       "NOM1 load-shedding     7241.722847\n",
       "NON1 load-shedding     4936.452148\n",
       "NOS0 load-shedding     4050.194473\n",
       "PL00 load-shedding        0.000000\n",
       "PLE0 load-shedding        0.000000\n",
       "PLI0 load-shedding        0.000000\n",
       "PT00 load-shedding     8745.447901\n",
       "RO00 load-shedding      372.139090\n",
       "RS00 load-shedding        0.000000\n",
       "SE01 load-shedding     3544.347165\n",
       "SE02 load-shedding        0.000000\n",
       "SE03 load-shedding        0.000000\n",
       "SE04 load-shedding     3958.141784\n",
       "SI00 load-shedding        0.000000\n",
       "SK00 load-shedding        0.000000\n",
       "UK00 load-shedding     1841.980706\n",
       "UKNI load-shedding     2271.595496\n",
       "dtype: float64"
      ]
     },
     "execution_count": 137,
     "metadata": {},
     "output_type": "execute_result"
    }
   ],
   "source": [
    "n.generators_t.p[load_shedding.index].sum()"
   ]
  },
  {
   "cell_type": "code",
   "execution_count": 135,
   "metadata": {},
   "outputs": [
    {
     "data": {
      "text/plain": [
       "Generator\n",
       "AL00 load-shedding     2835.0\n",
       "AT00 load-shedding     1057.0\n",
       "BA00 load-shedding        0.0\n",
       "BE00 load-shedding     3781.0\n",
       "BG00 load-shedding      999.0\n",
       "CH00 load-shedding        0.0\n",
       "CY00 load-shedding       33.0\n",
       "CZ00 load-shedding        0.0\n",
       "DE00 load-shedding        0.0\n",
       "DEKF load-shedding        0.0\n",
       "DKE1 load-shedding      368.0\n",
       "DKKF load-shedding        0.0\n",
       "DKW1 load-shedding      210.0\n",
       "EE00 load-shedding     5770.0\n",
       "ES00 load-shedding        0.0\n",
       "FI00 load-shedding     2061.0\n",
       "FR00 load-shedding    27580.0\n",
       "GR00 load-shedding        0.0\n",
       "GR03 load-shedding        0.0\n",
       "HR00 load-shedding      684.0\n",
       "HU00 load-shedding     1740.0\n",
       "IE00 load-shedding     3377.0\n",
       "ITCA load-shedding       -0.0\n",
       "ITCN load-shedding        0.0\n",
       "ITCS load-shedding        0.0\n",
       "ITN1 load-shedding        0.0\n",
       "ITS1 load-shedding        0.0\n",
       "ITSA load-shedding        0.0\n",
       "ITSI load-shedding        0.0\n",
       "LT00 load-shedding      527.0\n",
       "LUG1 load-shedding        0.0\n",
       "LV00 load-shedding        0.0\n",
       "ME00 load-shedding        0.0\n",
       "MK00 load-shedding     3144.0\n",
       "MT00 load-shedding        0.0\n",
       "NL00 load-shedding        0.0\n",
       "NOM1 load-shedding     3128.0\n",
       "NON1 load-shedding     8611.0\n",
       "NOS0 load-shedding     9911.0\n",
       "PL00 load-shedding        0.0\n",
       "PLE0 load-shedding        0.0\n",
       "PLI0 load-shedding        0.0\n",
       "PT00 load-shedding     8745.0\n",
       "RO00 load-shedding        0.0\n",
       "RS00 load-shedding        0.0\n",
       "SE01 load-shedding        0.0\n",
       "SE02 load-shedding        0.0\n",
       "SE03 load-shedding     4764.0\n",
       "SE04 load-shedding    11755.0\n",
       "SI00 load-shedding      175.0\n",
       "SK00 load-shedding        0.0\n",
       "UK00 load-shedding     6816.0\n",
       "UKNI load-shedding     3577.0\n",
       "dtype: float64"
      ]
     },
     "execution_count": 135,
     "metadata": {},
     "output_type": "execute_result"
    }
   ],
   "source": [
    "c.generators_t.p.sum().round(0)"
   ]
  },
  {
   "cell_type": "code",
   "execution_count": null,
   "metadata": {},
   "outputs": [],
   "source": []
  }
 ],
 "metadata": {
  "kernelspec": {
   "display_name": "pypsa-training",
   "language": "python",
   "name": "pypsa-training"
  },
  "language_info": {
   "codemirror_mode": {
    "name": "ipython",
    "version": 3
   },
   "file_extension": ".py",
   "mimetype": "text/x-python",
   "name": "python",
   "nbconvert_exporter": "python",
   "pygments_lexer": "ipython3",
   "version": "3.10.13"
  }
 },
 "nbformat": 4,
 "nbformat_minor": 4
}
