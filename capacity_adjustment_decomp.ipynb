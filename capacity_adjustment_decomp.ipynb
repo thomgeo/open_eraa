{
 "cells": [
  {
   "cell_type": "code",
   "execution_count": 1,
   "metadata": {},
   "outputs": [],
   "source": [
    "import pandas as pd\n",
    "import glob\n",
    "import numpy as np\n",
    "import os"
   ]
  },
  {
   "cell_type": "code",
   "execution_count": 2,
   "metadata": {},
   "outputs": [],
   "source": [
    "def profits_new_plants(average_expected_revenue):\n",
    "    \n",
    "    revenue_lifetime_new = pd.Series(index = average_expected_revenue.filter(like=\"new\").columns)\n",
    "\n",
    "    lifetime_new = costs.loc[:, \"lifetime\", :].reindex([i.split(\" \")[1] for i in revenue_lifetime_new.index]).value\n",
    "    lifetime_new.index = revenue_lifetime_new.index\n",
    "\n",
    "    for plant in revenue_lifetime_new.index:\n",
    "\n",
    "        tech = initial_capacity_table.loc[plant, \"carrier\"].iloc[0]\n",
    "        entry = initial_capacity_table.loc[plant, \"entry\"].iloc[0]\n",
    "\n",
    "        initial_capacity_table.loc[plant]\n",
    "\n",
    "        lifetime = lifetime_new.loc[plant]\n",
    "\n",
    "        revenue_horizon = average_expected_revenue[plant].loc[entry: min(end_year, entry+lifetime)].sum()\n",
    "        revenue_beyond = average_expected_revenue.loc[end_year,plant]*max(lifetime - (end_year - entry), 0)\n",
    "        revenue_lifetime_new.loc[plant] = revenue_horizon + revenue_beyond\n",
    "\n",
    "    invest_cost_new = costs.loc[:, \"investment\", :].reindex([i.split(\" \")[1] for i in revenue_lifetime_new.index]).value.multiply(1e3) #converstion to EUR/MW\n",
    "    invest_cost_new.index = revenue_lifetime_new.index\n",
    "\n",
    "\n",
    "\n",
    "\n",
    "    fixed_om_new = (\n",
    "        costs.loc[:, \"FOM\", :]\n",
    "        .reindex([i.split(\" \")[1] for i in revenue_lifetime_new.index])\n",
    "        .value\n",
    "        .multiply(\n",
    "            costs.loc[:, \"investment\", :]\n",
    "            .reindex([i.split(\" \")[1] for i in revenue_lifetime_new.index])\n",
    "            .value\n",
    "            .multiply(1e3)\n",
    "        )\n",
    "    )\n",
    "\n",
    "    fixed_om_new.index = revenue_lifetime_new.index\n",
    "\n",
    "    total_fixed_new = invest_cost_new + fixed_om_new.multiply(lifetime_new)\n",
    "\n",
    "    return revenue_lifetime_new.subtract(total_fixed_new)"
   ]
  },
  {
   "cell_type": "code",
   "execution_count": 3,
   "metadata": {},
   "outputs": [],
   "source": [
    "def profits_existing_plants(average_expected_revenue):\n",
    "    \n",
    "\n",
    "    revenue_lifetime_existing = pd.DataFrame(\n",
    "        index = average_expected_revenue.index, \n",
    "        columns = [i for i in average_expected_revenue if \"new\" not in i]\n",
    "    )\n",
    "\n",
    "    relative_fixed_om = costs.loc[:, \"FOM\", :].reindex([i.split(\" \")[1] for i in revenue_lifetime_existing]).value\n",
    "\n",
    "    relative_fixed_om.index = revenue_lifetime_existing.columns\n",
    "\n",
    "    invest_cost = (\n",
    "        costs.loc[:, \"investment\", :]\n",
    "        .reindex([i.split(\" \")[1] for i in revenue_lifetime_existing])\n",
    "        .value\n",
    "        .multiply(1e3) #converstion to EUR/MW\n",
    "    ) \n",
    "\n",
    "    invest_cost.index = revenue_lifetime_existing.columns\n",
    "    total_fixed_om = relative_fixed_om.multiply(invest_cost).divide(100) # O&M given in %\n",
    "    \n",
    "\n",
    "    total_fixed = pd.DataFrame(\n",
    "            index = average_expected_revenue.index, \n",
    "            columns = [i for i in average_expected_revenue if \"new\" not in i]\n",
    "        )\n",
    "\n",
    "    for plant in revenue_lifetime_existing.columns:\n",
    "        \n",
    "        tech = initial_capacity_table.loc[plant, \"carrier\"].unique()[0]\n",
    "\n",
    "        entry = int(initial_capacity_table.loc[plant, \"entry\"].unique()[0])\n",
    "        exit = int(initial_capacity_table.loc[plant, \"exit\"].unique()[0])\n",
    "\n",
    "        for year in range(max(start_year, entry), min(exit, end_year+1)):\n",
    "            revenue_lifetime_existing.loc[year, plant] = average_expected_revenue.loc[start_year:year, plant].fillna(0).sum()\n",
    "            total_fixed.loc[year, plant] = (year + 1 - entry)*total_fixed_om.loc[plant]\n",
    "\n",
    "    revenue_lifetime_existing = revenue_lifetime_existing.astype(float)\n",
    "    total_fixed = total_fixed.astype(float)\n",
    "\n",
    "    return revenue_lifetime_existing.subtract(total_fixed)\n",
    "        "
   ]
  },
  {
   "cell_type": "code",
   "execution_count": 4,
   "metadata": {},
   "outputs": [],
   "source": [
    "adjustment_factor = 0.001"
   ]
  },
  {
   "cell_type": "code",
   "execution_count": 5,
   "metadata": {},
   "outputs": [],
   "source": [
    "offset = 0.1"
   ]
  },
  {
   "cell_type": "code",
   "execution_count": 6,
   "metadata": {},
   "outputs": [],
   "source": [
    "demand = pd.read_hdf(\"resources/demand.h5\")"
   ]
  },
  {
   "cell_type": "code",
   "execution_count": 7,
   "metadata": {},
   "outputs": [],
   "source": [
    "revenue_files = glob.glob(\"results/revenues/0/*\")"
   ]
  },
  {
   "cell_type": "code",
   "execution_count": 8,
   "metadata": {},
   "outputs": [],
   "source": [
    "initial_capacity_table = pd.read_csv(\"resources/capacity_tables/0.csv\", index_col=[0,1])"
   ]
  },
  {
   "cell_type": "code",
   "execution_count": 9,
   "metadata": {},
   "outputs": [],
   "source": [
    "iteration = 1"
   ]
  },
  {
   "cell_type": "code",
   "execution_count": 10,
   "metadata": {},
   "outputs": [],
   "source": [
    "capacity_change = pd.read_csv(\"data/capacity_adjustement_size.csv\", index_col=0, sep=\",\").loc[iteration, \"capacity_change\"]"
   ]
  },
  {
   "cell_type": "code",
   "execution_count": 11,
   "metadata": {},
   "outputs": [],
   "source": [
    "revenues = []\n",
    "climate_years = []\n",
    "target_years = []"
   ]
  },
  {
   "cell_type": "code",
   "execution_count": 12,
   "metadata": {},
   "outputs": [],
   "source": [
    "for file in revenue_files:\n",
    "    revenues.append(pd.read_hdf(file))\n",
    "\n",
    "    climate_years.append(int(file.split(\"cy\")[1][:4]))\n",
    "    target_years.append(int(file.split(\"ty\")[1][:4]))"
   ]
  },
  {
   "cell_type": "code",
   "execution_count": 13,
   "metadata": {},
   "outputs": [],
   "source": [
    "revenues = pd.concat(revenues,axis=1).T"
   ]
  },
  {
   "cell_type": "code",
   "execution_count": 14,
   "metadata": {},
   "outputs": [],
   "source": [
    "revenues.index = pd.MultiIndex.from_arrays([climate_years, target_years])"
   ]
  },
  {
   "cell_type": "code",
   "execution_count": null,
   "metadata": {},
   "outputs": [],
   "source": []
  },
  {
   "cell_type": "code",
   "execution_count": 15,
   "metadata": {},
   "outputs": [],
   "source": [
    "costs = pd.read_csv(\"../technology-data/outputs/costs_2025.csv\", index_col=[0,1])"
   ]
  },
  {
   "cell_type": "code",
   "execution_count": 16,
   "metadata": {},
   "outputs": [],
   "source": [
    "eva_technologies = ['CCGT', 'OCGT', 'oil', 'biomass', 'lignite', 'coal']"
   ]
  },
  {
   "cell_type": "code",
   "execution_count": 17,
   "metadata": {},
   "outputs": [],
   "source": [
    "costs = costs.reindex(eva_technologies, level=0)"
   ]
  },
  {
   "cell_type": "code",
   "execution_count": 18,
   "metadata": {},
   "outputs": [],
   "source": [
    "average_expected_revenue = revenues.groupby(level=1).mean()"
   ]
  },
  {
   "cell_type": "code",
   "execution_count": 19,
   "metadata": {},
   "outputs": [],
   "source": [
    "average_expected_revenue = average_expected_revenue[[i for i in average_expected_revenue.columns if i.split(\" \")[1] in eva_technologies]]"
   ]
  },
  {
   "cell_type": "code",
   "execution_count": 20,
   "metadata": {},
   "outputs": [],
   "source": [
    "average_expected_revenue = average_expected_revenue.div(initial_capacity_table.p_nom.unstack(0)[average_expected_revenue.columns])"
   ]
  },
  {
   "cell_type": "code",
   "execution_count": 21,
   "metadata": {},
   "outputs": [],
   "source": [
    "start_year = revenues.index.levels[1][0]\n",
    "end_year = revenues.index.levels[1][-1]"
   ]
  },
  {
   "cell_type": "code",
   "execution_count": null,
   "metadata": {},
   "outputs": [],
   "source": []
  },
  {
   "cell_type": "code",
   "execution_count": null,
   "metadata": {},
   "outputs": [],
   "source": [
    "profits_new = profits_new_plants(average_expected_revenue)\n",
    "profits_existing = profits_existing_plants(average_expected_revenue)\n",
    "\n",
    "capacity_adjustment_new = profits_new*adjustment_factor\n",
    "capacity_adjustment_existing = profits_existing*adjustment_factor\n",
    "\n",
    "p_nom_initial = initial_capacity_table.p_nom.unstack(0)\n",
    "p_nom_min = initial_capacity_table.p_nom_min.unstack(0)\n",
    "p_nom_max = initial_capacity_table.p_nom_max.unstack(0)"
   ]
  },
  {
   "cell_type": "raw",
   "metadata": {},
   "source": [
    "initial_capacity_changes = initial_capacity_table.p_nom.unstack(0).subtract(\n",
    "    initial_capacity_table.loc[:, start_year, :].p_nom\n",
    ")"
   ]
  },
  {
   "cell_type": "code",
   "execution_count": 29,
   "metadata": {},
   "outputs": [],
   "source": [
    "next_capacities_new = pd.concat(\n",
    "    [\n",
    "        p_nom_initial[capacity_adjustment_new.index].add(capacity_adjustment_new).unstack(),\n",
    "        p_nom_min[capacity_adjustment_new.index].unstack()\n",
    "    ],\n",
    "    axis=1\n",
    ").max(axis=1).dropna()"
   ]
  },
  {
   "cell_type": "code",
   "execution_count": 30,
   "metadata": {},
   "outputs": [],
   "source": [
    "capacity_adjustment_existing = (\n",
    "    capacity_adjustment_existing\n",
    "    .reindex(capacity_adjustment_existing.index[::-1])\n",
    "    .cummax()\n",
    "    .sort_index()\n",
    ")"
   ]
  },
  {
   "cell_type": "code",
   "execution_count": 31,
   "metadata": {},
   "outputs": [],
   "source": [
    "next_capacities_existing = pd.concat(\n",
    "    [\n",
    "        p_nom_initial[capacity_adjustment_existing.columns].add(capacity_adjustment_existing).unstack(),\n",
    "        p_nom_max[capacity_adjustment_existing.columns].unstack()\n",
    "    ],\n",
    "    axis=1\n",
    ").min(axis=1)"
   ]
  },
  {
   "cell_type": "code",
   "execution_count": 32,
   "metadata": {},
   "outputs": [],
   "source": [
    "next_capacities_existing = pd.concat(\n",
    "    [\n",
    "        next_capacities_existing,\n",
    "        p_nom_min[capacity_adjustment_existing.columns].unstack(),\n",
    "    ],\n",
    "    axis=1\n",
    ").max(axis=1)"
   ]
  },
  {
   "cell_type": "code",
   "execution_count": 33,
   "metadata": {},
   "outputs": [],
   "source": [
    "next_capacity_table = initial_capacity_table.copy()"
   ]
  },
  {
   "cell_type": "code",
   "execution_count": 34,
   "metadata": {},
   "outputs": [],
   "source": [
    "next_capacities_existing.dropna(inplace=True)"
   ]
  },
  {
   "cell_type": "code",
   "execution_count": 35,
   "metadata": {},
   "outputs": [],
   "source": [
    "next_capacities_new.dropna(inplace=True)"
   ]
  },
  {
   "cell_type": "code",
   "execution_count": 36,
   "metadata": {},
   "outputs": [],
   "source": [
    "next_capacity_table.loc[next_capacities_existing.index, \"p_nom\"] = next_capacities_existing"
   ]
  },
  {
   "cell_type": "code",
   "execution_count": 37,
   "metadata": {},
   "outputs": [],
   "source": [
    "next_capacity_table.loc[next_capacities_new.index, \"p_nom\"] = next_capacities_new"
   ]
  },
  {
   "cell_type": "raw",
   "metadata": {},
   "source": [
    "next_capacity_table.to_csv(\"resources/capacity_tables/1.csv\")"
   ]
  },
  {
   "cell_type": "code",
   "execution_count": 38,
   "metadata": {},
   "outputs": [],
   "source": [
    "save_path_rr_exist = \"results/revenue_ratios/1_existing.csv\"\n",
    "save_path_rr_new = \"results/revenue_ratios/1_new.csv\""
   ]
  },
  {
   "cell_type": "code",
   "execution_count": 39,
   "metadata": {},
   "outputs": [],
   "source": [
    "os.makedirs(os.path.dirname(save_path_rr_exist), exist_ok=True)"
   ]
  },
  {
   "cell_type": "code",
   "execution_count": 40,
   "metadata": {},
   "outputs": [],
   "source": [
    "profits_existing.to_csv(save_path_rr_exist)\n",
    "profits_new.to_frame().to_csv(save_path_rr_new)"
   ]
  },
  {
   "cell_type": "code",
   "execution_count": null,
   "metadata": {},
   "outputs": [],
   "source": []
  }
 ],
 "metadata": {
  "kernelspec": {
   "display_name": "pypsa-training",
   "language": "python",
   "name": "pypsa-training"
  },
  "language_info": {
   "codemirror_mode": {
    "name": "ipython",
    "version": 3
   },
   "file_extension": ".py",
   "mimetype": "text/x-python",
   "name": "python",
   "nbconvert_exporter": "python",
   "pygments_lexer": "ipython3",
   "version": "3.10.13"
  }
 },
 "nbformat": 4,
 "nbformat_minor": 4
}
