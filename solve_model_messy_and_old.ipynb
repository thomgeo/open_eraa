{
 "cells": [
  {
   "cell_type": "code",
   "execution_count": 1,
   "metadata": {},
   "outputs": [],
   "source": [
    "import pandas as pd\n",
    "import pypsa\n",
    "from scripts.__helpers import replace_su, average_every_nhours\n",
    "import numpy as np\n",
    "import os\n",
    "import math"
   ]
  },
  {
   "cell_type": "code",
   "execution_count": 2,
   "metadata": {},
   "outputs": [],
   "source": [
    "from pypsa.descriptors import get_switchable_as_dense as as_dense"
   ]
  },
  {
   "cell_type": "code",
   "execution_count": 3,
   "metadata": {},
   "outputs": [],
   "source": [
    "def solve_rolling_horizon(m, o, time_aggregation, horizon):\n",
    "    \n",
    "    o.storage_units.cyclic_state_of_charge=False\n",
    "    o.stores.e_cyclic=False\n",
    "\n",
    "    o.stores_t.e_min_pu = (\n",
    "        (m.stores_t.e/m.stores.e_nom)\n",
    "        .shift(1)\n",
    "        .resample(time_aggregation).asfreq()\n",
    "        .shift(-1)\n",
    "        .fillna(0)\n",
    "    ).clip(upper=.999).reindex(o.snapshots).fillna(0)\n",
    "\n",
    "    o.stores.e_initial = m.stores_t.e.iloc[-1]\n",
    "    \n",
    "    for i in range(len(o.snapshots)//horizon):\n",
    "\n",
    "        start= i* horizon\n",
    "        end = min((i+1)*horizon, len(o.snapshots))\n",
    "        \n",
    "        print(\"optimizing time period between \" + str(o.snapshots[start]) + \" and \" + str(o.snapshots[end-1]))\n",
    "        \n",
    "        snapshots = o.snapshots[start:end]\n",
    "              \n",
    "        o.optimize(solver_name=solver_name,\n",
    "                   snapshots = snapshots,\n",
    "                   assign_all_duals=True,\n",
    "                   extra_functionality=balancing_market,\n",
    "                   linearized_unit_commitment = True\n",
    "              )\n",
    "        \n",
    "        \n",
    "        o.stores.e_initial = o.stores_t.e.loc[snapshots].iloc[-1]"
   ]
  },
  {
   "cell_type": "raw",
   "metadata": {},
   "source": [
    "def reserves_unit_commitment(n, snapshots):\n",
    "\n",
    "    m = n.model\n",
    "    \n",
    "    reserve_gens = n.generators.loc[n.generators.bus.map(n.buses.carrier) == \"electricity\"]\n",
    "\n",
    "    reserve_gens = reserve_gens.query(\"carrier in @reserve_participation_generators\")\n",
    "\n",
    "\n",
    "\n",
    "    coord_reserve_gens = reserve_gens.index\n",
    "\n",
    "    coord_reserve_gens.name = \"Generator-com\"\n",
    "    \n",
    "    gen_r = m.add_variables(lower=0, name=\"Generator-r\", coords = [snapshots, coord_reserve_gens])\n",
    "\n",
    "    lhs = m.constraints[\"Generator-com-p-upper\"].lhs\n",
    "    rhs = m.constraints[\"Generator-com-p-upper\"].rhs\n",
    "    lhs += gen_r\n",
    "    m.remove_constraints(\"Generator-com-p-upper\")\n",
    "    m.add_constraints( lhs <= rhs, name=\"Generator-com-p-upper\")\n",
    "\n",
    "    gen_status = m[\"Generator-status\"]\n",
    "    \n",
    "    reserve_gen_status = gen_status.loc[:, reserve_gens.index]\n",
    "\n",
    "    m.add_constraints(\n",
    "        gen_r <= reserve_gen_status*(reserve_gens.ramp_limit_up.multiply(delivery_time_reserves).multiply(reserve_gens.p_nom)),\n",
    "        name=\"Generator-ramp_upper\"\n",
    "    )\n",
    "\n",
    "    res_shedding = m.add_variables(\n",
    "        lower=0, \n",
    "        name=\"Bus-reserve_shedding\", \n",
    "        coords=[snapshots, n.buses.query(\"carrier == 'electricity'\").index]\n",
    "    )\n",
    "\n",
    "    storage = n.links.loc[n.links.type == \"discharging\"]\n",
    "\n",
    "    storage_link_r = m.add_variables(lower = 0, name=\"Link-r\", coords = m[\"Link-p\"].loc[:, storage.index].coords)\n",
    "\n",
    "    link_p = m[\"Link-p\"]\n",
    "\n",
    "    m.add_constraints(\n",
    "        link_p.loc[:, storage.index] + storage_link_r <= n.links.p_nom.to_xarray(),\n",
    "        name = \"Link-capacity_upper\"\n",
    "    );\n",
    "\n",
    "    store_e = m[\"Store-e\"]\n",
    "\n",
    "    store_link_map = n.stores.set_index(\"bus\",append=True).reset_index(\"Store\").reindex(storage.bus0)[\"Store\"]\n",
    "\n",
    "    store_link_map.index = storage.index\n",
    "\n",
    "    store_link_map.index.name = \"Link\"\n",
    "\n",
    "    store_link_map.name=\"group\"\n",
    "\n",
    "    m.add_constraints(\n",
    "        storage_link_r.groupby(store_link_map.to_xarray()).sum() <= store_e,\n",
    "        name=\"Link-reserve_reservoir_constraint\"\n",
    "    )\n",
    "\n",
    "    reserve_requirements.index.name=\"Bus\"\n",
    "\n",
    "    gen_grouper = reserve_gens.bus\n",
    "    gen_grouper.name = \"Bus\"\n",
    "\n",
    "    storage_grouper = storage.bus1\n",
    "    storage_grouper.name = \"Bus\"\n",
    "\n",
    "    m.add_constraints(\n",
    "        gen_r.groupby(gen_grouper.to_xarray()).sum() \n",
    "        + storage_link_r.groupby(storage_grouper.to_xarray()).sum()\n",
    "        + res_shedding\n",
    "        >= reserve_requirements.reindex(n.buses.query(\"carrier == 'electricity'\").index).dropna().to_xarray(),\n",
    "        name=\"Bus-reserve_balance\"\n",
    "    )\n",
    "\n",
    "    obj = m.objective\n",
    "\n",
    "    m.add_objective(obj + res_shedding.sum()*1e5, overwrite=True)"
   ]
  },
  {
   "cell_type": "raw",
   "metadata": {},
   "source": [
    "def reserve_constraint(n, snapshots):    \n",
    "    m = n.model\n",
    "\n",
    "    reserve_gens = n.generators.loc[n.generators.bus.map(n.buses.carrier) == \"electricity\"]\n",
    "\n",
    "    reserve_gens = reserve_gens.query(\"carrier in @reserve_participation_generators\")\n",
    "    \n",
    "    gen_r = m.add_variables(lower=0, name=\"Generator-r\", coords = m[\"Generator-p\"].loc[:, reserve_gens.index].coords)\n",
    "\n",
    "    gen_p = m[\"Generator-p\"]\n",
    "\n",
    "    p_max = as_dense(n, \"Generator\", \"p_max_pu\").multiply(n.generators.p_nom).stack().loc[snapshots, reserve_gens.index]\n",
    "    \n",
    "    m.add_constraints(\n",
    "        gen_p.loc[:, reserve_gens.index] + gen_r <= p_max.to_xarray(),\n",
    "        name=\"Generator-capacity_upper\"\n",
    "    );\n",
    "    \n",
    "    m.add_constraints(\n",
    "        gen_r <=(reserve_gens.ramp_limit_up.multiply(delivery_time_reserves).multiply(reserve_gens.p_nom)),\n",
    "        name=\"Generator-ramp_upper\"\n",
    "    )\n",
    "\n",
    "    res_shedding = m.add_variables(\n",
    "        lower=0, \n",
    "        name=\"Bus-reserve_shedding\", \n",
    "        coords=[snapshots, n.buses.query(\"carrier == 'electricity'\").index]\n",
    "    )\n",
    "\n",
    "    storage = n.links.loc[n.links.type == \"discharging\"]\n",
    "\n",
    "    storage_link_r = m.add_variables(lower = 0, name=\"Link-r\", coords = m[\"Link-p\"].loc[:, storage.index].coords)\n",
    "\n",
    "    link_p = m[\"Link-p\"]\n",
    "\n",
    "    m.add_constraints(\n",
    "        link_p.loc[:, storage.index] + storage_link_r <= n.links.p_nom.to_xarray(),\n",
    "        name = \"Link-capacity_upper\"\n",
    "    );\n",
    "    \n",
    "    m.add_constraints(\n",
    "        link_p.loc[:, storage.index] + storage_link_r <= n.links.p_nom.to_xarray(),\n",
    "        name = \"Link-capacity_upper\"\n",
    "    );\n",
    "\n",
    "    reserve_requirements.index.name=\"Bus\"\n",
    "\n",
    "    gen_grouper = reserve_gens.bus\n",
    "    gen_grouper.name = \"Bus\"\n",
    "\n",
    "    storage_grouper = storage.bus1\n",
    "    storage_grouper.name = \"Bus\"\n",
    "\n",
    "    m.add_constraints(\n",
    "        gen_r.groupby(gen_grouper.to_xarray()).sum() \n",
    "        + storage_link_r.groupby(storage_grouper.to_xarray()).sum()\n",
    "        + res_shedding\n",
    "        >= reserve_requirements.loc[n.buses.query(\"carrier == 'electricity'\").index].to_xarray(),\n",
    "        name=\"Bus-reserve_balance\"\n",
    "    )\n",
    "\n",
    "    obj = m.objective\n",
    "\n",
    "    m.add_objective(obj + res_shedding.sum()*1e5, overwrite=True)"
   ]
  },
  {
   "cell_type": "code",
   "execution_count": 4,
   "metadata": {},
   "outputs": [],
   "source": [
    "def set_storage_bounds():\n",
    "\n",
    "    n.storage_units.cyclic_state_of_charge=False\n",
    "    n.stores.e_cyclic=False\n",
    "\n",
    "    n.stores_t.e_min_pu = (\n",
    "        (m.stores_t.e/m.stores.e_nom)\n",
    "        .shift(1)\n",
    "        .resample(\"h\").asfreq()\n",
    "        .shift(-1)\n",
    "        .fillna(0)\n",
    "    ).clip(upper=.999).reindex(n.snapshots).fillna(0)\n",
    "\n",
    "    n.stores.e_initial = m.stores_t.e.iloc[-1]"
   ]
  },
  {
   "cell_type": "code",
   "execution_count": 5,
   "metadata": {},
   "outputs": [],
   "source": [
    "def get_ordc_integral(excess_reserve, mean, std):\n",
    "    \n",
    "    return (\n",
    "        -0.5*excess_reserve \n",
    "        + 0.5*(\n",
    "            (excess_reserve - mean)*math.erf((excess_reserve-mean)/(std*math.sqrt(2)))\n",
    "            + math.sqrt(2)*std*math.exp(-(excess_reserve-mean)**2/(2*std**2))/math.sqrt(math.pi)\n",
    "        )\n",
    "    )"
   ]
  },
  {
   "cell_type": "code",
   "execution_count": 6,
   "metadata": {},
   "outputs": [],
   "source": [
    "def determine_cutoff(zone):\n",
    "    cost_function = pd.Series([get_ordc_integral(i, **ordc_parameters.loc[zone]) for i in range(0,40000,10)], \n",
    "                              index = range(0,40000,10))\n",
    "\n",
    "    return cost_function.diff()[cost_function.diff()/pd.Series(cost_function.index).diff().median()<=-0.00001].index[-1]"
   ]
  },
  {
   "cell_type": "code",
   "execution_count": 7,
   "metadata": {},
   "outputs": [],
   "source": [
    "def get_break_points(n_ints, zone, cut_off):\n",
    "    \n",
    "    break_points = pd.DataFrame(index=range(n_ints+1))\n",
    "    break_points[\"cap_break_points\"] = list(np.arange(0, cut_off[zone], cut_off[zone]/n_ints)) + [2*cut_off[zone]]\n",
    "    break_points[\"welfare_break_points\"] = [get_ordc_integral(i, **ordc_parameters.loc[zone]) for i in break_points.cap_break_points]\n",
    "    break_points.set_index(pd.Series(zone,index=break_points.index), inplace=True,append=True)\n",
    "    break_points = break_points.reorder_levels([1,0])\n",
    "    \n",
    "    return break_points"
   ]
  },
  {
   "cell_type": "code",
   "execution_count": 8,
   "metadata": {},
   "outputs": [],
   "source": [
    "def get_linear_function(p, q):\n",
    "    m = (p[1] - q[1])/(p[0] - q[0])\n",
    "    b = (p[0]*q[1] - p[1]*q[0])/(p[0] - q[0])\n",
    "    return m, b"
   ]
  },
  {
   "cell_type": "code",
   "execution_count": 9,
   "metadata": {},
   "outputs": [],
   "source": [
    "def get_line_parameters(ordc_parameters, n_ints):\n",
    "    cut_off = pd.Series(index=ordc_parameters.index, data=[determine_cutoff(i) for i in ordc_parameters.index])\n",
    "\n",
    "    break_points = pd.DataFrame()\n",
    "    for zone in ordc_parameters.index:\n",
    "\n",
    "        break_points = pd.concat([break_points, get_break_points(n_ints, zone, cut_off)])\n",
    "\n",
    "    line_parameters = pd.DataFrame()\n",
    "    for zone in ordc_parameters.index:\n",
    "        j = 0    \n",
    "        for i in break_points.loc[zone].index[:-1]:\n",
    "            m, b = get_linear_function(break_points.loc[zone, i], break_points.loc[zone, i+1])\n",
    "            line_parameters = pd.concat([line_parameters, pd.Series(index=[\"a\", \"b\"], data=[m, b], name=(zone, j))],axis=1)\n",
    "            j+=1\n",
    "\n",
    "    return line_parameters.T.set_index((i for i in line_parameters.columns))"
   ]
  },
  {
   "cell_type": "code",
   "execution_count": 40,
   "metadata": {},
   "outputs": [
    {
     "data": {
      "text/plain": [
       "Index(['AL00', 'AT00', 'BA00', 'BE00', 'BEOF', 'BG00', 'CH00', 'CY00', 'CZ00',\n",
       "       'DE00', 'DEKF', 'DKBH', 'DKE1', 'DKKF', 'DKNS', 'DKW1', 'EE00', 'ES00',\n",
       "       'FI00', 'FR00', 'GR00', 'GR03', 'HR00', 'HU00', 'IE00', 'ITCA', 'ITCN',\n",
       "       'ITCS', 'ITN1', 'ITS1', 'ITSA', 'ITSI', 'LT00', 'LUB1', 'LUF1', 'LUG1',\n",
       "       'LUV1', 'LV00', 'ME00', 'MK00', 'MT00', 'NL00', 'NLLL', 'NOM1', 'NON1',\n",
       "       'NOS0', 'PL00', 'PT00', 'RO00', 'RS00', 'SE01', 'SE02', 'SE03', 'SE04',\n",
       "       'SI00', 'SK00', 'UK00', 'UKNI'],\n",
       "      dtype='object', name='Bus')"
      ]
     },
     "execution_count": 40,
     "metadata": {},
     "output_type": "execute_result"
    }
   ],
   "source": []
  },
  {
   "cell_type": "code",
   "execution_count": 41,
   "metadata": {},
   "outputs": [],
   "source": [
    "def balancing_market(n, snapshots):\n",
    "    \n",
    "    m = n.model\n",
    "\n",
    "    reserve_gens = n.generators.loc[n.generators.bus.map(n.buses.carrier) == \"electricity\"]\n",
    "    reserve_gens = reserve_gens.query(\"carrier in @reserve_participation_generators\")\n",
    "\n",
    "    coord_reserve_gens = reserve_gens.index\n",
    "    coord_reserve_gens.name = \"Generator-fix\"\n",
    "\n",
    "    gen_r = m.add_variables(lower=0, name=\"Generator-r\", coords = [snapshots, coord_reserve_gens])\n",
    "\n",
    "    lhs = m.constraints[\"Generator-fix-p-upper\"].lhs\n",
    "    rhs = m.constraints[\"Generator-fix-p-upper\"].rhs\n",
    "    m.remove_constraints(\"Generator-fix-p-upper\")\n",
    "    m.add_constraints(lhs + gen_r <= rhs, name= \"Generator-fix-p-upper\")\n",
    "\n",
    "    committable = reserve_gens.query(\"committable == True\").copy()\n",
    "\n",
    "    committable_grouper = pd.Series(committable.index, committable.index)\n",
    "    committable_grouper.name=\"Generator-com\"\n",
    "\n",
    "    lhs = m.constraints[\"Generator-com-p-upper\"].lhs\n",
    "    rhs = m.constraints[\"Generator-com-p-upper\"].rhs\n",
    "\n",
    "    lhs += gen_r.loc[:, committable.index].groupby(committable_grouper).sum()\n",
    "    m.remove_constraints(\"Generator-com-p-upper\")\n",
    "    m.add_constraints( lhs <= rhs, name=\"Generator-com-p-upper\")\n",
    "\n",
    "    gen_status = m[\"Generator-status\"]\n",
    "\n",
    "    reserve_gen_status = gen_status.loc[:, committable.index]\n",
    "\n",
    "    m.add_constraints(\n",
    "        gen_r.loc[:, committable.index].groupby(committable_grouper).sum()\n",
    "        <= (\n",
    "            reserve_gen_status*\n",
    "            (\n",
    "                committable.groupby(committable_grouper).ramp_limit_up.sum()\n",
    "                .multiply(delivery_time_reserves)\n",
    "                .multiply(committable.groupby(committable_grouper).p_nom.sum())     \n",
    "            )\n",
    "        ),\n",
    "        name = \"Generator-com-ramp_upper\"\n",
    "    )\n",
    "\n",
    "    res_shedding = m.add_variables(\n",
    "        lower=0, \n",
    "        name=\"Bus-reserve_shedding\", \n",
    "        coords=[snapshots, reserve_requirements.index]\n",
    "    )\n",
    "\n",
    "    storage = n.links.loc[n.links.type == \"discharging\"]\n",
    "\n",
    "    storage_link_r = m.add_variables(lower = 0, name=\"Link-r\", coords = m[\"Link-p\"].loc[:, storage.index].coords)\n",
    "\n",
    "    link_p = m[\"Link-p\"]\n",
    "\n",
    "    m.add_constraints(\n",
    "        link_p.loc[:, storage.index] + storage_link_r <= n.links.p_nom.to_xarray(),\n",
    "        name = \"Link-capacity_upper\"\n",
    "    );\n",
    "\n",
    "    store_e = m[\"Store-e\"]\n",
    "\n",
    "    store_link_map = n.stores.set_index(\"bus\",append=True).reset_index(\"Store\").reindex(storage.bus0)[\"Store\"]\n",
    "    store_link_map.index = storage.index\n",
    "    store_link_map.index.name = \"Link\"\n",
    "    store_link_map.name=\"Store\"\n",
    "\n",
    "    m.add_constraints(\n",
    "        storage_link_r.groupby(store_link_map.to_xarray()).sum() <= store_e,\n",
    "        name=\"Link-reserve_reservoir_constraint\"\n",
    "    )\n",
    "\n",
    "    gen_grouper = reserve_gens.bus\n",
    "    gen_grouper.name = \"Bus\"\n",
    "\n",
    "    storage_grouper = storage.bus1\n",
    "    storage_grouper.name = \"Bus\"\n",
    "\n",
    "    if balancing_market_design == \"ORDC\":\n",
    "\n",
    "        excess_r = m.add_variables(\n",
    "            lower = 0,\n",
    "            upper= 40,\n",
    "            name = \"Bus-excess_r\",\n",
    "            coords = [snapshots, reserve_requirements.index]\n",
    "        )\n",
    "\n",
    "        m.add_constraints(\n",
    "            gen_r.groupby(gen_grouper.to_xarray()).sum() \n",
    "            + storage_link_r.groupby(storage_grouper.to_xarray()).sum()\n",
    "            + res_shedding\n",
    "            - excess_r\n",
    "            >= 0,\n",
    "            name=\"Bus-reserve_balance\"\n",
    "        )\n",
    "\n",
    "        \n",
    "        a = linear_ordc_approximation[\"a\"]\n",
    "        b = linear_ordc_approximation[\"b\"]\n",
    "\n",
    "        a.index.names = [\"Bus\", \"break_point\"]\n",
    "        b.index.names = [\"Bus\", \"break_point\"]\n",
    "\n",
    "\n",
    "        ordc_cost_term = m.add_variables(coords=excess_r.coords, name=\"Bus-ORDC_cost\")\n",
    "        \n",
    "        m.add_constraints(\n",
    "            ordc_cost_term >= (a.to_xarray()*excess_r + b.to_xarray())*VOLL,\n",
    "            name=\"Bus-ORDC\"\n",
    "        )\n",
    "\n",
    "        obj = m.objective\n",
    "        m.add_objective(obj + res_shedding.sum()*1e5 + ordc_cost_term.sum(), overwrite=True) \n",
    "\n",
    "    else:\n",
    "\n",
    "        m.add_constraints(\n",
    "            gen_r.groupby(gen_grouper.to_xarray()).sum() \n",
    "            + storage_link_r.groupby(storage_grouper.to_xarray()).sum()\n",
    "            + res_shedding\n",
    "            >= reserve_requirements.reindex(n.buses.query(\"carrier == 'electricity'\").index).dropna().to_xarray(),\n",
    "            name=\"Bus-reserve_balance\"\n",
    "        )\n",
    "\n",
    "        obj = m.objective\n",
    "\n",
    "        m.add_objective(obj + res_shedding.sum()*1e5, overwrite=True)"
   ]
  },
  {
   "cell_type": "code",
   "execution_count": 11,
   "metadata": {},
   "outputs": [],
   "source": [
    "target_year = 2029"
   ]
  },
  {
   "cell_type": "code",
   "execution_count": 12,
   "metadata": {},
   "outputs": [],
   "source": [
    "solved_network = \"results/networks/base/cy1992_ty2028.nc\""
   ]
  },
  {
   "cell_type": "code",
   "execution_count": 42,
   "metadata": {},
   "outputs": [
    {
     "name": "stderr",
     "output_type": "stream",
     "text": [
      "INFO:pypsa.io:Imported network cy1992_ty2028.nc has buses, generators, links, loads, storage_units\n"
     ]
    }
   ],
   "source": [
    "n = pypsa.Network(\"resources/networks/base/cy1992_ty2028.nc\")"
   ]
  },
  {
   "cell_type": "code",
   "execution_count": 14,
   "metadata": {},
   "outputs": [],
   "source": [
    "years = range(2025, 2034)"
   ]
  },
  {
   "cell_type": "code",
   "execution_count": 68,
   "metadata": {},
   "outputs": [],
   "source": [
    "reserve_requirements = pd.read_excel(\"data/pemmdb.xlsx\", \"Reserve Requirements\",index_col=[0,1])[[\"FCR (MW)\", \"FRR (MW)\"]].sum(axis=1)#.loc[:, target_year]\n",
    "reserve_requirements = reserve_requirements.unstack(1).reindex(years, axis=1).interpolate(axis=1)[target_year]\n",
    "reserve_requirements.index.name = \"Bus\"\n",
    "reserve_requirements = reserve_requirements[reserve_requirements>0]"
   ]
  },
  {
   "cell_type": "code",
   "execution_count": 44,
   "metadata": {},
   "outputs": [],
   "source": [
    "solver_name = \"highs\""
   ]
  },
  {
   "cell_type": "code",
   "execution_count": 45,
   "metadata": {},
   "outputs": [],
   "source": [
    "VOLL = 10e3"
   ]
  },
  {
   "cell_type": "code",
   "execution_count": 46,
   "metadata": {},
   "outputs": [],
   "source": [
    "reserve_participation_generators = ['CCGT', 'OCGT', 'oil', 'biomass', 'other', 'lignite', 'nuclear', 'coal', \"onwind\"]"
   ]
  },
  {
   "cell_type": "code",
   "execution_count": 47,
   "metadata": {},
   "outputs": [],
   "source": [
    "balancing_market_design = \"ORDC\""
   ]
  },
  {
   "cell_type": "code",
   "execution_count": 48,
   "metadata": {},
   "outputs": [],
   "source": [
    "for su in n.storage_units.index:\n",
    "    replace_su(n, su);"
   ]
  },
  {
   "cell_type": "code",
   "execution_count": 49,
   "metadata": {},
   "outputs": [],
   "source": [
    "storage_preopt_aggregation = \"24h\""
   ]
  },
  {
   "cell_type": "code",
   "execution_count": 50,
   "metadata": {},
   "outputs": [],
   "source": [
    "delivery_time_reserves = 15 # in minutes\n",
    "delivery_time_reserves = delivery_time_reserves/60"
   ]
  },
  {
   "cell_type": "code",
   "execution_count": 51,
   "metadata": {},
   "outputs": [
    {
     "data": {
      "text/plain": [
       "Index(['AL00 load-shedding', 'AT00 load-shedding', 'BA00 load-shedding',\n",
       "       'BE00 load-shedding', 'BG00 load-shedding', 'CH00 load-shedding',\n",
       "       'CY00 load-shedding', 'CZ00 load-shedding', 'DE00 load-shedding',\n",
       "       'DEKF load-shedding', 'DKE1 load-shedding', 'DKKF load-shedding',\n",
       "       'DKW1 load-shedding', 'EE00 load-shedding', 'ES00 load-shedding',\n",
       "       'FI00 load-shedding', 'FR00 load-shedding', 'GR00 load-shedding',\n",
       "       'GR03 load-shedding', 'HR00 load-shedding', 'HU00 load-shedding',\n",
       "       'IE00 load-shedding', 'ITCA load-shedding', 'ITCN load-shedding',\n",
       "       'ITCS load-shedding', 'ITN1 load-shedding', 'ITS1 load-shedding',\n",
       "       'ITSA load-shedding', 'ITSI load-shedding', 'ITVI load-shedding',\n",
       "       'LT00 load-shedding', 'LUG1 load-shedding', 'LV00 load-shedding',\n",
       "       'ME00 load-shedding', 'MK00 load-shedding', 'MT00 load-shedding',\n",
       "       'NL00 load-shedding', 'NOM1 load-shedding', 'NON1 load-shedding',\n",
       "       'NOS0 load-shedding', 'PL00 load-shedding', 'PLE0 load-shedding',\n",
       "       'PLI0 load-shedding', 'PT00 load-shedding', 'RO00 load-shedding',\n",
       "       'RS00 load-shedding', 'SE01 load-shedding', 'SE02 load-shedding',\n",
       "       'SE03 load-shedding', 'SE04 load-shedding', 'SI00 load-shedding',\n",
       "       'SK00 load-shedding', 'UK00 load-shedding', 'UKNI load-shedding'],\n",
       "      dtype='object', name='Bus')"
      ]
     },
     "execution_count": 51,
     "metadata": {},
     "output_type": "execute_result"
    }
   ],
   "source": [
    "n.madd(\"Generator\", \n",
    "       n.buses.query(\"carrier == 'electricity'\").index + \" load-shedding\", \n",
    "       bus = n.buses.query(\"carrier == 'electricity'\").index, \n",
    "       p_nom = 1e6, \n",
    "       marginal_cost = VOLL\n",
    "      )"
   ]
  },
  {
   "cell_type": "code",
   "execution_count": 52,
   "metadata": {},
   "outputs": [],
   "source": [
    "ordc_parameters = pd.read_hdf(\"data/ordc_parameters.h5\", \"ordc_parameters\")"
   ]
  },
  {
   "cell_type": "code",
   "execution_count": 25,
   "metadata": {},
   "outputs": [],
   "source": [
    "m = average_every_nhours(n, storage_preopt_aggregation)"
   ]
  },
  {
   "cell_type": "code",
   "execution_count": 26,
   "metadata": {},
   "outputs": [],
   "source": [
    "m.generators[\"p_min_pu\"] = 0"
   ]
  },
  {
   "cell_type": "code",
   "execution_count": 27,
   "metadata": {},
   "outputs": [],
   "source": [
    "m.stores.e_cyclic = True"
   ]
  },
  {
   "cell_type": "code",
   "execution_count": 28,
   "metadata": {},
   "outputs": [
    {
     "name": "stderr",
     "output_type": "stream",
     "text": [
      "INFO:linopy.model: Solve problem using Highs solver\n",
      "INFO:linopy.io:Writing objective.\n",
      "Writing constraints.: 100%|\u001b[38;2;128;191;255m██████████████████████████████████████████████████████████████████████████████████████████\u001b[0m| 11/11 [00:03<00:00,  3.24it/s]\u001b[0m\n",
      "Writing continuous variables.: 100%|\u001b[38;2;128;191;255m███████████████████████████████████████████████████████████████████████████████████\u001b[0m| 4/4 [00:00<00:00,  6.66it/s]\u001b[0m\n",
      "INFO:linopy.io: Writing time: 4.19s\n",
      "INFO:linopy.solvers:Log file at /tmp/highs.log.\n"
     ]
    },
    {
     "name": "stdout",
     "output_type": "stream",
     "text": [
      "Running HiGHS 1.5.3 [date: 2023-05-16, git hash: 594fa5a9d-dirty]\n",
      "Copyright (c) 2023 HiGHS under MIT licence terms\n",
      "Presolving model\n",
      "83950 rows, 412780 cols, 613150 nonzeros\n",
      "83950 rows, 307856 cols, 442716 nonzeros\n",
      "83949 rows, 307812 cols, 442666 nonzeros\n",
      "Presolve : Reductions: rows 83949(-937679); columns 307812(-125443); elements 442666(-1269535)\n",
      "Solving the presolved LP\n",
      "Using EKK dual simplex solver - serial\n",
      "  Iteration        Objective     Infeasibilities num(sum)\n",
      "          0    -8.0836438673e+02 Pr: 45663(4.28785e+08); Du: 0(8.59527e-09) 1s\n",
      "       6869     5.4192674366e+09 Pr: 43083(2.89127e+08); Du: 0(3.55448e-06) 6s\n",
      "      14168     8.0570654652e+09 Pr: 41207(2.38532e+08); Du: 0(4.35911e-06) 12s\n",
      "      21193     1.0173276823e+10 Pr: 40103(2.02545e+08); Du: 0(7.73571e-06) 17s\n",
      "      28725     1.3070855464e+10 Pr: 37506(1.92302e+08); Du: 0(9.78521e-06) 22s\n",
      "      37244     1.6488953248e+10 Pr: 35388(1.90992e+08); Du: 0(1.08806e-05) 27s\n",
      "      46892     2.1340637681e+10 Pr: 32033(1.09302e+08); Du: 0(1.06953e-05) 33s\n",
      "      57586     2.6365631984e+10 Pr: 28261(7.4143e+07); Du: 0(1.13139e-05) 38s\n",
      "      70003     2.9606237713e+10 Pr: 23900(4.84085e+07); Du: 0(9.03096e-06) 43s\n",
      "      89402     3.4222683307e+10 Pr: 15035(1.63009e+07); Du: 0(1.11236e-05) 48s\n",
      "     118923     3.6994503009e+10 Pr: 0(0); Du: 0(1.48077e-11) 53s\n",
      "Solving the original LP from the solution after postsolve\n",
      "Model   status      : Optimal\n",
      "Simplex   iterations: 118923\n",
      "Objective value     :  3.6994503009e+10\n",
      "HiGHS run time      :         54.25\n"
     ]
    },
    {
     "name": "stderr",
     "output_type": "stream",
     "text": [
      "INFO:linopy.constants: Optimization successful: \n",
      "Status: ok\n",
      "Termination condition: optimal\n",
      "Solution: 433255 primals, 1021628 duals\n",
      "Objective: 3.70e+10\n",
      "Solver model: available\n",
      "Solver message: optimal\n",
      "\n",
      "/trinity/home/thomgeo/.conda/envs/pypsa-training/lib/python3.10/site-packages/linopy/common.py:124: UserWarning: Coordinates across variables not equal. Perform outer join.\n",
      "  warn(\"Coordinates across variables not equal. Perform outer join.\", UserWarning)\n",
      "INFO:pypsa.optimization.optimize:The shadow-prices of the constraints Generator-fix-p-lower, Generator-fix-p-upper, Generator-fix-p-ramp_limit_up, Generator-fix-p-ramp_limit_down, Link-fix-p-lower, Link-fix-p-upper, Store-fix-e-lower, Store-fix-e-upper, Store-energy_balance were not assigned to the network.\n"
     ]
    },
    {
     "data": {
      "text/plain": [
       "('ok', 'optimal')"
      ]
     },
     "execution_count": 28,
     "metadata": {},
     "output_type": "execute_result"
    }
   ],
   "source": [
    "m.optimize(\n",
    "    solver_name=\"highs\",\n",
    ")"
   ]
  },
  {
   "cell_type": "code",
   "execution_count": 56,
   "metadata": {},
   "outputs": [],
   "source": [
    "dispatchable = ['CCGT', 'OCGT', 'oil', 'biomass', 'other', 'lignite', 'nuclear', 'coal']\n",
    "\n",
    "n.generators.loc[n.generators.query(\"carrier in @dispatchable\").index, \"committable\"] = True\n",
    "\n",
    "n.generators.shut_down_cost = n.generators.start_up_cost"
   ]
  },
  {
   "cell_type": "code",
   "execution_count": 57,
   "metadata": {},
   "outputs": [],
   "source": [
    "linear_ordc_approximation = get_line_parameters(ordc_parameters, n_ints = 5)"
   ]
  },
  {
   "cell_type": "raw",
   "metadata": {},
   "source": [
    "o = m.copy()"
   ]
  },
  {
   "cell_type": "code",
   "execution_count": 81,
   "metadata": {},
   "outputs": [],
   "source": [
    "m = o.copy()"
   ]
  },
  {
   "cell_type": "code",
   "execution_count": 82,
   "metadata": {
    "scrolled": true
   },
   "outputs": [
    {
     "name": "stdout",
     "output_type": "stream",
     "text": [
      "optimizing time period between 2010-01-01 00:00:00 and 2010-01-01 23:00:00\n"
     ]
    },
    {
     "name": "stderr",
     "output_type": "stream",
     "text": [
      "INFO:linopy.model: Solve problem using Highs solver\n",
      "INFO:linopy.io:Writing objective.\n",
      "Writing constraints.: 100%|\u001b[38;2;128;191;255m██████████████████████████████████████████████████████████████████████████████████████████\u001b[0m| 27/27 [00:00<00:00, 50.72it/s]\u001b[0m\n",
      "Writing continuous variables.: 100%|\u001b[38;2;128;191;255m████████████████████████████████████████████████████████████████████████████████\u001b[0m| 12/12 [00:00<00:00, 140.41it/s]\u001b[0m\n",
      "INFO:linopy.io: Writing time: 0.65s\n",
      "INFO:linopy.solvers:Log file at /tmp/highs.log.\n"
     ]
    },
    {
     "name": "stdout",
     "output_type": "stream",
     "text": [
      "Running HiGHS 1.5.3 [date: 2023-05-16, git hash: 594fa5a9d-dirty]\n",
      "Copyright (c) 2023 HiGHS under MIT licence terms\n",
      "Presolving model\n",
      "43253 rows, 41174 cols, 150098 nonzeros\n",
      "34528 rows, 37655 cols, 126673 nonzeros\n",
      "Presolve : Reductions: rows 34528(-67096); columns 37655(-9601); elements 126673(-97170)\n",
      "Solving the presolved LP\n",
      "Using EKK dual simplex solver - serial\n",
      "  Iteration        Objective     Infeasibilities num(sum)\n",
      "          0    -1.1432000000e+07 Ph1: 6424(1.85644e+07); Du: 696(11432) 0s\n",
      "      16190     2.7734457518e+08 Pr: 0(0); Du: 0(1.42109e-14) 0s\n",
      "      16190     2.7734457518e+08 Pr: 0(0); Du: 0(1.42109e-14) 0s\n",
      "Solving the original LP from the solution after postsolve\n",
      "Model   status      : Optimal\n",
      "Simplex   iterations: 16190\n",
      "Objective value     :  2.7734457518e+08\n",
      "HiGHS run time      :          0.66\n"
     ]
    },
    {
     "name": "stderr",
     "output_type": "stream",
     "text": [
      "INFO:linopy.constants: Optimization successful: \n",
      "Status: ok\n",
      "Termination condition: optimal\n",
      "Solution: 47256 primals, 101624 duals\n",
      "Objective: 2.77e+08\n",
      "Solver model: available\n",
      "Solver message: optimal\n",
      "\n",
      "/trinity/home/thomgeo/.conda/envs/pypsa-training/lib/python3.10/site-packages/linopy/common.py:124: UserWarning: Coordinates across variables not equal. Perform outer join.\n",
      "  warn(\"Coordinates across variables not equal. Perform outer join.\", UserWarning)\n",
      "/trinity/home/thomgeo/.conda/envs/pypsa-training/lib/python3.10/site-packages/linopy/common.py:124: UserWarning: Coordinates across variables not equal. Perform outer join.\n",
      "  warn(\"Coordinates across variables not equal. Perform outer join.\", UserWarning)\n",
      "INFO:pypsa.optimization.optimize:The shadow-prices of the constraints Bus-ORDC were not assigned to the network.\n"
     ]
    },
    {
     "name": "stdout",
     "output_type": "stream",
     "text": [
      "optimizing time period between 2010-01-02 00:00:00 and 2010-01-02 23:00:00\n"
     ]
    },
    {
     "name": "stderr",
     "output_type": "stream",
     "text": [
      "INFO:linopy.model: Solve problem using Highs solver\n",
      "INFO:linopy.io:Writing objective.\n",
      "Writing constraints.: 100%|\u001b[38;2;128;191;255m██████████████████████████████████████████████████████████████████████████████████████████\u001b[0m| 27/27 [00:00<00:00, 50.58it/s]\u001b[0m\n",
      "Writing continuous variables.: 100%|\u001b[38;2;128;191;255m████████████████████████████████████████████████████████████████████████████████\u001b[0m| 12/12 [00:00<00:00, 144.02it/s]\u001b[0m\n",
      "INFO:linopy.io: Writing time: 0.65s\n",
      "INFO:linopy.solvers:Log file at /tmp/highs.log.\n"
     ]
    },
    {
     "name": "stdout",
     "output_type": "stream",
     "text": [
      "Running HiGHS 1.5.3 [date: 2023-05-16, git hash: 594fa5a9d-dirty]\n",
      "Copyright (c) 2023 HiGHS under MIT licence terms\n",
      "Presolving model\n",
      "43211 rows, 41191 cols, 150031 nonzeros\n",
      "34525 rows, 37662 cols, 126670 nonzeros\n",
      "Presolve : Reductions: rows 34525(-67471); columns 37662(-9594); elements 126670(-97799)\n",
      "Solving the presolved LP\n",
      "Using EKK dual simplex solver - serial\n",
      "  Iteration        Objective     Infeasibilities num(sum)\n",
      "          0    -1.1400000000e+07 Ph1: 6425(1.85644e+07); Du: 696(11400) 0s\n",
      "      16719     2.8300017856e+08 Pr: 0(0); Du: 0(2.68714e-13) 0s\n",
      "      16719     2.8300017856e+08 Pr: 0(0); Du: 0(2.68714e-13) 0s\n",
      "Solving the original LP from the solution after postsolve\n",
      "Model   status      : Optimal\n",
      "Simplex   iterations: 16719\n",
      "Objective value     :  2.8300017856e+08\n",
      "HiGHS run time      :          0.78\n"
     ]
    },
    {
     "name": "stderr",
     "output_type": "stream",
     "text": [
      "INFO:linopy.constants: Optimization successful: \n",
      "Status: ok\n",
      "Termination condition: optimal\n",
      "Solution: 47256 primals, 101996 duals\n",
      "Objective: 2.83e+08\n",
      "Solver model: available\n",
      "Solver message: optimal\n",
      "\n",
      "/trinity/home/thomgeo/.conda/envs/pypsa-training/lib/python3.10/site-packages/linopy/common.py:124: UserWarning: Coordinates across variables not equal. Perform outer join.\n",
      "  warn(\"Coordinates across variables not equal. Perform outer join.\", UserWarning)\n",
      "/trinity/home/thomgeo/.conda/envs/pypsa-training/lib/python3.10/site-packages/linopy/common.py:124: UserWarning: Coordinates across variables not equal. Perform outer join.\n",
      "  warn(\"Coordinates across variables not equal. Perform outer join.\", UserWarning)\n",
      "INFO:pypsa.optimization.optimize:The shadow-prices of the constraints Bus-ORDC were not assigned to the network.\n"
     ]
    },
    {
     "name": "stdout",
     "output_type": "stream",
     "text": [
      "optimizing time period between 2010-01-03 00:00:00 and 2010-01-03 23:00:00\n"
     ]
    },
    {
     "name": "stderr",
     "output_type": "stream",
     "text": [
      "INFO:linopy.model: Solve problem using Highs solver\n",
      "INFO:linopy.io:Writing objective.\n",
      "Writing constraints.: 100%|\u001b[38;2;128;191;255m██████████████████████████████████████████████████████████████████████████████████████████\u001b[0m| 27/27 [00:00<00:00, 51.78it/s]\u001b[0m\n",
      "Writing continuous variables.: 100%|\u001b[38;2;128;191;255m████████████████████████████████████████████████████████████████████████████████\u001b[0m| 12/12 [00:00<00:00, 142.48it/s]\u001b[0m\n",
      "INFO:linopy.io: Writing time: 0.64s\n",
      "INFO:linopy.solvers:Log file at /tmp/highs.log.\n"
     ]
    },
    {
     "name": "stdout",
     "output_type": "stream",
     "text": [
      "Running HiGHS 1.5.3 [date: 2023-05-16, git hash: 594fa5a9d-dirty]\n",
      "Copyright (c) 2023 HiGHS under MIT licence terms\n",
      "Presolving model\n",
      "43197 rows, 41193 cols, 150005 nonzeros\n",
      "34519 rows, 37660 cols, 126655 nonzeros\n",
      "Presolve : Reductions: rows 34519(-67477); columns 37660(-9596); elements 126655(-97814)\n",
      "Solving the presolved LP\n",
      "Using EKK dual simplex solver - serial\n",
      "  Iteration        Objective     Infeasibilities num(sum)\n",
      "          0    -1.1400000000e+07 Ph1: 6425(1.85639e+07); Du: 696(11400) 0s\n",
      "      16639     3.1543485505e+08 Pr: 0(0); Du: 0(8.52651e-14) 0s\n",
      "      16639     3.1543485505e+08 Pr: 0(0); Du: 0(8.52651e-14) 0s\n",
      "Solving the original LP from the solution after postsolve\n",
      "Model   status      : Optimal\n",
      "Simplex   iterations: 16639\n",
      "Objective value     :  3.1543485505e+08\n",
      "HiGHS run time      :          0.68\n"
     ]
    },
    {
     "name": "stderr",
     "output_type": "stream",
     "text": [
      "INFO:linopy.constants: Optimization successful: \n",
      "Status: ok\n",
      "Termination condition: optimal\n",
      "Solution: 47256 primals, 101996 duals\n",
      "Objective: 3.15e+08\n",
      "Solver model: available\n",
      "Solver message: optimal\n",
      "\n",
      "/trinity/home/thomgeo/.conda/envs/pypsa-training/lib/python3.10/site-packages/linopy/common.py:124: UserWarning: Coordinates across variables not equal. Perform outer join.\n",
      "  warn(\"Coordinates across variables not equal. Perform outer join.\", UserWarning)\n",
      "/trinity/home/thomgeo/.conda/envs/pypsa-training/lib/python3.10/site-packages/linopy/common.py:124: UserWarning: Coordinates across variables not equal. Perform outer join.\n",
      "  warn(\"Coordinates across variables not equal. Perform outer join.\", UserWarning)\n",
      "INFO:pypsa.optimization.optimize:The shadow-prices of the constraints Bus-ORDC were not assigned to the network.\n"
     ]
    },
    {
     "name": "stdout",
     "output_type": "stream",
     "text": [
      "optimizing time period between 2010-01-04 00:00:00 and 2010-01-04 23:00:00\n"
     ]
    },
    {
     "ename": "KeyboardInterrupt",
     "evalue": "",
     "output_type": "error",
     "traceback": [
      "\u001b[0;31m---------------------------------------------------------------------------\u001b[0m",
      "\u001b[0;31mKeyboardInterrupt\u001b[0m                         Traceback (most recent call last)",
      "Cell \u001b[0;32mIn[82], line 1\u001b[0m\n\u001b[0;32m----> 1\u001b[0m \u001b[43msolve_rolling_horizon\u001b[49m\u001b[43m(\u001b[49m\u001b[43mm\u001b[49m\u001b[43m,\u001b[49m\u001b[43m \u001b[49m\u001b[43mn\u001b[49m\u001b[43m,\u001b[49m\u001b[43m \u001b[49m\u001b[38;5;124;43m\"\u001b[39;49m\u001b[38;5;124;43mh\u001b[39;49m\u001b[38;5;124;43m\"\u001b[39;49m\u001b[43m,\u001b[49m\u001b[43m \u001b[49m\u001b[38;5;241;43m24\u001b[39;49m\u001b[43m)\u001b[49m\n",
      "Cell \u001b[0;32mIn[3], line 25\u001b[0m, in \u001b[0;36msolve_rolling_horizon\u001b[0;34m(m, o, time_aggregation, horizon)\u001b[0m\n\u001b[1;32m     21\u001b[0m \u001b[38;5;28mprint\u001b[39m(\u001b[38;5;124m\"\u001b[39m\u001b[38;5;124moptimizing time period between \u001b[39m\u001b[38;5;124m\"\u001b[39m \u001b[38;5;241m+\u001b[39m \u001b[38;5;28mstr\u001b[39m(o\u001b[38;5;241m.\u001b[39msnapshots[start]) \u001b[38;5;241m+\u001b[39m \u001b[38;5;124m\"\u001b[39m\u001b[38;5;124m and \u001b[39m\u001b[38;5;124m\"\u001b[39m \u001b[38;5;241m+\u001b[39m \u001b[38;5;28mstr\u001b[39m(o\u001b[38;5;241m.\u001b[39msnapshots[end\u001b[38;5;241m-\u001b[39m\u001b[38;5;241m1\u001b[39m]))\n\u001b[1;32m     23\u001b[0m snapshots \u001b[38;5;241m=\u001b[39m o\u001b[38;5;241m.\u001b[39msnapshots[start:end]\n\u001b[0;32m---> 25\u001b[0m \u001b[43mo\u001b[49m\u001b[38;5;241;43m.\u001b[39;49m\u001b[43moptimize\u001b[49m\u001b[43m(\u001b[49m\u001b[43msolver_name\u001b[49m\u001b[38;5;241;43m=\u001b[39;49m\u001b[43msolver_name\u001b[49m\u001b[43m,\u001b[49m\n\u001b[1;32m     26\u001b[0m \u001b[43m           \u001b[49m\u001b[43msnapshots\u001b[49m\u001b[43m \u001b[49m\u001b[38;5;241;43m=\u001b[39;49m\u001b[43m \u001b[49m\u001b[43msnapshots\u001b[49m\u001b[43m,\u001b[49m\n\u001b[1;32m     27\u001b[0m \u001b[43m           \u001b[49m\u001b[43massign_all_duals\u001b[49m\u001b[38;5;241;43m=\u001b[39;49m\u001b[38;5;28;43;01mTrue\u001b[39;49;00m\u001b[43m,\u001b[49m\n\u001b[1;32m     28\u001b[0m \u001b[43m           \u001b[49m\u001b[43mextra_functionality\u001b[49m\u001b[38;5;241;43m=\u001b[39;49m\u001b[43mbalancing_market\u001b[49m\u001b[43m,\u001b[49m\n\u001b[1;32m     29\u001b[0m \u001b[43m           \u001b[49m\u001b[43mlinearized_unit_commitment\u001b[49m\u001b[43m \u001b[49m\u001b[38;5;241;43m=\u001b[39;49m\u001b[43m \u001b[49m\u001b[38;5;28;43;01mTrue\u001b[39;49;00m\n\u001b[1;32m     30\u001b[0m \u001b[43m      \u001b[49m\u001b[43m)\u001b[49m\n\u001b[1;32m     33\u001b[0m o\u001b[38;5;241m.\u001b[39mstores\u001b[38;5;241m.\u001b[39me_initial \u001b[38;5;241m=\u001b[39m o\u001b[38;5;241m.\u001b[39mstores_t\u001b[38;5;241m.\u001b[39me\u001b[38;5;241m.\u001b[39mloc[snapshots]\u001b[38;5;241m.\u001b[39miloc[\u001b[38;5;241m-\u001b[39m\u001b[38;5;241m1\u001b[39m]\n",
      "File \u001b[0;32m~/.conda/envs/pypsa-training/lib/python3.10/site-packages/pypsa/optimization/optimize.py:585\u001b[0m, in \u001b[0;36mOptimizationAccessor.__call__\u001b[0;34m(self, *args, **kwargs)\u001b[0m\n\u001b[1;32m    583\u001b[0m \u001b[38;5;129m@wraps\u001b[39m(optimize)\n\u001b[1;32m    584\u001b[0m \u001b[38;5;28;01mdef\u001b[39;00m \u001b[38;5;21m__call__\u001b[39m(\u001b[38;5;28mself\u001b[39m, \u001b[38;5;241m*\u001b[39margs, \u001b[38;5;241m*\u001b[39m\u001b[38;5;241m*\u001b[39mkwargs):\n\u001b[0;32m--> 585\u001b[0m     \u001b[38;5;28;01mreturn\u001b[39;00m \u001b[43moptimize\u001b[49m\u001b[43m(\u001b[49m\u001b[38;5;28;43mself\u001b[39;49m\u001b[38;5;241;43m.\u001b[39;49m\u001b[43m_parent\u001b[49m\u001b[43m,\u001b[49m\u001b[43m \u001b[49m\u001b[38;5;241;43m*\u001b[39;49m\u001b[43margs\u001b[49m\u001b[43m,\u001b[49m\u001b[43m \u001b[49m\u001b[38;5;241;43m*\u001b[39;49m\u001b[38;5;241;43m*\u001b[39;49m\u001b[43mkwargs\u001b[49m\u001b[43m)\u001b[49m\n",
      "File \u001b[0;32m~/.conda/envs/pypsa-training/lib/python3.10/site-packages/pypsa/optimization/optimize.py:555\u001b[0m, in \u001b[0;36moptimize\u001b[0;34m(n, snapshots, multi_investment_periods, transmission_losses, linearized_unit_commitment, model_kwargs, extra_functionality, assign_all_duals, solver_name, solver_options, **kwargs)\u001b[0m\n\u001b[1;32m    552\u001b[0m n\u001b[38;5;241m.\u001b[39m_linearized_uc \u001b[38;5;241m=\u001b[39m linearized_unit_commitment\n\u001b[1;32m    554\u001b[0m n\u001b[38;5;241m.\u001b[39mconsistency_check()\n\u001b[0;32m--> 555\u001b[0m m \u001b[38;5;241m=\u001b[39m \u001b[43mcreate_model\u001b[49m\u001b[43m(\u001b[49m\n\u001b[1;32m    556\u001b[0m \u001b[43m    \u001b[49m\u001b[43mn\u001b[49m\u001b[43m,\u001b[49m\n\u001b[1;32m    557\u001b[0m \u001b[43m    \u001b[49m\u001b[43msns\u001b[49m\u001b[43m,\u001b[49m\n\u001b[1;32m    558\u001b[0m \u001b[43m    \u001b[49m\u001b[43mmulti_investment_periods\u001b[49m\u001b[43m,\u001b[49m\n\u001b[1;32m    559\u001b[0m \u001b[43m    \u001b[49m\u001b[43mtransmission_losses\u001b[49m\u001b[43m,\u001b[49m\n\u001b[1;32m    560\u001b[0m \u001b[43m    \u001b[49m\u001b[43mlinearized_unit_commitment\u001b[49m\u001b[43m,\u001b[49m\n\u001b[1;32m    561\u001b[0m \u001b[43m    \u001b[49m\u001b[38;5;241;43m*\u001b[39;49m\u001b[38;5;241;43m*\u001b[39;49m\u001b[43mmodel_kwargs\u001b[49m\u001b[43m,\u001b[49m\n\u001b[1;32m    562\u001b[0m \u001b[43m\u001b[49m\u001b[43m)\u001b[49m\n\u001b[1;32m    563\u001b[0m \u001b[38;5;28;01mif\u001b[39;00m extra_functionality:\n\u001b[1;32m    564\u001b[0m     extra_functionality(n, sns)\n",
      "File \u001b[0;32m~/.conda/envs/pypsa-training/lib/python3.10/site-packages/pypsa/optimization/optimize.py:238\u001b[0m, in \u001b[0;36mcreate_model\u001b[0;34m(n, snapshots, multi_investment_periods, transmission_losses, linearized_unit_commitment, **kwargs)\u001b[0m\n\u001b[1;32m    236\u001b[0m n\u001b[38;5;241m.\u001b[39m_linearized_uc \u001b[38;5;241m=\u001b[39m \u001b[38;5;28mint\u001b[39m(linearized_unit_commitment)\n\u001b[1;32m    237\u001b[0m n\u001b[38;5;241m.\u001b[39m_multi_invest \u001b[38;5;241m=\u001b[39m \u001b[38;5;28mint\u001b[39m(multi_investment_periods)\n\u001b[0;32m--> 238\u001b[0m \u001b[43mn\u001b[49m\u001b[38;5;241;43m.\u001b[39;49m\u001b[43mconsistency_check\u001b[49m\u001b[43m(\u001b[49m\u001b[43m)\u001b[49m\n\u001b[1;32m    240\u001b[0m kwargs\u001b[38;5;241m.\u001b[39msetdefault(\u001b[38;5;124m\"\u001b[39m\u001b[38;5;124mforce_dim_names\u001b[39m\u001b[38;5;124m\"\u001b[39m, \u001b[38;5;28;01mTrue\u001b[39;00m)\n\u001b[1;32m    241\u001b[0m n\u001b[38;5;241m.\u001b[39mmodel \u001b[38;5;241m=\u001b[39m Model(\u001b[38;5;241m*\u001b[39m\u001b[38;5;241m*\u001b[39mkwargs)\n",
      "File \u001b[0;32m~/.conda/envs/pypsa-training/lib/python3.10/site-packages/pypsa/components.py:1471\u001b[0m, in \u001b[0;36mNetwork.consistency_check\u001b[0;34m(self, check_dtypes)\u001b[0m\n\u001b[1;32m   1469\u001b[0m \u001b[38;5;28;01mif\u001b[39;00m \u001b[38;5;28mlen\u001b[39m(varying_attr):\n\u001b[1;32m   1470\u001b[0m     attr \u001b[38;5;241m=\u001b[39m varying_attr[\u001b[38;5;241m0\u001b[39m][\u001b[38;5;241m0\u001b[39m]\n\u001b[0;32m-> 1471\u001b[0m     max_pu \u001b[38;5;241m=\u001b[39m \u001b[38;5;28;43mself\u001b[39;49m\u001b[38;5;241;43m.\u001b[39;49m\u001b[43mget_switchable_as_dense\u001b[49m\u001b[43m(\u001b[49m\u001b[43mc\u001b[49m\u001b[38;5;241;43m.\u001b[39;49m\u001b[43mname\u001b[49m\u001b[43m,\u001b[49m\u001b[43m \u001b[49m\u001b[43mattr\u001b[49m\u001b[43m \u001b[49m\u001b[38;5;241;43m+\u001b[39;49m\u001b[43m \u001b[49m\u001b[38;5;124;43m\"\u001b[39;49m\u001b[38;5;124;43m_max_pu\u001b[39;49m\u001b[38;5;124;43m\"\u001b[39;49m\u001b[43m)\u001b[49m\n\u001b[1;32m   1472\u001b[0m     min_pu \u001b[38;5;241m=\u001b[39m \u001b[38;5;28mself\u001b[39m\u001b[38;5;241m.\u001b[39mget_switchable_as_dense(c\u001b[38;5;241m.\u001b[39mname, attr \u001b[38;5;241m+\u001b[39m \u001b[38;5;124m\"\u001b[39m\u001b[38;5;124m_min_pu\u001b[39m\u001b[38;5;124m\"\u001b[39m)\n\u001b[1;32m   1474\u001b[0m     \u001b[38;5;66;03m# check for NaN values:\u001b[39;00m\n",
      "File \u001b[0;32m~/.conda/envs/pypsa-training/lib/python3.10/site-packages/pypsa/descriptors.py:180\u001b[0m, in \u001b[0;36mget_switchable_as_dense\u001b[0;34m(network, component, attr, snapshots, inds)\u001b[0m\n\u001b[1;32m    177\u001b[0m static \u001b[38;5;241m=\u001b[39m pd\u001b[38;5;241m.\u001b[39mDataFrame(vals, index\u001b[38;5;241m=\u001b[39msnapshots, columns\u001b[38;5;241m=\u001b[39mfixed_i)\n\u001b[1;32m    178\u001b[0m varying \u001b[38;5;241m=\u001b[39m pnl[attr]\u001b[38;5;241m.\u001b[39mloc[snapshots, varying_i]\n\u001b[0;32m--> 180\u001b[0m res \u001b[38;5;241m=\u001b[39m \u001b[43mpd\u001b[49m\u001b[38;5;241;43m.\u001b[39;49m\u001b[43mconcat\u001b[49m\u001b[43m(\u001b[49m\u001b[43m[\u001b[49m\u001b[43mstatic\u001b[49m\u001b[43m,\u001b[49m\u001b[43m \u001b[49m\u001b[43mvarying\u001b[49m\u001b[43m]\u001b[49m\u001b[43m,\u001b[49m\u001b[43m \u001b[49m\u001b[43maxis\u001b[49m\u001b[38;5;241;43m=\u001b[39;49m\u001b[38;5;241;43m1\u001b[39;49m\u001b[43m,\u001b[49m\u001b[43m \u001b[49m\u001b[43msort\u001b[49m\u001b[38;5;241;43m=\u001b[39;49m\u001b[38;5;28;43;01mFalse\u001b[39;49;00m\u001b[43m)\u001b[49m\u001b[38;5;241;43m.\u001b[39;49m\u001b[43mreindex\u001b[49m\u001b[43m(\u001b[49m\u001b[43mcolumns\u001b[49m\u001b[38;5;241;43m=\u001b[39;49m\u001b[43mindex\u001b[49m\u001b[43m)\u001b[49m\n\u001b[1;32m    181\u001b[0m res\u001b[38;5;241m.\u001b[39mindex\u001b[38;5;241m.\u001b[39mname \u001b[38;5;241m=\u001b[39m \u001b[38;5;124m\"\u001b[39m\u001b[38;5;124msnapshot\u001b[39m\u001b[38;5;124m\"\u001b[39m  \u001b[38;5;66;03m# reindex with multiindex does not preserve name\u001b[39;00m\n\u001b[1;32m    183\u001b[0m \u001b[38;5;28;01mreturn\u001b[39;00m res\n",
      "File \u001b[0;32m~/.conda/envs/pypsa-training/lib/python3.10/site-packages/pandas/core/frame.py:5055\u001b[0m, in \u001b[0;36mDataFrame.reindex\u001b[0;34m(self, labels, index, columns, axis, method, copy, level, fill_value, limit, tolerance)\u001b[0m\n\u001b[1;32m   5036\u001b[0m \u001b[38;5;129m@doc\u001b[39m(\n\u001b[1;32m   5037\u001b[0m     NDFrame\u001b[38;5;241m.\u001b[39mreindex,\n\u001b[1;32m   5038\u001b[0m     klass\u001b[38;5;241m=\u001b[39m_shared_doc_kwargs[\u001b[38;5;124m\"\u001b[39m\u001b[38;5;124mklass\u001b[39m\u001b[38;5;124m\"\u001b[39m],\n\u001b[0;32m   (...)\u001b[0m\n\u001b[1;32m   5053\u001b[0m     tolerance\u001b[38;5;241m=\u001b[39m\u001b[38;5;28;01mNone\u001b[39;00m,\n\u001b[1;32m   5054\u001b[0m ) \u001b[38;5;241m-\u001b[39m\u001b[38;5;241m>\u001b[39m DataFrame:\n\u001b[0;32m-> 5055\u001b[0m     \u001b[38;5;28;01mreturn\u001b[39;00m \u001b[38;5;28;43msuper\u001b[39;49m\u001b[43m(\u001b[49m\u001b[43m)\u001b[49m\u001b[38;5;241;43m.\u001b[39;49m\u001b[43mreindex\u001b[49m\u001b[43m(\u001b[49m\n\u001b[1;32m   5056\u001b[0m \u001b[43m        \u001b[49m\u001b[43mlabels\u001b[49m\u001b[38;5;241;43m=\u001b[39;49m\u001b[43mlabels\u001b[49m\u001b[43m,\u001b[49m\n\u001b[1;32m   5057\u001b[0m \u001b[43m        \u001b[49m\u001b[43mindex\u001b[49m\u001b[38;5;241;43m=\u001b[39;49m\u001b[43mindex\u001b[49m\u001b[43m,\u001b[49m\n\u001b[1;32m   5058\u001b[0m \u001b[43m        \u001b[49m\u001b[43mcolumns\u001b[49m\u001b[38;5;241;43m=\u001b[39;49m\u001b[43mcolumns\u001b[49m\u001b[43m,\u001b[49m\n\u001b[1;32m   5059\u001b[0m \u001b[43m        \u001b[49m\u001b[43maxis\u001b[49m\u001b[38;5;241;43m=\u001b[39;49m\u001b[43maxis\u001b[49m\u001b[43m,\u001b[49m\n\u001b[1;32m   5060\u001b[0m \u001b[43m        \u001b[49m\u001b[43mmethod\u001b[49m\u001b[38;5;241;43m=\u001b[39;49m\u001b[43mmethod\u001b[49m\u001b[43m,\u001b[49m\n\u001b[1;32m   5061\u001b[0m \u001b[43m        \u001b[49m\u001b[43mcopy\u001b[49m\u001b[38;5;241;43m=\u001b[39;49m\u001b[43mcopy\u001b[49m\u001b[43m,\u001b[49m\n\u001b[1;32m   5062\u001b[0m \u001b[43m        \u001b[49m\u001b[43mlevel\u001b[49m\u001b[38;5;241;43m=\u001b[39;49m\u001b[43mlevel\u001b[49m\u001b[43m,\u001b[49m\n\u001b[1;32m   5063\u001b[0m \u001b[43m        \u001b[49m\u001b[43mfill_value\u001b[49m\u001b[38;5;241;43m=\u001b[39;49m\u001b[43mfill_value\u001b[49m\u001b[43m,\u001b[49m\n\u001b[1;32m   5064\u001b[0m \u001b[43m        \u001b[49m\u001b[43mlimit\u001b[49m\u001b[38;5;241;43m=\u001b[39;49m\u001b[43mlimit\u001b[49m\u001b[43m,\u001b[49m\n\u001b[1;32m   5065\u001b[0m \u001b[43m        \u001b[49m\u001b[43mtolerance\u001b[49m\u001b[38;5;241;43m=\u001b[39;49m\u001b[43mtolerance\u001b[49m\u001b[43m,\u001b[49m\n\u001b[1;32m   5066\u001b[0m \u001b[43m    \u001b[49m\u001b[43m)\u001b[49m\n",
      "File \u001b[0;32m~/.conda/envs/pypsa-training/lib/python3.10/site-packages/pandas/core/generic.py:5360\u001b[0m, in \u001b[0;36mNDFrame.reindex\u001b[0;34m(self, labels, index, columns, axis, method, copy, level, fill_value, limit, tolerance)\u001b[0m\n\u001b[1;32m   5357\u001b[0m     \u001b[38;5;28;01mreturn\u001b[39;00m \u001b[38;5;28mself\u001b[39m\u001b[38;5;241m.\u001b[39m_reindex_multi(axes, copy, fill_value)\n\u001b[1;32m   5359\u001b[0m \u001b[38;5;66;03m# perform the reindex on the axes\u001b[39;00m\n\u001b[0;32m-> 5360\u001b[0m \u001b[38;5;28;01mreturn\u001b[39;00m \u001b[38;5;28;43mself\u001b[39;49m\u001b[38;5;241;43m.\u001b[39;49m\u001b[43m_reindex_axes\u001b[49m\u001b[43m(\u001b[49m\n\u001b[1;32m   5361\u001b[0m \u001b[43m    \u001b[49m\u001b[43maxes\u001b[49m\u001b[43m,\u001b[49m\u001b[43m \u001b[49m\u001b[43mlevel\u001b[49m\u001b[43m,\u001b[49m\u001b[43m \u001b[49m\u001b[43mlimit\u001b[49m\u001b[43m,\u001b[49m\u001b[43m \u001b[49m\u001b[43mtolerance\u001b[49m\u001b[43m,\u001b[49m\u001b[43m \u001b[49m\u001b[43mmethod\u001b[49m\u001b[43m,\u001b[49m\u001b[43m \u001b[49m\u001b[43mfill_value\u001b[49m\u001b[43m,\u001b[49m\u001b[43m \u001b[49m\u001b[43mcopy\u001b[49m\n\u001b[1;32m   5362\u001b[0m \u001b[43m\u001b[49m\u001b[43m)\u001b[49m\u001b[38;5;241m.\u001b[39m__finalize__(\u001b[38;5;28mself\u001b[39m, method\u001b[38;5;241m=\u001b[39m\u001b[38;5;124m\"\u001b[39m\u001b[38;5;124mreindex\u001b[39m\u001b[38;5;124m\"\u001b[39m)\n",
      "File \u001b[0;32m~/.conda/envs/pypsa-training/lib/python3.10/site-packages/pandas/core/frame.py:4890\u001b[0m, in \u001b[0;36mDataFrame._reindex_axes\u001b[0;34m(self, axes, level, limit, tolerance, method, fill_value, copy)\u001b[0m\n\u001b[1;32m   4888\u001b[0m columns \u001b[38;5;241m=\u001b[39m axes[\u001b[38;5;124m\"\u001b[39m\u001b[38;5;124mcolumns\u001b[39m\u001b[38;5;124m\"\u001b[39m]\n\u001b[1;32m   4889\u001b[0m \u001b[38;5;28;01mif\u001b[39;00m columns \u001b[38;5;129;01mis\u001b[39;00m \u001b[38;5;129;01mnot\u001b[39;00m \u001b[38;5;28;01mNone\u001b[39;00m:\n\u001b[0;32m-> 4890\u001b[0m     frame \u001b[38;5;241m=\u001b[39m \u001b[43mframe\u001b[49m\u001b[38;5;241;43m.\u001b[39;49m\u001b[43m_reindex_columns\u001b[49m\u001b[43m(\u001b[49m\n\u001b[1;32m   4891\u001b[0m \u001b[43m        \u001b[49m\u001b[43mcolumns\u001b[49m\u001b[43m,\u001b[49m\u001b[43m \u001b[49m\u001b[43mmethod\u001b[49m\u001b[43m,\u001b[49m\u001b[43m \u001b[49m\u001b[43mcopy\u001b[49m\u001b[43m,\u001b[49m\u001b[43m \u001b[49m\u001b[43mlevel\u001b[49m\u001b[43m,\u001b[49m\u001b[43m \u001b[49m\u001b[43mfill_value\u001b[49m\u001b[43m,\u001b[49m\u001b[43m \u001b[49m\u001b[43mlimit\u001b[49m\u001b[43m,\u001b[49m\u001b[43m \u001b[49m\u001b[43mtolerance\u001b[49m\n\u001b[1;32m   4892\u001b[0m \u001b[43m    \u001b[49m\u001b[43m)\u001b[49m\n\u001b[1;32m   4894\u001b[0m index \u001b[38;5;241m=\u001b[39m axes[\u001b[38;5;124m\"\u001b[39m\u001b[38;5;124mindex\u001b[39m\u001b[38;5;124m\"\u001b[39m]\n\u001b[1;32m   4895\u001b[0m \u001b[38;5;28;01mif\u001b[39;00m index \u001b[38;5;129;01mis\u001b[39;00m \u001b[38;5;129;01mnot\u001b[39;00m \u001b[38;5;28;01mNone\u001b[39;00m:\n",
      "File \u001b[0;32m~/.conda/envs/pypsa-training/lib/python3.10/site-packages/pandas/core/frame.py:4935\u001b[0m, in \u001b[0;36mDataFrame._reindex_columns\u001b[0;34m(self, new_columns, method, copy, level, fill_value, limit, tolerance)\u001b[0m\n\u001b[1;32m   4922\u001b[0m \u001b[38;5;28;01mdef\u001b[39;00m \u001b[38;5;21m_reindex_columns\u001b[39m(\n\u001b[1;32m   4923\u001b[0m     \u001b[38;5;28mself\u001b[39m,\n\u001b[1;32m   4924\u001b[0m     new_columns,\n\u001b[0;32m   (...)\u001b[0m\n\u001b[1;32m   4930\u001b[0m     tolerance\u001b[38;5;241m=\u001b[39m\u001b[38;5;28;01mNone\u001b[39;00m,\n\u001b[1;32m   4931\u001b[0m ):\n\u001b[1;32m   4932\u001b[0m     new_columns, indexer \u001b[38;5;241m=\u001b[39m \u001b[38;5;28mself\u001b[39m\u001b[38;5;241m.\u001b[39mcolumns\u001b[38;5;241m.\u001b[39mreindex(\n\u001b[1;32m   4933\u001b[0m         new_columns, method\u001b[38;5;241m=\u001b[39mmethod, level\u001b[38;5;241m=\u001b[39mlevel, limit\u001b[38;5;241m=\u001b[39mlimit, tolerance\u001b[38;5;241m=\u001b[39mtolerance\n\u001b[1;32m   4934\u001b[0m     )\n\u001b[0;32m-> 4935\u001b[0m     \u001b[38;5;28;01mreturn\u001b[39;00m \u001b[38;5;28;43mself\u001b[39;49m\u001b[38;5;241;43m.\u001b[39;49m\u001b[43m_reindex_with_indexers\u001b[49m\u001b[43m(\u001b[49m\n\u001b[1;32m   4936\u001b[0m \u001b[43m        \u001b[49m\u001b[43m{\u001b[49m\u001b[38;5;241;43m1\u001b[39;49m\u001b[43m:\u001b[49m\u001b[43m \u001b[49m\u001b[43m[\u001b[49m\u001b[43mnew_columns\u001b[49m\u001b[43m,\u001b[49m\u001b[43m \u001b[49m\u001b[43mindexer\u001b[49m\u001b[43m]\u001b[49m\u001b[43m}\u001b[49m\u001b[43m,\u001b[49m\n\u001b[1;32m   4937\u001b[0m \u001b[43m        \u001b[49m\u001b[43mcopy\u001b[49m\u001b[38;5;241;43m=\u001b[39;49m\u001b[43mcopy\u001b[49m\u001b[43m,\u001b[49m\n\u001b[1;32m   4938\u001b[0m \u001b[43m        \u001b[49m\u001b[43mfill_value\u001b[49m\u001b[38;5;241;43m=\u001b[39;49m\u001b[43mfill_value\u001b[49m\u001b[43m,\u001b[49m\n\u001b[1;32m   4939\u001b[0m \u001b[43m        \u001b[49m\u001b[43mallow_dups\u001b[49m\u001b[38;5;241;43m=\u001b[39;49m\u001b[38;5;28;43;01mFalse\u001b[39;49;00m\u001b[43m,\u001b[49m\n\u001b[1;32m   4940\u001b[0m \u001b[43m    \u001b[49m\u001b[43m)\u001b[49m\n",
      "File \u001b[0;32m~/.conda/envs/pypsa-training/lib/python3.10/site-packages/pandas/core/generic.py:5431\u001b[0m, in \u001b[0;36mNDFrame._reindex_with_indexers\u001b[0;34m(self, reindexers, fill_value, copy, allow_dups)\u001b[0m\n\u001b[1;32m   5428\u001b[0m     indexer \u001b[38;5;241m=\u001b[39m ensure_platform_int(indexer)\n\u001b[1;32m   5430\u001b[0m \u001b[38;5;66;03m# TODO: speed up on homogeneous DataFrame objects (see _reindex_multi)\u001b[39;00m\n\u001b[0;32m-> 5431\u001b[0m new_data \u001b[38;5;241m=\u001b[39m \u001b[43mnew_data\u001b[49m\u001b[38;5;241;43m.\u001b[39;49m\u001b[43mreindex_indexer\u001b[49m\u001b[43m(\u001b[49m\n\u001b[1;32m   5432\u001b[0m \u001b[43m    \u001b[49m\u001b[43mindex\u001b[49m\u001b[43m,\u001b[49m\n\u001b[1;32m   5433\u001b[0m \u001b[43m    \u001b[49m\u001b[43mindexer\u001b[49m\u001b[43m,\u001b[49m\n\u001b[1;32m   5434\u001b[0m \u001b[43m    \u001b[49m\u001b[43maxis\u001b[49m\u001b[38;5;241;43m=\u001b[39;49m\u001b[43mbaxis\u001b[49m\u001b[43m,\u001b[49m\n\u001b[1;32m   5435\u001b[0m \u001b[43m    \u001b[49m\u001b[43mfill_value\u001b[49m\u001b[38;5;241;43m=\u001b[39;49m\u001b[43mfill_value\u001b[49m\u001b[43m,\u001b[49m\n\u001b[1;32m   5436\u001b[0m \u001b[43m    \u001b[49m\u001b[43mallow_dups\u001b[49m\u001b[38;5;241;43m=\u001b[39;49m\u001b[43mallow_dups\u001b[49m\u001b[43m,\u001b[49m\n\u001b[1;32m   5437\u001b[0m \u001b[43m    \u001b[49m\u001b[43mcopy\u001b[49m\u001b[38;5;241;43m=\u001b[39;49m\u001b[43mcopy\u001b[49m\u001b[43m,\u001b[49m\n\u001b[1;32m   5438\u001b[0m \u001b[43m\u001b[49m\u001b[43m)\u001b[49m\n\u001b[1;32m   5439\u001b[0m \u001b[38;5;66;03m# If we've made a copy once, no need to make another one\u001b[39;00m\n\u001b[1;32m   5440\u001b[0m copy \u001b[38;5;241m=\u001b[39m \u001b[38;5;28;01mFalse\u001b[39;00m\n",
      "File \u001b[0;32m~/.conda/envs/pypsa-training/lib/python3.10/site-packages/pandas/core/internals/managers.py:740\u001b[0m, in \u001b[0;36mBaseBlockManager.reindex_indexer\u001b[0;34m(self, new_axis, indexer, axis, fill_value, allow_dups, copy, only_slice, use_na_proxy)\u001b[0m\n\u001b[1;32m    737\u001b[0m     \u001b[38;5;28;01mraise\u001b[39;00m \u001b[38;5;167;01mIndexError\u001b[39;00m(\u001b[38;5;124m\"\u001b[39m\u001b[38;5;124mRequested axis not found in manager\u001b[39m\u001b[38;5;124m\"\u001b[39m)\n\u001b[1;32m    739\u001b[0m \u001b[38;5;28;01mif\u001b[39;00m axis \u001b[38;5;241m==\u001b[39m \u001b[38;5;241m0\u001b[39m:\n\u001b[0;32m--> 740\u001b[0m     new_blocks \u001b[38;5;241m=\u001b[39m \u001b[38;5;28;43mself\u001b[39;49m\u001b[38;5;241;43m.\u001b[39;49m\u001b[43m_slice_take_blocks_ax0\u001b[49m\u001b[43m(\u001b[49m\n\u001b[1;32m    741\u001b[0m \u001b[43m        \u001b[49m\u001b[43mindexer\u001b[49m\u001b[43m,\u001b[49m\n\u001b[1;32m    742\u001b[0m \u001b[43m        \u001b[49m\u001b[43mfill_value\u001b[49m\u001b[38;5;241;43m=\u001b[39;49m\u001b[43mfill_value\u001b[49m\u001b[43m,\u001b[49m\n\u001b[1;32m    743\u001b[0m \u001b[43m        \u001b[49m\u001b[43monly_slice\u001b[49m\u001b[38;5;241;43m=\u001b[39;49m\u001b[43monly_slice\u001b[49m\u001b[43m,\u001b[49m\n\u001b[1;32m    744\u001b[0m \u001b[43m        \u001b[49m\u001b[43muse_na_proxy\u001b[49m\u001b[38;5;241;43m=\u001b[39;49m\u001b[43muse_na_proxy\u001b[49m\u001b[43m,\u001b[49m\n\u001b[1;32m    745\u001b[0m \u001b[43m    \u001b[49m\u001b[43m)\u001b[49m\n\u001b[1;32m    746\u001b[0m \u001b[38;5;28;01melse\u001b[39;00m:\n\u001b[1;32m    747\u001b[0m     new_blocks \u001b[38;5;241m=\u001b[39m [\n\u001b[1;32m    748\u001b[0m         blk\u001b[38;5;241m.\u001b[39mtake_nd(\n\u001b[1;32m    749\u001b[0m             indexer,\n\u001b[0;32m   (...)\u001b[0m\n\u001b[1;32m    755\u001b[0m         \u001b[38;5;28;01mfor\u001b[39;00m blk \u001b[38;5;129;01min\u001b[39;00m \u001b[38;5;28mself\u001b[39m\u001b[38;5;241m.\u001b[39mblocks\n\u001b[1;32m    756\u001b[0m     ]\n",
      "File \u001b[0;32m~/.conda/envs/pypsa-training/lib/python3.10/site-packages/pandas/core/internals/managers.py:898\u001b[0m, in \u001b[0;36mBaseBlockManager._slice_take_blocks_ax0\u001b[0;34m(self, slice_or_indexer, fill_value, only_slice, use_na_proxy)\u001b[0m\n\u001b[1;32m    896\u001b[0m                     blocks\u001b[38;5;241m.\u001b[39mappend(nb)\n\u001b[1;32m    897\u001b[0m             \u001b[38;5;28;01melse\u001b[39;00m:\n\u001b[0;32m--> 898\u001b[0m                 nb \u001b[38;5;241m=\u001b[39m \u001b[43mblk\u001b[49m\u001b[38;5;241;43m.\u001b[39;49m\u001b[43mtake_nd\u001b[49m\u001b[43m(\u001b[49m\u001b[43mtaker\u001b[49m\u001b[43m,\u001b[49m\u001b[43m \u001b[49m\u001b[43maxis\u001b[49m\u001b[38;5;241;43m=\u001b[39;49m\u001b[38;5;241;43m0\u001b[39;49m\u001b[43m,\u001b[49m\u001b[43m \u001b[49m\u001b[43mnew_mgr_locs\u001b[49m\u001b[38;5;241;43m=\u001b[39;49m\u001b[43mmgr_locs\u001b[49m\u001b[43m)\u001b[49m\n\u001b[1;32m    899\u001b[0m                 blocks\u001b[38;5;241m.\u001b[39mappend(nb)\n\u001b[1;32m    901\u001b[0m \u001b[38;5;28;01mreturn\u001b[39;00m blocks\n",
      "File \u001b[0;32m~/.conda/envs/pypsa-training/lib/python3.10/site-packages/pandas/core/internals/blocks.py:945\u001b[0m, in \u001b[0;36mBlock.take_nd\u001b[0;34m(self, indexer, axis, new_mgr_locs, fill_value)\u001b[0m\n\u001b[1;32m    942\u001b[0m     allow_fill \u001b[38;5;241m=\u001b[39m \u001b[38;5;28;01mTrue\u001b[39;00m\n\u001b[1;32m    944\u001b[0m \u001b[38;5;66;03m# Note: algos.take_nd has upcast logic similar to coerce_to_target_dtype\u001b[39;00m\n\u001b[0;32m--> 945\u001b[0m new_values \u001b[38;5;241m=\u001b[39m \u001b[43malgos\u001b[49m\u001b[38;5;241;43m.\u001b[39;49m\u001b[43mtake_nd\u001b[49m\u001b[43m(\u001b[49m\n\u001b[1;32m    946\u001b[0m \u001b[43m    \u001b[49m\u001b[43mvalues\u001b[49m\u001b[43m,\u001b[49m\u001b[43m \u001b[49m\u001b[43mindexer\u001b[49m\u001b[43m,\u001b[49m\u001b[43m \u001b[49m\u001b[43maxis\u001b[49m\u001b[38;5;241;43m=\u001b[39;49m\u001b[43maxis\u001b[49m\u001b[43m,\u001b[49m\u001b[43m \u001b[49m\u001b[43mallow_fill\u001b[49m\u001b[38;5;241;43m=\u001b[39;49m\u001b[43mallow_fill\u001b[49m\u001b[43m,\u001b[49m\u001b[43m \u001b[49m\u001b[43mfill_value\u001b[49m\u001b[38;5;241;43m=\u001b[39;49m\u001b[43mfill_value\u001b[49m\n\u001b[1;32m    947\u001b[0m \u001b[43m\u001b[49m\u001b[43m)\u001b[49m\n\u001b[1;32m    949\u001b[0m \u001b[38;5;66;03m# Called from three places in managers, all of which satisfy\u001b[39;00m\n\u001b[1;32m    950\u001b[0m \u001b[38;5;66;03m#  these assertions\u001b[39;00m\n\u001b[1;32m    951\u001b[0m \u001b[38;5;28;01mif\u001b[39;00m \u001b[38;5;28misinstance\u001b[39m(\u001b[38;5;28mself\u001b[39m, ExtensionBlock):\n\u001b[1;32m    952\u001b[0m     \u001b[38;5;66;03m# NB: in this case, the 'axis' kwarg will be ignored in the\u001b[39;00m\n\u001b[1;32m    953\u001b[0m     \u001b[38;5;66;03m#  algos.take_nd call above.\u001b[39;00m\n",
      "File \u001b[0;32m~/.conda/envs/pypsa-training/lib/python3.10/site-packages/pandas/core/array_algos/take.py:117\u001b[0m, in \u001b[0;36mtake_nd\u001b[0;34m(arr, indexer, axis, fill_value, allow_fill)\u001b[0m\n\u001b[1;32m    114\u001b[0m     \u001b[38;5;28;01mreturn\u001b[39;00m arr\u001b[38;5;241m.\u001b[39mtake(indexer, fill_value\u001b[38;5;241m=\u001b[39mfill_value, allow_fill\u001b[38;5;241m=\u001b[39mallow_fill)\n\u001b[1;32m    116\u001b[0m arr \u001b[38;5;241m=\u001b[39m np\u001b[38;5;241m.\u001b[39masarray(arr)\n\u001b[0;32m--> 117\u001b[0m \u001b[38;5;28;01mreturn\u001b[39;00m \u001b[43m_take_nd_ndarray\u001b[49m\u001b[43m(\u001b[49m\u001b[43marr\u001b[49m\u001b[43m,\u001b[49m\u001b[43m \u001b[49m\u001b[43mindexer\u001b[49m\u001b[43m,\u001b[49m\u001b[43m \u001b[49m\u001b[43maxis\u001b[49m\u001b[43m,\u001b[49m\u001b[43m \u001b[49m\u001b[43mfill_value\u001b[49m\u001b[43m,\u001b[49m\u001b[43m \u001b[49m\u001b[43mallow_fill\u001b[49m\u001b[43m)\u001b[49m\n",
      "File \u001b[0;32m~/.conda/envs/pypsa-training/lib/python3.10/site-packages/pandas/core/array_algos/take.py:162\u001b[0m, in \u001b[0;36m_take_nd_ndarray\u001b[0;34m(arr, indexer, axis, fill_value, allow_fill)\u001b[0m\n\u001b[1;32m    157\u001b[0m     out \u001b[38;5;241m=\u001b[39m np\u001b[38;5;241m.\u001b[39mempty(out_shape, dtype\u001b[38;5;241m=\u001b[39mdtype)\n\u001b[1;32m    159\u001b[0m func \u001b[38;5;241m=\u001b[39m _get_take_nd_function(\n\u001b[1;32m    160\u001b[0m     arr\u001b[38;5;241m.\u001b[39mndim, arr\u001b[38;5;241m.\u001b[39mdtype, out\u001b[38;5;241m.\u001b[39mdtype, axis\u001b[38;5;241m=\u001b[39maxis, mask_info\u001b[38;5;241m=\u001b[39mmask_info\n\u001b[1;32m    161\u001b[0m )\n\u001b[0;32m--> 162\u001b[0m \u001b[43mfunc\u001b[49m\u001b[43m(\u001b[49m\u001b[43marr\u001b[49m\u001b[43m,\u001b[49m\u001b[43m \u001b[49m\u001b[43mindexer\u001b[49m\u001b[43m,\u001b[49m\u001b[43m \u001b[49m\u001b[43mout\u001b[49m\u001b[43m,\u001b[49m\u001b[43m \u001b[49m\u001b[43mfill_value\u001b[49m\u001b[43m)\u001b[49m\n\u001b[1;32m    164\u001b[0m \u001b[38;5;28;01mif\u001b[39;00m flip_order:\n\u001b[1;32m    165\u001b[0m     out \u001b[38;5;241m=\u001b[39m out\u001b[38;5;241m.\u001b[39mT\n",
      "\u001b[0;31mKeyboardInterrupt\u001b[0m: "
     ]
    }
   ],
   "source": [
    "solve_rolling_horizon(m, n, \"h\", 24)"
   ]
  },
  {
   "cell_type": "code",
   "execution_count": null,
   "metadata": {},
   "outputs": [],
   "source": [
    "m = n.optimize.create_model(\n",
    "    linearized_unit_commitment=True,\n",
    "    snapshots = snapshots,\n",
    ")"
   ]
  },
  {
   "cell_type": "code",
   "execution_count": null,
   "metadata": {},
   "outputs": [],
   "source": [
    "balancing_market = \"ORDC\""
   ]
  },
  {
   "cell_type": "code",
   "execution_count": null,
   "metadata": {},
   "outputs": [],
   "source": [
    "n.generators.min_down_time = 0\n",
    "n.generators.min_down_time = 0"
   ]
  },
  {
   "cell_type": "code",
   "execution_count": null,
   "metadata": {},
   "outputs": [],
   "source": [
    "n.optimize(\n",
    "    linearized_unit_commitment=True,\n",
    "    snapshots = n.snapshots[:24],\n",
    "    solver_name=\"highs\",\n",
    "    extra_functionality=reserve_model,\n",
    "    assign_all_duals=True\n",
    ")"
   ]
  },
  {
   "cell_type": "code",
   "execution_count": 62,
   "metadata": {},
   "outputs": [],
   "source": [
    "snapshots = n.snapshots[:24]"
   ]
  },
  {
   "cell_type": "code",
   "execution_count": 69,
   "metadata": {},
   "outputs": [
    {
     "data": {
      "text/plain": [
       "Constraint `Generator-com-ramp_upper` (snapshot: 24, Generator-com: 127):\n",
       "-------------------------------------------------------------------------\n",
       "[2010-01-01 00:00:00, AT00 biomass]: +1 Generator-r[2010-01-01 00:00:00, AT00 biomass] - 1580 Generator-status[2010-01-01 00:00:00, AT00 biomass]  ≤ 0\n",
       "[2010-01-01 00:00:00, AT00 oil]: +1 Generator-r[2010-01-01 00:00:00, AT00 oil] - 144 Generator-status[2010-01-01 00:00:00, AT00 oil]               ≤ 0\n",
       "[2010-01-01 00:00:00, AT00 other]: +1 Generator-r[2010-01-01 00:00:00, AT00 other] - 1902 Generator-status[2010-01-01 00:00:00, AT00 other]        ≤ 0\n",
       "[2010-01-01 00:00:00, BA00 lignite]: +1 Generator-r[2010-01-01 00:00:00, BA00 lignite] - 524.4 Generator-status[2010-01-01 00:00:00, BA00 lignite] ≤ 0\n",
       "[2010-01-01 00:00:00, BE00 biomass]: +1 Generator-r[2010-01-01 00:00:00, BE00 biomass] - 2180 Generator-status[2010-01-01 00:00:00, BE00 biomass]  ≤ 0\n",
       "[2010-01-01 00:00:00, BE00 nuclear]: +1 Generator-r[2010-01-01 00:00:00, BE00 nuclear] - 1558 Generator-status[2010-01-01 00:00:00, BE00 nuclear]  ≤ 0\n",
       "[2010-01-01 00:00:00, BE00 oil]: +1 Generator-r[2010-01-01 00:00:00, BE00 oil] - 168 Generator-status[2010-01-01 00:00:00, BE00 oil]               ≤ 0\n",
       "\t\t...\n",
       "[2010-01-01 23:00:00, UK00 biomass]: +1 Generator-r[2010-01-01 23:00:00, UK00 biomass] - 5061 Generator-status[2010-01-01 23:00:00, UK00 biomass]  ≤ 0\n",
       "[2010-01-01 23:00:00, UK00 nuclear]: +1 Generator-r[2010-01-01 23:00:00, UK00 nuclear] - 3428 Generator-status[2010-01-01 23:00:00, UK00 nuclear]  ≤ 0\n",
       "[2010-01-01 23:00:00, UK00 oil]: +1 Generator-r[2010-01-01 23:00:00, UK00 oil] - 618.1 Generator-status[2010-01-01 23:00:00, UK00 oil]             ≤ 0\n",
       "[2010-01-01 23:00:00, UK00 other]: +1 Generator-r[2010-01-01 23:00:00, UK00 other] - 1.306e+04 Generator-status[2010-01-01 23:00:00, UK00 other]   ≤ 0\n",
       "[2010-01-01 23:00:00, UKNI biomass]: +1 Generator-r[2010-01-01 23:00:00, UKNI biomass] - 184.5 Generator-status[2010-01-01 23:00:00, UKNI biomass] ≤ 0\n",
       "[2010-01-01 23:00:00, UKNI oil]: +1 Generator-r[2010-01-01 23:00:00, UKNI oil] - 466.8 Generator-status[2010-01-01 23:00:00, UKNI oil]             ≤ 0\n",
       "[2010-01-01 23:00:00, UKNI other]: +1 Generator-r[2010-01-01 23:00:00, UKNI other] - 20.25 Generator-status[2010-01-01 23:00:00, UKNI other]       ≤ 0"
      ]
     },
     "execution_count": 69,
     "metadata": {},
     "output_type": "execute_result"
    }
   ],
   "source": [
    "m = n.optimize.create_model(snapshots = snapshots, linearized_unit_commitment=True)\n",
    "\n",
    "reserve_gens = n.generators.loc[n.generators.bus.map(n.buses.carrier) == \"electricity\"]\n",
    "reserve_gens = reserve_gens.query(\"carrier in @reserve_participation_generators\")\n",
    "\n",
    "coord_reserve_gens = reserve_gens.index\n",
    "coord_reserve_gens.name = \"Generator-fix\"\n",
    "\n",
    "gen_r = m.add_variables(lower=0, name=\"Generator-r\", coords = [snapshots, coord_reserve_gens])\n",
    "\n",
    "lhs = m.constraints[\"Generator-fix-p-upper\"].lhs\n",
    "rhs = m.constraints[\"Generator-fix-p-upper\"].rhs\n",
    "m.remove_constraints(\"Generator-fix-p-upper\")\n",
    "m.add_constraints(lhs + gen_r <= rhs, name= \"Generator-fix-p-upper\")\n",
    "\n",
    "committable = reserve_gens.query(\"committable == True\").copy()\n",
    "\n",
    "committable_grouper = pd.Series(committable.index, committable.index)\n",
    "committable_grouper.name=\"Generator-com\"\n",
    "\n",
    "lhs = m.constraints[\"Generator-com-p-upper\"].lhs\n",
    "rhs = m.constraints[\"Generator-com-p-upper\"].rhs\n",
    "\n",
    "lhs += gen_r.loc[:, committable.index].groupby(committable_grouper).sum()\n",
    "m.remove_constraints(\"Generator-com-p-upper\")\n",
    "m.add_constraints( lhs <= rhs, name=\"Generator-com-p-upper\")\n",
    "\n",
    "gen_status = m[\"Generator-status\"]\n",
    "\n",
    "reserve_gen_status = gen_status.loc[:, committable.index]\n",
    "\n",
    "m.add_constraints(\n",
    "    gen_r.loc[:, committable.index].groupby(committable_grouper).sum()\n",
    "    <= (\n",
    "        reserve_gen_status*\n",
    "        (\n",
    "            committable.groupby(committable_grouper).ramp_limit_up.sum()\n",
    "            .multiply(delivery_time_reserves)\n",
    "            .multiply(committable.groupby(committable_grouper).p_nom.sum())     \n",
    "        )\n",
    "    ),\n",
    "    name = \"Generator-com-ramp_upper\"\n",
    ")"
   ]
  },
  {
   "cell_type": "code",
   "execution_count": 70,
   "metadata": {},
   "outputs": [],
   "source": [
    "res_shedding = m.add_variables(\n",
    "    lower=0, \n",
    "    name=\"Bus-reserve_shedding\", \n",
    "    coords=[snapshots, reserve_requirements.index]\n",
    ")"
   ]
  },
  {
   "cell_type": "code",
   "execution_count": 74,
   "metadata": {},
   "outputs": [],
   "source": [
    "storage = n.links.loc[n.links.type == \"discharging\"]\n",
    "\n",
    "storage_link_r = m.add_variables(lower = 0, name=\"Link-r\", coords = m[\"Link-p\"].loc[:, storage.index].coords)\n",
    "\n",
    "link_p = m[\"Link-p\"]\n",
    "\n",
    "m.add_constraints(\n",
    "    link_p.loc[:, storage.index] + storage_link_r <= n.links.p_nom.to_xarray(),\n",
    "    name = \"Link-capacity_upper\"\n",
    ");\n",
    "\n",
    "store_e = m[\"Store-e\"]\n",
    "\n",
    "store_link_map = n.stores.set_index(\"bus\",append=True).reset_index(\"Store\").reindex(storage.bus0)[\"Store\"]\n",
    "\n",
    "store_link_map.index = storage.index\n",
    "\n",
    "store_link_map.index.name = \"Link\"\n",
    "\n",
    "store_link_map.name=\"Store\""
   ]
  },
  {
   "cell_type": "code",
   "execution_count": 76,
   "metadata": {},
   "outputs": [],
   "source": [
    "m.add_constraints(\n",
    "    storage_link_r.groupby(store_link_map.to_xarray()).sum() <= store_e,\n",
    "    name=\"Link-reserve_reservoir_constraint\"\n",
    ")\n",
    "\n",
    "gen_grouper = reserve_gens.bus\n",
    "gen_grouper.name = \"Bus\"\n",
    "\n",
    "storage_grouper = storage.bus1\n",
    "storage_grouper.name = \"Bus\""
   ]
  },
  {
   "cell_type": "code",
   "execution_count": 77,
   "metadata": {},
   "outputs": [],
   "source": [
    "excess_r = m.add_variables(\n",
    "        lower = 0,\n",
    "        name = \"Bus-excess_r\",\n",
    "        coords = [snapshots, reserve_requirements.index]\n",
    "    )"
   ]
  },
  {
   "cell_type": "code",
   "execution_count": 78,
   "metadata": {},
   "outputs": [
    {
     "data": {
      "text/plain": [
       "Constraint `Bus-reserve_balance` (Bus: 49, snapshot: 24):\n",
       "---------------------------------------------------------\n",
       "[AL00, 2010-01-01 00:00:00]: +1 Generator-r[2010-01-01 00:00:00, AL00 onwind] + 1 Link-r[2010-01-01 00:00:00, AL00 reservoir discharger] + 1 Bus-reserve_shedding[2010-01-01 00:00:00, AL00] - 1 Bus-excess_r[2010-01-01 00:00:00, AL00]                                                                                                   ≥ -0.0\n",
       "[AL00, 2010-01-01 01:00:00]: +1 Generator-r[2010-01-01 01:00:00, AL00 onwind] + 1 Link-r[2010-01-01 01:00:00, AL00 reservoir discharger] + 1 Bus-reserve_shedding[2010-01-01 01:00:00, AL00] - 1 Bus-excess_r[2010-01-01 01:00:00, AL00]                                                                                                   ≥ -0.0\n",
       "[AL00, 2010-01-01 02:00:00]: +1 Generator-r[2010-01-01 02:00:00, AL00 onwind] + 1 Link-r[2010-01-01 02:00:00, AL00 reservoir discharger] + 1 Bus-reserve_shedding[2010-01-01 02:00:00, AL00] - 1 Bus-excess_r[2010-01-01 02:00:00, AL00]                                                                                                   ≥ -0.0\n",
       "[AL00, 2010-01-01 03:00:00]: +1 Generator-r[2010-01-01 03:00:00, AL00 onwind] + 1 Link-r[2010-01-01 03:00:00, AL00 reservoir discharger] + 1 Bus-reserve_shedding[2010-01-01 03:00:00, AL00] - 1 Bus-excess_r[2010-01-01 03:00:00, AL00]                                                                                                   ≥ -0.0\n",
       "[AL00, 2010-01-01 04:00:00]: +1 Generator-r[2010-01-01 04:00:00, AL00 onwind] + 1 Link-r[2010-01-01 04:00:00, AL00 reservoir discharger] + 1 Bus-reserve_shedding[2010-01-01 04:00:00, AL00] - 1 Bus-excess_r[2010-01-01 04:00:00, AL00]                                                                                                   ≥ -0.0\n",
       "[AL00, 2010-01-01 05:00:00]: +1 Generator-r[2010-01-01 05:00:00, AL00 onwind] + 1 Link-r[2010-01-01 05:00:00, AL00 reservoir discharger] + 1 Bus-reserve_shedding[2010-01-01 05:00:00, AL00] - 1 Bus-excess_r[2010-01-01 05:00:00, AL00]                                                                                                   ≥ -0.0\n",
       "[AL00, 2010-01-01 06:00:00]: +1 Generator-r[2010-01-01 06:00:00, AL00 onwind] + 1 Link-r[2010-01-01 06:00:00, AL00 reservoir discharger] + 1 Bus-reserve_shedding[2010-01-01 06:00:00, AL00] - 1 Bus-excess_r[2010-01-01 06:00:00, AL00]                                                                                                   ≥ -0.0\n",
       "\t\t...\n",
       "[UKNI, 2010-01-01 17:00:00]: +1 Generator-r[2010-01-01 17:00:00, UKNI biomass] + 1 Generator-r[2010-01-01 17:00:00, UKNI oil] + 1 Generator-r[2010-01-01 17:00:00, UKNI other] ... +1 Link-r[2010-01-01 17:00:00, UKNI battery discharger] + 1 Bus-reserve_shedding[2010-01-01 17:00:00, UKNI] - 1 Bus-excess_r[2010-01-01 17:00:00, UKNI] ≥ -0.0\n",
       "[UKNI, 2010-01-01 18:00:00]: +1 Generator-r[2010-01-01 18:00:00, UKNI biomass] + 1 Generator-r[2010-01-01 18:00:00, UKNI oil] + 1 Generator-r[2010-01-01 18:00:00, UKNI other] ... +1 Link-r[2010-01-01 18:00:00, UKNI battery discharger] + 1 Bus-reserve_shedding[2010-01-01 18:00:00, UKNI] - 1 Bus-excess_r[2010-01-01 18:00:00, UKNI] ≥ -0.0\n",
       "[UKNI, 2010-01-01 19:00:00]: +1 Generator-r[2010-01-01 19:00:00, UKNI biomass] + 1 Generator-r[2010-01-01 19:00:00, UKNI oil] + 1 Generator-r[2010-01-01 19:00:00, UKNI other] ... +1 Link-r[2010-01-01 19:00:00, UKNI battery discharger] + 1 Bus-reserve_shedding[2010-01-01 19:00:00, UKNI] - 1 Bus-excess_r[2010-01-01 19:00:00, UKNI] ≥ -0.0\n",
       "[UKNI, 2010-01-01 20:00:00]: +1 Generator-r[2010-01-01 20:00:00, UKNI biomass] + 1 Generator-r[2010-01-01 20:00:00, UKNI oil] + 1 Generator-r[2010-01-01 20:00:00, UKNI other] ... +1 Link-r[2010-01-01 20:00:00, UKNI battery discharger] + 1 Bus-reserve_shedding[2010-01-01 20:00:00, UKNI] - 1 Bus-excess_r[2010-01-01 20:00:00, UKNI] ≥ -0.0\n",
       "[UKNI, 2010-01-01 21:00:00]: +1 Generator-r[2010-01-01 21:00:00, UKNI biomass] + 1 Generator-r[2010-01-01 21:00:00, UKNI oil] + 1 Generator-r[2010-01-01 21:00:00, UKNI other] ... +1 Link-r[2010-01-01 21:00:00, UKNI battery discharger] + 1 Bus-reserve_shedding[2010-01-01 21:00:00, UKNI] - 1 Bus-excess_r[2010-01-01 21:00:00, UKNI] ≥ -0.0\n",
       "[UKNI, 2010-01-01 22:00:00]: +1 Generator-r[2010-01-01 22:00:00, UKNI biomass] + 1 Generator-r[2010-01-01 22:00:00, UKNI oil] + 1 Generator-r[2010-01-01 22:00:00, UKNI other] ... +1 Link-r[2010-01-01 22:00:00, UKNI battery discharger] + 1 Bus-reserve_shedding[2010-01-01 22:00:00, UKNI] - 1 Bus-excess_r[2010-01-01 22:00:00, UKNI] ≥ -0.0\n",
       "[UKNI, 2010-01-01 23:00:00]: +1 Generator-r[2010-01-01 23:00:00, UKNI biomass] + 1 Generator-r[2010-01-01 23:00:00, UKNI oil] + 1 Generator-r[2010-01-01 23:00:00, UKNI other] ... +1 Link-r[2010-01-01 23:00:00, UKNI battery discharger] + 1 Bus-reserve_shedding[2010-01-01 23:00:00, UKNI] - 1 Bus-excess_r[2010-01-01 23:00:00, UKNI] ≥ -0.0"
      ]
     },
     "execution_count": 78,
     "metadata": {},
     "output_type": "execute_result"
    }
   ],
   "source": [
    "m.add_constraints(\n",
    "    gen_r.groupby(gen_grouper.to_xarray()).sum() \n",
    "    + storage_link_r.groupby(storage_grouper.to_xarray()).sum()\n",
    "    + res_shedding\n",
    "    >= excess_r,\n",
    "    name=\"Bus-reserve_balance\"\n",
    ")"
   ]
  },
  {
   "cell_type": "code",
   "execution_count": null,
   "metadata": {},
   "outputs": [],
   "source": [
    "a = linear_ordc_approximation[\"a\"]\n",
    "b = linear_ordc_approximation[\"b\"]\n",
    "\n",
    "a.index.names = [\"Bus\", \"break_point\"]\n",
    "b.index.names = [\"Bus\", \"break_point\"]\n",
    "\n",
    "\n",
    "ordc_cost_term = m.add_variables(coords=excess_r.coords, name=\"Bus-ORDC_cost\")\n",
    "\n",
    "m.add_constraints(\n",
    "    ordc_cost_term >= (a.to_xarray()*excess_r + b.to_xarray())*VOLL,\n",
    "    name=\"Bus-ORDC\"\n",
    ")\n",
    "\n",
    "obj = m.objective\n",
    "m.add_objective(obj + res_shedding.sum()*1e5 + ordc_cost_term.sum(), overwrite=True) "
   ]
  },
  {
   "cell_type": "code",
   "execution_count": null,
   "metadata": {
    "scrolled": true
   },
   "outputs": [],
   "source": [
    "m.solve(solver_name=\"highs\")"
   ]
  },
  {
   "cell_type": "code",
   "execution_count": null,
   "metadata": {},
   "outputs": [],
   "source": [
    "m.solution[\"Link-r\"].to_dataframe()"
   ]
  },
  {
   "cell_type": "code",
   "execution_count": null,
   "metadata": {},
   "outputs": [],
   "source": [
    "m.solution[\"Store-e\"].to_dataframe()"
   ]
  },
  {
   "cell_type": "code",
   "execution_count": null,
   "metadata": {},
   "outputs": [],
   "source": [
    "m.solution[\"Generator-r\"].to_dataframe()"
   ]
  },
  {
   "cell_type": "code",
   "execution_count": null,
   "metadata": {},
   "outputs": [],
   "source": []
  },
  {
   "cell_type": "code",
   "execution_count": null,
   "metadata": {},
   "outputs": [],
   "source": [
    "def duc(ts):\n",
    "    return ts.sort_values(ascending=False).reset_index(drop=True)"
   ]
  },
  {
   "cell_type": "code",
   "execution_count": null,
   "metadata": {},
   "outputs": [],
   "source": [
    "for col in n.buses_t.mu_reserve_balance.columns:\n",
    "    duc(n.buses_t.mu_reserve_balance[col]).plot()\n",
    "    "
   ]
  },
  {
   "cell_type": "code",
   "execution_count": null,
   "metadata": {},
   "outputs": [],
   "source": [
    "n.optimize(\n",
    "    solver_name=\"highs\",\n",
    "    assign_all_duals=True,\n",
    "    extra_functionality=reserves_unit_commitment,\n",
    "    linearized_unit_commitment=True,\n",
    "    snapshots=n.snapshots[:24]\n",
    ")"
   ]
  },
  {
   "cell_type": "code",
   "execution_count": null,
   "metadata": {},
   "outputs": [],
   "source": [
    "n.generators_t.r"
   ]
  },
  {
   "cell_type": "code",
   "execution_count": null,
   "metadata": {},
   "outputs": [],
   "source": [
    "n.links_t.r.sum(axis=1)"
   ]
  },
  {
   "cell_type": "code",
   "execution_count": null,
   "metadata": {},
   "outputs": [],
   "source": [
    "cap_constraints = n.generators_t.mu_ramp_upper.sum().add(\n",
    "    n.generators_t.mu_capacity_upper.sum(),\n",
    "    fill_value=0\n",
    ").add(\n",
    "    n.generators_t.mu_upper.sum(),\n",
    "    fill_value=0\n",
    ").add(\n",
    "    n.generators_t.mu_ramp.sum(),\n",
    "    fill_value=0\n",
    ")\n"
   ]
  },
  {
   "cell_type": "code",
   "execution_count": null,
   "metadata": {},
   "outputs": [],
   "source": [
    "cap_constraints = n.generators_t.mu_ramp_upper.sum().add(\n",
    "    n.generators_t.mu_capacity_upper.sum(),\n",
    "    fill_value=0\n",
    ").add(\n",
    "    n.generators_t.mu_upper.sum(),\n",
    "    fill_value=0\n",
    ").add(\n",
    "    n.generators_t.mu_ramp.sum(),\n",
    "    fill_value=0\n",
    ")\n"
   ]
  },
  {
   "cell_type": "code",
   "execution_count": null,
   "metadata": {},
   "outputs": [],
   "source": [
    "cap_constraints[cap_constraints!=0].plot.bar()"
   ]
  },
  {
   "cell_type": "code",
   "execution_count": null,
   "metadata": {},
   "outputs": [],
   "source": [
    "contribution_margin = n.buses_t.marginal_price[n.generators.bus].subtract(n.generators.marginal_cost.values).clip(0)"
   ]
  },
  {
   "cell_type": "code",
   "execution_count": null,
   "metadata": {},
   "outputs": [],
   "source": [
    "contribution_margin.columns = n.generators.index"
   ]
  },
  {
   "cell_type": "code",
   "execution_count": null,
   "metadata": {},
   "outputs": [],
   "source": [
    "reserve_price = n.buses_t.reserve_price.reindex(n.generators.loc[n.generators_t.r.columns, \"bus\"].values,axis=1)"
   ]
  },
  {
   "cell_type": "code",
   "execution_count": null,
   "metadata": {},
   "outputs": [],
   "source": [
    "reserve_price.columns = n.generators.index"
   ]
  },
  {
   "cell_type": "code",
   "execution_count": null,
   "metadata": {},
   "outputs": [],
   "source": [
    "revenue_per_cap = n.generators_t.p.multiply(contribution_margin).sum().add(\n",
    "    n.generators_t.r.multiply(\n",
    "        reserve_price,\n",
    "        fill_value=0\n",
    "    ).sum()\n",
    ").div(n.generators.p_nom)"
   ]
  },
  {
   "cell_type": "code",
   "execution_count": null,
   "metadata": {},
   "outputs": [],
   "source": [
    "revenue_per_cap.sum()/cap_constraints.sum()"
   ]
  },
  {
   "cell_type": "code",
   "execution_count": null,
   "metadata": {},
   "outputs": [],
   "source": []
  },
  {
   "cell_type": "code",
   "execution_count": null,
   "metadata": {},
   "outputs": [],
   "source": [
    "(revenue_per_cap.sum() + cap_constraints.sum())/cap_constraints.sum()"
   ]
  },
  {
   "cell_type": "code",
   "execution_count": null,
   "metadata": {},
   "outputs": [],
   "source": [
    "(revenue_per_cap.sum() + n.generators_t.mu_upper.sum().sum())/n.generators_t.mu_upper.sum().sum()"
   ]
  },
  {
   "cell_type": "code",
   "execution_count": null,
   "metadata": {},
   "outputs": [],
   "source": [
    "n.generators_t.mu_upper.sum().sum()/revenue_per_cap.sum()"
   ]
  },
  {
   "cell_type": "code",
   "execution_count": null,
   "metadata": {},
   "outputs": [],
   "source": []
  },
  {
   "cell_type": "code",
   "execution_count": null,
   "metadata": {},
   "outputs": [],
   "source": [
    "n.generators_t.mu_upper.sum().loc[n.generators.bus.map(n.buses.carrier) == \"electricity\"].sort_values()"
   ]
  },
  {
   "cell_type": "code",
   "execution_count": null,
   "metadata": {},
   "outputs": [],
   "source": [
    "n.generators_t.p[\"CY00 csp\"].multiply(n.buses_t.marginal_price[\"CY00\"]).sum()"
   ]
  },
  {
   "cell_type": "code",
   "execution_count": null,
   "metadata": {},
   "outputs": [],
   "source": [
    "n.buses_t.marginal_price[\"GR03\"].plot()"
   ]
  },
  {
   "cell_type": "code",
   "execution_count": null,
   "metadata": {},
   "outputs": [],
   "source": [
    "revenue_per_cap.sort_values(ascending=False).loc[\"GR03 onwind\"]"
   ]
  },
  {
   "cell_type": "code",
   "execution_count": null,
   "metadata": {},
   "outputs": [],
   "source": [
    "n.generators_t.mu_upper.sum().sum()"
   ]
  },
  {
   "cell_type": "code",
   "execution_count": null,
   "metadata": {},
   "outputs": [],
   "source": []
  },
  {
   "cell_type": "code",
   "execution_count": null,
   "metadata": {},
   "outputs": [],
   "source": [
    "cap_constraints.sum()"
   ]
  },
  {
   "cell_type": "code",
   "execution_count": null,
   "metadata": {},
   "outputs": [],
   "source": [
    "n.generators_t.mu_capacity_upper[unit][n.generators_t.mu_capacity_upper[unit]<-0.00000001]\n"
   ]
  },
  {
   "cell_type": "code",
   "execution_count": null,
   "metadata": {},
   "outputs": [],
   "source": [
    "n.ge"
   ]
  },
  {
   "cell_type": "code",
   "execution_count": null,
   "metadata": {},
   "outputs": [],
   "source": [
    "n.buses_t.reserve_price.dropna(how=\"all\",axis=1).dropna().plot(legend=False)"
   ]
  },
  {
   "cell_type": "code",
   "execution_count": null,
   "metadata": {},
   "outputs": [],
   "source": [
    "n = pypsa.Network(\"results/networks/base/cy1982_ty2025.nc\")"
   ]
  },
  {
   "cell_type": "code",
   "execution_count": null,
   "metadata": {},
   "outputs": [],
   "source": [
    "import datetime"
   ]
  },
  {
   "cell_type": "code",
   "execution_count": null,
   "metadata": {},
   "outputs": [],
   "source": [
    "start = datetime.datetime.now()\n",
    "\n",
    "n.generators.loc[n.generators.query(\"carrier in @dispatchable\").index, \"committable\"] = False\n",
    "\n",
    "n.optimize(solver_name=\"highs\", snapshots=n.snapshots[:24])\n",
    "\n",
    "end = datetime.datetime.now()\n",
    "\n",
    "print(end-start)"
   ]
  },
  {
   "cell_type": "code",
   "execution_count": null,
   "metadata": {},
   "outputs": [],
   "source": [
    "start = datetime.datetime.now()\n",
    "\n",
    "n.generators.loc[n.generators.query(\"carrier in @dispatchable\").index, \"committable\"] = True\n",
    "\n",
    "n.optimize(solver_name=\"highs\", snapshots=n.snapshots[:24], linearized_unit_commitment=True)\n",
    "\n",
    "end = datetime.datetime.now()\n",
    "\n",
    "print(end-start)"
   ]
  },
  {
   "cell_type": "code",
   "execution_count": null,
   "metadata": {},
   "outputs": [],
   "source": [
    "snapshots = n.snapshots[:24]"
   ]
  },
  {
   "cell_type": "code",
   "execution_count": null,
   "metadata": {},
   "outputs": [],
   "source": [
    "n.generators.loc[n.generators.committable == True, \"min_down_time\"] = 2\n",
    "n.generators.loc[n.generators.committable == True, \"min_up_time\"] = 2"
   ]
  },
  {
   "cell_type": "code",
   "execution_count": null,
   "metadata": {},
   "outputs": [],
   "source": [
    "m = n.optimize.create_model(linearized_unit_commitment=True, snapshots=snapshots)"
   ]
  },
  {
   "cell_type": "code",
   "execution_count": null,
   "metadata": {},
   "outputs": [],
   "source": [
    "n.optimize(snapshots=snapshots, solver_name=\"highs\", extra_functionality=reserves_unit_commitment)"
   ]
  },
  {
   "cell_type": "code",
   "execution_count": null,
   "metadata": {},
   "outputs": [],
   "source": [
    "dirname = os.path.dirname(solved_network)"
   ]
  },
  {
   "cell_type": "code",
   "execution_count": null,
   "metadata": {},
   "outputs": [],
   "source": [
    "if not os.path.isdir(dirname):\n",
    "    os.makedirs(dirname)"
   ]
  },
  {
   "cell_type": "code",
   "execution_count": null,
   "metadata": {},
   "outputs": [],
   "source": [
    "n.export_to_netcdf(solved_network)"
   ]
  },
  {
   "cell_type": "code",
   "execution_count": null,
   "metadata": {},
   "outputs": [],
   "source": []
  },
  {
   "cell_type": "code",
   "execution_count": null,
   "metadata": {},
   "outputs": [],
   "source": []
  }
 ],
 "metadata": {
  "kernelspec": {
   "display_name": "pypsa-training",
   "language": "python",
   "name": "pypsa-training"
  },
  "language_info": {
   "codemirror_mode": {
    "name": "ipython",
    "version": 3
   },
   "file_extension": ".py",
   "mimetype": "text/x-python",
   "name": "python",
   "nbconvert_exporter": "python",
   "pygments_lexer": "ipython3",
   "version": "3.10.13"
  }
 },
 "nbformat": 4,
 "nbformat_minor": 4
}
