{
 "cells": [
  {
   "cell_type": "code",
   "execution_count": 37,
   "metadata": {},
   "outputs": [],
   "source": [
    "import pandas as pd"
   ]
  },
  {
   "cell_type": "code",
   "execution_count": 38,
   "metadata": {},
   "outputs": [],
   "source": [
    "import glob"
   ]
  },
  {
   "cell_type": "code",
   "execution_count": 39,
   "metadata": {},
   "outputs": [],
   "source": [
    "import numpy as np"
   ]
  },
  {
   "cell_type": "code",
   "execution_count": 40,
   "metadata": {},
   "outputs": [],
   "source": [
    "def scaling(input_data, offset, adjustment_factor):\n",
    "    return (\n",
    "        np.log(\n",
    "            (input_data - offset)\n",
    "            .clip(1e-6))\n",
    "        .multiply(adjustment_factor)\n",
    "    )"
   ]
  },
  {
   "cell_type": "code",
   "execution_count": 41,
   "metadata": {},
   "outputs": [],
   "source": [
    "def capacity_adjustment_new_plants(average_expected_revenue):\n",
    "    \n",
    "    revenue_lifetime_new = pd.Series(index = average_expected_revenue.filter(like=\"new\").columns)\n",
    "\n",
    "    lifetime_new = costs.loc[:, \"lifetime\", :].reindex([i.split(\" \")[1] for i in revenue_lifetime_new.index]).value\n",
    "    lifetime_new.index = revenue_lifetime_new.index\n",
    "\n",
    "    for plant in revenue_lifetime_new.index:\n",
    "\n",
    "        tech = initial_capacity_table.loc[plant, \"carrier\"].iloc[0]\n",
    "        entry = initial_capacity_table.loc[plant, \"entry\"].iloc[0]\n",
    "\n",
    "        initial_capacity_table.loc[plant]\n",
    "\n",
    "        lifetime = lifetime_new.loc[plant]\n",
    "\n",
    "        revenue_horizon = average_expected_revenue[plant].loc[entry: min(end_year, entry+lifetime)].sum()\n",
    "        revenue_beyond = average_expected_revenue.loc[end_year,plant]*max(lifetime - (end_year - entry), 0)\n",
    "        revenue_lifetime_new.loc[plant] = revenue_horizon + revenue_beyond\n",
    "\n",
    "    invest_cost_new = costs.loc[:, \"investment\", :].reindex([i.split(\" \")[1] for i in revenue_lifetime_new.index]).value.multiply(1e3) #converstion to EUR/MW\n",
    "    invest_cost_new.index = revenue_lifetime_new.index\n",
    "\n",
    "\n",
    "\n",
    "\n",
    "    fixed_om_new = (\n",
    "        costs.loc[:, \"FOM\", :]\n",
    "        .reindex([i.split(\" \")[1] for i in revenue_lifetime_new.index])\n",
    "        .value\n",
    "        .multiply(\n",
    "            costs.loc[:, \"investment\", :]\n",
    "            .reindex([i.split(\" \")[1] for i in revenue_lifetime_new.index])\n",
    "            .value\n",
    "            .multiply(1e3)\n",
    "        )\n",
    "    )\n",
    "\n",
    "    fixed_om_new.index = revenue_lifetime_new.index\n",
    "\n",
    "    total_fixed_new = invest_cost_new + fixed_om_new.multiply(lifetime_new)\n",
    "\n",
    "    demand_scaling_factor = (\n",
    "        demand.groupby(level=2).mean()\n",
    "        .reindex(revenue_lifetime_new.index.str[:4])\n",
    "    )\n",
    "\n",
    "    demand_scaling_factor.index = revenue_lifetime_new.index\n",
    "\n",
    "\n",
    "    return scaling(\n",
    "        revenue_lifetime_new.div(total_fixed_new),\n",
    "        offset,\n",
    "        adjustment_factor    \n",
    "    ).multiply(\n",
    "        demand_scaling_factor\n",
    "    )"
   ]
  },
  {
   "cell_type": "code",
   "execution_count": 42,
   "metadata": {},
   "outputs": [],
   "source": [
    "def capacity_adjustment_existing_plants(average_expected_revenue):\n",
    "    \n",
    "\n",
    "    revenue_lifetime_existing = pd.DataFrame(\n",
    "        index = average_expected_revenue.index, \n",
    "        columns = [i for i in average_expected_revenue if \"new\" not in i]\n",
    "    )\n",
    "\n",
    "    relative_fixed_om = costs.loc[:, \"FOM\", :].reindex([i.split(\" \")[1] for i in revenue_lifetime_existing]).value\n",
    "\n",
    "    relative_fixed_om.index = revenue_lifetime_existing.columns\n",
    "\n",
    "    invest_cost = (\n",
    "        costs.loc[:, \"investment\", :]\n",
    "        .reindex([i.split(\" \")[1] for i in revenue_lifetime_existing])\n",
    "        .value\n",
    "        .multiply(1e3) #converstion to EUR/MW\n",
    "    ) \n",
    "\n",
    "    invest_cost.index = revenue_lifetime_existing.columns\n",
    "    total_fixed_om = relative_fixed_om.multiply(invest_cost).divide(100) # O&M given in %\n",
    "    \n",
    "\n",
    "    total_fixed = pd.DataFrame(\n",
    "            index = average_expected_revenue.index, \n",
    "            columns = [i for i in average_expected_revenue if \"new\" not in i]\n",
    "        )\n",
    "\n",
    "    for plant in revenue_lifetime_existing.columns:\n",
    "        \n",
    "        tech = initial_capacity_table.loc[plant, \"carrier\"].unique()[0]\n",
    "\n",
    "        entry = int(initial_capacity_table.loc[plant, \"entry\"].unique()[0])\n",
    "        exit = int(initial_capacity_table.loc[plant, \"exit\"].unique()[0])\n",
    "\n",
    "        for year in range(max(start_year, entry), min(exit, end_year+1)):\n",
    "            revenue_lifetime_existing.loc[year, plant] = average_expected_revenue.loc[start_year:year, plant].fillna(0).sum()\n",
    "            total_fixed.loc[year, plant] = (year + 1 - entry)*total_fixed_om.loc[plant]\n",
    "\n",
    "    revenue_lifetime_existing = revenue_lifetime_existing.astype(float)\n",
    "    total_fixed = total_fixed.astype(float)\n",
    "\n",
    "    demand_scaling_factor = (\n",
    "            demand.groupby(level=2).mean()\n",
    "            .reindex(revenue_lifetime_existing.columns.str[:4])\n",
    "        )\n",
    "\n",
    "    demand_scaling_factor.index = revenue_lifetime_existing.columns\n",
    "\n",
    "    return scaling(\n",
    "        revenue_lifetime_existing.divide(total_fixed),\n",
    "        offset,\n",
    "        adjustment_factor    \n",
    "    ).multiply(\n",
    "        demand_scaling_factor\n",
    "    )\n",
    "        "
   ]
  },
  {
   "cell_type": "code",
   "execution_count": 43,
   "metadata": {},
   "outputs": [],
   "source": [
    "adjustment_factor = 0.005"
   ]
  },
  {
   "cell_type": "code",
   "execution_count": 44,
   "metadata": {},
   "outputs": [],
   "source": [
    "offset = 0.1"
   ]
  },
  {
   "cell_type": "code",
   "execution_count": 45,
   "metadata": {},
   "outputs": [],
   "source": [
    "demand = pd.read_hdf(\"resources/demand.h5\")"
   ]
  },
  {
   "cell_type": "code",
   "execution_count": 46,
   "metadata": {},
   "outputs": [],
   "source": [
    "revenue_files = glob.glob(\"results/revenues/0/*\")"
   ]
  },
  {
   "cell_type": "code",
   "execution_count": 47,
   "metadata": {},
   "outputs": [
    {
     "ename": "FileNotFoundError",
     "evalue": "[Errno 2] No such file or directory: 'resources/capacity_tables/0.csv'",
     "output_type": "error",
     "traceback": [
      "\u001b[0;31m---------------------------------------------------------------------------\u001b[0m",
      "\u001b[0;31mFileNotFoundError\u001b[0m                         Traceback (most recent call last)",
      "Cell \u001b[0;32mIn[47], line 1\u001b[0m\n\u001b[0;32m----> 1\u001b[0m initial_capacity_table \u001b[38;5;241m=\u001b[39m \u001b[43mpd\u001b[49m\u001b[38;5;241;43m.\u001b[39;49m\u001b[43mread_csv\u001b[49m\u001b[43m(\u001b[49m\u001b[38;5;124;43m\"\u001b[39;49m\u001b[38;5;124;43mresources/capacity_tables/0.csv\u001b[39;49m\u001b[38;5;124;43m\"\u001b[39;49m\u001b[43m,\u001b[49m\u001b[43m \u001b[49m\u001b[43mindex_col\u001b[49m\u001b[38;5;241;43m=\u001b[39;49m\u001b[43m[\u001b[49m\u001b[38;5;241;43m0\u001b[39;49m\u001b[43m,\u001b[49m\u001b[38;5;241;43m1\u001b[39;49m\u001b[43m]\u001b[49m\u001b[43m)\u001b[49m\n",
      "File \u001b[0;32m~/.conda/envs/pypsa-training/lib/python3.10/site-packages/pandas/io/parsers/readers.py:912\u001b[0m, in \u001b[0;36mread_csv\u001b[0;34m(filepath_or_buffer, sep, delimiter, header, names, index_col, usecols, dtype, engine, converters, true_values, false_values, skipinitialspace, skiprows, skipfooter, nrows, na_values, keep_default_na, na_filter, verbose, skip_blank_lines, parse_dates, infer_datetime_format, keep_date_col, date_parser, date_format, dayfirst, cache_dates, iterator, chunksize, compression, thousands, decimal, lineterminator, quotechar, quoting, doublequote, escapechar, comment, encoding, encoding_errors, dialect, on_bad_lines, delim_whitespace, low_memory, memory_map, float_precision, storage_options, dtype_backend)\u001b[0m\n\u001b[1;32m    899\u001b[0m kwds_defaults \u001b[38;5;241m=\u001b[39m _refine_defaults_read(\n\u001b[1;32m    900\u001b[0m     dialect,\n\u001b[1;32m    901\u001b[0m     delimiter,\n\u001b[0;32m   (...)\u001b[0m\n\u001b[1;32m    908\u001b[0m     dtype_backend\u001b[38;5;241m=\u001b[39mdtype_backend,\n\u001b[1;32m    909\u001b[0m )\n\u001b[1;32m    910\u001b[0m kwds\u001b[38;5;241m.\u001b[39mupdate(kwds_defaults)\n\u001b[0;32m--> 912\u001b[0m \u001b[38;5;28;01mreturn\u001b[39;00m \u001b[43m_read\u001b[49m\u001b[43m(\u001b[49m\u001b[43mfilepath_or_buffer\u001b[49m\u001b[43m,\u001b[49m\u001b[43m \u001b[49m\u001b[43mkwds\u001b[49m\u001b[43m)\u001b[49m\n",
      "File \u001b[0;32m~/.conda/envs/pypsa-training/lib/python3.10/site-packages/pandas/io/parsers/readers.py:577\u001b[0m, in \u001b[0;36m_read\u001b[0;34m(filepath_or_buffer, kwds)\u001b[0m\n\u001b[1;32m    574\u001b[0m _validate_names(kwds\u001b[38;5;241m.\u001b[39mget(\u001b[38;5;124m\"\u001b[39m\u001b[38;5;124mnames\u001b[39m\u001b[38;5;124m\"\u001b[39m, \u001b[38;5;28;01mNone\u001b[39;00m))\n\u001b[1;32m    576\u001b[0m \u001b[38;5;66;03m# Create the parser.\u001b[39;00m\n\u001b[0;32m--> 577\u001b[0m parser \u001b[38;5;241m=\u001b[39m \u001b[43mTextFileReader\u001b[49m\u001b[43m(\u001b[49m\u001b[43mfilepath_or_buffer\u001b[49m\u001b[43m,\u001b[49m\u001b[43m \u001b[49m\u001b[38;5;241;43m*\u001b[39;49m\u001b[38;5;241;43m*\u001b[39;49m\u001b[43mkwds\u001b[49m\u001b[43m)\u001b[49m\n\u001b[1;32m    579\u001b[0m \u001b[38;5;28;01mif\u001b[39;00m chunksize \u001b[38;5;129;01mor\u001b[39;00m iterator:\n\u001b[1;32m    580\u001b[0m     \u001b[38;5;28;01mreturn\u001b[39;00m parser\n",
      "File \u001b[0;32m~/.conda/envs/pypsa-training/lib/python3.10/site-packages/pandas/io/parsers/readers.py:1407\u001b[0m, in \u001b[0;36mTextFileReader.__init__\u001b[0;34m(self, f, engine, **kwds)\u001b[0m\n\u001b[1;32m   1404\u001b[0m     \u001b[38;5;28mself\u001b[39m\u001b[38;5;241m.\u001b[39moptions[\u001b[38;5;124m\"\u001b[39m\u001b[38;5;124mhas_index_names\u001b[39m\u001b[38;5;124m\"\u001b[39m] \u001b[38;5;241m=\u001b[39m kwds[\u001b[38;5;124m\"\u001b[39m\u001b[38;5;124mhas_index_names\u001b[39m\u001b[38;5;124m\"\u001b[39m]\n\u001b[1;32m   1406\u001b[0m \u001b[38;5;28mself\u001b[39m\u001b[38;5;241m.\u001b[39mhandles: IOHandles \u001b[38;5;241m|\u001b[39m \u001b[38;5;28;01mNone\u001b[39;00m \u001b[38;5;241m=\u001b[39m \u001b[38;5;28;01mNone\u001b[39;00m\n\u001b[0;32m-> 1407\u001b[0m \u001b[38;5;28mself\u001b[39m\u001b[38;5;241m.\u001b[39m_engine \u001b[38;5;241m=\u001b[39m \u001b[38;5;28;43mself\u001b[39;49m\u001b[38;5;241;43m.\u001b[39;49m\u001b[43m_make_engine\u001b[49m\u001b[43m(\u001b[49m\u001b[43mf\u001b[49m\u001b[43m,\u001b[49m\u001b[43m \u001b[49m\u001b[38;5;28;43mself\u001b[39;49m\u001b[38;5;241;43m.\u001b[39;49m\u001b[43mengine\u001b[49m\u001b[43m)\u001b[49m\n",
      "File \u001b[0;32m~/.conda/envs/pypsa-training/lib/python3.10/site-packages/pandas/io/parsers/readers.py:1661\u001b[0m, in \u001b[0;36mTextFileReader._make_engine\u001b[0;34m(self, f, engine)\u001b[0m\n\u001b[1;32m   1659\u001b[0m     \u001b[38;5;28;01mif\u001b[39;00m \u001b[38;5;124m\"\u001b[39m\u001b[38;5;124mb\u001b[39m\u001b[38;5;124m\"\u001b[39m \u001b[38;5;129;01mnot\u001b[39;00m \u001b[38;5;129;01min\u001b[39;00m mode:\n\u001b[1;32m   1660\u001b[0m         mode \u001b[38;5;241m+\u001b[39m\u001b[38;5;241m=\u001b[39m \u001b[38;5;124m\"\u001b[39m\u001b[38;5;124mb\u001b[39m\u001b[38;5;124m\"\u001b[39m\n\u001b[0;32m-> 1661\u001b[0m \u001b[38;5;28mself\u001b[39m\u001b[38;5;241m.\u001b[39mhandles \u001b[38;5;241m=\u001b[39m \u001b[43mget_handle\u001b[49m\u001b[43m(\u001b[49m\n\u001b[1;32m   1662\u001b[0m \u001b[43m    \u001b[49m\u001b[43mf\u001b[49m\u001b[43m,\u001b[49m\n\u001b[1;32m   1663\u001b[0m \u001b[43m    \u001b[49m\u001b[43mmode\u001b[49m\u001b[43m,\u001b[49m\n\u001b[1;32m   1664\u001b[0m \u001b[43m    \u001b[49m\u001b[43mencoding\u001b[49m\u001b[38;5;241;43m=\u001b[39;49m\u001b[38;5;28;43mself\u001b[39;49m\u001b[38;5;241;43m.\u001b[39;49m\u001b[43moptions\u001b[49m\u001b[38;5;241;43m.\u001b[39;49m\u001b[43mget\u001b[49m\u001b[43m(\u001b[49m\u001b[38;5;124;43m\"\u001b[39;49m\u001b[38;5;124;43mencoding\u001b[39;49m\u001b[38;5;124;43m\"\u001b[39;49m\u001b[43m,\u001b[49m\u001b[43m \u001b[49m\u001b[38;5;28;43;01mNone\u001b[39;49;00m\u001b[43m)\u001b[49m\u001b[43m,\u001b[49m\n\u001b[1;32m   1665\u001b[0m \u001b[43m    \u001b[49m\u001b[43mcompression\u001b[49m\u001b[38;5;241;43m=\u001b[39;49m\u001b[38;5;28;43mself\u001b[39;49m\u001b[38;5;241;43m.\u001b[39;49m\u001b[43moptions\u001b[49m\u001b[38;5;241;43m.\u001b[39;49m\u001b[43mget\u001b[49m\u001b[43m(\u001b[49m\u001b[38;5;124;43m\"\u001b[39;49m\u001b[38;5;124;43mcompression\u001b[39;49m\u001b[38;5;124;43m\"\u001b[39;49m\u001b[43m,\u001b[49m\u001b[43m \u001b[49m\u001b[38;5;28;43;01mNone\u001b[39;49;00m\u001b[43m)\u001b[49m\u001b[43m,\u001b[49m\n\u001b[1;32m   1666\u001b[0m \u001b[43m    \u001b[49m\u001b[43mmemory_map\u001b[49m\u001b[38;5;241;43m=\u001b[39;49m\u001b[38;5;28;43mself\u001b[39;49m\u001b[38;5;241;43m.\u001b[39;49m\u001b[43moptions\u001b[49m\u001b[38;5;241;43m.\u001b[39;49m\u001b[43mget\u001b[49m\u001b[43m(\u001b[49m\u001b[38;5;124;43m\"\u001b[39;49m\u001b[38;5;124;43mmemory_map\u001b[39;49m\u001b[38;5;124;43m\"\u001b[39;49m\u001b[43m,\u001b[49m\u001b[43m \u001b[49m\u001b[38;5;28;43;01mFalse\u001b[39;49;00m\u001b[43m)\u001b[49m\u001b[43m,\u001b[49m\n\u001b[1;32m   1667\u001b[0m \u001b[43m    \u001b[49m\u001b[43mis_text\u001b[49m\u001b[38;5;241;43m=\u001b[39;49m\u001b[43mis_text\u001b[49m\u001b[43m,\u001b[49m\n\u001b[1;32m   1668\u001b[0m \u001b[43m    \u001b[49m\u001b[43merrors\u001b[49m\u001b[38;5;241;43m=\u001b[39;49m\u001b[38;5;28;43mself\u001b[39;49m\u001b[38;5;241;43m.\u001b[39;49m\u001b[43moptions\u001b[49m\u001b[38;5;241;43m.\u001b[39;49m\u001b[43mget\u001b[49m\u001b[43m(\u001b[49m\u001b[38;5;124;43m\"\u001b[39;49m\u001b[38;5;124;43mencoding_errors\u001b[39;49m\u001b[38;5;124;43m\"\u001b[39;49m\u001b[43m,\u001b[49m\u001b[43m \u001b[49m\u001b[38;5;124;43m\"\u001b[39;49m\u001b[38;5;124;43mstrict\u001b[39;49m\u001b[38;5;124;43m\"\u001b[39;49m\u001b[43m)\u001b[49m\u001b[43m,\u001b[49m\n\u001b[1;32m   1669\u001b[0m \u001b[43m    \u001b[49m\u001b[43mstorage_options\u001b[49m\u001b[38;5;241;43m=\u001b[39;49m\u001b[38;5;28;43mself\u001b[39;49m\u001b[38;5;241;43m.\u001b[39;49m\u001b[43moptions\u001b[49m\u001b[38;5;241;43m.\u001b[39;49m\u001b[43mget\u001b[49m\u001b[43m(\u001b[49m\u001b[38;5;124;43m\"\u001b[39;49m\u001b[38;5;124;43mstorage_options\u001b[39;49m\u001b[38;5;124;43m\"\u001b[39;49m\u001b[43m,\u001b[49m\u001b[43m \u001b[49m\u001b[38;5;28;43;01mNone\u001b[39;49;00m\u001b[43m)\u001b[49m\u001b[43m,\u001b[49m\n\u001b[1;32m   1670\u001b[0m \u001b[43m\u001b[49m\u001b[43m)\u001b[49m\n\u001b[1;32m   1671\u001b[0m \u001b[38;5;28;01massert\u001b[39;00m \u001b[38;5;28mself\u001b[39m\u001b[38;5;241m.\u001b[39mhandles \u001b[38;5;129;01mis\u001b[39;00m \u001b[38;5;129;01mnot\u001b[39;00m \u001b[38;5;28;01mNone\u001b[39;00m\n\u001b[1;32m   1672\u001b[0m f \u001b[38;5;241m=\u001b[39m \u001b[38;5;28mself\u001b[39m\u001b[38;5;241m.\u001b[39mhandles\u001b[38;5;241m.\u001b[39mhandle\n",
      "File \u001b[0;32m~/.conda/envs/pypsa-training/lib/python3.10/site-packages/pandas/io/common.py:859\u001b[0m, in \u001b[0;36mget_handle\u001b[0;34m(path_or_buf, mode, encoding, compression, memory_map, is_text, errors, storage_options)\u001b[0m\n\u001b[1;32m    854\u001b[0m \u001b[38;5;28;01melif\u001b[39;00m \u001b[38;5;28misinstance\u001b[39m(handle, \u001b[38;5;28mstr\u001b[39m):\n\u001b[1;32m    855\u001b[0m     \u001b[38;5;66;03m# Check whether the filename is to be opened in binary mode.\u001b[39;00m\n\u001b[1;32m    856\u001b[0m     \u001b[38;5;66;03m# Binary mode does not support 'encoding' and 'newline'.\u001b[39;00m\n\u001b[1;32m    857\u001b[0m     \u001b[38;5;28;01mif\u001b[39;00m ioargs\u001b[38;5;241m.\u001b[39mencoding \u001b[38;5;129;01mand\u001b[39;00m \u001b[38;5;124m\"\u001b[39m\u001b[38;5;124mb\u001b[39m\u001b[38;5;124m\"\u001b[39m \u001b[38;5;129;01mnot\u001b[39;00m \u001b[38;5;129;01min\u001b[39;00m ioargs\u001b[38;5;241m.\u001b[39mmode:\n\u001b[1;32m    858\u001b[0m         \u001b[38;5;66;03m# Encoding\u001b[39;00m\n\u001b[0;32m--> 859\u001b[0m         handle \u001b[38;5;241m=\u001b[39m \u001b[38;5;28;43mopen\u001b[39;49m\u001b[43m(\u001b[49m\n\u001b[1;32m    860\u001b[0m \u001b[43m            \u001b[49m\u001b[43mhandle\u001b[49m\u001b[43m,\u001b[49m\n\u001b[1;32m    861\u001b[0m \u001b[43m            \u001b[49m\u001b[43mioargs\u001b[49m\u001b[38;5;241;43m.\u001b[39;49m\u001b[43mmode\u001b[49m\u001b[43m,\u001b[49m\n\u001b[1;32m    862\u001b[0m \u001b[43m            \u001b[49m\u001b[43mencoding\u001b[49m\u001b[38;5;241;43m=\u001b[39;49m\u001b[43mioargs\u001b[49m\u001b[38;5;241;43m.\u001b[39;49m\u001b[43mencoding\u001b[49m\u001b[43m,\u001b[49m\n\u001b[1;32m    863\u001b[0m \u001b[43m            \u001b[49m\u001b[43merrors\u001b[49m\u001b[38;5;241;43m=\u001b[39;49m\u001b[43merrors\u001b[49m\u001b[43m,\u001b[49m\n\u001b[1;32m    864\u001b[0m \u001b[43m            \u001b[49m\u001b[43mnewline\u001b[49m\u001b[38;5;241;43m=\u001b[39;49m\u001b[38;5;124;43m\"\u001b[39;49m\u001b[38;5;124;43m\"\u001b[39;49m\u001b[43m,\u001b[49m\n\u001b[1;32m    865\u001b[0m \u001b[43m        \u001b[49m\u001b[43m)\u001b[49m\n\u001b[1;32m    866\u001b[0m     \u001b[38;5;28;01melse\u001b[39;00m:\n\u001b[1;32m    867\u001b[0m         \u001b[38;5;66;03m# Binary mode\u001b[39;00m\n\u001b[1;32m    868\u001b[0m         handle \u001b[38;5;241m=\u001b[39m \u001b[38;5;28mopen\u001b[39m(handle, ioargs\u001b[38;5;241m.\u001b[39mmode)\n",
      "\u001b[0;31mFileNotFoundError\u001b[0m: [Errno 2] No such file or directory: 'resources/capacity_tables/0.csv'"
     ]
    }
   ],
   "source": [
    "initial_capacity_table = pd.read_csv(\"resources/capacity_tables/0.csv\", index_col=[0,1])"
   ]
  },
  {
   "cell_type": "code",
   "execution_count": null,
   "metadata": {},
   "outputs": [],
   "source": [
    "revenues = []\n",
    "climate_years = []\n",
    "target_years = []"
   ]
  },
  {
   "cell_type": "code",
   "execution_count": null,
   "metadata": {},
   "outputs": [],
   "source": [
    "for file in revenue_files:\n",
    "    revenues.append(pd.read_hdf(file))\n",
    "\n",
    "    climate_years.append(int(file.split(\"cy\")[1][:4]))\n",
    "    target_years.append(int(file.split(\"ty\")[1][:4]))"
   ]
  },
  {
   "cell_type": "code",
   "execution_count": null,
   "metadata": {},
   "outputs": [],
   "source": [
    "revenues = pd.concat(revenues,axis=1).T"
   ]
  },
  {
   "cell_type": "code",
   "execution_count": null,
   "metadata": {},
   "outputs": [],
   "source": [
    "revenues.index = pd.MultiIndex.from_arrays([climate_years, target_years])"
   ]
  },
  {
   "cell_type": "code",
   "execution_count": null,
   "metadata": {},
   "outputs": [],
   "source": [
    "costs = pd.read_csv(\"../technology-data/outputs/costs_2025.csv\", index_col=[0,1])"
   ]
  },
  {
   "cell_type": "code",
   "execution_count": null,
   "metadata": {},
   "outputs": [],
   "source": [
    "eva_technologies = ['CCGT', 'OCGT', 'oil', 'biomass', 'lignite', 'coal']"
   ]
  },
  {
   "cell_type": "code",
   "execution_count": null,
   "metadata": {},
   "outputs": [],
   "source": [
    "costs = costs.reindex(eva_technologies, level=0)"
   ]
  },
  {
   "cell_type": "code",
   "execution_count": null,
   "metadata": {},
   "outputs": [],
   "source": [
    "average_expected_revenue = revenues.groupby(level=1).mean()"
   ]
  },
  {
   "cell_type": "code",
   "execution_count": null,
   "metadata": {
    "scrolled": false
   },
   "outputs": [],
   "source": [
    "average_expected_revenue = average_expected_revenue[[i for i in average_expected_revenue.columns if i.split(\" \")[1] in eva_technologies]]"
   ]
  },
  {
   "cell_type": "code",
   "execution_count": null,
   "metadata": {},
   "outputs": [],
   "source": [
    "start_year = revenues.index.levels[1][0]\n",
    "end_year = revenues.index.levels[1][-1]"
   ]
  },
  {
   "cell_type": "code",
   "execution_count": 22,
   "metadata": {},
   "outputs": [],
   "source": [
    "capacity_adjustment_new = capacity_adjustment_new_plants(average_expected_revenue)"
   ]
  },
  {
   "cell_type": "code",
   "execution_count": 23,
   "metadata": {},
   "outputs": [],
   "source": [
    "capacity_adjustment_existing = capacity_adjustment_existing_plants(average_expected_revenue)"
   ]
  },
  {
   "cell_type": "code",
   "execution_count": 24,
   "metadata": {},
   "outputs": [],
   "source": [
    "p_nom_initial = initial_capacity_table.p_nom.unstack(0)"
   ]
  },
  {
   "cell_type": "code",
   "execution_count": 25,
   "metadata": {},
   "outputs": [],
   "source": [
    "p_nom_min = initial_capacity_table.p_nom_min.unstack(0)"
   ]
  },
  {
   "cell_type": "code",
   "execution_count": 26,
   "metadata": {},
   "outputs": [],
   "source": [
    "p_nom_max = initial_capacity_table.p_nom_max.unstack(0)"
   ]
  },
  {
   "cell_type": "raw",
   "metadata": {},
   "source": [
    "initial_capacity_changes = initial_capacity_table.p_nom.unstack(0).subtract(\n",
    "    initial_capacity_table.loc[:, start_year, :].p_nom\n",
    ")"
   ]
  },
  {
   "cell_type": "code",
   "execution_count": 27,
   "metadata": {},
   "outputs": [],
   "source": [
    "next_capacities_new = pd.concat(\n",
    "    [\n",
    "        p_nom_initial[capacity_adjustment_new.index].add(capacity_adjustment_new).unstack(),\n",
    "        p_nom_min[capacity_adjustment_new.index].unstack()\n",
    "    ],\n",
    "    axis=1\n",
    ").max(axis=1).dropna()"
   ]
  },
  {
   "cell_type": "code",
   "execution_count": 28,
   "metadata": {},
   "outputs": [],
   "source": [
    "capacity_adjustment_existing = (\n",
    "    capacity_adjustment_existing\n",
    "    .reindex(capacity_adjustment_existing.index[::-1])\n",
    "    .cummax()\n",
    "    .sort_index()\n",
    ")"
   ]
  },
  {
   "cell_type": "code",
   "execution_count": 29,
   "metadata": {},
   "outputs": [],
   "source": [
    "next_capacities_existing = pd.concat(\n",
    "    [\n",
    "        p_nom_initial[capacity_adjustment_existing.columns].add(capacity_adjustment_existing).unstack(),\n",
    "        p_nom_max[capacity_adjustment_existing.columns].unstack()\n",
    "    ],\n",
    "    axis=1\n",
    ").min(axis=1)"
   ]
  },
  {
   "cell_type": "code",
   "execution_count": 36,
   "metadata": {},
   "outputs": [
    {
     "data": {
      "text/html": [
       "<div>\n",
       "<style scoped>\n",
       "    .dataframe tbody tr th:only-of-type {\n",
       "        vertical-align: middle;\n",
       "    }\n",
       "\n",
       "    .dataframe tbody tr th {\n",
       "        vertical-align: top;\n",
       "    }\n",
       "\n",
       "    .dataframe thead th {\n",
       "        text-align: right;\n",
       "    }\n",
       "</style>\n",
       "<table border=\"1\" class=\"dataframe\">\n",
       "  <thead>\n",
       "    <tr style=\"text-align: right;\">\n",
       "      <th></th>\n",
       "      <th>BG00 coal exit 2028</th>\n",
       "      <th>CZ00 coal exit 2028</th>\n",
       "      <th>CZ00 coal exit 2033</th>\n",
       "      <th>DE00 coal exit 2028</th>\n",
       "      <th>DE00 coal exit 2030</th>\n",
       "      <th>DKW1 coal exit 2030</th>\n",
       "      <th>DKW1 coal exit 2033</th>\n",
       "      <th>ES00 coal exit 2028</th>\n",
       "      <th>FI00 coal exit 2030</th>\n",
       "      <th>FI00 coal exit 2033</th>\n",
       "      <th>...</th>\n",
       "      <th>NL00 coal exit 2030</th>\n",
       "      <th>PL00 coal exit 2028</th>\n",
       "      <th>PL00 coal exit 2033</th>\n",
       "      <th>PL00 coal exit 2034</th>\n",
       "      <th>RO00 coal exit 2028</th>\n",
       "      <th>RO00 coal exit 2033</th>\n",
       "      <th>SI00 coal exit 2033</th>\n",
       "      <th>SI00 coal exit 2034</th>\n",
       "      <th>SK00 coal exit 2028</th>\n",
       "      <th>SK00 coal exit 2034</th>\n",
       "    </tr>\n",
       "  </thead>\n",
       "  <tbody>\n",
       "    <tr>\n",
       "      <th>2025</th>\n",
       "      <td>85.754504</td>\n",
       "      <td>143.370393</td>\n",
       "      <td>28.667214</td>\n",
       "      <td>3034.413165</td>\n",
       "      <td>2878.446835</td>\n",
       "      <td>76.593488</td>\n",
       "      <td>59.005019</td>\n",
       "      <td>1052.230479</td>\n",
       "      <td>-822.778482</td>\n",
       "      <td>-822.778482</td>\n",
       "      <td>...</td>\n",
       "      <td>628.968052</td>\n",
       "      <td>-1456.687705</td>\n",
       "      <td>-1456.687705</td>\n",
       "      <td>-1456.687705</td>\n",
       "      <td>165.029025</td>\n",
       "      <td>201.365627</td>\n",
       "      <td>44.900263</td>\n",
       "      <td>42.624256</td>\n",
       "      <td>42.637509</td>\n",
       "      <td>89.196760</td>\n",
       "    </tr>\n",
       "    <tr>\n",
       "      <th>2026</th>\n",
       "      <td>84.966164</td>\n",
       "      <td>86.305318</td>\n",
       "      <td>-30.649841</td>\n",
       "      <td>2978.479741</td>\n",
       "      <td>2821.580339</td>\n",
       "      <td>63.969228</td>\n",
       "      <td>46.411804</td>\n",
       "      <td>1048.898126</td>\n",
       "      <td>-822.778482</td>\n",
       "      <td>-822.778482</td>\n",
       "      <td>...</td>\n",
       "      <td>616.360684</td>\n",
       "      <td>-1456.687705</td>\n",
       "      <td>-1456.687705</td>\n",
       "      <td>-1456.687705</td>\n",
       "      <td>163.729381</td>\n",
       "      <td>200.066993</td>\n",
       "      <td>44.474119</td>\n",
       "      <td>42.197893</td>\n",
       "      <td>41.225724</td>\n",
       "      <td>87.789216</td>\n",
       "    </tr>\n",
       "    <tr>\n",
       "      <th>2027</th>\n",
       "      <td>83.825347</td>\n",
       "      <td>-627.335939</td>\n",
       "      <td>-627.335939</td>\n",
       "      <td>2949.317592</td>\n",
       "      <td>2791.510021</td>\n",
       "      <td>51.325666</td>\n",
       "      <td>33.887342</td>\n",
       "      <td>1047.446210</td>\n",
       "      <td>-822.778482</td>\n",
       "      <td>-822.778482</td>\n",
       "      <td>...</td>\n",
       "      <td>610.135311</td>\n",
       "      <td>-1456.687705</td>\n",
       "      <td>-1456.687705</td>\n",
       "      <td>-1456.687705</td>\n",
       "      <td>162.736044</td>\n",
       "      <td>199.073782</td>\n",
       "      <td>44.193348</td>\n",
       "      <td>41.918257</td>\n",
       "      <td>40.160478</td>\n",
       "      <td>86.720288</td>\n",
       "    </tr>\n",
       "  </tbody>\n",
       "</table>\n",
       "<p>3 rows × 27 columns</p>\n",
       "</div>"
      ],
      "text/plain": [
       "      BG00 coal exit 2028  CZ00 coal exit 2028  CZ00 coal exit 2033  \\\n",
       "2025            85.754504           143.370393            28.667214   \n",
       "2026            84.966164            86.305318           -30.649841   \n",
       "2027            83.825347          -627.335939          -627.335939   \n",
       "\n",
       "      DE00 coal exit 2028  DE00 coal exit 2030  DKW1 coal exit 2030  \\\n",
       "2025          3034.413165          2878.446835            76.593488   \n",
       "2026          2978.479741          2821.580339            63.969228   \n",
       "2027          2949.317592          2791.510021            51.325666   \n",
       "\n",
       "      DKW1 coal exit 2033  ES00 coal exit 2028  FI00 coal exit 2030  \\\n",
       "2025            59.005019          1052.230479          -822.778482   \n",
       "2026            46.411804          1048.898126          -822.778482   \n",
       "2027            33.887342          1047.446210          -822.778482   \n",
       "\n",
       "      FI00 coal exit 2033  ...  NL00 coal exit 2030  PL00 coal exit 2028  \\\n",
       "2025          -822.778482  ...           628.968052         -1456.687705   \n",
       "2026          -822.778482  ...           616.360684         -1456.687705   \n",
       "2027          -822.778482  ...           610.135311         -1456.687705   \n",
       "\n",
       "      PL00 coal exit 2033  PL00 coal exit 2034  RO00 coal exit 2028  \\\n",
       "2025         -1456.687705         -1456.687705           165.029025   \n",
       "2026         -1456.687705         -1456.687705           163.729381   \n",
       "2027         -1456.687705         -1456.687705           162.736044   \n",
       "\n",
       "      RO00 coal exit 2033  SI00 coal exit 2033  SI00 coal exit 2034  \\\n",
       "2025           201.365627            44.900263            42.624256   \n",
       "2026           200.066993            44.474119            42.197893   \n",
       "2027           199.073782            44.193348            41.918257   \n",
       "\n",
       "      SK00 coal exit 2028  SK00 coal exit 2034  \n",
       "2025            42.637509            89.196760  \n",
       "2026            41.225724            87.789216  \n",
       "2027            40.160478            86.720288  \n",
       "\n",
       "[3 rows x 27 columns]"
      ]
     },
     "execution_count": 36,
     "metadata": {},
     "output_type": "execute_result"
    }
   ],
   "source": [
    "capacity_adjustment_existing.filter(like=\"coal\")"
   ]
  },
  {
   "cell_type": "code",
   "execution_count": 30,
   "metadata": {},
   "outputs": [],
   "source": [
    "next_capacities_existing = pd.concat(\n",
    "    [\n",
    "        next_capacities_existing,\n",
    "        p_nom_min[capacity_adjustment_existing.columns].unstack(),\n",
    "    ],\n",
    "    axis=1\n",
    ").max(axis=1)"
   ]
  },
  {
   "cell_type": "code",
   "execution_count": 37,
   "metadata": {},
   "outputs": [],
   "source": [
    "next_capacity_table = initial_capacity_table.copy()"
   ]
  },
  {
   "cell_type": "code",
   "execution_count": 38,
   "metadata": {},
   "outputs": [],
   "source": [
    "next_capacities_existing.dropna(inplace=True)"
   ]
  },
  {
   "cell_type": "code",
   "execution_count": 39,
   "metadata": {},
   "outputs": [],
   "source": [
    "next_capacities_new.dropna(inplace=True)"
   ]
  },
  {
   "cell_type": "code",
   "execution_count": 40,
   "metadata": {},
   "outputs": [],
   "source": [
    "next_capacity_table.loc[next_capacities_existing.index, \"p_nom\"] = next_capacities_existing"
   ]
  },
  {
   "cell_type": "code",
   "execution_count": 41,
   "metadata": {},
   "outputs": [],
   "source": [
    "next_capacity_table.loc[next_capacities_new.index, \"p_nom\"] = next_capacities_new"
   ]
  },
  {
   "cell_type": "raw",
   "metadata": {},
   "source": [
    "next_capacity_table.to_csv(\"resources/capacity_tables/1.csv\")"
   ]
  },
  {
   "cell_type": "code",
   "execution_count": null,
   "metadata": {},
   "outputs": [],
   "source": []
  },
  {
   "cell_type": "code",
   "execution_count": null,
   "metadata": {},
   "outputs": [],
   "source": []
  }
 ],
 "metadata": {
  "kernelspec": {
   "display_name": "pypsa-training",
   "language": "python",
   "name": "pypsa-training"
  },
  "language_info": {
   "codemirror_mode": {
    "name": "ipython",
    "version": 3
   },
   "file_extension": ".py",
   "mimetype": "text/x-python",
   "name": "python",
   "nbconvert_exporter": "python",
   "pygments_lexer": "ipython3",
   "version": "3.10.13"
  }
 },
 "nbformat": 4,
 "nbformat_minor": 4
}
