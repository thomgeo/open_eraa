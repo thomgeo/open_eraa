{
 "cells": [
  {
   "cell_type": "code",
   "execution_count": null,
   "id": "db713038-f6e7-4225-a640-c74aa6656305",
   "metadata": {},
   "outputs": [],
   "source": [
    "import pandas as pd\n",
    "import numpy as np\n",
    "import linopy"
   ]
  },
  {
   "cell_type": "code",
   "execution_count": null,
   "id": "cd9892fa-543e-4afc-b0f9-a1b96f2e68ed",
   "metadata": {},
   "outputs": [],
   "source": [
    "snapshots = pd.Index(range(4))\n",
    "snapshots.name = \"snapshot\""
   ]
  },
  {
   "cell_type": "code",
   "execution_count": null,
   "id": "1f6fb47d-db54-464d-a83f-a97626092cef",
   "metadata": {},
   "outputs": [],
   "source": [
    "d = pd.Series([2,4,5,4], snapshots, name=\"demand\")"
   ]
  },
  {
   "cell_type": "code",
   "execution_count": null,
   "id": "7281d220-7b28-4b60-a99d-cd24c14840ad",
   "metadata": {},
   "outputs": [],
   "source": [
    "e_nom = 5"
   ]
  },
  {
   "cell_type": "code",
   "execution_count": null,
   "id": "5d2a76d4-b6fd-4d4a-90c1-ace47ebf0a15",
   "metadata": {},
   "outputs": [],
   "source": [
    "e_in = pd.Series([4, 5, 4, 2], snapshots)"
   ]
  },
  {
   "cell_type": "code",
   "execution_count": null,
   "id": "d5cebe6e-8712-4de7-812f-fae6703e81a3",
   "metadata": {},
   "outputs": [],
   "source": [
    "def build_full_model(\n",
    "    snapshots,\n",
    "    d,\n",
    "    e_in,\n",
    "    e_nom\n",
    "):\n",
    "\n",
    "    m = linopy.Model()\n",
    "\n",
    "    e = m.add_variables(lower=0, coords=[snapshots], name=\"e\")\n",
    "\n",
    "    p = m.add_variables(lower=0, coords=[snapshots], name=\"p\")\n",
    "\n",
    "    ls = m.add_variables(lower=0, coords=[snapshots], name=\"ls\")\n",
    "\n",
    "    m.add_constraints(e <= e_nom, name=\"storage_capacity\")\n",
    "\n",
    "    m.add_constraints(e - e.shift(snapshot = 1) - e.shift(snapshot = -3) + p == e_in, name=\"storage_balance\")\n",
    "\n",
    "    m.add_constraints(p + ls == d, name=\"power_balance\")\n",
    "\n",
    "    m.add_objective(ls.sum()*100)\n",
    "    \n",
    "    return m"
   ]
  },
  {
   "cell_type": "code",
   "execution_count": null,
   "id": "c52da46b-8942-4f8b-bc9a-e68c5da18769",
   "metadata": {},
   "outputs": [],
   "source": [
    "f = build_full_model(\n",
    "    snapshots, \n",
    "    d, \n",
    "    e_in,\n",
    "    e_nom\n",
    ")"
   ]
  },
  {
   "cell_type": "code",
   "execution_count": null,
   "id": "d8007163-0391-4db7-985e-6491f039bb2a",
   "metadata": {},
   "outputs": [],
   "source": [
    "f.solve(solver_name=\"cbc\")"
   ]
  },
  {
   "cell_type": "code",
   "execution_count": null,
   "id": "b65ffd70-38ac-4169-9ae0-60a2e1fdc99d",
   "metadata": {},
   "outputs": [],
   "source": [
    "e_initial = pd.Series([0,0,0,0], snapshots)"
   ]
  },
  {
   "cell_type": "code",
   "execution_count": null,
   "id": "7fd52101-854c-4d07-8a8b-2f9bdf6514b3",
   "metadata": {},
   "outputs": [],
   "source": [
    "e_final = pd.Series([0, 0, 0, 0], snapshots)"
   ]
  },
  {
   "cell_type": "code",
   "execution_count": null,
   "id": "62b7835b-0695-406d-b7f8-f0f865791779",
   "metadata": {},
   "outputs": [],
   "source": [
    "def build_lower_model(\n",
    "    snapshots,\n",
    "    d,\n",
    "    e_in,\n",
    "    e_initial,\n",
    "    e_final,\n",
    "    e_nom\n",
    "):\n",
    "\n",
    "    m = linopy.Model()\n",
    "\n",
    "    e = m.add_variables(lower=0, coords=[snapshots], name=\"e\")\n",
    "\n",
    "    p = m.add_variables(lower=0, coords=[snapshots], name=\"p\")\n",
    "\n",
    "    ls = m.add_variables(lower=0, coords=[snapshots], name=\"ls\")\n",
    "    \n",
    "    su = m.add_variables(lower=0, coords=[snapshots], name=\"su\")\n",
    "    sd = m.add_variables(lower=0, coords=[snapshots], name=\"sd\")\n",
    "\n",
    "    m.add_constraints(e <= e_nom, name=\"storage_capacity\")\n",
    "\n",
    "    m.add_constraints(e - e.shift(snapshot = 1) + p + su - sd == e_in + e_initial - e_final, name=\"storage_balance\")\n",
    "    \n",
    "    #m.add_constraints(e >= e_final - e_in, name=\"end_storage_level\")\n",
    "\n",
    "    m.add_constraints(p + ls == d, name=\"power_balance\")\n",
    "\n",
    "    m.add_objective(ls.sum()*100 + su.sum()*1e3 + sd.sum()*1e3)\n",
    "    \n",
    "    return m"
   ]
  },
  {
   "cell_type": "code",
   "execution_count": 401,
   "id": "37fd6856-4739-4d41-84b5-4648066a072f",
   "metadata": {},
   "outputs": [],
   "source": [
    "l = build_lower_model(\n",
    "    snapshots,\n",
    "    d,\n",
    "    e_in,\n",
    "    e_initial,\n",
    "    e_final,\n",
    "    e_nom\n",
    ")"
   ]
  },
  {
   "cell_type": "code",
   "execution_count": 402,
   "id": "646ea5e1-fb48-4715-94b3-a45689db0986",
   "metadata": {},
   "outputs": [
    {
     "name": "stdout",
     "output_type": "stream",
     "text": [
      "Welcome to the CBC MILP Solver \n",
      "Version: 2.10.10 \n",
      "Build Date: Apr 19 2023 \n",
      "\n",
      "command line - cbc -printingOptions all -import /tmp/linopy-problem-dz9i2h__.lp -solve -solu /tmp/linopy-solve-qkjzumyy.sol (default strategy 1)\n",
      "Option for printingOptions changed from normal to all\n",
      "Presolve 4 (-8) rows, 15 (-5) columns and 18 (-13) elements\n",
      "Perturbing problem by 0.001% of 1000 - largest nonzero change 0.00010234913 ( 1.7802805e-05%) - largest zero change 9.3832383e-05\n",
      "0  Obj 0 Primal inf 5.999996 (4)\n",
      "3  Obj 0.00063483868\n",
      "Optimal - objective value 0\n",
      "After Postsolve, objective 0, infeasibilities - dual 0 (0), primal 0 (0)\n",
      "Optimal objective 0 - 3 iterations time 0.022, Presolve 0.01\n",
      "Total time (CPU seconds):       0.14   (Wallclock seconds):       0.02\n",
      "\n"
     ]
    },
    {
     "data": {
      "text/plain": [
       "('ok', 'optimal')"
      ]
     },
     "execution_count": 402,
     "metadata": {},
     "output_type": "execute_result"
    }
   ],
   "source": [
    "l.solve(solver_name=\"cbc\")"
   ]
  },
  {
   "cell_type": "code",
   "execution_count": 479,
   "id": "e06510da-04c9-40ed-b704-02746cf95951",
   "metadata": {},
   "outputs": [
    {
     "data": {
      "text/plain": [
       "LinearExpression\n",
       "----------------\n",
       "+1 theta"
      ]
     },
     "execution_count": 479,
     "metadata": {},
     "output_type": "execute_result"
    }
   ],
   "source": [
    "up = linopy.Model()\n",
    "\n",
    "snapshots_up = pd.Index([1,3])\n",
    "\n",
    "snapshots_up.name = \"snapshot\"\n",
    "\n",
    "e = up.add_variables(lower=0, coords= [snapshots_up], name=\"e\")\n",
    "\n",
    "theta = up.add_variables(lower=-1e7, name=\"theta\")\n",
    "\n",
    "up.add_constraints(e <=  e_nom , name=\"capacity_constraint\")\n",
    "\n",
    "up.add_objective(theta*1)"
   ]
  },
  {
   "cell_type": "code",
   "execution_count": 507,
   "id": "029c81ee-b5f4-49c3-a530-db94dada4f89",
   "metadata": {},
   "outputs": [
    {
     "name": "stdout",
     "output_type": "stream",
     "text": [
      "Welcome to the CBC MILP Solver \n",
      "Version: 2.10.10 \n",
      "Build Date: Apr 19 2023 \n",
      "\n",
      "command line - cbc -printingOptions all -import /tmp/linopy-problem-e7_v96dj.lp -solve -solu /tmp/linopy-solve-18d3tw3n.sol (default strategy 1)\n",
      "Option for printingOptions changed from normal to all\n",
      "Presolve 2 (-4) rows, 7 (-3) columns and 8 (-7) elements\n",
      "0  Obj 0 Primal inf 3.999998 (2)\n",
      "1  Obj 2e-18\n",
      "Optimal - objective value 0\n",
      "After Postsolve, objective 0, infeasibilities - dual 0 (0), primal 0 (0)\n",
      "Optimal objective 0 - 1 iterations time 0.022, Presolve 0.01\n",
      "Total time (CPU seconds):       0.05   (Wallclock seconds):       0.00\n",
      "\n",
      "Welcome to the CBC MILP Solver \n",
      "Version: 2.10.10 \n",
      "Build Date: Apr 19 2023 \n",
      "\n",
      "command line - cbc -printingOptions all -import /tmp/linopy-problem-0pnuq9pi.lp -solve -solu /tmp/linopy-solve-6pxqp38w.sol (default strategy 1)\n",
      "Option for printingOptions changed from normal to all\n",
      "Presolve 2 (-4) rows, 7 (-3) columns and 8 (-7) elements\n",
      "0  Obj 0 Primal inf 3.999998 (2)\n",
      "1  Obj 2e-18\n",
      "Optimal - objective value 0\n",
      "After Postsolve, objective 0, infeasibilities - dual 0 (0), primal 0 (0)\n",
      "Optimal objective 0 - 1 iterations time 0.012, Presolve 0.00\n",
      "Total time (CPU seconds):       0.03   (Wallclock seconds):       0.00\n",
      "\n"
     ]
    }
   ],
   "source": [
    "p = {}\n",
    "\n",
    "for i in range(2):\n",
    "    p[i] = build_lower_model(\n",
    "        snapshots[i*2:i*2+2],\n",
    "        d.loc[snapshots[i*2:i*2+2]],\n",
    "        e_in.loc[snapshots[i*2:i*2+2]],\n",
    "        e_initial.loc[snapshots[i*2:i*2+2]],\n",
    "        e_final.loc[snapshots[i*2:i*2+2]],\n",
    "        e_nom   \n",
    "    )\n",
    "\n",
    "    p[i].solve(solver_name=\"cbc\")"
   ]
  },
  {
   "cell_type": "code",
   "execution_count": 508,
   "id": "288d447c-a978-41b6-9129-83f48916bc87",
   "metadata": {},
   "outputs": [],
   "source": [
    "cut = {}\n",
    "\n",
    "for i in range(2):\n",
    "    \n",
    "    cut_pars = {}\n",
    "    \n",
    "    h = {}\n",
    "    u = {}\n",
    "    T = {}\n",
    "\n",
    "    variables = [0,1]\n",
    "\n",
    "    for c in p[i].constraints:\n",
    "        h[c] = p[i].constraints[c].rhs.to_dataframe()\n",
    "        u[c] = p[i].constraints[c].dual.to_dataframe()\n",
    "        \n",
    "        #h[c].loc[h[c].index, \"rhs\"] = e_in.loc[h[c].index]\n",
    "\n",
    "        T_constraint= pd.DataFrame()\n",
    "        for var in variables:\n",
    "\n",
    "            T_constraint[var] = (\n",
    "                (\n",
    "                    p[i].constraints[c].vars.to_dataframe()\n",
    "                    .unstack(\"_term\") \n",
    "                    == var)\n",
    "                .multiply(1)[\"vars\"]\n",
    "                .multiply(\n",
    "                    p[i].constraints[c].coeffs.to_dataframe()\n",
    "                    .unstack(\"_term\")\n",
    "                    [\"coeffs\"]\n",
    "                )\n",
    "            ).sum(axis=1)\n",
    "\n",
    "        T_constraint.columns = T_constraint.columns + 2*i\n",
    "\n",
    "        T_constraint.columns = \"e\" + T_constraint.columns.astype(str)\n",
    "\n",
    "        T[c] = T_constraint\n",
    "\n",
    "    T[\"storage_balance\"][\"e\" + str(d.iloc[[i*2-1]].index[0])] = [-1, 0]\n",
    "    \n",
    "    cut_pars[\"h\"] = h\n",
    "    cut_pars[\"T\"] = T\n",
    "    cut_pars[\"u\"] = u\n",
    "\n",
    "    cut[i] =cut_pars\n"
   ]
  },
  {
   "cell_type": "code",
   "execution_count": 509,
   "id": "e0af8cf9-407b-4416-a039-64ca2940f48e",
   "metadata": {},
   "outputs": [],
   "source": [
    "T_all = {}\n",
    "h_all = {}\n",
    "u_all = {}\n",
    "\n",
    "for c in p[i].constraints:\n",
    "\n",
    "    T_all[c] = pd.concat([cut[i][\"T\"][c] for i in range(2)]).fillna(0).sort_index(axis=1)\n",
    "    u_all[c] = pd.concat([cut[i][\"u\"][c] for i in range(2)]).fillna(0).sort_index(axis=1)\n",
    "    h_all[c] = pd.concat([cut[i][\"h\"][c] for i in range(2)]).fillna(0).sort_index(axis=1)\n",
    "\n",
    "h_all[\"storage_balance\"].rhs += e_final - e_initial"
   ]
  },
  {
   "cell_type": "code",
   "execution_count": 510,
   "id": "04bc1f90-ddd8-4963-a98d-f6469f702cd6",
   "metadata": {},
   "outputs": [],
   "source": [
    "e_cut = sum(h_all[c].rhs.multiply(u_all[c].dual).sum() for c in p[i].constraints)"
   ]
  },
  {
   "cell_type": "code",
   "execution_count": 511,
   "id": "5c924d34-0a89-480d-a25f-ada4295ea20a",
   "metadata": {},
   "outputs": [],
   "source": [
    "var_u = [\"e1\", \"e3\"]"
   ]
  },
  {
   "cell_type": "code",
   "execution_count": 512,
   "id": "3d614d53-01c5-4598-9244-19dc78bac2e0",
   "metadata": {},
   "outputs": [],
   "source": [
    "E_cut = sum(T_all[c][var_u].multiply(u_all[c].dual,axis=0).sum() for c in p[i].constraints)"
   ]
  },
  {
   "cell_type": "code",
   "execution_count": 513,
   "id": "b527f0a6-96b5-48a4-aa1a-975a18fbbaa2",
   "metadata": {},
   "outputs": [],
   "source": [
    "E_cut.index=[1,3]"
   ]
  },
  {
   "cell_type": "code",
   "execution_count": 514,
   "id": "7a3c34b6-1410-494e-9514-be366e98d5a8",
   "metadata": {},
   "outputs": [],
   "source": [
    "E_cut.index.name = \"snapshot\""
   ]
  },
  {
   "cell_type": "code",
   "execution_count": 515,
   "id": "317244e7-d49d-4729-a9c0-2c8a5eb8c3e9",
   "metadata": {},
   "outputs": [
    {
     "data": {
      "text/plain": [
       "Constraint `con2`\n",
       "-----------------\n",
       "+0 e[1] + 0 e[3] + 1 theta ≥ -0.0"
      ]
     },
     "execution_count": 515,
     "metadata": {},
     "output_type": "execute_result"
    }
   ],
   "source": [
    "up.add_constraints((E_cut.to_xarray()*e).sum() + theta >= e_cut)"
   ]
  },
  {
   "cell_type": "code",
   "execution_count": 516,
   "id": "81497c68-1513-49a1-a606-0299514dc680",
   "metadata": {},
   "outputs": [
    {
     "name": "stdout",
     "output_type": "stream",
     "text": [
      "Welcome to the CBC MILP Solver \n",
      "Version: 2.10.10 \n",
      "Build Date: Apr 19 2023 \n",
      "\n",
      "command line - cbc -printingOptions all -import /tmp/linopy-problem-man_a43r.lp -solve -solu /tmp/linopy-solve-ebexy9mo.sol (default strategy 1)\n",
      "Option for printingOptions changed from normal to all\n",
      "Presolve 2 (-3) rows, 3 (0) columns and 6 (-3) elements\n",
      "0  Obj 0 Primal inf 2.999999 (1)\n",
      "1  Obj 3e-18\n",
      "Optimal - objective value 0\n",
      "After Postsolve, objective 0, infeasibilities - dual 0 (0), primal 0 (0)\n",
      "Optimal objective 0 - 1 iterations time 0.012, Presolve 0.00\n",
      "Total time (CPU seconds):       0.03   (Wallclock seconds):       0.00\n",
      "\n"
     ]
    },
    {
     "data": {
      "text/plain": [
       "('ok', 'optimal')"
      ]
     },
     "execution_count": 516,
     "metadata": {},
     "output_type": "execute_result"
    }
   ],
   "source": [
    "up.solve(solver_name=\"cbc\")"
   ]
  },
  {
   "cell_type": "code",
   "execution_count": 517,
   "id": "7cdeb718-1c47-4016-9eeb-2ed0be281c0d",
   "metadata": {},
   "outputs": [],
   "source": [
    "e_final = up.solution.e.to_dataframe().reindex(e_final.index, fill_value=0).e"
   ]
  },
  {
   "cell_type": "code",
   "execution_count": 518,
   "id": "a4e4549a-d950-4dce-a4a3-3372617da3db",
   "metadata": {},
   "outputs": [],
   "source": [
    "e_initial = (\n",
    "    up.solution.e.to_dataframe()\n",
    "    .reindex(e_initial.index, fill_value=0)\n",
    "    .shift(1, fill_value=0) \n",
    "    + up.solution.e.to_dataframe()\n",
    "    .reindex(e_initial.index, fill_value=0)\n",
    "    .shift(-3, fill_value=0)\n",
    ").e"
   ]
  },
  {
   "cell_type": "code",
   "execution_count": 519,
   "id": "905bfa8f-8e5b-4f35-93e0-ece0d142aa09",
   "metadata": {},
   "outputs": [
    {
     "data": {
      "text/plain": [
       "0.0"
      ]
     },
     "execution_count": 519,
     "metadata": {},
     "output_type": "execute_result"
    }
   ],
   "source": [
    "up.objective_value"
   ]
  },
  {
   "cell_type": "code",
   "execution_count": null,
   "id": "94b0092d-cc7e-42fb-99cb-87bf35f0747e",
   "metadata": {},
   "outputs": [],
   "source": []
  },
  {
   "cell_type": "code",
   "execution_count": null,
   "id": "a4283df0-19d1-4e08-8776-758bbd1f4b88",
   "metadata": {},
   "outputs": [],
   "source": []
  }
 ],
 "metadata": {
  "kernelspec": {
   "display_name": "pypsa-eur",
   "language": "python",
   "name": "pypsa-eur"
  },
  "language_info": {
   "codemirror_mode": {
    "name": "ipython",
    "version": 3
   },
   "file_extension": ".py",
   "mimetype": "text/x-python",
   "name": "python",
   "nbconvert_exporter": "python",
   "pygments_lexer": "ipython3",
   "version": "3.10.12"
  }
 },
 "nbformat": 4,
 "nbformat_minor": 5
}
